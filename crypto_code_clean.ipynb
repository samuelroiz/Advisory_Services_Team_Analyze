{
 "cells": [
  {
   "cell_type": "code",
   "execution_count": 1,
   "metadata": {},
   "outputs": [],
   "source": [
    "import pandas as pd\n",
    "\n",
    "df_crypto = pd.read_csv('resources/crypto_data.csv',header=0)"
   ]
  },
  {
   "cell_type": "code",
   "execution_count": 2,
   "metadata": {},
   "outputs": [
    {
     "data": {
      "text/html": [
       "<div>\n",
       "<style scoped>\n",
       "    .dataframe tbody tr th:only-of-type {\n",
       "        vertical-align: middle;\n",
       "    }\n",
       "\n",
       "    .dataframe tbody tr th {\n",
       "        vertical-align: top;\n",
       "    }\n",
       "\n",
       "    .dataframe thead th {\n",
       "        text-align: right;\n",
       "    }\n",
       "</style>\n",
       "<table border=\"1\" class=\"dataframe\">\n",
       "  <thead>\n",
       "    <tr style=\"text-align: right;\">\n",
       "      <th></th>\n",
       "      <th>Unnamed: 0</th>\n",
       "      <th>CoinName</th>\n",
       "      <th>Algorithm</th>\n",
       "      <th>IsTrading</th>\n",
       "      <th>ProofType</th>\n",
       "      <th>TotalCoinsMined</th>\n",
       "      <th>TotalCoinSupply</th>\n",
       "    </tr>\n",
       "  </thead>\n",
       "  <tbody>\n",
       "    <tr>\n",
       "      <th>0</th>\n",
       "      <td>42</td>\n",
       "      <td>42 Coin</td>\n",
       "      <td>Scrypt</td>\n",
       "      <td>True</td>\n",
       "      <td>PoW/PoS</td>\n",
       "      <td>4.199995e+01</td>\n",
       "      <td>42</td>\n",
       "    </tr>\n",
       "    <tr>\n",
       "      <th>1</th>\n",
       "      <td>365</td>\n",
       "      <td>365Coin</td>\n",
       "      <td>X11</td>\n",
       "      <td>True</td>\n",
       "      <td>PoW/PoS</td>\n",
       "      <td>NaN</td>\n",
       "      <td>2300000000</td>\n",
       "    </tr>\n",
       "    <tr>\n",
       "      <th>2</th>\n",
       "      <td>404</td>\n",
       "      <td>404Coin</td>\n",
       "      <td>Scrypt</td>\n",
       "      <td>True</td>\n",
       "      <td>PoW/PoS</td>\n",
       "      <td>1.055185e+09</td>\n",
       "      <td>532000000</td>\n",
       "    </tr>\n",
       "    <tr>\n",
       "      <th>3</th>\n",
       "      <td>611</td>\n",
       "      <td>SixEleven</td>\n",
       "      <td>SHA-256</td>\n",
       "      <td>True</td>\n",
       "      <td>PoW</td>\n",
       "      <td>NaN</td>\n",
       "      <td>611000</td>\n",
       "    </tr>\n",
       "    <tr>\n",
       "      <th>4</th>\n",
       "      <td>808</td>\n",
       "      <td>808</td>\n",
       "      <td>SHA-256</td>\n",
       "      <td>True</td>\n",
       "      <td>PoW/PoS</td>\n",
       "      <td>0.000000e+00</td>\n",
       "      <td>0</td>\n",
       "    </tr>\n",
       "    <tr>\n",
       "      <th>...</th>\n",
       "      <td>...</td>\n",
       "      <td>...</td>\n",
       "      <td>...</td>\n",
       "      <td>...</td>\n",
       "      <td>...</td>\n",
       "      <td>...</td>\n",
       "      <td>...</td>\n",
       "    </tr>\n",
       "    <tr>\n",
       "      <th>1247</th>\n",
       "      <td>XBC</td>\n",
       "      <td>BitcoinPlus</td>\n",
       "      <td>Scrypt</td>\n",
       "      <td>True</td>\n",
       "      <td>PoS</td>\n",
       "      <td>1.283270e+05</td>\n",
       "      <td>1000000</td>\n",
       "    </tr>\n",
       "    <tr>\n",
       "      <th>1248</th>\n",
       "      <td>DVTC</td>\n",
       "      <td>DivotyCoin</td>\n",
       "      <td>Scrypt</td>\n",
       "      <td>False</td>\n",
       "      <td>PoW/PoS</td>\n",
       "      <td>2.149121e+07</td>\n",
       "      <td>100000000</td>\n",
       "    </tr>\n",
       "    <tr>\n",
       "      <th>1249</th>\n",
       "      <td>GIOT</td>\n",
       "      <td>Giotto Coin</td>\n",
       "      <td>Scrypt</td>\n",
       "      <td>False</td>\n",
       "      <td>PoW/PoS</td>\n",
       "      <td>NaN</td>\n",
       "      <td>233100000</td>\n",
       "    </tr>\n",
       "    <tr>\n",
       "      <th>1250</th>\n",
       "      <td>OPSC</td>\n",
       "      <td>OpenSourceCoin</td>\n",
       "      <td>SHA-256</td>\n",
       "      <td>False</td>\n",
       "      <td>PoW/PoS</td>\n",
       "      <td>NaN</td>\n",
       "      <td>21000000</td>\n",
       "    </tr>\n",
       "    <tr>\n",
       "      <th>1251</th>\n",
       "      <td>PUNK</td>\n",
       "      <td>SteamPunk</td>\n",
       "      <td>PoS</td>\n",
       "      <td>False</td>\n",
       "      <td>PoS</td>\n",
       "      <td>NaN</td>\n",
       "      <td>40000000</td>\n",
       "    </tr>\n",
       "  </tbody>\n",
       "</table>\n",
       "<p>1252 rows × 7 columns</p>\n",
       "</div>"
      ],
      "text/plain": [
       "     Unnamed: 0        CoinName Algorithm  IsTrading ProofType  \\\n",
       "0            42         42 Coin    Scrypt       True   PoW/PoS   \n",
       "1           365         365Coin       X11       True   PoW/PoS   \n",
       "2           404         404Coin    Scrypt       True   PoW/PoS   \n",
       "3           611       SixEleven   SHA-256       True       PoW   \n",
       "4           808             808   SHA-256       True   PoW/PoS   \n",
       "...         ...             ...       ...        ...       ...   \n",
       "1247        XBC     BitcoinPlus    Scrypt       True       PoS   \n",
       "1248       DVTC      DivotyCoin    Scrypt      False   PoW/PoS   \n",
       "1249       GIOT     Giotto Coin    Scrypt      False   PoW/PoS   \n",
       "1250       OPSC  OpenSourceCoin   SHA-256      False   PoW/PoS   \n",
       "1251       PUNK       SteamPunk       PoS      False       PoS   \n",
       "\n",
       "      TotalCoinsMined TotalCoinSupply  \n",
       "0        4.199995e+01              42  \n",
       "1                 NaN      2300000000  \n",
       "2        1.055185e+09       532000000  \n",
       "3                 NaN          611000  \n",
       "4        0.000000e+00               0  \n",
       "...               ...             ...  \n",
       "1247     1.283270e+05         1000000  \n",
       "1248     2.149121e+07       100000000  \n",
       "1249              NaN       233100000  \n",
       "1250              NaN        21000000  \n",
       "1251              NaN        40000000  \n",
       "\n",
       "[1252 rows x 7 columns]"
      ]
     },
     "execution_count": 2,
     "metadata": {},
     "output_type": "execute_result"
    }
   ],
   "source": [
    "df_crypto"
   ]
  },
  {
   "cell_type": "markdown",
   "metadata": {},
   "source": [
    "## Clean and Filter Data"
   ]
  },
  {
   "cell_type": "code",
   "execution_count": 21,
   "metadata": {},
   "outputs": [
    {
     "data": {
      "text/html": [
       "<div>\n",
       "<style scoped>\n",
       "    .dataframe tbody tr th:only-of-type {\n",
       "        vertical-align: middle;\n",
       "    }\n",
       "\n",
       "    .dataframe tbody tr th {\n",
       "        vertical-align: top;\n",
       "    }\n",
       "\n",
       "    .dataframe thead th {\n",
       "        text-align: right;\n",
       "    }\n",
       "</style>\n",
       "<table border=\"1\" class=\"dataframe\">\n",
       "  <thead>\n",
       "    <tr style=\"text-align: right;\">\n",
       "      <th></th>\n",
       "      <th>Unnamed: 0</th>\n",
       "      <th>CoinName</th>\n",
       "      <th>Algorithm</th>\n",
       "      <th>IsTrading</th>\n",
       "      <th>ProofType</th>\n",
       "      <th>TotalCoinsMined</th>\n",
       "      <th>TotalCoinSupply</th>\n",
       "    </tr>\n",
       "  </thead>\n",
       "  <tbody>\n",
       "    <tr>\n",
       "      <th>0</th>\n",
       "      <td>42</td>\n",
       "      <td>42 Coin</td>\n",
       "      <td>Scrypt</td>\n",
       "      <td>True</td>\n",
       "      <td>PoW/PoS</td>\n",
       "      <td>4.199995e+01</td>\n",
       "      <td>42</td>\n",
       "    </tr>\n",
       "    <tr>\n",
       "      <th>1</th>\n",
       "      <td>365</td>\n",
       "      <td>365Coin</td>\n",
       "      <td>X11</td>\n",
       "      <td>True</td>\n",
       "      <td>PoW/PoS</td>\n",
       "      <td>NaN</td>\n",
       "      <td>2300000000</td>\n",
       "    </tr>\n",
       "    <tr>\n",
       "      <th>2</th>\n",
       "      <td>404</td>\n",
       "      <td>404Coin</td>\n",
       "      <td>Scrypt</td>\n",
       "      <td>True</td>\n",
       "      <td>PoW/PoS</td>\n",
       "      <td>1.055185e+09</td>\n",
       "      <td>532000000</td>\n",
       "    </tr>\n",
       "    <tr>\n",
       "      <th>3</th>\n",
       "      <td>611</td>\n",
       "      <td>SixEleven</td>\n",
       "      <td>SHA-256</td>\n",
       "      <td>True</td>\n",
       "      <td>PoW</td>\n",
       "      <td>NaN</td>\n",
       "      <td>611000</td>\n",
       "    </tr>\n",
       "    <tr>\n",
       "      <th>4</th>\n",
       "      <td>808</td>\n",
       "      <td>808</td>\n",
       "      <td>SHA-256</td>\n",
       "      <td>True</td>\n",
       "      <td>PoW/PoS</td>\n",
       "      <td>0.000000e+00</td>\n",
       "      <td>0</td>\n",
       "    </tr>\n",
       "    <tr>\n",
       "      <th>...</th>\n",
       "      <td>...</td>\n",
       "      <td>...</td>\n",
       "      <td>...</td>\n",
       "      <td>...</td>\n",
       "      <td>...</td>\n",
       "      <td>...</td>\n",
       "      <td>...</td>\n",
       "    </tr>\n",
       "    <tr>\n",
       "      <th>1247</th>\n",
       "      <td>XBC</td>\n",
       "      <td>BitcoinPlus</td>\n",
       "      <td>Scrypt</td>\n",
       "      <td>True</td>\n",
       "      <td>PoS</td>\n",
       "      <td>1.283270e+05</td>\n",
       "      <td>1000000</td>\n",
       "    </tr>\n",
       "    <tr>\n",
       "      <th>1248</th>\n",
       "      <td>DVTC</td>\n",
       "      <td>DivotyCoin</td>\n",
       "      <td>Scrypt</td>\n",
       "      <td>False</td>\n",
       "      <td>PoW/PoS</td>\n",
       "      <td>2.149121e+07</td>\n",
       "      <td>100000000</td>\n",
       "    </tr>\n",
       "    <tr>\n",
       "      <th>1249</th>\n",
       "      <td>GIOT</td>\n",
       "      <td>Giotto Coin</td>\n",
       "      <td>Scrypt</td>\n",
       "      <td>False</td>\n",
       "      <td>PoW/PoS</td>\n",
       "      <td>NaN</td>\n",
       "      <td>233100000</td>\n",
       "    </tr>\n",
       "    <tr>\n",
       "      <th>1250</th>\n",
       "      <td>OPSC</td>\n",
       "      <td>OpenSourceCoin</td>\n",
       "      <td>SHA-256</td>\n",
       "      <td>False</td>\n",
       "      <td>PoW/PoS</td>\n",
       "      <td>NaN</td>\n",
       "      <td>21000000</td>\n",
       "    </tr>\n",
       "    <tr>\n",
       "      <th>1251</th>\n",
       "      <td>PUNK</td>\n",
       "      <td>SteamPunk</td>\n",
       "      <td>PoS</td>\n",
       "      <td>False</td>\n",
       "      <td>PoS</td>\n",
       "      <td>NaN</td>\n",
       "      <td>40000000</td>\n",
       "    </tr>\n",
       "  </tbody>\n",
       "</table>\n",
       "<p>1252 rows × 7 columns</p>\n",
       "</div>"
      ],
      "text/plain": [
       "     Unnamed: 0        CoinName Algorithm  IsTrading ProofType  \\\n",
       "0            42         42 Coin    Scrypt       True   PoW/PoS   \n",
       "1           365         365Coin       X11       True   PoW/PoS   \n",
       "2           404         404Coin    Scrypt       True   PoW/PoS   \n",
       "3           611       SixEleven   SHA-256       True       PoW   \n",
       "4           808             808   SHA-256       True   PoW/PoS   \n",
       "...         ...             ...       ...        ...       ...   \n",
       "1247        XBC     BitcoinPlus    Scrypt       True       PoS   \n",
       "1248       DVTC      DivotyCoin    Scrypt      False   PoW/PoS   \n",
       "1249       GIOT     Giotto Coin    Scrypt      False   PoW/PoS   \n",
       "1250       OPSC  OpenSourceCoin   SHA-256      False   PoW/PoS   \n",
       "1251       PUNK       SteamPunk       PoS      False       PoS   \n",
       "\n",
       "      TotalCoinsMined TotalCoinSupply  \n",
       "0        4.199995e+01              42  \n",
       "1                 NaN      2300000000  \n",
       "2        1.055185e+09       532000000  \n",
       "3                 NaN          611000  \n",
       "4        0.000000e+00               0  \n",
       "...               ...             ...  \n",
       "1247     1.283270e+05         1000000  \n",
       "1248     2.149121e+07       100000000  \n",
       "1249              NaN       233100000  \n",
       "1250              NaN        21000000  \n",
       "1251              NaN        40000000  \n",
       "\n",
       "[1252 rows x 7 columns]"
      ]
     },
     "execution_count": 21,
     "metadata": {},
     "output_type": "execute_result"
    }
   ],
   "source": [
    "df_crypto"
   ]
  },
  {
   "cell_type": "code",
   "execution_count": 22,
   "metadata": {},
   "outputs": [
    {
     "data": {
      "text/plain": [
       "Unnamed: 0          object\n",
       "CoinName            object\n",
       "Algorithm           object\n",
       "IsTrading             bool\n",
       "ProofType           object\n",
       "TotalCoinsMined    float64\n",
       "TotalCoinSupply     object\n",
       "dtype: object"
      ]
     },
     "execution_count": 22,
     "metadata": {},
     "output_type": "execute_result"
    }
   ],
   "source": [
    "# List dataframe data types\n",
    "df_crypto.dtypes"
   ]
  },
  {
   "cell_type": "code",
   "execution_count": 23,
   "metadata": {},
   "outputs": [
    {
     "name": "stdout",
     "output_type": "stream",
     "text": [
      "Column Unnamed: 0 has 0 null values\n",
      "Column CoinName has 0 null values\n",
      "Column Algorithm has 0 null values\n",
      "Column IsTrading has 0 null values\n",
      "Column ProofType has 0 null values\n",
      "Column TotalCoinsMined has 508 null values\n",
      "Column TotalCoinSupply has 0 null values\n",
      "Duplicate entries: 0\n"
     ]
    }
   ],
   "source": [
    "# Find null values\n",
    "for column in df_crypto.columns:\n",
    "    print(f\"Column {column} has {df_crypto[column].isnull().sum()} null values\")\n",
    "\n",
    "# Find duplicate entries\n",
    "print(f\"Duplicate entries: {df_crypto.duplicated().sum()}\")    "
   ]
  },
  {
   "cell_type": "code",
   "execution_count": 24,
   "metadata": {},
   "outputs": [
    {
     "data": {
      "text/html": [
       "<div>\n",
       "<style scoped>\n",
       "    .dataframe tbody tr th:only-of-type {\n",
       "        vertical-align: middle;\n",
       "    }\n",
       "\n",
       "    .dataframe tbody tr th {\n",
       "        vertical-align: top;\n",
       "    }\n",
       "\n",
       "    .dataframe thead th {\n",
       "        text-align: right;\n",
       "    }\n",
       "</style>\n",
       "<table border=\"1\" class=\"dataframe\">\n",
       "  <thead>\n",
       "    <tr style=\"text-align: right;\">\n",
       "      <th></th>\n",
       "      <th>Unnamed: 0</th>\n",
       "      <th>CoinName</th>\n",
       "      <th>Algorithm</th>\n",
       "      <th>IsTrading</th>\n",
       "      <th>ProofType</th>\n",
       "      <th>TotalCoinsMined</th>\n",
       "      <th>TotalCoinSupply</th>\n",
       "    </tr>\n",
       "  </thead>\n",
       "  <tbody>\n",
       "    <tr>\n",
       "      <th>0</th>\n",
       "      <td>42</td>\n",
       "      <td>42 Coin</td>\n",
       "      <td>Scrypt</td>\n",
       "      <td>True</td>\n",
       "      <td>PoW/PoS</td>\n",
       "      <td>4.199995e+01</td>\n",
       "      <td>42</td>\n",
       "    </tr>\n",
       "    <tr>\n",
       "      <th>2</th>\n",
       "      <td>404</td>\n",
       "      <td>404Coin</td>\n",
       "      <td>Scrypt</td>\n",
       "      <td>True</td>\n",
       "      <td>PoW/PoS</td>\n",
       "      <td>1.055185e+09</td>\n",
       "      <td>532000000</td>\n",
       "    </tr>\n",
       "    <tr>\n",
       "      <th>4</th>\n",
       "      <td>808</td>\n",
       "      <td>808</td>\n",
       "      <td>SHA-256</td>\n",
       "      <td>True</td>\n",
       "      <td>PoW/PoS</td>\n",
       "      <td>0.000000e+00</td>\n",
       "      <td>0</td>\n",
       "    </tr>\n",
       "    <tr>\n",
       "      <th>5</th>\n",
       "      <td>1337</td>\n",
       "      <td>EliteCoin</td>\n",
       "      <td>X13</td>\n",
       "      <td>True</td>\n",
       "      <td>PoW/PoS</td>\n",
       "      <td>2.927942e+10</td>\n",
       "      <td>314159265359</td>\n",
       "    </tr>\n",
       "    <tr>\n",
       "      <th>7</th>\n",
       "      <td>BTC</td>\n",
       "      <td>Bitcoin</td>\n",
       "      <td>SHA-256</td>\n",
       "      <td>True</td>\n",
       "      <td>PoW</td>\n",
       "      <td>1.792718e+07</td>\n",
       "      <td>21000000</td>\n",
       "    </tr>\n",
       "    <tr>\n",
       "      <th>...</th>\n",
       "      <td>...</td>\n",
       "      <td>...</td>\n",
       "      <td>...</td>\n",
       "      <td>...</td>\n",
       "      <td>...</td>\n",
       "      <td>...</td>\n",
       "      <td>...</td>\n",
       "    </tr>\n",
       "    <tr>\n",
       "      <th>1242</th>\n",
       "      <td>GAP</td>\n",
       "      <td>Gapcoin</td>\n",
       "      <td>Scrypt</td>\n",
       "      <td>True</td>\n",
       "      <td>PoW/PoS</td>\n",
       "      <td>1.493105e+07</td>\n",
       "      <td>250000000</td>\n",
       "    </tr>\n",
       "    <tr>\n",
       "      <th>1245</th>\n",
       "      <td>BDX</td>\n",
       "      <td>Beldex</td>\n",
       "      <td>CryptoNight</td>\n",
       "      <td>True</td>\n",
       "      <td>PoW</td>\n",
       "      <td>9.802226e+08</td>\n",
       "      <td>1400222610</td>\n",
       "    </tr>\n",
       "    <tr>\n",
       "      <th>1246</th>\n",
       "      <td>ZEN</td>\n",
       "      <td>Horizen</td>\n",
       "      <td>Equihash</td>\n",
       "      <td>True</td>\n",
       "      <td>PoW</td>\n",
       "      <td>7.296538e+06</td>\n",
       "      <td>21000000</td>\n",
       "    </tr>\n",
       "    <tr>\n",
       "      <th>1247</th>\n",
       "      <td>XBC</td>\n",
       "      <td>BitcoinPlus</td>\n",
       "      <td>Scrypt</td>\n",
       "      <td>True</td>\n",
       "      <td>PoS</td>\n",
       "      <td>1.283270e+05</td>\n",
       "      <td>1000000</td>\n",
       "    </tr>\n",
       "    <tr>\n",
       "      <th>1248</th>\n",
       "      <td>DVTC</td>\n",
       "      <td>DivotyCoin</td>\n",
       "      <td>Scrypt</td>\n",
       "      <td>False</td>\n",
       "      <td>PoW/PoS</td>\n",
       "      <td>2.149121e+07</td>\n",
       "      <td>100000000</td>\n",
       "    </tr>\n",
       "  </tbody>\n",
       "</table>\n",
       "<p>744 rows × 7 columns</p>\n",
       "</div>"
      ],
      "text/plain": [
       "     Unnamed: 0     CoinName    Algorithm  IsTrading ProofType  \\\n",
       "0            42      42 Coin       Scrypt       True   PoW/PoS   \n",
       "2           404      404Coin       Scrypt       True   PoW/PoS   \n",
       "4           808          808      SHA-256       True   PoW/PoS   \n",
       "5          1337    EliteCoin          X13       True   PoW/PoS   \n",
       "7           BTC      Bitcoin      SHA-256       True       PoW   \n",
       "...         ...          ...          ...        ...       ...   \n",
       "1242        GAP      Gapcoin       Scrypt       True   PoW/PoS   \n",
       "1245        BDX       Beldex  CryptoNight       True       PoW   \n",
       "1246        ZEN      Horizen     Equihash       True       PoW   \n",
       "1247        XBC  BitcoinPlus       Scrypt       True       PoS   \n",
       "1248       DVTC   DivotyCoin       Scrypt      False   PoW/PoS   \n",
       "\n",
       "      TotalCoinsMined TotalCoinSupply  \n",
       "0        4.199995e+01              42  \n",
       "2        1.055185e+09       532000000  \n",
       "4        0.000000e+00               0  \n",
       "5        2.927942e+10    314159265359  \n",
       "7        1.792718e+07        21000000  \n",
       "...               ...             ...  \n",
       "1242     1.493105e+07       250000000  \n",
       "1245     9.802226e+08      1400222610  \n",
       "1246     7.296538e+06        21000000  \n",
       "1247     1.283270e+05         1000000  \n",
       "1248     2.149121e+07       100000000  \n",
       "\n",
       "[744 rows x 7 columns]"
      ]
     },
     "execution_count": 24,
     "metadata": {},
     "output_type": "execute_result"
    }
   ],
   "source": [
    "df_crypto = df_crypto.dropna()\n",
    "df_crypto"
   ]
  },
  {
   "cell_type": "code",
   "execution_count": 25,
   "metadata": {},
   "outputs": [
    {
     "name": "stdout",
     "output_type": "stream",
     "text": [
      "Column Unnamed: 0 has 0 null values\n",
      "Column CoinName has 0 null values\n",
      "Column Algorithm has 0 null values\n",
      "Column IsTrading has 0 null values\n",
      "Column ProofType has 0 null values\n",
      "Column TotalCoinsMined has 0 null values\n",
      "Column TotalCoinSupply has 0 null values\n"
     ]
    }
   ],
   "source": [
    "# Find null values\n",
    "for column in df_crypto.columns:\n",
    "    print(f\"Column {column} has {df_crypto[column].isnull().sum()} null values\")"
   ]
  },
  {
   "cell_type": "code",
   "execution_count": 26,
   "metadata": {},
   "outputs": [
    {
     "data": {
      "text/html": [
       "<div>\n",
       "<style scoped>\n",
       "    .dataframe tbody tr th:only-of-type {\n",
       "        vertical-align: middle;\n",
       "    }\n",
       "\n",
       "    .dataframe tbody tr th {\n",
       "        vertical-align: top;\n",
       "    }\n",
       "\n",
       "    .dataframe thead th {\n",
       "        text-align: right;\n",
       "    }\n",
       "</style>\n",
       "<table border=\"1\" class=\"dataframe\">\n",
       "  <thead>\n",
       "    <tr style=\"text-align: right;\">\n",
       "      <th></th>\n",
       "      <th>Unnamed: 0</th>\n",
       "      <th>CoinName</th>\n",
       "      <th>Algorithm</th>\n",
       "      <th>IsTrading</th>\n",
       "      <th>ProofType</th>\n",
       "      <th>TotalCoinsMined</th>\n",
       "      <th>TotalCoinSupply</th>\n",
       "    </tr>\n",
       "  </thead>\n",
       "  <tbody>\n",
       "    <tr>\n",
       "      <th>0</th>\n",
       "      <td>42</td>\n",
       "      <td>42 Coin</td>\n",
       "      <td>Scrypt</td>\n",
       "      <td>True</td>\n",
       "      <td>PoW/PoS</td>\n",
       "      <td>4.199995e+01</td>\n",
       "      <td>42</td>\n",
       "    </tr>\n",
       "    <tr>\n",
       "      <th>2</th>\n",
       "      <td>404</td>\n",
       "      <td>404Coin</td>\n",
       "      <td>Scrypt</td>\n",
       "      <td>True</td>\n",
       "      <td>PoW/PoS</td>\n",
       "      <td>1.055185e+09</td>\n",
       "      <td>532000000</td>\n",
       "    </tr>\n",
       "    <tr>\n",
       "      <th>4</th>\n",
       "      <td>808</td>\n",
       "      <td>808</td>\n",
       "      <td>SHA-256</td>\n",
       "      <td>True</td>\n",
       "      <td>PoW/PoS</td>\n",
       "      <td>0.000000e+00</td>\n",
       "      <td>0</td>\n",
       "    </tr>\n",
       "    <tr>\n",
       "      <th>5</th>\n",
       "      <td>1337</td>\n",
       "      <td>EliteCoin</td>\n",
       "      <td>X13</td>\n",
       "      <td>True</td>\n",
       "      <td>PoW/PoS</td>\n",
       "      <td>2.927942e+10</td>\n",
       "      <td>314159265359</td>\n",
       "    </tr>\n",
       "    <tr>\n",
       "      <th>7</th>\n",
       "      <td>BTC</td>\n",
       "      <td>Bitcoin</td>\n",
       "      <td>SHA-256</td>\n",
       "      <td>True</td>\n",
       "      <td>PoW</td>\n",
       "      <td>1.792718e+07</td>\n",
       "      <td>21000000</td>\n",
       "    </tr>\n",
       "    <tr>\n",
       "      <th>...</th>\n",
       "      <td>...</td>\n",
       "      <td>...</td>\n",
       "      <td>...</td>\n",
       "      <td>...</td>\n",
       "      <td>...</td>\n",
       "      <td>...</td>\n",
       "      <td>...</td>\n",
       "    </tr>\n",
       "    <tr>\n",
       "      <th>1242</th>\n",
       "      <td>GAP</td>\n",
       "      <td>Gapcoin</td>\n",
       "      <td>Scrypt</td>\n",
       "      <td>True</td>\n",
       "      <td>PoW/PoS</td>\n",
       "      <td>1.493105e+07</td>\n",
       "      <td>250000000</td>\n",
       "    </tr>\n",
       "    <tr>\n",
       "      <th>1245</th>\n",
       "      <td>BDX</td>\n",
       "      <td>Beldex</td>\n",
       "      <td>CryptoNight</td>\n",
       "      <td>True</td>\n",
       "      <td>PoW</td>\n",
       "      <td>9.802226e+08</td>\n",
       "      <td>1400222610</td>\n",
       "    </tr>\n",
       "    <tr>\n",
       "      <th>1246</th>\n",
       "      <td>ZEN</td>\n",
       "      <td>Horizen</td>\n",
       "      <td>Equihash</td>\n",
       "      <td>True</td>\n",
       "      <td>PoW</td>\n",
       "      <td>7.296538e+06</td>\n",
       "      <td>21000000</td>\n",
       "    </tr>\n",
       "    <tr>\n",
       "      <th>1247</th>\n",
       "      <td>XBC</td>\n",
       "      <td>BitcoinPlus</td>\n",
       "      <td>Scrypt</td>\n",
       "      <td>True</td>\n",
       "      <td>PoS</td>\n",
       "      <td>1.283270e+05</td>\n",
       "      <td>1000000</td>\n",
       "    </tr>\n",
       "    <tr>\n",
       "      <th>1248</th>\n",
       "      <td>DVTC</td>\n",
       "      <td>DivotyCoin</td>\n",
       "      <td>Scrypt</td>\n",
       "      <td>False</td>\n",
       "      <td>PoW/PoS</td>\n",
       "      <td>2.149121e+07</td>\n",
       "      <td>100000000</td>\n",
       "    </tr>\n",
       "  </tbody>\n",
       "</table>\n",
       "<p>744 rows × 7 columns</p>\n",
       "</div>"
      ],
      "text/plain": [
       "     Unnamed: 0     CoinName    Algorithm  IsTrading ProofType  \\\n",
       "0            42      42 Coin       Scrypt       True   PoW/PoS   \n",
       "2           404      404Coin       Scrypt       True   PoW/PoS   \n",
       "4           808          808      SHA-256       True   PoW/PoS   \n",
       "5          1337    EliteCoin          X13       True   PoW/PoS   \n",
       "7           BTC      Bitcoin      SHA-256       True       PoW   \n",
       "...         ...          ...          ...        ...       ...   \n",
       "1242        GAP      Gapcoin       Scrypt       True   PoW/PoS   \n",
       "1245        BDX       Beldex  CryptoNight       True       PoW   \n",
       "1246        ZEN      Horizen     Equihash       True       PoW   \n",
       "1247        XBC  BitcoinPlus       Scrypt       True       PoS   \n",
       "1248       DVTC   DivotyCoin       Scrypt      False   PoW/PoS   \n",
       "\n",
       "      TotalCoinsMined TotalCoinSupply  \n",
       "0        4.199995e+01              42  \n",
       "2        1.055185e+09       532000000  \n",
       "4        0.000000e+00               0  \n",
       "5        2.927942e+10    314159265359  \n",
       "7        1.792718e+07        21000000  \n",
       "...               ...             ...  \n",
       "1242     1.493105e+07       250000000  \n",
       "1245     9.802226e+08      1400222610  \n",
       "1246     7.296538e+06        21000000  \n",
       "1247     1.283270e+05         1000000  \n",
       "1248     2.149121e+07       100000000  \n",
       "\n",
       "[744 rows x 7 columns]"
      ]
     },
     "execution_count": 26,
     "metadata": {},
     "output_type": "execute_result"
    }
   ],
   "source": [
    "df_crypto"
   ]
  },
  {
   "cell_type": "code",
   "execution_count": 27,
   "metadata": {},
   "outputs": [
    {
     "data": {
      "text/plain": [
       "True     685\n",
       "False     59\n",
       "Name: IsTrading, dtype: int64"
      ]
     },
     "execution_count": 27,
     "metadata": {},
     "output_type": "execute_result"
    }
   ],
   "source": [
    "df_crypto['IsTrading'].value_counts()"
   ]
  },
  {
   "cell_type": "code",
   "execution_count": 28,
   "metadata": {},
   "outputs": [
    {
     "name": "stderr",
     "output_type": "stream",
     "text": [
      "C:\\Users\\sroiz\\anaconda3\\envs\\PythonData\\lib\\site-packages\\ipykernel_launcher.py:9: SettingWithCopyWarning: \n",
      "A value is trying to be set on a copy of a slice from a DataFrame.\n",
      "Try using .loc[row_indexer,col_indexer] = value instead\n",
      "\n",
      "See the caveats in the documentation: https://pandas.pydata.org/pandas-docs/stable/user_guide/indexing.html#returning-a-view-versus-a-copy\n",
      "  if __name__ == '__main__':\n"
     ]
    },
    {
     "data": {
      "text/html": [
       "<div>\n",
       "<style scoped>\n",
       "    .dataframe tbody tr th:only-of-type {\n",
       "        vertical-align: middle;\n",
       "    }\n",
       "\n",
       "    .dataframe tbody tr th {\n",
       "        vertical-align: top;\n",
       "    }\n",
       "\n",
       "    .dataframe thead th {\n",
       "        text-align: right;\n",
       "    }\n",
       "</style>\n",
       "<table border=\"1\" class=\"dataframe\">\n",
       "  <thead>\n",
       "    <tr style=\"text-align: right;\">\n",
       "      <th></th>\n",
       "      <th>Unnamed: 0</th>\n",
       "      <th>CoinName</th>\n",
       "      <th>Algorithm</th>\n",
       "      <th>IsTrading</th>\n",
       "      <th>ProofType</th>\n",
       "      <th>TotalCoinsMined</th>\n",
       "      <th>TotalCoinSupply</th>\n",
       "    </tr>\n",
       "  </thead>\n",
       "  <tbody>\n",
       "    <tr>\n",
       "      <th>0</th>\n",
       "      <td>42</td>\n",
       "      <td>42 Coin</td>\n",
       "      <td>Scrypt</td>\n",
       "      <td>1</td>\n",
       "      <td>PoW/PoS</td>\n",
       "      <td>4.199995e+01</td>\n",
       "      <td>42</td>\n",
       "    </tr>\n",
       "    <tr>\n",
       "      <th>2</th>\n",
       "      <td>404</td>\n",
       "      <td>404Coin</td>\n",
       "      <td>Scrypt</td>\n",
       "      <td>1</td>\n",
       "      <td>PoW/PoS</td>\n",
       "      <td>1.055185e+09</td>\n",
       "      <td>532000000</td>\n",
       "    </tr>\n",
       "    <tr>\n",
       "      <th>4</th>\n",
       "      <td>808</td>\n",
       "      <td>808</td>\n",
       "      <td>SHA-256</td>\n",
       "      <td>1</td>\n",
       "      <td>PoW/PoS</td>\n",
       "      <td>0.000000e+00</td>\n",
       "      <td>0</td>\n",
       "    </tr>\n",
       "    <tr>\n",
       "      <th>5</th>\n",
       "      <td>1337</td>\n",
       "      <td>EliteCoin</td>\n",
       "      <td>X13</td>\n",
       "      <td>1</td>\n",
       "      <td>PoW/PoS</td>\n",
       "      <td>2.927942e+10</td>\n",
       "      <td>314159265359</td>\n",
       "    </tr>\n",
       "    <tr>\n",
       "      <th>7</th>\n",
       "      <td>BTC</td>\n",
       "      <td>Bitcoin</td>\n",
       "      <td>SHA-256</td>\n",
       "      <td>1</td>\n",
       "      <td>PoW</td>\n",
       "      <td>1.792718e+07</td>\n",
       "      <td>21000000</td>\n",
       "    </tr>\n",
       "  </tbody>\n",
       "</table>\n",
       "</div>"
      ],
      "text/plain": [
       "  Unnamed: 0   CoinName Algorithm  IsTrading ProofType  TotalCoinsMined  \\\n",
       "0         42    42 Coin    Scrypt          1   PoW/PoS     4.199995e+01   \n",
       "2        404    404Coin    Scrypt          1   PoW/PoS     1.055185e+09   \n",
       "4        808        808   SHA-256          1   PoW/PoS     0.000000e+00   \n",
       "5       1337  EliteCoin       X13          1   PoW/PoS     2.927942e+10   \n",
       "7        BTC    Bitcoin   SHA-256          1       PoW     1.792718e+07   \n",
       "\n",
       "  TotalCoinSupply  \n",
       "0              42  \n",
       "2       532000000  \n",
       "4               0  \n",
       "5    314159265359  \n",
       "7        21000000  "
      ]
     },
     "execution_count": 28,
     "metadata": {},
     "output_type": "execute_result"
    }
   ],
   "source": [
    "# Transform Previous Customer column\n",
    "def changeStatus(status):\n",
    "    if status == True:\n",
    "        return 1\n",
    "    else:\n",
    "        return 0\n",
    "\n",
    "# Along with replace() and map(), this is another way to encode the gender column into numbers.\n",
    "df_crypto['IsTrading'] = df_crypto['IsTrading'].apply(changeStatus)\n",
    "df_crypto.head()"
   ]
  },
  {
   "cell_type": "code",
   "execution_count": 29,
   "metadata": {},
   "outputs": [
    {
     "data": {
      "text/plain": [
       "1    685\n",
       "0     59\n",
       "Name: IsTrading, dtype: int64"
      ]
     },
     "execution_count": 29,
     "metadata": {},
     "output_type": "execute_result"
    }
   ],
   "source": [
    "df_crypto['IsTrading'].value_counts()"
   ]
  },
  {
   "cell_type": "code",
   "execution_count": 30,
   "metadata": {},
   "outputs": [
    {
     "data": {
      "text/html": [
       "<div>\n",
       "<style scoped>\n",
       "    .dataframe tbody tr th:only-of-type {\n",
       "        vertical-align: middle;\n",
       "    }\n",
       "\n",
       "    .dataframe tbody tr th {\n",
       "        vertical-align: top;\n",
       "    }\n",
       "\n",
       "    .dataframe thead th {\n",
       "        text-align: right;\n",
       "    }\n",
       "</style>\n",
       "<table border=\"1\" class=\"dataframe\">\n",
       "  <thead>\n",
       "    <tr style=\"text-align: right;\">\n",
       "      <th></th>\n",
       "      <th>Unnamed: 0</th>\n",
       "      <th>CoinName</th>\n",
       "      <th>Algorithm</th>\n",
       "      <th>IsTrading</th>\n",
       "      <th>ProofType</th>\n",
       "      <th>TotalCoinsMined</th>\n",
       "      <th>TotalCoinSupply</th>\n",
       "    </tr>\n",
       "  </thead>\n",
       "  <tbody>\n",
       "    <tr>\n",
       "      <th>0</th>\n",
       "      <td>42</td>\n",
       "      <td>42 Coin</td>\n",
       "      <td>Scrypt</td>\n",
       "      <td>1</td>\n",
       "      <td>PoW/PoS</td>\n",
       "      <td>4.199995e+01</td>\n",
       "      <td>42</td>\n",
       "    </tr>\n",
       "    <tr>\n",
       "      <th>2</th>\n",
       "      <td>404</td>\n",
       "      <td>404Coin</td>\n",
       "      <td>Scrypt</td>\n",
       "      <td>1</td>\n",
       "      <td>PoW/PoS</td>\n",
       "      <td>1.055185e+09</td>\n",
       "      <td>532000000</td>\n",
       "    </tr>\n",
       "    <tr>\n",
       "      <th>4</th>\n",
       "      <td>808</td>\n",
       "      <td>808</td>\n",
       "      <td>SHA-256</td>\n",
       "      <td>1</td>\n",
       "      <td>PoW/PoS</td>\n",
       "      <td>0.000000e+00</td>\n",
       "      <td>0</td>\n",
       "    </tr>\n",
       "    <tr>\n",
       "      <th>5</th>\n",
       "      <td>1337</td>\n",
       "      <td>EliteCoin</td>\n",
       "      <td>X13</td>\n",
       "      <td>1</td>\n",
       "      <td>PoW/PoS</td>\n",
       "      <td>2.927942e+10</td>\n",
       "      <td>314159265359</td>\n",
       "    </tr>\n",
       "    <tr>\n",
       "      <th>7</th>\n",
       "      <td>BTC</td>\n",
       "      <td>Bitcoin</td>\n",
       "      <td>SHA-256</td>\n",
       "      <td>1</td>\n",
       "      <td>PoW</td>\n",
       "      <td>1.792718e+07</td>\n",
       "      <td>21000000</td>\n",
       "    </tr>\n",
       "    <tr>\n",
       "      <th>...</th>\n",
       "      <td>...</td>\n",
       "      <td>...</td>\n",
       "      <td>...</td>\n",
       "      <td>...</td>\n",
       "      <td>...</td>\n",
       "      <td>...</td>\n",
       "      <td>...</td>\n",
       "    </tr>\n",
       "    <tr>\n",
       "      <th>1238</th>\n",
       "      <td>ZEPH</td>\n",
       "      <td>ZEPHYR</td>\n",
       "      <td>SHA-256</td>\n",
       "      <td>1</td>\n",
       "      <td>DPoS</td>\n",
       "      <td>2.000000e+09</td>\n",
       "      <td>2000000000</td>\n",
       "    </tr>\n",
       "    <tr>\n",
       "      <th>1242</th>\n",
       "      <td>GAP</td>\n",
       "      <td>Gapcoin</td>\n",
       "      <td>Scrypt</td>\n",
       "      <td>1</td>\n",
       "      <td>PoW/PoS</td>\n",
       "      <td>1.493105e+07</td>\n",
       "      <td>250000000</td>\n",
       "    </tr>\n",
       "    <tr>\n",
       "      <th>1245</th>\n",
       "      <td>BDX</td>\n",
       "      <td>Beldex</td>\n",
       "      <td>CryptoNight</td>\n",
       "      <td>1</td>\n",
       "      <td>PoW</td>\n",
       "      <td>9.802226e+08</td>\n",
       "      <td>1400222610</td>\n",
       "    </tr>\n",
       "    <tr>\n",
       "      <th>1246</th>\n",
       "      <td>ZEN</td>\n",
       "      <td>Horizen</td>\n",
       "      <td>Equihash</td>\n",
       "      <td>1</td>\n",
       "      <td>PoW</td>\n",
       "      <td>7.296538e+06</td>\n",
       "      <td>21000000</td>\n",
       "    </tr>\n",
       "    <tr>\n",
       "      <th>1247</th>\n",
       "      <td>XBC</td>\n",
       "      <td>BitcoinPlus</td>\n",
       "      <td>Scrypt</td>\n",
       "      <td>1</td>\n",
       "      <td>PoS</td>\n",
       "      <td>1.283270e+05</td>\n",
       "      <td>1000000</td>\n",
       "    </tr>\n",
       "  </tbody>\n",
       "</table>\n",
       "<p>685 rows × 7 columns</p>\n",
       "</div>"
      ],
      "text/plain": [
       "     Unnamed: 0     CoinName    Algorithm  IsTrading ProofType  \\\n",
       "0            42      42 Coin       Scrypt          1   PoW/PoS   \n",
       "2           404      404Coin       Scrypt          1   PoW/PoS   \n",
       "4           808          808      SHA-256          1   PoW/PoS   \n",
       "5          1337    EliteCoin          X13          1   PoW/PoS   \n",
       "7           BTC      Bitcoin      SHA-256          1       PoW   \n",
       "...         ...          ...          ...        ...       ...   \n",
       "1238       ZEPH       ZEPHYR      SHA-256          1      DPoS   \n",
       "1242        GAP      Gapcoin       Scrypt          1   PoW/PoS   \n",
       "1245        BDX       Beldex  CryptoNight          1       PoW   \n",
       "1246        ZEN      Horizen     Equihash          1       PoW   \n",
       "1247        XBC  BitcoinPlus       Scrypt          1       PoS   \n",
       "\n",
       "      TotalCoinsMined TotalCoinSupply  \n",
       "0        4.199995e+01              42  \n",
       "2        1.055185e+09       532000000  \n",
       "4        0.000000e+00               0  \n",
       "5        2.927942e+10    314159265359  \n",
       "7        1.792718e+07        21000000  \n",
       "...               ...             ...  \n",
       "1238     2.000000e+09      2000000000  \n",
       "1242     1.493105e+07       250000000  \n",
       "1245     9.802226e+08      1400222610  \n",
       "1246     7.296538e+06        21000000  \n",
       "1247     1.283270e+05         1000000  \n",
       "\n",
       "[685 rows x 7 columns]"
      ]
     },
     "execution_count": 30,
     "metadata": {},
     "output_type": "execute_result"
    }
   ],
   "source": [
    "df_crypto_true_only = df_crypto[df_crypto['IsTrading'] == 1] # Rows where the col column is equal to 1 (True)\n",
    "df_crypto_true_only"
   ]
  },
  {
   "cell_type": "code",
   "execution_count": 31,
   "metadata": {},
   "outputs": [
    {
     "data": {
      "text/html": [
       "<div>\n",
       "<style scoped>\n",
       "    .dataframe tbody tr th:only-of-type {\n",
       "        vertical-align: middle;\n",
       "    }\n",
       "\n",
       "    .dataframe tbody tr th {\n",
       "        vertical-align: top;\n",
       "    }\n",
       "\n",
       "    .dataframe thead th {\n",
       "        text-align: right;\n",
       "    }\n",
       "</style>\n",
       "<table border=\"1\" class=\"dataframe\">\n",
       "  <thead>\n",
       "    <tr style=\"text-align: right;\">\n",
       "      <th></th>\n",
       "      <th>Unnamed: 0</th>\n",
       "      <th>CoinName</th>\n",
       "      <th>Algorithm</th>\n",
       "      <th>ProofType</th>\n",
       "      <th>TotalCoinsMined</th>\n",
       "      <th>TotalCoinSupply</th>\n",
       "    </tr>\n",
       "  </thead>\n",
       "  <tbody>\n",
       "    <tr>\n",
       "      <th>0</th>\n",
       "      <td>42</td>\n",
       "      <td>42 Coin</td>\n",
       "      <td>Scrypt</td>\n",
       "      <td>PoW/PoS</td>\n",
       "      <td>4.199995e+01</td>\n",
       "      <td>42</td>\n",
       "    </tr>\n",
       "    <tr>\n",
       "      <th>2</th>\n",
       "      <td>404</td>\n",
       "      <td>404Coin</td>\n",
       "      <td>Scrypt</td>\n",
       "      <td>PoW/PoS</td>\n",
       "      <td>1.055185e+09</td>\n",
       "      <td>532000000</td>\n",
       "    </tr>\n",
       "    <tr>\n",
       "      <th>4</th>\n",
       "      <td>808</td>\n",
       "      <td>808</td>\n",
       "      <td>SHA-256</td>\n",
       "      <td>PoW/PoS</td>\n",
       "      <td>0.000000e+00</td>\n",
       "      <td>0</td>\n",
       "    </tr>\n",
       "    <tr>\n",
       "      <th>5</th>\n",
       "      <td>1337</td>\n",
       "      <td>EliteCoin</td>\n",
       "      <td>X13</td>\n",
       "      <td>PoW/PoS</td>\n",
       "      <td>2.927942e+10</td>\n",
       "      <td>314159265359</td>\n",
       "    </tr>\n",
       "    <tr>\n",
       "      <th>7</th>\n",
       "      <td>BTC</td>\n",
       "      <td>Bitcoin</td>\n",
       "      <td>SHA-256</td>\n",
       "      <td>PoW</td>\n",
       "      <td>1.792718e+07</td>\n",
       "      <td>21000000</td>\n",
       "    </tr>\n",
       "    <tr>\n",
       "      <th>...</th>\n",
       "      <td>...</td>\n",
       "      <td>...</td>\n",
       "      <td>...</td>\n",
       "      <td>...</td>\n",
       "      <td>...</td>\n",
       "      <td>...</td>\n",
       "    </tr>\n",
       "    <tr>\n",
       "      <th>1238</th>\n",
       "      <td>ZEPH</td>\n",
       "      <td>ZEPHYR</td>\n",
       "      <td>SHA-256</td>\n",
       "      <td>DPoS</td>\n",
       "      <td>2.000000e+09</td>\n",
       "      <td>2000000000</td>\n",
       "    </tr>\n",
       "    <tr>\n",
       "      <th>1242</th>\n",
       "      <td>GAP</td>\n",
       "      <td>Gapcoin</td>\n",
       "      <td>Scrypt</td>\n",
       "      <td>PoW/PoS</td>\n",
       "      <td>1.493105e+07</td>\n",
       "      <td>250000000</td>\n",
       "    </tr>\n",
       "    <tr>\n",
       "      <th>1245</th>\n",
       "      <td>BDX</td>\n",
       "      <td>Beldex</td>\n",
       "      <td>CryptoNight</td>\n",
       "      <td>PoW</td>\n",
       "      <td>9.802226e+08</td>\n",
       "      <td>1400222610</td>\n",
       "    </tr>\n",
       "    <tr>\n",
       "      <th>1246</th>\n",
       "      <td>ZEN</td>\n",
       "      <td>Horizen</td>\n",
       "      <td>Equihash</td>\n",
       "      <td>PoW</td>\n",
       "      <td>7.296538e+06</td>\n",
       "      <td>21000000</td>\n",
       "    </tr>\n",
       "    <tr>\n",
       "      <th>1247</th>\n",
       "      <td>XBC</td>\n",
       "      <td>BitcoinPlus</td>\n",
       "      <td>Scrypt</td>\n",
       "      <td>PoS</td>\n",
       "      <td>1.283270e+05</td>\n",
       "      <td>1000000</td>\n",
       "    </tr>\n",
       "  </tbody>\n",
       "</table>\n",
       "<p>685 rows × 6 columns</p>\n",
       "</div>"
      ],
      "text/plain": [
       "     Unnamed: 0     CoinName    Algorithm ProofType  TotalCoinsMined  \\\n",
       "0            42      42 Coin       Scrypt   PoW/PoS     4.199995e+01   \n",
       "2           404      404Coin       Scrypt   PoW/PoS     1.055185e+09   \n",
       "4           808          808      SHA-256   PoW/PoS     0.000000e+00   \n",
       "5          1337    EliteCoin          X13   PoW/PoS     2.927942e+10   \n",
       "7           BTC      Bitcoin      SHA-256       PoW     1.792718e+07   \n",
       "...         ...          ...          ...       ...              ...   \n",
       "1238       ZEPH       ZEPHYR      SHA-256      DPoS     2.000000e+09   \n",
       "1242        GAP      Gapcoin       Scrypt   PoW/PoS     1.493105e+07   \n",
       "1245        BDX       Beldex  CryptoNight       PoW     9.802226e+08   \n",
       "1246        ZEN      Horizen     Equihash       PoW     7.296538e+06   \n",
       "1247        XBC  BitcoinPlus       Scrypt       PoS     1.283270e+05   \n",
       "\n",
       "     TotalCoinSupply  \n",
       "0                 42  \n",
       "2          532000000  \n",
       "4                  0  \n",
       "5       314159265359  \n",
       "7           21000000  \n",
       "...              ...  \n",
       "1238      2000000000  \n",
       "1242       250000000  \n",
       "1245      1400222610  \n",
       "1246        21000000  \n",
       "1247         1000000  \n",
       "\n",
       "[685 rows x 6 columns]"
      ]
     },
     "execution_count": 31,
     "metadata": {},
     "output_type": "execute_result"
    }
   ],
   "source": [
    "df_crypto_true_dropped = df_crypto_true_only.drop(['IsTrading'], axis = 1)\n",
    "df_crypto_true_dropped"
   ]
  },
  {
   "cell_type": "code",
   "execution_count": 32,
   "metadata": {},
   "outputs": [
    {
     "data": {
      "text/html": [
       "<div>\n",
       "<style scoped>\n",
       "    .dataframe tbody tr th:only-of-type {\n",
       "        vertical-align: middle;\n",
       "    }\n",
       "\n",
       "    .dataframe tbody tr th {\n",
       "        vertical-align: top;\n",
       "    }\n",
       "\n",
       "    .dataframe thead th {\n",
       "        text-align: right;\n",
       "    }\n",
       "</style>\n",
       "<table border=\"1\" class=\"dataframe\">\n",
       "  <thead>\n",
       "    <tr style=\"text-align: right;\">\n",
       "      <th></th>\n",
       "      <th>Unnamed: 0</th>\n",
       "      <th>CoinName</th>\n",
       "      <th>Algorithm</th>\n",
       "      <th>ProofType</th>\n",
       "      <th>TotalCoinsMined</th>\n",
       "      <th>TotalCoinSupply</th>\n",
       "    </tr>\n",
       "  </thead>\n",
       "  <tbody>\n",
       "    <tr>\n",
       "      <th>0</th>\n",
       "      <td>42</td>\n",
       "      <td>42 Coin</td>\n",
       "      <td>Scrypt</td>\n",
       "      <td>PoW/PoS</td>\n",
       "      <td>4.199995e+01</td>\n",
       "      <td>42</td>\n",
       "    </tr>\n",
       "    <tr>\n",
       "      <th>2</th>\n",
       "      <td>404</td>\n",
       "      <td>404Coin</td>\n",
       "      <td>Scrypt</td>\n",
       "      <td>PoW/PoS</td>\n",
       "      <td>1.055185e+09</td>\n",
       "      <td>532000000</td>\n",
       "    </tr>\n",
       "    <tr>\n",
       "      <th>5</th>\n",
       "      <td>1337</td>\n",
       "      <td>EliteCoin</td>\n",
       "      <td>X13</td>\n",
       "      <td>PoW/PoS</td>\n",
       "      <td>2.927942e+10</td>\n",
       "      <td>314159265359</td>\n",
       "    </tr>\n",
       "    <tr>\n",
       "      <th>7</th>\n",
       "      <td>BTC</td>\n",
       "      <td>Bitcoin</td>\n",
       "      <td>SHA-256</td>\n",
       "      <td>PoW</td>\n",
       "      <td>1.792718e+07</td>\n",
       "      <td>21000000</td>\n",
       "    </tr>\n",
       "    <tr>\n",
       "      <th>8</th>\n",
       "      <td>ETH</td>\n",
       "      <td>Ethereum</td>\n",
       "      <td>Ethash</td>\n",
       "      <td>PoW</td>\n",
       "      <td>1.076842e+08</td>\n",
       "      <td>0</td>\n",
       "    </tr>\n",
       "    <tr>\n",
       "      <th>...</th>\n",
       "      <td>...</td>\n",
       "      <td>...</td>\n",
       "      <td>...</td>\n",
       "      <td>...</td>\n",
       "      <td>...</td>\n",
       "      <td>...</td>\n",
       "    </tr>\n",
       "    <tr>\n",
       "      <th>1238</th>\n",
       "      <td>ZEPH</td>\n",
       "      <td>ZEPHYR</td>\n",
       "      <td>SHA-256</td>\n",
       "      <td>DPoS</td>\n",
       "      <td>2.000000e+09</td>\n",
       "      <td>2000000000</td>\n",
       "    </tr>\n",
       "    <tr>\n",
       "      <th>1242</th>\n",
       "      <td>GAP</td>\n",
       "      <td>Gapcoin</td>\n",
       "      <td>Scrypt</td>\n",
       "      <td>PoW/PoS</td>\n",
       "      <td>1.493105e+07</td>\n",
       "      <td>250000000</td>\n",
       "    </tr>\n",
       "    <tr>\n",
       "      <th>1245</th>\n",
       "      <td>BDX</td>\n",
       "      <td>Beldex</td>\n",
       "      <td>CryptoNight</td>\n",
       "      <td>PoW</td>\n",
       "      <td>9.802226e+08</td>\n",
       "      <td>1400222610</td>\n",
       "    </tr>\n",
       "    <tr>\n",
       "      <th>1246</th>\n",
       "      <td>ZEN</td>\n",
       "      <td>Horizen</td>\n",
       "      <td>Equihash</td>\n",
       "      <td>PoW</td>\n",
       "      <td>7.296538e+06</td>\n",
       "      <td>21000000</td>\n",
       "    </tr>\n",
       "    <tr>\n",
       "      <th>1247</th>\n",
       "      <td>XBC</td>\n",
       "      <td>BitcoinPlus</td>\n",
       "      <td>Scrypt</td>\n",
       "      <td>PoS</td>\n",
       "      <td>1.283270e+05</td>\n",
       "      <td>1000000</td>\n",
       "    </tr>\n",
       "  </tbody>\n",
       "</table>\n",
       "<p>532 rows × 6 columns</p>\n",
       "</div>"
      ],
      "text/plain": [
       "     Unnamed: 0     CoinName    Algorithm ProofType  TotalCoinsMined  \\\n",
       "0            42      42 Coin       Scrypt   PoW/PoS     4.199995e+01   \n",
       "2           404      404Coin       Scrypt   PoW/PoS     1.055185e+09   \n",
       "5          1337    EliteCoin          X13   PoW/PoS     2.927942e+10   \n",
       "7           BTC      Bitcoin      SHA-256       PoW     1.792718e+07   \n",
       "8           ETH     Ethereum       Ethash       PoW     1.076842e+08   \n",
       "...         ...          ...          ...       ...              ...   \n",
       "1238       ZEPH       ZEPHYR      SHA-256      DPoS     2.000000e+09   \n",
       "1242        GAP      Gapcoin       Scrypt   PoW/PoS     1.493105e+07   \n",
       "1245        BDX       Beldex  CryptoNight       PoW     9.802226e+08   \n",
       "1246        ZEN      Horizen     Equihash       PoW     7.296538e+06   \n",
       "1247        XBC  BitcoinPlus       Scrypt       PoS     1.283270e+05   \n",
       "\n",
       "     TotalCoinSupply  \n",
       "0                 42  \n",
       "2          532000000  \n",
       "5       314159265359  \n",
       "7           21000000  \n",
       "8                  0  \n",
       "...              ...  \n",
       "1238      2000000000  \n",
       "1242       250000000  \n",
       "1245      1400222610  \n",
       "1246        21000000  \n",
       "1247         1000000  \n",
       "\n",
       "[532 rows x 6 columns]"
      ]
     },
     "execution_count": 32,
     "metadata": {},
     "output_type": "execute_result"
    }
   ],
   "source": [
    "df_crypto_mined = df_crypto_true_dropped[df_crypto_true_dropped['TotalCoinsMined'] > 0] # Rows where the col column is greater than 0\n",
    "df_crypto_mined"
   ]
  },
  {
   "cell_type": "code",
   "execution_count": 33,
   "metadata": {},
   "outputs": [
    {
     "data": {
      "text/html": [
       "<div>\n",
       "<style scoped>\n",
       "    .dataframe tbody tr th:only-of-type {\n",
       "        vertical-align: middle;\n",
       "    }\n",
       "\n",
       "    .dataframe tbody tr th {\n",
       "        vertical-align: top;\n",
       "    }\n",
       "\n",
       "    .dataframe thead th {\n",
       "        text-align: right;\n",
       "    }\n",
       "</style>\n",
       "<table border=\"1\" class=\"dataframe\">\n",
       "  <thead>\n",
       "    <tr style=\"text-align: right;\">\n",
       "      <th></th>\n",
       "      <th>Unnamed: 0</th>\n",
       "      <th>Algorithm</th>\n",
       "      <th>ProofType</th>\n",
       "      <th>TotalCoinsMined</th>\n",
       "      <th>TotalCoinSupply</th>\n",
       "    </tr>\n",
       "  </thead>\n",
       "  <tbody>\n",
       "    <tr>\n",
       "      <th>0</th>\n",
       "      <td>42</td>\n",
       "      <td>Scrypt</td>\n",
       "      <td>PoW/PoS</td>\n",
       "      <td>4.199995e+01</td>\n",
       "      <td>42</td>\n",
       "    </tr>\n",
       "    <tr>\n",
       "      <th>2</th>\n",
       "      <td>404</td>\n",
       "      <td>Scrypt</td>\n",
       "      <td>PoW/PoS</td>\n",
       "      <td>1.055185e+09</td>\n",
       "      <td>532000000</td>\n",
       "    </tr>\n",
       "    <tr>\n",
       "      <th>5</th>\n",
       "      <td>1337</td>\n",
       "      <td>X13</td>\n",
       "      <td>PoW/PoS</td>\n",
       "      <td>2.927942e+10</td>\n",
       "      <td>314159265359</td>\n",
       "    </tr>\n",
       "    <tr>\n",
       "      <th>7</th>\n",
       "      <td>BTC</td>\n",
       "      <td>SHA-256</td>\n",
       "      <td>PoW</td>\n",
       "      <td>1.792718e+07</td>\n",
       "      <td>21000000</td>\n",
       "    </tr>\n",
       "    <tr>\n",
       "      <th>8</th>\n",
       "      <td>ETH</td>\n",
       "      <td>Ethash</td>\n",
       "      <td>PoW</td>\n",
       "      <td>1.076842e+08</td>\n",
       "      <td>0</td>\n",
       "    </tr>\n",
       "    <tr>\n",
       "      <th>...</th>\n",
       "      <td>...</td>\n",
       "      <td>...</td>\n",
       "      <td>...</td>\n",
       "      <td>...</td>\n",
       "      <td>...</td>\n",
       "    </tr>\n",
       "    <tr>\n",
       "      <th>1238</th>\n",
       "      <td>ZEPH</td>\n",
       "      <td>SHA-256</td>\n",
       "      <td>DPoS</td>\n",
       "      <td>2.000000e+09</td>\n",
       "      <td>2000000000</td>\n",
       "    </tr>\n",
       "    <tr>\n",
       "      <th>1242</th>\n",
       "      <td>GAP</td>\n",
       "      <td>Scrypt</td>\n",
       "      <td>PoW/PoS</td>\n",
       "      <td>1.493105e+07</td>\n",
       "      <td>250000000</td>\n",
       "    </tr>\n",
       "    <tr>\n",
       "      <th>1245</th>\n",
       "      <td>BDX</td>\n",
       "      <td>CryptoNight</td>\n",
       "      <td>PoW</td>\n",
       "      <td>9.802226e+08</td>\n",
       "      <td>1400222610</td>\n",
       "    </tr>\n",
       "    <tr>\n",
       "      <th>1246</th>\n",
       "      <td>ZEN</td>\n",
       "      <td>Equihash</td>\n",
       "      <td>PoW</td>\n",
       "      <td>7.296538e+06</td>\n",
       "      <td>21000000</td>\n",
       "    </tr>\n",
       "    <tr>\n",
       "      <th>1247</th>\n",
       "      <td>XBC</td>\n",
       "      <td>Scrypt</td>\n",
       "      <td>PoS</td>\n",
       "      <td>1.283270e+05</td>\n",
       "      <td>1000000</td>\n",
       "    </tr>\n",
       "  </tbody>\n",
       "</table>\n",
       "<p>532 rows × 5 columns</p>\n",
       "</div>"
      ],
      "text/plain": [
       "     Unnamed: 0    Algorithm ProofType  TotalCoinsMined TotalCoinSupply\n",
       "0            42       Scrypt   PoW/PoS     4.199995e+01              42\n",
       "2           404       Scrypt   PoW/PoS     1.055185e+09       532000000\n",
       "5          1337          X13   PoW/PoS     2.927942e+10    314159265359\n",
       "7           BTC      SHA-256       PoW     1.792718e+07        21000000\n",
       "8           ETH       Ethash       PoW     1.076842e+08               0\n",
       "...         ...          ...       ...              ...             ...\n",
       "1238       ZEPH      SHA-256      DPoS     2.000000e+09      2000000000\n",
       "1242        GAP       Scrypt   PoW/PoS     1.493105e+07       250000000\n",
       "1245        BDX  CryptoNight       PoW     9.802226e+08      1400222610\n",
       "1246        ZEN     Equihash       PoW     7.296538e+06        21000000\n",
       "1247        XBC       Scrypt       PoS     1.283270e+05         1000000\n",
       "\n",
       "[532 rows x 5 columns]"
      ]
     },
     "execution_count": 33,
     "metadata": {},
     "output_type": "execute_result"
    }
   ],
   "source": [
    "df_crypto_mined_dropped = df_crypto_mined.drop(['CoinName'], axis = 1)\n",
    "df_crypto_mined_dropped"
   ]
  },
  {
   "cell_type": "code",
   "execution_count": 34,
   "metadata": {},
   "outputs": [
    {
     "data": {
      "text/html": [
       "<div>\n",
       "<style scoped>\n",
       "    .dataframe tbody tr th:only-of-type {\n",
       "        vertical-align: middle;\n",
       "    }\n",
       "\n",
       "    .dataframe tbody tr th {\n",
       "        vertical-align: top;\n",
       "    }\n",
       "\n",
       "    .dataframe thead th {\n",
       "        text-align: right;\n",
       "    }\n",
       "</style>\n",
       "<table border=\"1\" class=\"dataframe\">\n",
       "  <thead>\n",
       "    <tr style=\"text-align: right;\">\n",
       "      <th></th>\n",
       "      <th>Algorithm</th>\n",
       "      <th>ProofType</th>\n",
       "      <th>TotalCoinsMined</th>\n",
       "      <th>TotalCoinSupply</th>\n",
       "    </tr>\n",
       "  </thead>\n",
       "  <tbody>\n",
       "    <tr>\n",
       "      <th>0</th>\n",
       "      <td>Scrypt</td>\n",
       "      <td>PoW/PoS</td>\n",
       "      <td>4.199995e+01</td>\n",
       "      <td>42</td>\n",
       "    </tr>\n",
       "    <tr>\n",
       "      <th>2</th>\n",
       "      <td>Scrypt</td>\n",
       "      <td>PoW/PoS</td>\n",
       "      <td>1.055185e+09</td>\n",
       "      <td>532000000</td>\n",
       "    </tr>\n",
       "    <tr>\n",
       "      <th>5</th>\n",
       "      <td>X13</td>\n",
       "      <td>PoW/PoS</td>\n",
       "      <td>2.927942e+10</td>\n",
       "      <td>314159265359</td>\n",
       "    </tr>\n",
       "    <tr>\n",
       "      <th>7</th>\n",
       "      <td>SHA-256</td>\n",
       "      <td>PoW</td>\n",
       "      <td>1.792718e+07</td>\n",
       "      <td>21000000</td>\n",
       "    </tr>\n",
       "    <tr>\n",
       "      <th>8</th>\n",
       "      <td>Ethash</td>\n",
       "      <td>PoW</td>\n",
       "      <td>1.076842e+08</td>\n",
       "      <td>0</td>\n",
       "    </tr>\n",
       "    <tr>\n",
       "      <th>...</th>\n",
       "      <td>...</td>\n",
       "      <td>...</td>\n",
       "      <td>...</td>\n",
       "      <td>...</td>\n",
       "    </tr>\n",
       "    <tr>\n",
       "      <th>1238</th>\n",
       "      <td>SHA-256</td>\n",
       "      <td>DPoS</td>\n",
       "      <td>2.000000e+09</td>\n",
       "      <td>2000000000</td>\n",
       "    </tr>\n",
       "    <tr>\n",
       "      <th>1242</th>\n",
       "      <td>Scrypt</td>\n",
       "      <td>PoW/PoS</td>\n",
       "      <td>1.493105e+07</td>\n",
       "      <td>250000000</td>\n",
       "    </tr>\n",
       "    <tr>\n",
       "      <th>1245</th>\n",
       "      <td>CryptoNight</td>\n",
       "      <td>PoW</td>\n",
       "      <td>9.802226e+08</td>\n",
       "      <td>1400222610</td>\n",
       "    </tr>\n",
       "    <tr>\n",
       "      <th>1246</th>\n",
       "      <td>Equihash</td>\n",
       "      <td>PoW</td>\n",
       "      <td>7.296538e+06</td>\n",
       "      <td>21000000</td>\n",
       "    </tr>\n",
       "    <tr>\n",
       "      <th>1247</th>\n",
       "      <td>Scrypt</td>\n",
       "      <td>PoS</td>\n",
       "      <td>1.283270e+05</td>\n",
       "      <td>1000000</td>\n",
       "    </tr>\n",
       "  </tbody>\n",
       "</table>\n",
       "<p>532 rows × 4 columns</p>\n",
       "</div>"
      ],
      "text/plain": [
       "        Algorithm ProofType  TotalCoinsMined TotalCoinSupply\n",
       "0          Scrypt   PoW/PoS     4.199995e+01              42\n",
       "2          Scrypt   PoW/PoS     1.055185e+09       532000000\n",
       "5             X13   PoW/PoS     2.927942e+10    314159265359\n",
       "7         SHA-256       PoW     1.792718e+07        21000000\n",
       "8          Ethash       PoW     1.076842e+08               0\n",
       "...           ...       ...              ...             ...\n",
       "1238      SHA-256      DPoS     2.000000e+09      2000000000\n",
       "1242       Scrypt   PoW/PoS     1.493105e+07       250000000\n",
       "1245  CryptoNight       PoW     9.802226e+08      1400222610\n",
       "1246     Equihash       PoW     7.296538e+06        21000000\n",
       "1247       Scrypt       PoS     1.283270e+05         1000000\n",
       "\n",
       "[532 rows x 4 columns]"
      ]
     },
     "execution_count": 34,
     "metadata": {},
     "output_type": "execute_result"
    }
   ],
   "source": [
    "df_crypto_mined_dropped = df_crypto_mined_dropped.drop(['Unnamed: 0'], axis = 1)\n",
    "df_crypto_mined_dropped"
   ]
  },
  {
   "cell_type": "markdown",
   "metadata": {},
   "source": [
    "### Get_Dummies"
   ]
  },
  {
   "cell_type": "code",
   "execution_count": 35,
   "metadata": {},
   "outputs": [
    {
     "name": "stdout",
     "output_type": "stream",
     "text": [
      "(532, 98)\n"
     ]
    },
    {
     "data": {
      "text/html": [
       "<div>\n",
       "<style scoped>\n",
       "    .dataframe tbody tr th:only-of-type {\n",
       "        vertical-align: middle;\n",
       "    }\n",
       "\n",
       "    .dataframe tbody tr th {\n",
       "        vertical-align: top;\n",
       "    }\n",
       "\n",
       "    .dataframe thead th {\n",
       "        text-align: right;\n",
       "    }\n",
       "</style>\n",
       "<table border=\"1\" class=\"dataframe\">\n",
       "  <thead>\n",
       "    <tr style=\"text-align: right;\">\n",
       "      <th></th>\n",
       "      <th>TotalCoinsMined</th>\n",
       "      <th>TotalCoinSupply</th>\n",
       "      <th>Algorithm_1GB AES Pattern Search</th>\n",
       "      <th>Algorithm_536</th>\n",
       "      <th>Algorithm_Argon2d</th>\n",
       "      <th>Algorithm_BLAKE256</th>\n",
       "      <th>Algorithm_Blake</th>\n",
       "      <th>Algorithm_Blake2S</th>\n",
       "      <th>Algorithm_Blake2b</th>\n",
       "      <th>Algorithm_C11</th>\n",
       "      <th>...</th>\n",
       "      <th>ProofType_PoW/PoS</th>\n",
       "      <th>ProofType_PoW/PoS</th>\n",
       "      <th>ProofType_PoW/PoW</th>\n",
       "      <th>ProofType_PoW/nPoS</th>\n",
       "      <th>ProofType_Pos</th>\n",
       "      <th>ProofType_Proof of Authority</th>\n",
       "      <th>ProofType_Proof of Trust</th>\n",
       "      <th>ProofType_TPoS</th>\n",
       "      <th>ProofType_Zero-Knowledge Proof</th>\n",
       "      <th>ProofType_dPoW/PoW</th>\n",
       "    </tr>\n",
       "  </thead>\n",
       "  <tbody>\n",
       "    <tr>\n",
       "      <th>0</th>\n",
       "      <td>4.199995e+01</td>\n",
       "      <td>42</td>\n",
       "      <td>0</td>\n",
       "      <td>0</td>\n",
       "      <td>0</td>\n",
       "      <td>0</td>\n",
       "      <td>0</td>\n",
       "      <td>0</td>\n",
       "      <td>0</td>\n",
       "      <td>0</td>\n",
       "      <td>...</td>\n",
       "      <td>1</td>\n",
       "      <td>0</td>\n",
       "      <td>0</td>\n",
       "      <td>0</td>\n",
       "      <td>0</td>\n",
       "      <td>0</td>\n",
       "      <td>0</td>\n",
       "      <td>0</td>\n",
       "      <td>0</td>\n",
       "      <td>0</td>\n",
       "    </tr>\n",
       "    <tr>\n",
       "      <th>2</th>\n",
       "      <td>1.055185e+09</td>\n",
       "      <td>532000000</td>\n",
       "      <td>0</td>\n",
       "      <td>0</td>\n",
       "      <td>0</td>\n",
       "      <td>0</td>\n",
       "      <td>0</td>\n",
       "      <td>0</td>\n",
       "      <td>0</td>\n",
       "      <td>0</td>\n",
       "      <td>...</td>\n",
       "      <td>1</td>\n",
       "      <td>0</td>\n",
       "      <td>0</td>\n",
       "      <td>0</td>\n",
       "      <td>0</td>\n",
       "      <td>0</td>\n",
       "      <td>0</td>\n",
       "      <td>0</td>\n",
       "      <td>0</td>\n",
       "      <td>0</td>\n",
       "    </tr>\n",
       "    <tr>\n",
       "      <th>5</th>\n",
       "      <td>2.927942e+10</td>\n",
       "      <td>314159265359</td>\n",
       "      <td>0</td>\n",
       "      <td>0</td>\n",
       "      <td>0</td>\n",
       "      <td>0</td>\n",
       "      <td>0</td>\n",
       "      <td>0</td>\n",
       "      <td>0</td>\n",
       "      <td>0</td>\n",
       "      <td>...</td>\n",
       "      <td>1</td>\n",
       "      <td>0</td>\n",
       "      <td>0</td>\n",
       "      <td>0</td>\n",
       "      <td>0</td>\n",
       "      <td>0</td>\n",
       "      <td>0</td>\n",
       "      <td>0</td>\n",
       "      <td>0</td>\n",
       "      <td>0</td>\n",
       "    </tr>\n",
       "    <tr>\n",
       "      <th>7</th>\n",
       "      <td>1.792718e+07</td>\n",
       "      <td>21000000</td>\n",
       "      <td>0</td>\n",
       "      <td>0</td>\n",
       "      <td>0</td>\n",
       "      <td>0</td>\n",
       "      <td>0</td>\n",
       "      <td>0</td>\n",
       "      <td>0</td>\n",
       "      <td>0</td>\n",
       "      <td>...</td>\n",
       "      <td>0</td>\n",
       "      <td>0</td>\n",
       "      <td>0</td>\n",
       "      <td>0</td>\n",
       "      <td>0</td>\n",
       "      <td>0</td>\n",
       "      <td>0</td>\n",
       "      <td>0</td>\n",
       "      <td>0</td>\n",
       "      <td>0</td>\n",
       "    </tr>\n",
       "    <tr>\n",
       "      <th>8</th>\n",
       "      <td>1.076842e+08</td>\n",
       "      <td>0</td>\n",
       "      <td>0</td>\n",
       "      <td>0</td>\n",
       "      <td>0</td>\n",
       "      <td>0</td>\n",
       "      <td>0</td>\n",
       "      <td>0</td>\n",
       "      <td>0</td>\n",
       "      <td>0</td>\n",
       "      <td>...</td>\n",
       "      <td>0</td>\n",
       "      <td>0</td>\n",
       "      <td>0</td>\n",
       "      <td>0</td>\n",
       "      <td>0</td>\n",
       "      <td>0</td>\n",
       "      <td>0</td>\n",
       "      <td>0</td>\n",
       "      <td>0</td>\n",
       "      <td>0</td>\n",
       "    </tr>\n",
       "  </tbody>\n",
       "</table>\n",
       "<p>5 rows × 98 columns</p>\n",
       "</div>"
      ],
      "text/plain": [
       "   TotalCoinsMined TotalCoinSupply  Algorithm_1GB AES Pattern Search  \\\n",
       "0     4.199995e+01              42                                 0   \n",
       "2     1.055185e+09       532000000                                 0   \n",
       "5     2.927942e+10    314159265359                                 0   \n",
       "7     1.792718e+07        21000000                                 0   \n",
       "8     1.076842e+08               0                                 0   \n",
       "\n",
       "   Algorithm_536  Algorithm_Argon2d  Algorithm_BLAKE256  Algorithm_Blake  \\\n",
       "0              0                  0                   0                0   \n",
       "2              0                  0                   0                0   \n",
       "5              0                  0                   0                0   \n",
       "7              0                  0                   0                0   \n",
       "8              0                  0                   0                0   \n",
       "\n",
       "   Algorithm_Blake2S  Algorithm_Blake2b  Algorithm_C11  ...  \\\n",
       "0                  0                  0              0  ...   \n",
       "2                  0                  0              0  ...   \n",
       "5                  0                  0              0  ...   \n",
       "7                  0                  0              0  ...   \n",
       "8                  0                  0              0  ...   \n",
       "\n",
       "   ProofType_PoW/PoS  ProofType_PoW/PoS   ProofType_PoW/PoW  \\\n",
       "0                  1                   0                  0   \n",
       "2                  1                   0                  0   \n",
       "5                  1                   0                  0   \n",
       "7                  0                   0                  0   \n",
       "8                  0                   0                  0   \n",
       "\n",
       "   ProofType_PoW/nPoS  ProofType_Pos  ProofType_Proof of Authority  \\\n",
       "0                   0              0                             0   \n",
       "2                   0              0                             0   \n",
       "5                   0              0                             0   \n",
       "7                   0              0                             0   \n",
       "8                   0              0                             0   \n",
       "\n",
       "   ProofType_Proof of Trust  ProofType_TPoS  ProofType_Zero-Knowledge Proof  \\\n",
       "0                         0               0                               0   \n",
       "2                         0               0                               0   \n",
       "5                         0               0                               0   \n",
       "7                         0               0                               0   \n",
       "8                         0               0                               0   \n",
       "\n",
       "   ProofType_dPoW/PoW  \n",
       "0                   0  \n",
       "2                   0  \n",
       "5                   0  \n",
       "7                   0  \n",
       "8                   0  \n",
       "\n",
       "[5 rows x 98 columns]"
      ]
     },
     "execution_count": 35,
     "metadata": {},
     "output_type": "execute_result"
    }
   ],
   "source": [
    "# Create dummy variables for columns with string values\n",
    "X = pd.get_dummies(data=df_crypto_mined_dropped, columns=['Algorithm', 'ProofType'])\n",
    "print(X.shape)\n",
    "X.head()"
   ]
  },
  {
   "cell_type": "markdown",
   "metadata": {},
   "source": [
    "## StandardScaler"
   ]
  },
  {
   "cell_type": "code",
   "execution_count": 36,
   "metadata": {},
   "outputs": [
    {
     "data": {
      "text/plain": [
       "array([[-0.11710817, -0.1528703 , -0.0433963 , ..., -0.0433963 ,\n",
       "        -0.0433963 , -0.0433963 ],\n",
       "       [-0.09396955, -0.145009  , -0.0433963 , ..., -0.0433963 ,\n",
       "        -0.0433963 , -0.0433963 ],\n",
       "       [ 0.52494561,  4.48942416, -0.0433963 , ..., -0.0433963 ,\n",
       "        -0.0433963 , -0.0433963 ],\n",
       "       ...,\n",
       "       [-0.09561336, -0.13217937, -0.0433963 , ..., -0.0433963 ,\n",
       "        -0.0433963 , -0.0433963 ],\n",
       "       [-0.11694817, -0.15255998, -0.0433963 , ..., -0.0433963 ,\n",
       "        -0.0433963 , -0.0433963 ],\n",
       "       [-0.11710536, -0.15285552, -0.0433963 , ..., -0.0433963 ,\n",
       "        -0.0433963 , -0.0433963 ]])"
      ]
     },
     "execution_count": 36,
     "metadata": {},
     "output_type": "execute_result"
    }
   ],
   "source": [
    "# Scale the data\n",
    "from sklearn.preprocessing import StandardScaler\n",
    "scaler_method = StandardScaler()\n",
    "\n",
    "X_fit = X\n",
    "scaler_method.fit(X_fit)\n",
    "X_fit_scaled_diff_way = scaler_method.transform(X_fit)\n",
    "X_fit_scaled_diff_way"
   ]
  },
  {
   "cell_type": "code",
   "execution_count": 37,
   "metadata": {},
   "outputs": [
    {
     "data": {
      "text/plain": [
       "array([[-0.11710817, -0.1528703 , -0.0433963 , ..., -0.0433963 ,\n",
       "        -0.0433963 , -0.0433963 ],\n",
       "       [-0.09396955, -0.145009  , -0.0433963 , ..., -0.0433963 ,\n",
       "        -0.0433963 , -0.0433963 ],\n",
       "       [ 0.52494561,  4.48942416, -0.0433963 , ..., -0.0433963 ,\n",
       "        -0.0433963 , -0.0433963 ],\n",
       "       ...,\n",
       "       [-0.09561336, -0.13217937, -0.0433963 , ..., -0.0433963 ,\n",
       "        -0.0433963 , -0.0433963 ],\n",
       "       [-0.11694817, -0.15255998, -0.0433963 , ..., -0.0433963 ,\n",
       "        -0.0433963 , -0.0433963 ],\n",
       "       [-0.11710536, -0.15285552, -0.0433963 , ..., -0.0433963 ,\n",
       "        -0.0433963 , -0.0433963 ]])"
      ]
     },
     "execution_count": 37,
     "metadata": {},
     "output_type": "execute_result"
    }
   ],
   "source": [
    "# Scale the data\n",
    "# SAME AS ABOVE EXCEPT .fit_transform does both ways\n",
    "from sklearn.preprocessing import StandardScaler\n",
    "scaler = StandardScaler()\n",
    "X_scaled = scaler.fit_transform(X)\n",
    "X_scaled"
   ]
  },
  {
   "cell_type": "code",
   "execution_count": 38,
   "metadata": {},
   "outputs": [
    {
     "name": "stdout",
     "output_type": "stream",
     "text": [
      "(532, 98) (532, 98)\n"
     ]
    }
   ],
   "source": [
    "print(X_scaled.shape, X_fit_scaled_diff_way.shape)"
   ]
  },
  {
   "cell_type": "markdown",
   "metadata": {},
   "source": [
    "## PCA"
   ]
  },
  {
   "cell_type": "markdown",
   "metadata": {},
   "source": [
    "### PCA(n_components=0.9)"
   ]
  },
  {
   "cell_type": "code",
   "execution_count": 39,
   "metadata": {},
   "outputs": [],
   "source": [
    "from sklearn.decomposition import PCA\n",
    "\n",
    "# Initialize PCA model\n",
    "pca = PCA(n_components=.9)\n",
    "\n",
    "# Get two principal components for the data.\n",
    "outcome_pca = pca.fit_transform(X_scaled)"
   ]
  },
  {
   "cell_type": "code",
   "execution_count": 40,
   "metadata": {},
   "outputs": [
    {
     "data": {
      "text/plain": [
       "(532, 74)"
      ]
     },
     "execution_count": 40,
     "metadata": {},
     "output_type": "execute_result"
    }
   ],
   "source": [
    "outcome_pca.shape\n"
   ]
  },
  {
   "cell_type": "code",
   "execution_count": 41,
   "metadata": {},
   "outputs": [
    {
     "data": {
      "text/plain": [
       "array([0.0279317 , 0.02141802, 0.02051615, 0.02044661, 0.0204466 ,\n",
       "       0.0204466 , 0.0204466 , 0.02042554, 0.01870913, 0.01756291,\n",
       "       0.01741106, 0.01629007, 0.01596154, 0.01551138, 0.01435005,\n",
       "       0.01321122, 0.01236583, 0.01206255, 0.01104295, 0.01071499,\n",
       "       0.01049079, 0.01040887, 0.01039089, 0.01037741, 0.01035414,\n",
       "       0.01034034, 0.01029605, 0.01028233, 0.01028139, 0.01028139,\n",
       "       0.01028138, 0.01027965, 0.01027051, 0.01026331, 0.01026202,\n",
       "       0.01025761, 0.01025565, 0.01025068, 0.01024924, 0.01024279,\n",
       "       0.01024259, 0.01024259, 0.0102419 , 0.01024018, 0.01023676,\n",
       "       0.01023495, 0.01023   , 0.01022442, 0.0102233 , 0.0102233 ,\n",
       "       0.0102233 , 0.0102233 , 0.0102233 , 0.0102233 , 0.0102233 ,\n",
       "       0.0102233 , 0.0102233 , 0.0102233 , 0.0102233 , 0.0102233 ,\n",
       "       0.0102233 , 0.0102233 , 0.0102233 , 0.0102233 , 0.0102233 ,\n",
       "       0.0102233 , 0.0102233 , 0.0102233 , 0.0102233 , 0.0102233 ,\n",
       "       0.0102233 , 0.0102233 , 0.0102233 , 0.0102233 ])"
      ]
     },
     "execution_count": 41,
     "metadata": {},
     "output_type": "execute_result"
    }
   ],
   "source": [
    "# Fetch the explained variance\n",
    "pca.explained_variance_ratio_"
   ]
  },
  {
   "cell_type": "code",
   "execution_count": 42,
   "metadata": {},
   "outputs": [
    {
     "data": {
      "text/plain": [
       "88.47283457566152"
      ]
     },
     "execution_count": 42,
     "metadata": {},
     "output_type": "execute_result"
    }
   ],
   "source": [
    "# Fetch the explained variance sum\n",
    "pca.explained_variance_.sum()"
   ]
  },
  {
   "cell_type": "code",
   "execution_count": 43,
   "metadata": {},
   "outputs": [
    {
     "data": {
      "text/plain": [
       "1.1955788456170475"
      ]
     },
     "execution_count": 43,
     "metadata": {},
     "output_type": "execute_result"
    }
   ],
   "source": [
    "import numpy as np\n",
    "# Fetch the explained variance sum\n",
    "pca.explained_variance_.mean()"
   ]
  },
  {
   "cell_type": "code",
   "execution_count": 44,
   "metadata": {},
   "outputs": [
    {
     "data": {
      "text/html": [
       "<div>\n",
       "<style scoped>\n",
       "    .dataframe tbody tr th:only-of-type {\n",
       "        vertical-align: middle;\n",
       "    }\n",
       "\n",
       "    .dataframe tbody tr th {\n",
       "        vertical-align: top;\n",
       "    }\n",
       "\n",
       "    .dataframe thead th {\n",
       "        text-align: right;\n",
       "    }\n",
       "</style>\n",
       "<table border=\"1\" class=\"dataframe\">\n",
       "  <thead>\n",
       "    <tr style=\"text-align: right;\">\n",
       "      <th></th>\n",
       "      <th>principal component 1</th>\n",
       "      <th>principal component 2</th>\n",
       "      <th>principal component 3</th>\n",
       "      <th>principal component 4</th>\n",
       "      <th>principal component 5</th>\n",
       "      <th>principal component 6</th>\n",
       "      <th>principal component 7</th>\n",
       "      <th>principal component 8</th>\n",
       "      <th>principal component 9</th>\n",
       "      <th>principal component 10</th>\n",
       "      <th>...</th>\n",
       "      <th>principal component 65</th>\n",
       "      <th>principal component 66</th>\n",
       "      <th>principal component 67</th>\n",
       "      <th>principal component 68</th>\n",
       "      <th>principal component 69</th>\n",
       "      <th>principal component 70</th>\n",
       "      <th>principal component 71</th>\n",
       "      <th>principal component 72</th>\n",
       "      <th>principal component 73</th>\n",
       "      <th>principal component 74</th>\n",
       "    </tr>\n",
       "  </thead>\n",
       "  <tbody>\n",
       "    <tr>\n",
       "      <th>0</th>\n",
       "      <td>-0.335099</td>\n",
       "      <td>1.032189</td>\n",
       "      <td>-0.590713</td>\n",
       "      <td>0.001397</td>\n",
       "      <td>5.883773e-12</td>\n",
       "      <td>-1.528209e-14</td>\n",
       "      <td>-2.052997e-14</td>\n",
       "      <td>-0.007129</td>\n",
       "      <td>-1.319756</td>\n",
       "      <td>-0.051813</td>\n",
       "      <td>...</td>\n",
       "      <td>3.663974e-16</td>\n",
       "      <td>1.279457e-16</td>\n",
       "      <td>1.116407e-15</td>\n",
       "      <td>2.220395e-15</td>\n",
       "      <td>-7.270163e-15</td>\n",
       "      <td>2.678370e-15</td>\n",
       "      <td>-1.960593e-15</td>\n",
       "      <td>-4.701384e-15</td>\n",
       "      <td>-3.506917e-15</td>\n",
       "      <td>-1.743320e-15</td>\n",
       "    </tr>\n",
       "    <tr>\n",
       "      <th>1</th>\n",
       "      <td>-0.318434</td>\n",
       "      <td>1.032331</td>\n",
       "      <td>-0.591126</td>\n",
       "      <td>0.001386</td>\n",
       "      <td>5.835747e-12</td>\n",
       "      <td>-1.492024e-14</td>\n",
       "      <td>-2.070827e-14</td>\n",
       "      <td>-0.007739</td>\n",
       "      <td>-1.322514</td>\n",
       "      <td>-0.056674</td>\n",
       "      <td>...</td>\n",
       "      <td>2.857025e-16</td>\n",
       "      <td>1.814937e-16</td>\n",
       "      <td>1.616619e-15</td>\n",
       "      <td>2.153290e-15</td>\n",
       "      <td>-7.048775e-15</td>\n",
       "      <td>3.068350e-15</td>\n",
       "      <td>-2.424754e-15</td>\n",
       "      <td>-5.232293e-15</td>\n",
       "      <td>-3.579541e-15</td>\n",
       "      <td>-1.131029e-15</td>\n",
       "    </tr>\n",
       "    <tr>\n",
       "      <th>2</th>\n",
       "      <td>2.305468</td>\n",
       "      <td>1.656383</td>\n",
       "      <td>-0.683617</td>\n",
       "      <td>0.004731</td>\n",
       "      <td>1.992513e-11</td>\n",
       "      <td>-2.261520e-14</td>\n",
       "      <td>-3.514674e-14</td>\n",
       "      <td>-0.054781</td>\n",
       "      <td>-1.542879</td>\n",
       "      <td>-0.943951</td>\n",
       "      <td>...</td>\n",
       "      <td>3.631014e-14</td>\n",
       "      <td>2.552104e-14</td>\n",
       "      <td>-1.030627e-13</td>\n",
       "      <td>-6.121448e-14</td>\n",
       "      <td>1.096315e-13</td>\n",
       "      <td>-4.016573e-14</td>\n",
       "      <td>2.284557e-14</td>\n",
       "      <td>3.850220e-14</td>\n",
       "      <td>5.259758e-14</td>\n",
       "      <td>7.121520e-14</td>\n",
       "    </tr>\n",
       "    <tr>\n",
       "      <th>3</th>\n",
       "      <td>-0.145184</td>\n",
       "      <td>-1.320593</td>\n",
       "      <td>0.192813</td>\n",
       "      <td>-0.001229</td>\n",
       "      <td>-5.171696e-12</td>\n",
       "      <td>5.914112e-15</td>\n",
       "      <td>9.169421e-15</td>\n",
       "      <td>-0.002071</td>\n",
       "      <td>0.281463</td>\n",
       "      <td>0.251862</td>\n",
       "      <td>...</td>\n",
       "      <td>3.408003e-15</td>\n",
       "      <td>1.980245e-15</td>\n",
       "      <td>-3.087469e-14</td>\n",
       "      <td>-6.056649e-15</td>\n",
       "      <td>1.965085e-14</td>\n",
       "      <td>-4.981920e-15</td>\n",
       "      <td>1.228947e-14</td>\n",
       "      <td>8.757601e-15</td>\n",
       "      <td>3.037998e-15</td>\n",
       "      <td>8.974373e-15</td>\n",
       "    </tr>\n",
       "    <tr>\n",
       "      <th>4</th>\n",
       "      <td>-0.151768</td>\n",
       "      <td>-2.036192</td>\n",
       "      <td>0.396182</td>\n",
       "      <td>-0.001705</td>\n",
       "      <td>-7.183238e-12</td>\n",
       "      <td>1.256574e-14</td>\n",
       "      <td>2.101612e-14</td>\n",
       "      <td>0.027735</td>\n",
       "      <td>0.519099</td>\n",
       "      <td>0.188820</td>\n",
       "      <td>...</td>\n",
       "      <td>-1.488727e-13</td>\n",
       "      <td>-6.889317e-14</td>\n",
       "      <td>-9.772559e-14</td>\n",
       "      <td>5.013589e-14</td>\n",
       "      <td>6.823743e-14</td>\n",
       "      <td>-6.419272e-14</td>\n",
       "      <td>3.059337e-13</td>\n",
       "      <td>-7.121052e-14</td>\n",
       "      <td>-4.539463e-14</td>\n",
       "      <td>-1.514386e-13</td>\n",
       "    </tr>\n",
       "  </tbody>\n",
       "</table>\n",
       "<p>5 rows × 74 columns</p>\n",
       "</div>"
      ],
      "text/plain": [
       "   principal component 1  principal component 2  principal component 3  \\\n",
       "0              -0.335099               1.032189              -0.590713   \n",
       "1              -0.318434               1.032331              -0.591126   \n",
       "2               2.305468               1.656383              -0.683617   \n",
       "3              -0.145184              -1.320593               0.192813   \n",
       "4              -0.151768              -2.036192               0.396182   \n",
       "\n",
       "   principal component 4  principal component 5  principal component 6  \\\n",
       "0               0.001397           5.883773e-12          -1.528209e-14   \n",
       "1               0.001386           5.835747e-12          -1.492024e-14   \n",
       "2               0.004731           1.992513e-11          -2.261520e-14   \n",
       "3              -0.001229          -5.171696e-12           5.914112e-15   \n",
       "4              -0.001705          -7.183238e-12           1.256574e-14   \n",
       "\n",
       "   principal component 7  principal component 8  principal component 9  \\\n",
       "0          -2.052997e-14              -0.007129              -1.319756   \n",
       "1          -2.070827e-14              -0.007739              -1.322514   \n",
       "2          -3.514674e-14              -0.054781              -1.542879   \n",
       "3           9.169421e-15              -0.002071               0.281463   \n",
       "4           2.101612e-14               0.027735               0.519099   \n",
       "\n",
       "   principal component 10  ...  principal component 65  \\\n",
       "0               -0.051813  ...            3.663974e-16   \n",
       "1               -0.056674  ...            2.857025e-16   \n",
       "2               -0.943951  ...            3.631014e-14   \n",
       "3                0.251862  ...            3.408003e-15   \n",
       "4                0.188820  ...           -1.488727e-13   \n",
       "\n",
       "   principal component 66  principal component 67  principal component 68  \\\n",
       "0            1.279457e-16            1.116407e-15            2.220395e-15   \n",
       "1            1.814937e-16            1.616619e-15            2.153290e-15   \n",
       "2            2.552104e-14           -1.030627e-13           -6.121448e-14   \n",
       "3            1.980245e-15           -3.087469e-14           -6.056649e-15   \n",
       "4           -6.889317e-14           -9.772559e-14            5.013589e-14   \n",
       "\n",
       "   principal component 69  principal component 70  principal component 71  \\\n",
       "0           -7.270163e-15            2.678370e-15           -1.960593e-15   \n",
       "1           -7.048775e-15            3.068350e-15           -2.424754e-15   \n",
       "2            1.096315e-13           -4.016573e-14            2.284557e-14   \n",
       "3            1.965085e-14           -4.981920e-15            1.228947e-14   \n",
       "4            6.823743e-14           -6.419272e-14            3.059337e-13   \n",
       "\n",
       "   principal component 72  principal component 73  principal component 74  \n",
       "0           -4.701384e-15           -3.506917e-15           -1.743320e-15  \n",
       "1           -5.232293e-15           -3.579541e-15           -1.131029e-15  \n",
       "2            3.850220e-14            5.259758e-14            7.121520e-14  \n",
       "3            8.757601e-15            3.037998e-15            8.974373e-15  \n",
       "4           -7.121052e-14           -4.539463e-14           -1.514386e-13  \n",
       "\n",
       "[5 rows x 74 columns]"
      ]
     },
     "execution_count": 44,
     "metadata": {},
     "output_type": "execute_result"
    }
   ],
   "source": [
    "# for loop since outcome_pca.shape is 532 rows and 74 columns under of n_components = .9\n",
    "col = []\n",
    "\n",
    "for x in range(1,75):\n",
    "    string = f\"principal component {x}\"\n",
    "    col.append(string)\n",
    "\n",
    "# Transform PCA data to a DataFrame\n",
    "df_outcome_pca = pd.DataFrame(\n",
    "    data=outcome_pca, columns=col\n",
    ")\n",
    "df_outcome_pca.head()"
   ]
  },
  {
   "cell_type": "markdown",
   "metadata": {},
   "source": [
    "## t-SNE"
   ]
  },
  {
   "cell_type": "markdown",
   "metadata": {},
   "source": [
    "### t-SNE with perplexity equals to 30 and PCA(n_components=0.9)"
   ]
  },
  {
   "cell_type": "code",
   "execution_count": 45,
   "metadata": {},
   "outputs": [
    {
     "data": {
      "text/plain": [
       "(532, 2)"
      ]
     },
     "execution_count": 45,
     "metadata": {},
     "output_type": "execute_result"
    }
   ],
   "source": [
    "from sklearn.manifold import TSNE\n",
    "# Reduce dimensions with t-SNE\n",
    "tsne = TSNE(perplexity=30)\n",
    "tsne_features = tsne.fit_transform(outcome_pca)\n",
    "tsne_features.shape"
   ]
  },
  {
   "cell_type": "code",
   "execution_count": 46,
   "metadata": {},
   "outputs": [
    {
     "data": {
      "text/plain": [
       "array([[ -0.14999303,  15.629996  ],\n",
       "       [  2.3917181 ,  22.681631  ],\n",
       "       [  3.9161766 ,  29.768545  ],\n",
       "       ...,\n",
       "       [ 23.40059   ,  -7.4906187 ],\n",
       "       [ 10.8274765 , -18.561335  ],\n",
       "       [ -6.562221  ,  -9.425099  ]], dtype=float32)"
      ]
     },
     "execution_count": 46,
     "metadata": {},
     "output_type": "execute_result"
    }
   ],
   "source": [
    "tsne_features"
   ]
  },
  {
   "cell_type": "code",
   "execution_count": 47,
   "metadata": {},
   "outputs": [
    {
     "data": {
      "text/html": [
       "<div>\n",
       "<style scoped>\n",
       "    .dataframe tbody tr th:only-of-type {\n",
       "        vertical-align: middle;\n",
       "    }\n",
       "\n",
       "    .dataframe tbody tr th {\n",
       "        vertical-align: top;\n",
       "    }\n",
       "\n",
       "    .dataframe thead th {\n",
       "        text-align: right;\n",
       "    }\n",
       "</style>\n",
       "<table border=\"1\" class=\"dataframe\">\n",
       "  <thead>\n",
       "    <tr style=\"text-align: right;\">\n",
       "      <th></th>\n",
       "      <th>x</th>\n",
       "      <th>y</th>\n",
       "    </tr>\n",
       "  </thead>\n",
       "  <tbody>\n",
       "    <tr>\n",
       "      <th>0</th>\n",
       "      <td>-0.149993</td>\n",
       "      <td>15.629996</td>\n",
       "    </tr>\n",
       "    <tr>\n",
       "      <th>1</th>\n",
       "      <td>2.391718</td>\n",
       "      <td>22.681631</td>\n",
       "    </tr>\n",
       "    <tr>\n",
       "      <th>2</th>\n",
       "      <td>3.916177</td>\n",
       "      <td>29.768545</td>\n",
       "    </tr>\n",
       "    <tr>\n",
       "      <th>3</th>\n",
       "      <td>-32.872009</td>\n",
       "      <td>-12.894721</td>\n",
       "    </tr>\n",
       "    <tr>\n",
       "      <th>4</th>\n",
       "      <td>15.781195</td>\n",
       "      <td>-13.304173</td>\n",
       "    </tr>\n",
       "  </tbody>\n",
       "</table>\n",
       "</div>"
      ],
      "text/plain": [
       "           x          y\n",
       "0  -0.149993  15.629996\n",
       "1   2.391718  22.681631\n",
       "2   3.916177  29.768545\n",
       "3 -32.872009 -12.894721\n",
       "4  15.781195 -13.304173"
      ]
     },
     "execution_count": 47,
     "metadata": {},
     "output_type": "execute_result"
    }
   ],
   "source": [
    "# Transform PCA data to a DataFrame\n",
    "df_tsne_features = pd.DataFrame(\n",
    "    data=tsne_features, columns=['x','y']\n",
    ")\n",
    "df_tsne_features.head()"
   ]
  },
  {
   "cell_type": "code",
   "execution_count": 48,
   "metadata": {},
   "outputs": [
    {
     "data": {
      "application/vnd.plotly.v1+json": {
       "config": {
        "plotlyServerURL": "https://plot.ly"
       },
       "data": [
        {
         "hovertemplate": "x=%{x}<br>y=%{y}<extra></extra>",
         "legendgroup": "",
         "marker": {
          "color": "#636efa",
          "symbol": "circle"
         },
         "mode": "markers",
         "name": "",
         "orientation": "v",
         "showlegend": false,
         "type": "scatter",
         "x": [
          -0.14999303221702576,
          2.3917181491851807,
          3.9161765575408936,
          -32.87200927734375,
          15.781194686889648,
          7.204436779022217,
          -12.115715026855469,
          15.671415328979492,
          15.781192779541016,
          10.827476501464844,
          -1.6049152612686157,
          4.675246238708496,
          -30.445430755615234,
          -29.752986907958984,
          7.335327625274658,
          -4.082165241241455,
          -3.6841847896575928,
          6.658067226409912,
          1.6952357292175293,
          3.715571165084839,
          4.67371129989624,
          9.030294418334961,
          -33.50128173828125,
          8.74974250793457,
          6.486983776092529,
          4.542628765106201,
          -11.099483489990234,
          8.271443367004395,
          6.860419273376465,
          -0.21711505949497223,
          6.880235195159912,
          0.24516120553016663,
          7.06643009185791,
          -3.918349504470825,
          8.341711044311523,
          8.235902786254883,
          4.675208568572998,
          -32.338253021240234,
          11.060153007507324,
          6.519198417663574,
          9.400008201599121,
          6.939958095550537,
          -11.841940879821777,
          2.088318109512329,
          7.6313157081604,
          14.907974243164062,
          10.729070663452148,
          7.211462020874023,
          6.863923072814941,
          4.553211212158203,
          -8.697546005249023,
          9.141751289367676,
          -12.781538963317871,
          -33.453914642333984,
          8.98033332824707,
          6.526111602783203,
          7.212050914764404,
          3.7079734802246094,
          6.902070045471191,
          3.3063132762908936,
          -5.601546287536621,
          6.557054042816162,
          -30.1406192779541,
          -6.546533107757568,
          3.2739949226379395,
          11.394944190979004,
          -32.57010269165039,
          9.663965225219727,
          3.642324209213257,
          14.896025657653809,
          4.201969146728516,
          4.36698055267334,
          5.8331122398376465,
          6.607620716094971,
          7.569465637207031,
          6.862032890319824,
          -8.697747230529785,
          -13.07194995880127,
          -32.762901306152344,
          4.377498626708984,
          -33.73793029785156,
          -3.8108744621276855,
          -12.312644004821777,
          -33.62370300292969,
          -33.1207389831543,
          -32.56987762451172,
          -3.7509400844573975,
          1.9729564189910889,
          4.063236236572266,
          7.0119404792785645,
          3.364271640777588,
          3.409446954727173,
          8.748708724975586,
          -13.561375617980957,
          4.377492904663086,
          -33.6008186340332,
          3.2737667560577393,
          3.5888378620147705,
          22.11317253112793,
          23.33513641357422,
          8.32581615447998,
          -5.206812858581543,
          7.154913425445557,
          -30.37700080871582,
          8.2360200881958,
          10.693641662597656,
          -6.603029251098633,
          8.348214149475098,
          3.2736082077026367,
          7.486734867095947,
          -6.200847625732422,
          8.468820571899414,
          -0.3666808307170868,
          3.2736575603485107,
          10.682887077331543,
          7.545082092285156,
          -8.697673797607422,
          4.673645973205566,
          7.3584370613098145,
          6.49867582321167,
          1.0430375337600708,
          11.410941123962402,
          5.063840866088867,
          7.0470733642578125,
          -33.24271011352539,
          9.848681449890137,
          -13.144357681274414,
          3.7798941135406494,
          -3.628566026687622,
          10.141128540039062,
          -32.87025451660156,
          0.6655856966972351,
          -3.512148380279541,
          -7.172590732574463,
          7.350379467010498,
          8.188966751098633,
          -6.567122936248779,
          15.781249046325684,
          3.273921251296997,
          10.765887260437012,
          -30.271987915039062,
          -4.082165241241455,
          -3.5384747982025146,
          -33.205955505371094,
          2.3955862522125244,
          9.134125709533691,
          9.248787879943848,
          -30.273193359375,
          -13.571346282958984,
          7.117543697357178,
          -30.842159271240234,
          -32.3275032043457,
          10.804961204528809,
          1.6902116537094116,
          -5.889196872711182,
          -4.350868225097656,
          13.13686466217041,
          6.58905029296875,
          4.472268104553223,
          -12.145209312438965,
          -5.012659072875977,
          -30.877262115478516,
          8.340807914733887,
          -12.572108268737793,
          6.490668773651123,
          -3.7516305446624756,
          -13.086018562316895,
          -30.451675415039062,
          -30.599321365356445,
          10.805787086486816,
          -12.415291786193848,
          6.669400215148926,
          -7.270431041717529,
          1.980338454246521,
          1.4131951332092285,
          4.585643768310547,
          3.0752112865448,
          -4.421863555908203,
          -8.697504043579102,
          11.44768238067627,
          -12.088196754455566,
          3.8398592472076416,
          23.730878829956055,
          -30.769908905029297,
          -33.3258171081543,
          -12.70171070098877,
          0.9046944975852966,
          4.673699855804443,
          -0.368216335773468,
          8.331220626831055,
          -6.384296417236328,
          -32.85367202758789,
          5.024082660675049,
          7.117921352386475,
          -1.6514812707901,
          -11.880575180053711,
          2.091853141784668,
          -12.769583702087402,
          14.146769523620605,
          -12.311640739440918,
          3.0751726627349854,
          -0.355356365442276,
          -12.071637153625488,
          -1.651016116142273,
          15.781193733215332,
          10.827476501464844,
          -0.6519874930381775,
          -13.628053665161133,
          11.465888977050781,
          -4.230538845062256,
          3.7237892150878906,
          -13.378145217895508,
          -12.04631519317627,
          2.1016294956207275,
          1.0980075597763062,
          -4.950130462646484,
          -12.219273567199707,
          -12.053537368774414,
          -30.652217864990234,
          2.1670925617218018,
          -7.724863529205322,
          1.3822401762008667,
          4.377676010131836,
          -12.648082733154297,
          23.934799194335938,
          3.6588375568389893,
          -5.38116455078125,
          0.5835678577423096,
          -0.18276822566986084,
          -11.22217845916748,
          7.34633207321167,
          7.541991233825684,
          23.752748489379883,
          10.14078140258789,
          4.508037090301514,
          -30.759632110595703,
          -13.594983100891113,
          1.3589485883712769,
          -4.308835983276367,
          0.29802262783050537,
          15.671418190002441,
          -6.007641792297363,
          5.055517673492432,
          6.835696220397949,
          3.0751774311065674,
          -4.8799262046813965,
          10.827475547790527,
          2.203045129776001,
          7.521279335021973,
          10.141473770141602,
          -6.578081130981445,
          4.5691962242126465,
          -12.0742769241333,
          -0.9808967709541321,
          -13.039275169372559,
          10.853652000427246,
          -12.403360366821289,
          -12.752753257751465,
          11.229965209960938,
          -12.217761993408203,
          -12.18801212310791,
          0.8769519329071045,
          0.5792049765586853,
          3.9119873046875,
          -29.751874923706055,
          -13.602270126342773,
          6.634064674377441,
          -5.824524402618408,
          -33.06925582885742,
          -11.867816925048828,
          3.544890880584717,
          -4.081948280334473,
          -29.753000259399414,
          6.504843235015869,
          -7.270552158355713,
          15.671415328979492,
          1.8295693397521973,
          9.748043060302734,
          10.764741897583008,
          11.701079368591309,
          23.49574089050293,
          10.805822372436523,
          -4.655590534210205,
          10.805791854858398,
          -2.683471441268921,
          7.144107818603516,
          3.642360210418701,
          6.4806718826293945,
          -4.218377590179443,
          -3.510596513748169,
          5.9209513664245605,
          23.761430740356445,
          3.6423513889312744,
          4.208178997039795,
          9.0241060256958,
          4.732779026031494,
          -7.291783809661865,
          -4.7852864265441895,
          -2.6841070652008057,
          -33.33050537109375,
          -12.339835166931152,
          -6.262845039367676,
          -56.75971603393555,
          11.466485977172852,
          -12.288642883300781,
          9.146764755249023,
          6.510436058044434,
          6.618513107299805,
          6.735666275024414,
          6.762514114379883,
          2.43768572807312,
          0.632709801197052,
          23.92951774597168,
          -1.6045843362808228,
          -6.294034957885742,
          -13.6277437210083,
          10.834859848022461,
          14.896024703979492,
          -4.3066511154174805,
          0.3315204977989197,
          14.907999992370605,
          3.401125192642212,
          10.827476501464844,
          6.234244346618652,
          -30.22650146484375,
          10.805773735046387,
          -3.796262502670288,
          13.136731147766113,
          0.41862252354621887,
          -10.58749771118164,
          7.525191307067871,
          -7.585027694702148,
          1.5225681066513062,
          -29.75211524963379,
          -4.613559246063232,
          14.907999992370605,
          15.781190872192383,
          14.907999992370605,
          -12.525157928466797,
          -0.6519137620925903,
          10.798446655273438,
          3.6427900791168213,
          4.67365026473999,
          4.595392227172852,
          23.031660079956055,
          23.951444625854492,
          15.781225204467773,
          11.176790237426758,
          -11.221850395202637,
          -4.871919631958008,
          15.671411514282227,
          5.891857147216797,
          3.7105560302734375,
          11.462657928466797,
          -13.090752601623535,
          2.407299757003784,
          -4.099856376647949,
          14.907999992370605,
          -11.222183227539062,
          14.907976150512695,
          6.879090309143066,
          2.7350540161132812,
          -0.20406943559646606,
          -8.697672843933105,
          -3.7885515689849854,
          -32.60483932495117,
          1.2050508260726929,
          -7.2706475257873535,
          15.884697914123535,
          3.4721906185150146,
          21.324020385742188,
          2.8906266689300537,
          4.41994047164917,
          23.447710037231445,
          11.213837623596191,
          13.136712074279785,
          3.409203290939331,
          3.0753629207611084,
          6.083200454711914,
          10.96866226196289,
          6.529606819152832,
          10.957807540893555,
          -4.948469161987305,
          1.19554603099823,
          8.92111873626709,
          -13.033968925476074,
          -2.7489876747131348,
          -6.106882095336914,
          -8.22141170501709,
          15.781270027160645,
          23.432952880859375,
          7.402867794036865,
          3.498474597930908,
          10.805792808532715,
          0.3665149211883545,
          0.085849329829216,
          10.827555656433105,
          -5.858360767364502,
          14.14675235748291,
          -8.064379692077637,
          -12.490649223327637,
          1.1968467235565186,
          -27.223411560058594,
          -4.829873561859131,
          -10.587498664855957,
          -12.569889068603516,
          23.925113677978516,
          -0.41794353723526,
          1.4019811153411865,
          11.229963302612305,
          10.141053199768066,
          -7.158410549163818,
          4.307031154632568,
          -6.4554123878479,
          14.146760940551758,
          23.59417152404785,
          14.079689025878906,
          22.677934646606445,
          1.0613799095153809,
          -6.197007656097412,
          4.9335618019104,
          -1.6516298055648804,
          23.5522403717041,
          3.2371151447296143,
          -4.101435661315918,
          8.818657875061035,
          -11.222098350524902,
          -29.752994537353516,
          -1.009423851966858,
          -0.38808736205101013,
          2.6962051391601562,
          -4.32169246673584,
          -0.44018328189849854,
          -11.22217845916748,
          -10.587494850158691,
          -5.803637504577637,
          3.3869571685791016,
          -11.222172737121582,
          7.487451553344727,
          3.902567148208618,
          15.671415328979492,
          6.295539855957031,
          -2.7549660205841064,
          14.077898025512695,
          -8.697739601135254,
          -13.481864929199219,
          -6.080042839050293,
          -12.543996810913086,
          -32.6896858215332,
          4.718993663787842,
          -8.697731018066406,
          -4.125106334686279,
          1.0650192499160767,
          -1.5198159217834473,
          -0.38808783888816833,
          9.745767593383789,
          10.829992294311523,
          -2.767587423324585,
          14.146761894226074,
          -33.748497009277344,
          -2.5336556434631348,
          -8.695652961730957,
          23.32513999938965,
          -10.58749771118164,
          2.274259090423584,
          2.274258852005005,
          10.39456844329834,
          4.464903831481934,
          6.863062381744385,
          1.5943050384521484,
          10.827587127685547,
          -10.587496757507324,
          10.82747745513916,
          -11.22184944152832,
          6.268218994140625,
          7.357944965362549,
          -8.697674751281738,
          3.204227924346924,
          -2.7491040229797363,
          -1.6504193544387817,
          -12.130123138427734,
          -32.90755081176758,
          3.7704200744628906,
          -33.73389434814453,
          -12.96182632446289,
          -0.6517037153244019,
          5.897958278656006,
          9.831369400024414,
          -12.882458686828613,
          14.908049583435059,
          3.97634220123291,
          2.2743606567382812,
          2.616018295288086,
          -29.752988815307617,
          0.8022409081459045,
          -12.338083267211914,
          10.680935859680176,
          1.1897201538085938,
          -30.049610137939453,
          -12.689289093017578,
          -33.70087814331055,
          3.2337145805358887,
          9.836668968200684,
          3.768519163131714,
          8.271194458007812,
          -12.498575210571289,
          4.612462043762207,
          -11.815231323242188,
          7.622686386108398,
          7.6933159828186035,
          -8.790024757385254,
          -30.87979507446289,
          -0.6519820690155029,
          -5.705841541290283,
          4.301715850830078,
          14.896025657653809,
          4.673646450042725,
          3.2735369205474854,
          11.2649564743042,
          -0.6517843008041382,
          15.781249046325684,
          -0.6517603397369385,
          -29.753005981445312,
          7.5160017013549805,
          -11.893943786621094,
          20.719696044921875,
          -13.352871894836426,
          -27.645692825317383,
          4.368287563323975,
          23.400590896606445,
          10.827476501464844,
          -6.562221050262451
         ],
         "xaxis": "x",
         "y": [
          15.629996299743652,
          22.681631088256836,
          29.768545150756836,
          -12.894721031188965,
          -13.30417251586914,
          -7.745451927185059,
          4.023519515991211,
          -3.480816602706909,
          -13.304167747497559,
          -18.56133460998535,
          -8.240188598632812,
          -15.550786018371582,
          -15.473620414733887,
          -11.866010665893555,
          -3.9514899253845215,
          14.715740203857422,
          1.1948868036270142,
          -5.582428932189941,
          16.695858001708984,
          22.238182067871094,
          -15.551281929016113,
          -5.891844749450684,
          -12.773391723632812,
          -9.367091178894043,
          -6.443943500518799,
          19.05652618408203,
          19.50413703918457,
          10.970375061035156,
          -6.135804176330566,
          15.72488784790039,
          -3.927455186843872,
          15.486344337463379,
          -3.5090246200561523,
          0.17857839167118073,
          1.4636613130569458,
          11.054012298583984,
          -15.550806999206543,
          -12.459768295288086,
          -5.103635787963867,
          -4.615655899047852,
          -9.204575538635254,
          -4.970851898193359,
          -13.093978881835938,
          -7.915688991546631,
          -3.4046268463134766,
          5.5596699714660645,
          -7.9098734855651855,
          -7.589133262634277,
          -6.998883247375488,
          19.718425750732422,
          -3.845606803894043,
          -5.7972517013549805,
          4.252945899963379,
          -11.769420623779297,
          -9.343183517456055,
          -4.489845275878906,
          -2.8700942993164062,
          14.851381301879883,
          -6.178333759307861,
          -3.0894508361816406,
          -9.700568199157715,
          -3.3842227458953857,
          -15.136333465576172,
          -9.396108627319336,
          30.35504150390625,
          -5.722235679626465,
          -11.986930847167969,
          -9.04109001159668,
          30.500064849853516,
          6.024930953979492,
          21.877361297607422,
          19.315563201904297,
          16.617685317993164,
          -3.525524377822876,
          -8.964611053466797,
          -5.841392517089844,
          -3.845278024673462,
          3.59672212600708,
          -12.767984390258789,
          -15.672964096069336,
          -12.499835968017578,
          17.88136100769043,
          3.795966148376465,
          -11.910907745361328,
          -12.303069114685059,
          -11.971977233886719,
          0.2621697187423706,
          22.528295516967773,
          18.979896545410156,
          -4.871405124664307,
          -10.07226848602295,
          2.8233304023742676,
          -9.354528427124023,
          4.041632175445557,
          -15.672966957092285,
          -12.769118309020996,
          30.35514259338379,
          22.47828483581543,
          -6.96940279006958,
          -6.963106155395508,
          1.4690512418746948,
          -7.8307647705078125,
          -8.199604988098145,
          -14.782844543457031,
          11.054024696350098,
          -7.97187614440918,
          -9.499893188476562,
          -9.286252975463867,
          30.355220794677734,
          -2.948525905609131,
          -10.155109405517578,
          -9.340460777282715,
          16.106548309326172,
          30.355209350585938,
          -7.990309238433838,
          -11.326689720153809,
          -3.845270872116089,
          -15.551234245300293,
          5.055962085723877,
          -3.3977460861206055,
          16.96376609802246,
          -5.80813455581665,
          -1.4412555694580078,
          -2.7987208366394043,
          -13.00695514678955,
          -5.110068321228027,
          3.6094164848327637,
          14.700027465820312,
          0.43104684352874756,
          -12.796538352966309,
          -12.893413543701172,
          19.48929214477539,
          0.8301753401756287,
          5.621818542480469,
          -8.74871826171875,
          -9.266427040100098,
          -9.826258659362793,
          -13.304171562194824,
          30.355087280273438,
          0.15141622722148895,
          -14.844474792480469,
          14.71572208404541,
          0.5618913173675537,
          -11.630289077758789,
          10.620227813720703,
          -9.317024230957031,
          -7.348937511444092,
          -15.389869689941406,
          6.874562740325928,
          -7.968892574310303,
          -15.31069278717041,
          -12.541281700134277,
          20.267837524414062,
          17.466890335083008,
          -10.053750991821289,
          0.7142986059188843,
          -1.0529327392578125,
          -7.677968502044678,
          -2.545717239379883,
          5.286948204040527,
          -9.456023216247559,
          -15.126046180725098,
          1.466102957725525,
          -12.943843841552734,
          -3.832155704498291,
          1.2948559522628784,
          5.289152145385742,
          -14.76529312133789,
          -15.474943161010742,
          20.267751693725586,
          4.762601375579834,
          -2.7978756427764893,
          -14.104806900024414,
          22.531719207763672,
          17.496715545654297,
          19.68535041809082,
          31.3500919342041,
          0.17954134941101074,
          -3.8455536365509033,
          -19.481481552124023,
          4.390236854553223,
          18.74738311767578,
          -6.821267604827881,
          -15.393501281738281,
          -11.640613555908203,
          3.6333093643188477,
          16.190628051757812,
          -15.551271438598633,
          16.232200622558594,
          -9.289015769958496,
          -10.068297386169434,
          -11.6572265625,
          -9.645146369934082,
          -4.460535049438477,
          23.609609603881836,
          -12.723697662353516,
          16.801546096801758,
          6.9045820236206055,
          -9.07719898223877,
          -12.579500198364258,
          31.350126266479492,
          20.063438415527344,
          -12.571179389953613,
          23.6094970703125,
          -13.304171562194824,
          -18.56133460998535,
          -13.25152587890625,
          4.652725696563721,
          -6.362504005432129,
          1.3987088203430176,
          30.115766525268555,
          3.78957462310791,
          -13.337615013122559,
          17.471202850341797,
          17.42029571533203,
          0.8721839785575867,
          -13.335373878479004,
          4.364158630371094,
          -14.787980079650879,
          17.346323013305664,
          1.059956669807434,
          17.088193893432617,
          21.640066146850586,
          3.6594748497009277,
          -7.011811256408691,
          18.87554931640625,
          -9.431127548217773,
          16.16547966003418,
          16.569683074951172,
          18.901901245117188,
          5.135090351104736,
          -3.0205132961273193,
          -7.529516696929932,
          -12.796558380126953,
          21.24946403503418,
          -14.869297981262207,
          4.090423107147217,
          16.53566551208496,
          1.9643590450286865,
          16.837074279785156,
          -3.48075532913208,
          -10.130833625793457,
          -11.10661792755127,
          -3.010619640350342,
          31.350120544433594,
          0.49925482273101807,
          -18.56133460998535,
          22.63723373413086,
          -8.57717227935791,
          -12.796514511108398,
          -9.780117988586426,
          -7.326895713806152,
          4.610597133636475,
          18.834997177124023,
          5.267116546630859,
          -7.62507438659668,
          -13.259113311767578,
          4.706741809844971,
          20.172943115234375,
          -13.338711738586426,
          5.880829811096191,
          16.539031982421875,
          17.05144500732422,
          22.336774826049805,
          -11.849525451660156,
          4.7479400634765625,
          -5.111351490020752,
          -9.97650146484375,
          -12.317994117736816,
          -13.213909149169922,
          18.57993507385254,
          14.715919494628906,
          -11.865994453430176,
          -5.912976264953613,
          -14.104837417602539,
          -3.4807863235473633,
          19.85429573059082,
          -3.3696539402008057,
          0.1555175483226776,
          -3.618760108947754,
          -6.823945999145508,
          20.267738342285156,
          0.254251629114151,
          20.267751693725586,
          20.43600845336914,
          -4.481245994567871,
          30.5,
          -5.585002899169922,
          0.9225600957870483,
          0.9281911253929138,
          16.477622985839844,
          -7.518820762634277,
          30.500015258789062,
          -5.094857215881348,
          -5.907011985778809,
          8.358240127563477,
          -7.651813983917236,
          1.2605067491531372,
          20.43596076965332,
          -13.003199577331543,
          3.8738608360290527,
          -9.218326568603516,
          74.72109985351562,
          -6.353077411651611,
          -12.570703506469727,
          -5.79735803604126,
          -4.000844478607178,
          -6.427130699157715,
          -7.288473129272461,
          -7.320616722106934,
          17.74367332458496,
          15.70408821105957,
          -7.006093978881836,
          -8.240095138549805,
          -7.470489501953125,
          4.380858898162842,
          -18.5538330078125,
          6.024911403656006,
          1.4095635414123535,
          16.426353454589844,
          5.559688568115234,
          2.8268697261810303,
          -18.56133460998535,
          15.938652038574219,
          -15.341472625732422,
          20.267744064331055,
          17.889204025268555,
          -1.0529507398605347,
          16.813892364501953,
          19.369903564453125,
          -8.577200889587402,
          -10.877781867980957,
          16.466489791870117,
          -11.864322662353516,
          1.32672917842865,
          5.559686660766602,
          -13.304166793823242,
          5.559688091278076,
          4.881853103637695,
          -13.251535415649414,
          20.268936157226562,
          30.49924087524414,
          -15.551223754882812,
          20.488204956054688,
          -7.072629928588867,
          -7.257778644561768,
          -13.303976058959961,
          20.193883895874023,
          18.901636123657227,
          0.4941210150718689,
          -3.4807851314544678,
          16.52454376220703,
          18.94257926940918,
          -6.292379379272461,
          4.733197212219238,
          10.546908378601074,
          0.13694661855697632,
          5.559689521789551,
          18.90191078186035,
          5.559670925140381,
          -6.960200786590576,
          22.656225204467773,
          16.546131134033203,
          -3.845271348953247,
          1.3212306499481201,
          -11.886331558227539,
          6.89789342880249,
          -14.104830741882324,
          -13.542926788330078,
          -8.600181579589844,
          -6.811159610748291,
          -4.455554008483887,
          21.466257095336914,
          -7.524929523468018,
          -5.298614978790283,
          -1.0529453754425049,
          2.823420524597168,
          31.349790573120117,
          -0.4023718237876892,
          -2.522963285446167,
          -4.8233842849731445,
          -5.042445659637451,
          0.8475384712219238,
          6.9626054763793945,
          -1.176134467124939,
          4.178838729858398,
          9.796298027038574,
          -9.221470832824707,
          -9.428268432617188,
          -13.30400562286377,
          -7.515292644500732,
          -3.871964931488037,
          -6.871538162231445,
          20.26775360107422,
          15.510807991027832,
          15.94859790802002,
          -18.561283111572266,
          -10.022132873535156,
          -9.077219009399414,
          -8.284989356994629,
          -12.686619758605957,
          17.304149627685547,
          -14.32179069519043,
          1.225401520729065,
          19.369905471801758,
          -12.847347259521484,
          -7.3335065841674805,
          -4.083054065704346,
          21.91698455810547,
          20.172943115234375,
          -12.796557426452637,
          5.631047248840332,
          -3.9709601402282715,
          -9.99131965637207,
          -9.077188491821289,
          -6.797737121582031,
          -6.171592712402344,
          -7.035266399383545,
          21.010189056396484,
          -9.207254409790039,
          -8.448704719543457,
          23.60950469970703,
          -6.802546501159668,
          18.353572845458984,
          14.702924728393555,
          -5.838864803314209,
          18.901832580566406,
          -11.86600399017334,
          -13.206521034240723,
          -4.058538913726807,
          -5.81036901473999,
          0.1376519352197647,
          -4.032037258148193,
          18.901901245117188,
          19.36989974975586,
          -9.356782913208008,
          2.9086952209472656,
          18.90196418762207,
          -3.7795300483703613,
          22.345239639282227,
          -3.4808530807495117,
          -10.441058158874512,
          9.713433265686035,
          -6.17193603515625,
          -3.8452820777893066,
          4.875334739685059,
          -9.24290943145752,
          -13.043722152709961,
          -12.442520141601562,
          8.424169540405273,
          -3.845285415649414,
          0.7545698881149292,
          21.1424503326416,
          -8.229818344116211,
          -4.058538913726807,
          -2.0885207653045654,
          -18.559709548950195,
          9.709151268005371,
          -9.077198028564453,
          -12.458953857421875,
          10.174548149108887,
          -3.847951889038086,
          -7.399898052215576,
          19.36989974975586,
          -0.8656507730484009,
          -0.8656506538391113,
          -19.085121154785156,
          -6.079451560974121,
          -7.721863746643066,
          16.71994400024414,
          -18.561235427856445,
          19.369897842407227,
          -18.561330795288086,
          18.90163803100586,
          15.870838165283203,
          5.055975914001465,
          -3.8452701568603516,
          18.340330123901367,
          9.796370506286621,
          23.60947036743164,
          5.377647876739502,
          -11.651578903198242,
          31.154638290405273,
          -12.208883285522461,
          4.3800458908081055,
          -13.251561164855957,
          16.514867782592773,
          -5.11974573135376,
          5.484955787658691,
          5.559449195861816,
          19.39438819885254,
          -0.8654813766479492,
          17.881010055541992,
          -11.866009712219238,
          15.79321575164795,
          6.614663124084473,
          -7.992807865142822,
          21.543127059936523,
          -14.978883743286133,
          6.888588905334473,
          -12.038103103637695,
          18.050806045532227,
          -5.127089500427246,
          22.290794372558594,
          10.97060489654541,
          5.661582946777344,
          20.151155471801758,
          -12.94527816772461,
          -3.4082086086273193,
          -8.905425071716309,
          2.354771852493286,
          -15.068079948425293,
          -13.251538276672363,
          -9.434477806091309,
          21.715635299682617,
          6.024929523468018,
          -15.551233291625977,
          30.35524559020996,
          -9.901351928710938,
          -13.251567840576172,
          -13.30417251586914,
          -13.251572608947754,
          -11.865897178649902,
          -0.6850355267524719,
          -12.706626892089844,
          -6.696687698364258,
          -13.74914264678955,
          -14.303701400756836,
          19.883119583129883,
          -7.490618705749512,
          -18.56133460998535,
          -9.42509937286377
         ],
         "yaxis": "y"
        }
       ],
       "layout": {
        "legend": {
         "tracegroupgap": 0
        },
        "margin": {
         "t": 60
        },
        "template": {
         "data": {
          "bar": [
           {
            "error_x": {
             "color": "#2a3f5f"
            },
            "error_y": {
             "color": "#2a3f5f"
            },
            "marker": {
             "line": {
              "color": "#E5ECF6",
              "width": 0.5
             },
             "pattern": {
              "fillmode": "overlay",
              "size": 10,
              "solidity": 0.2
             }
            },
            "type": "bar"
           }
          ],
          "barpolar": [
           {
            "marker": {
             "line": {
              "color": "#E5ECF6",
              "width": 0.5
             },
             "pattern": {
              "fillmode": "overlay",
              "size": 10,
              "solidity": 0.2
             }
            },
            "type": "barpolar"
           }
          ],
          "carpet": [
           {
            "aaxis": {
             "endlinecolor": "#2a3f5f",
             "gridcolor": "white",
             "linecolor": "white",
             "minorgridcolor": "white",
             "startlinecolor": "#2a3f5f"
            },
            "baxis": {
             "endlinecolor": "#2a3f5f",
             "gridcolor": "white",
             "linecolor": "white",
             "minorgridcolor": "white",
             "startlinecolor": "#2a3f5f"
            },
            "type": "carpet"
           }
          ],
          "choropleth": [
           {
            "colorbar": {
             "outlinewidth": 0,
             "ticks": ""
            },
            "type": "choropleth"
           }
          ],
          "contour": [
           {
            "colorbar": {
             "outlinewidth": 0,
             "ticks": ""
            },
            "colorscale": [
             [
              0,
              "#0d0887"
             ],
             [
              0.1111111111111111,
              "#46039f"
             ],
             [
              0.2222222222222222,
              "#7201a8"
             ],
             [
              0.3333333333333333,
              "#9c179e"
             ],
             [
              0.4444444444444444,
              "#bd3786"
             ],
             [
              0.5555555555555556,
              "#d8576b"
             ],
             [
              0.6666666666666666,
              "#ed7953"
             ],
             [
              0.7777777777777778,
              "#fb9f3a"
             ],
             [
              0.8888888888888888,
              "#fdca26"
             ],
             [
              1,
              "#f0f921"
             ]
            ],
            "type": "contour"
           }
          ],
          "contourcarpet": [
           {
            "colorbar": {
             "outlinewidth": 0,
             "ticks": ""
            },
            "type": "contourcarpet"
           }
          ],
          "heatmap": [
           {
            "colorbar": {
             "outlinewidth": 0,
             "ticks": ""
            },
            "colorscale": [
             [
              0,
              "#0d0887"
             ],
             [
              0.1111111111111111,
              "#46039f"
             ],
             [
              0.2222222222222222,
              "#7201a8"
             ],
             [
              0.3333333333333333,
              "#9c179e"
             ],
             [
              0.4444444444444444,
              "#bd3786"
             ],
             [
              0.5555555555555556,
              "#d8576b"
             ],
             [
              0.6666666666666666,
              "#ed7953"
             ],
             [
              0.7777777777777778,
              "#fb9f3a"
             ],
             [
              0.8888888888888888,
              "#fdca26"
             ],
             [
              1,
              "#f0f921"
             ]
            ],
            "type": "heatmap"
           }
          ],
          "heatmapgl": [
           {
            "colorbar": {
             "outlinewidth": 0,
             "ticks": ""
            },
            "colorscale": [
             [
              0,
              "#0d0887"
             ],
             [
              0.1111111111111111,
              "#46039f"
             ],
             [
              0.2222222222222222,
              "#7201a8"
             ],
             [
              0.3333333333333333,
              "#9c179e"
             ],
             [
              0.4444444444444444,
              "#bd3786"
             ],
             [
              0.5555555555555556,
              "#d8576b"
             ],
             [
              0.6666666666666666,
              "#ed7953"
             ],
             [
              0.7777777777777778,
              "#fb9f3a"
             ],
             [
              0.8888888888888888,
              "#fdca26"
             ],
             [
              1,
              "#f0f921"
             ]
            ],
            "type": "heatmapgl"
           }
          ],
          "histogram": [
           {
            "marker": {
             "pattern": {
              "fillmode": "overlay",
              "size": 10,
              "solidity": 0.2
             }
            },
            "type": "histogram"
           }
          ],
          "histogram2d": [
           {
            "colorbar": {
             "outlinewidth": 0,
             "ticks": ""
            },
            "colorscale": [
             [
              0,
              "#0d0887"
             ],
             [
              0.1111111111111111,
              "#46039f"
             ],
             [
              0.2222222222222222,
              "#7201a8"
             ],
             [
              0.3333333333333333,
              "#9c179e"
             ],
             [
              0.4444444444444444,
              "#bd3786"
             ],
             [
              0.5555555555555556,
              "#d8576b"
             ],
             [
              0.6666666666666666,
              "#ed7953"
             ],
             [
              0.7777777777777778,
              "#fb9f3a"
             ],
             [
              0.8888888888888888,
              "#fdca26"
             ],
             [
              1,
              "#f0f921"
             ]
            ],
            "type": "histogram2d"
           }
          ],
          "histogram2dcontour": [
           {
            "colorbar": {
             "outlinewidth": 0,
             "ticks": ""
            },
            "colorscale": [
             [
              0,
              "#0d0887"
             ],
             [
              0.1111111111111111,
              "#46039f"
             ],
             [
              0.2222222222222222,
              "#7201a8"
             ],
             [
              0.3333333333333333,
              "#9c179e"
             ],
             [
              0.4444444444444444,
              "#bd3786"
             ],
             [
              0.5555555555555556,
              "#d8576b"
             ],
             [
              0.6666666666666666,
              "#ed7953"
             ],
             [
              0.7777777777777778,
              "#fb9f3a"
             ],
             [
              0.8888888888888888,
              "#fdca26"
             ],
             [
              1,
              "#f0f921"
             ]
            ],
            "type": "histogram2dcontour"
           }
          ],
          "mesh3d": [
           {
            "colorbar": {
             "outlinewidth": 0,
             "ticks": ""
            },
            "type": "mesh3d"
           }
          ],
          "parcoords": [
           {
            "line": {
             "colorbar": {
              "outlinewidth": 0,
              "ticks": ""
             }
            },
            "type": "parcoords"
           }
          ],
          "pie": [
           {
            "automargin": true,
            "type": "pie"
           }
          ],
          "scatter": [
           {
            "marker": {
             "colorbar": {
              "outlinewidth": 0,
              "ticks": ""
             }
            },
            "type": "scatter"
           }
          ],
          "scatter3d": [
           {
            "line": {
             "colorbar": {
              "outlinewidth": 0,
              "ticks": ""
             }
            },
            "marker": {
             "colorbar": {
              "outlinewidth": 0,
              "ticks": ""
             }
            },
            "type": "scatter3d"
           }
          ],
          "scattercarpet": [
           {
            "marker": {
             "colorbar": {
              "outlinewidth": 0,
              "ticks": ""
             }
            },
            "type": "scattercarpet"
           }
          ],
          "scattergeo": [
           {
            "marker": {
             "colorbar": {
              "outlinewidth": 0,
              "ticks": ""
             }
            },
            "type": "scattergeo"
           }
          ],
          "scattergl": [
           {
            "marker": {
             "colorbar": {
              "outlinewidth": 0,
              "ticks": ""
             }
            },
            "type": "scattergl"
           }
          ],
          "scattermapbox": [
           {
            "marker": {
             "colorbar": {
              "outlinewidth": 0,
              "ticks": ""
             }
            },
            "type": "scattermapbox"
           }
          ],
          "scatterpolar": [
           {
            "marker": {
             "colorbar": {
              "outlinewidth": 0,
              "ticks": ""
             }
            },
            "type": "scatterpolar"
           }
          ],
          "scatterpolargl": [
           {
            "marker": {
             "colorbar": {
              "outlinewidth": 0,
              "ticks": ""
             }
            },
            "type": "scatterpolargl"
           }
          ],
          "scatterternary": [
           {
            "marker": {
             "colorbar": {
              "outlinewidth": 0,
              "ticks": ""
             }
            },
            "type": "scatterternary"
           }
          ],
          "surface": [
           {
            "colorbar": {
             "outlinewidth": 0,
             "ticks": ""
            },
            "colorscale": [
             [
              0,
              "#0d0887"
             ],
             [
              0.1111111111111111,
              "#46039f"
             ],
             [
              0.2222222222222222,
              "#7201a8"
             ],
             [
              0.3333333333333333,
              "#9c179e"
             ],
             [
              0.4444444444444444,
              "#bd3786"
             ],
             [
              0.5555555555555556,
              "#d8576b"
             ],
             [
              0.6666666666666666,
              "#ed7953"
             ],
             [
              0.7777777777777778,
              "#fb9f3a"
             ],
             [
              0.8888888888888888,
              "#fdca26"
             ],
             [
              1,
              "#f0f921"
             ]
            ],
            "type": "surface"
           }
          ],
          "table": [
           {
            "cells": {
             "fill": {
              "color": "#EBF0F8"
             },
             "line": {
              "color": "white"
             }
            },
            "header": {
             "fill": {
              "color": "#C8D4E3"
             },
             "line": {
              "color": "white"
             }
            },
            "type": "table"
           }
          ]
         },
         "layout": {
          "annotationdefaults": {
           "arrowcolor": "#2a3f5f",
           "arrowhead": 0,
           "arrowwidth": 1
          },
          "autotypenumbers": "strict",
          "coloraxis": {
           "colorbar": {
            "outlinewidth": 0,
            "ticks": ""
           }
          },
          "colorscale": {
           "diverging": [
            [
             0,
             "#8e0152"
            ],
            [
             0.1,
             "#c51b7d"
            ],
            [
             0.2,
             "#de77ae"
            ],
            [
             0.3,
             "#f1b6da"
            ],
            [
             0.4,
             "#fde0ef"
            ],
            [
             0.5,
             "#f7f7f7"
            ],
            [
             0.6,
             "#e6f5d0"
            ],
            [
             0.7,
             "#b8e186"
            ],
            [
             0.8,
             "#7fbc41"
            ],
            [
             0.9,
             "#4d9221"
            ],
            [
             1,
             "#276419"
            ]
           ],
           "sequential": [
            [
             0,
             "#0d0887"
            ],
            [
             0.1111111111111111,
             "#46039f"
            ],
            [
             0.2222222222222222,
             "#7201a8"
            ],
            [
             0.3333333333333333,
             "#9c179e"
            ],
            [
             0.4444444444444444,
             "#bd3786"
            ],
            [
             0.5555555555555556,
             "#d8576b"
            ],
            [
             0.6666666666666666,
             "#ed7953"
            ],
            [
             0.7777777777777778,
             "#fb9f3a"
            ],
            [
             0.8888888888888888,
             "#fdca26"
            ],
            [
             1,
             "#f0f921"
            ]
           ],
           "sequentialminus": [
            [
             0,
             "#0d0887"
            ],
            [
             0.1111111111111111,
             "#46039f"
            ],
            [
             0.2222222222222222,
             "#7201a8"
            ],
            [
             0.3333333333333333,
             "#9c179e"
            ],
            [
             0.4444444444444444,
             "#bd3786"
            ],
            [
             0.5555555555555556,
             "#d8576b"
            ],
            [
             0.6666666666666666,
             "#ed7953"
            ],
            [
             0.7777777777777778,
             "#fb9f3a"
            ],
            [
             0.8888888888888888,
             "#fdca26"
            ],
            [
             1,
             "#f0f921"
            ]
           ]
          },
          "colorway": [
           "#636efa",
           "#EF553B",
           "#00cc96",
           "#ab63fa",
           "#FFA15A",
           "#19d3f3",
           "#FF6692",
           "#B6E880",
           "#FF97FF",
           "#FECB52"
          ],
          "font": {
           "color": "#2a3f5f"
          },
          "geo": {
           "bgcolor": "white",
           "lakecolor": "white",
           "landcolor": "#E5ECF6",
           "showlakes": true,
           "showland": true,
           "subunitcolor": "white"
          },
          "hoverlabel": {
           "align": "left"
          },
          "hovermode": "closest",
          "mapbox": {
           "style": "light"
          },
          "paper_bgcolor": "white",
          "plot_bgcolor": "#E5ECF6",
          "polar": {
           "angularaxis": {
            "gridcolor": "white",
            "linecolor": "white",
            "ticks": ""
           },
           "bgcolor": "#E5ECF6",
           "radialaxis": {
            "gridcolor": "white",
            "linecolor": "white",
            "ticks": ""
           }
          },
          "scene": {
           "xaxis": {
            "backgroundcolor": "#E5ECF6",
            "gridcolor": "white",
            "gridwidth": 2,
            "linecolor": "white",
            "showbackground": true,
            "ticks": "",
            "zerolinecolor": "white"
           },
           "yaxis": {
            "backgroundcolor": "#E5ECF6",
            "gridcolor": "white",
            "gridwidth": 2,
            "linecolor": "white",
            "showbackground": true,
            "ticks": "",
            "zerolinecolor": "white"
           },
           "zaxis": {
            "backgroundcolor": "#E5ECF6",
            "gridcolor": "white",
            "gridwidth": 2,
            "linecolor": "white",
            "showbackground": true,
            "ticks": "",
            "zerolinecolor": "white"
           }
          },
          "shapedefaults": {
           "line": {
            "color": "#2a3f5f"
           }
          },
          "ternary": {
           "aaxis": {
            "gridcolor": "white",
            "linecolor": "white",
            "ticks": ""
           },
           "baxis": {
            "gridcolor": "white",
            "linecolor": "white",
            "ticks": ""
           },
           "bgcolor": "#E5ECF6",
           "caxis": {
            "gridcolor": "white",
            "linecolor": "white",
            "ticks": ""
           }
          },
          "title": {
           "x": 0.05
          },
          "xaxis": {
           "automargin": true,
           "gridcolor": "white",
           "linecolor": "white",
           "ticks": "",
           "title": {
            "standoff": 15
           },
           "zerolinecolor": "white",
           "zerolinewidth": 2
          },
          "yaxis": {
           "automargin": true,
           "gridcolor": "white",
           "linecolor": "white",
           "ticks": "",
           "title": {
            "standoff": 15
           },
           "zerolinecolor": "white",
           "zerolinewidth": 2
          }
         }
        },
        "xaxis": {
         "anchor": "y",
         "domain": [
          0,
          1
         ],
         "title": {
          "text": "x"
         }
        },
        "yaxis": {
         "anchor": "x",
         "domain": [
          0,
          1
         ],
         "title": {
          "text": "y"
         }
        }
       }
      }
     },
     "metadata": {},
     "output_type": "display_data"
    }
   ],
   "source": [
    "# x and y given as DataFrame columns\n",
    "import plotly.express as px\n",
    "fig = px.scatter(df_tsne_features, x=\"x\", y=\"y\")\n",
    "fig.show()"
   ]
  },
  {
   "cell_type": "code",
   "execution_count": 49,
   "metadata": {},
   "outputs": [
    {
     "data": {
      "image/png": "[encoded data removed]",
      "text/plain": [
       "<Figure size 432x288 with 1 Axes>"
      ]
     },
     "metadata": {
      "needs_background": "light"
     },
     "output_type": "display_data"
    }
   ],
   "source": [
    "import matplotlib.pyplot as plt\n",
    "# Plot t-SNE by using .pyplot\n",
    "X = tsne_features[:,0]\n",
    "y = tsne_features[:,1]\n",
    "\n",
    "plt.scatter(X, y)\n",
    "plt.show()"
   ]
  },
  {
   "cell_type": "markdown",
   "metadata": {},
   "source": [
    "### t-SNE with perplexity equals to 40 and PCA(n_components=0.9)"
   ]
  },
  {
   "cell_type": "code",
   "execution_count": 50,
   "metadata": {},
   "outputs": [
    {
     "data": {
      "text/plain": [
       "(532, 2)"
      ]
     },
     "execution_count": 50,
     "metadata": {},
     "output_type": "execute_result"
    }
   ],
   "source": [
    "from sklearn.manifold import TSNE\n",
    "# Reduce dimensions with t-SNE\n",
    "tsne = TSNE(perplexity=40)\n",
    "tsne_features_40 = tsne.fit_transform(outcome_pca)\n",
    "tsne_features_40.shape"
   ]
  },
  {
   "cell_type": "code",
   "execution_count": 51,
   "metadata": {},
   "outputs": [
    {
     "data": {
      "text/plain": [
       "array([[ -7.3685913,   7.5410085],\n",
       "       [-11.323814 ,  10.993447 ],\n",
       "       [-13.848939 ,  17.662117 ],\n",
       "       ...,\n",
       "       [ 17.537205 ,  -8.547461 ],\n",
       "       [  9.311749 , -13.834085 ],\n",
       "       [ -4.5468454,  -5.3823285]], dtype=float32)"
      ]
     },
     "execution_count": 51,
     "metadata": {},
     "output_type": "execute_result"
    }
   ],
   "source": [
    "tsne_features_40"
   ]
  },
  {
   "cell_type": "code",
   "execution_count": 52,
   "metadata": {},
   "outputs": [
    {
     "data": {
      "text/html": [
       "<div>\n",
       "<style scoped>\n",
       "    .dataframe tbody tr th:only-of-type {\n",
       "        vertical-align: middle;\n",
       "    }\n",
       "\n",
       "    .dataframe tbody tr th {\n",
       "        vertical-align: top;\n",
       "    }\n",
       "\n",
       "    .dataframe thead th {\n",
       "        text-align: right;\n",
       "    }\n",
       "</style>\n",
       "<table border=\"1\" class=\"dataframe\">\n",
       "  <thead>\n",
       "    <tr style=\"text-align: right;\">\n",
       "      <th></th>\n",
       "      <th>x</th>\n",
       "      <th>y</th>\n",
       "    </tr>\n",
       "  </thead>\n",
       "  <tbody>\n",
       "    <tr>\n",
       "      <th>0</th>\n",
       "      <td>-7.368591</td>\n",
       "      <td>7.541008</td>\n",
       "    </tr>\n",
       "    <tr>\n",
       "      <th>1</th>\n",
       "      <td>-11.323814</td>\n",
       "      <td>10.993447</td>\n",
       "    </tr>\n",
       "    <tr>\n",
       "      <th>2</th>\n",
       "      <td>-13.848939</td>\n",
       "      <td>17.662117</td>\n",
       "    </tr>\n",
       "    <tr>\n",
       "      <th>3</th>\n",
       "      <td>-2.514125</td>\n",
       "      <td>-22.157919</td>\n",
       "    </tr>\n",
       "    <tr>\n",
       "      <th>4</th>\n",
       "      <td>14.317357</td>\n",
       "      <td>-1.895874</td>\n",
       "    </tr>\n",
       "  </tbody>\n",
       "</table>\n",
       "</div>"
      ],
      "text/plain": [
       "           x          y\n",
       "0  -7.368591   7.541008\n",
       "1 -11.323814  10.993447\n",
       "2 -13.848939  17.662117\n",
       "3  -2.514125 -22.157919\n",
       "4  14.317357  -1.895874"
      ]
     },
     "execution_count": 52,
     "metadata": {},
     "output_type": "execute_result"
    }
   ],
   "source": [
    "# Transform PCA data to a DataFrame\n",
    "df_outcome_features_40 = pd.DataFrame(\n",
    "    data=tsne_features_40, columns=['x','y']\n",
    ")\n",
    "df_outcome_features_40.head()"
   ]
  },
  {
   "cell_type": "code",
   "execution_count": 53,
   "metadata": {},
   "outputs": [
    {
     "data": {
      "application/vnd.plotly.v1+json": {
       "config": {
        "plotlyServerURL": "https://plot.ly"
       },
       "data": [
        {
         "hovertemplate": "x=%{x}<br>y=%{y}<extra></extra>",
         "legendgroup": "",
         "marker": {
          "color": "#636efa",
          "symbol": "circle"
         },
         "mode": "markers",
         "name": "",
         "orientation": "v",
         "showlegend": false,
         "type": "scatter",
         "x": [
          -7.36859130859375,
          -11.323814392089844,
          -13.848938941955566,
          -2.514125347137451,
          14.317357063293457,
          3.3616933822631836,
          2.560767412185669,
          11.305335998535156,
          14.317358016967773,
          9.311746597290039,
          -1.3182337284088135,
          11.530186653137207,
          -5.112818717956543,
          -5.296364784240723,
          5.828706741333008,
          -3.322917938232422,
          6.392244338989258,
          4.603257656097412,
          -7.331632614135742,
          -10.490484237670898,
          11.530329704284668,
          5.173901557922363,
          -2.854820489883423,
          3.2097814083099365,
          4.48315954208374,
          -7.939337730407715,
          -13.206510543823242,
          -1.95717191696167,
          4.282704830169678,
          -7.5291242599487305,
          5.174147605895996,
          -7.93135404586792,
          5.668625831604004,
          6.000696659088135,
          10.084405899047852,
          -2.0064897537231445,
          11.530200958251953,
          -2.85949969291687,
          6.154850006103516,
          5.4146037101745605,
          3.6430728435516357,
          5.263793468475342,
          -9.238731384277344,
          -0.47072333097457886,
          5.6364030838012695,
          12.662052154541016,
          7.049066543579102,
          3.4081504344940186,
          3.8398008346557617,
          -8.395566940307617,
          -6.081948757171631,
          5.232695579528809,
          2.8246774673461914,
          -3.1590840816497803,
          3.3397269248962402,
          4.928450107574463,
          6.351605415344238,
          -6.141894817352295,
          4.250187397003174,
          2.7577991485595703,
          -4.609384059906006,
          6.082283020019531,
          -5.270791530609131,
          -4.8538384437561035,
          -14.212761878967285,
          6.751134872436523,
          -3.204237937927246,
          3.9005186557769775,
          -14.2127685546875,
          12.636295318603516,
          -10.038141250610352,
          -8.25053596496582,
          -11.35897159576416,
          5.342461109161377,
          2.911839723587036,
          4.438675403594971,
          -6.081923007965088,
          3.1103971004486084,
          -3.2097952365875244,
          11.586068153381348,
          -2.593291759490967,
          -8.387356758117676,
          2.4091877937316895,
          -3.3857898712158203,
          -2.9762864112854004,
          -3.377523899078369,
          5.977633476257324,
          -11.39480972290039,
          -8.181394577026367,
          4.8256516456604,
          0.5647058486938477,
          -1.8329778909683228,
          3.208577871322632,
          2.4569146633148193,
          11.586071014404297,
          -2.6148219108581543,
          -14.212760925292969,
          -10.71548843383789,
          16.300811767578125,
          17.375856399536133,
          10.098938941955566,
          -5.712798118591309,
          3.198823928833008,
          -5.083053112030029,
          -2.006497621536255,
          7.028884410858154,
          -5.190876483917236,
          3.001718282699585,
          -14.21277141571045,
          6.1586222648620605,
          -4.523617744445801,
          3.0738611221313477,
          -7.214712142944336,
          -14.212764739990234,
          7.021057605743408,
          3.685718536376953,
          -6.081923007965088,
          11.53032398223877,
          1.7192178964614868,
          6.078857898712158,
          -7.8310227394104,
          6.816510200500488,
          5.430522441864014,
          6.357826232910156,
          -3.362881660461426,
          5.435765743255615,
          3.1165518760681152,
          -5.990525722503662,
          6.667905330657959,
          2.791529417037964,
          -3.1086833477020264,
          -5.2850422859191895,
          6.191905975341797,
          6.7471818923950195,
          3.00895619392395,
          2.9465060234069824,
          -5.096397876739502,
          14.317357063293457,
          -14.212767601013184,
          3.7723000049591064,
          -5.392989635467529,
          -3.3229167461395264,
          6.283066272735596,
          -2.606588125228882,
          0.7291206121444702,
          3.4423534870147705,
          4.577341556549072,
          -5.550939559936523,
          2.9748694896698,
          3.2758097648620605,
          -5.326457500457764,
          -2.8346807956695557,
          -3.94205904006958,
          -8.105428695678711,
          -4.54179048538208,
          5.775524616241455,
          6.170764446258545,
          3.8611364364624023,
          6.666326522827148,
          2.0198800563812256,
          -4.094032287597656,
          -5.599682331085205,
          10.085701942443848,
          -9.705288887023926,
          5.8253068923950195,
          6.670226573944092,
          1.625930666923523,
          -5.5542731285095215,
          -5.452409744262695,
          -3.941939115524292,
          1.8784250020980835,
          6.3085527420043945,
          -5.002304553985596,
          -11.391825675964355,
          -8.50502872467041,
          -8.345805168151855,
          -15.066375732421875,
          5.85017728805542,
          -6.081925868988037,
          9.942912101745605,
          2.3655152320861816,
          -8.078862190246582,
          17.842493057250977,
          -5.133276462554932,
          -2.5774099826812744,
          3.1109187602996826,
          -7.761298656463623,
          11.53032112121582,
          -7.675701141357422,
          3.002939462661743,
          -4.525388240814209,
          -2.5147383213043213,
          0.74526047706604,
          5.321279525756836,
          -14.67734432220459,
          -9.18630599975586,
          -7.3343634605407715,
          1.6422345638275146,
          9.439005851745605,
          -9.665159225463867,
          -15.066400527954102,
          -4.740114212036133,
          -9.414366722106934,
          -14.677290916442871,
          14.317357063293457,
          9.311746597290039,
          -1.201765775680542,
          2.4073171615600586,
          7.1694207191467285,
          6.659933567047119,
          -14.100536346435547,
          2.377139091491699,
          -9.72138500213623,
          -8.400968551635742,
          -8.529693603515625,
          5.727091312408447,
          -9.343958854675293,
          2.3253798484802246,
          -5.500793933868408,
          -7.709070682525635,
          5.34084939956665,
          -7.852320671081543,
          -9.789395332336426,
          2.7070465087890625,
          17.620479583740234,
          -8.549442291259766,
          -4.4225029945373535,
          -7.63388729095459,
          -8.23161792755127,
          -12.81811809539795,
          1.6581281423568726,
          6.110554218292236,
          17.61911392211914,
          2.791529655456543,
          -9.416470527648926,
          -5.135767459869385,
          2.649292230606079,
          -7.81611967086792,
          7.131476402282715,
          -8.390116691589355,
          11.305338859558105,
          -5.169672012329102,
          0.9329173564910889,
          5.8818817138671875,
          -15.066400527954102,
          5.787128448486328,
          9.311758041381836,
          -11.369400024414062,
          2.971315622329712,
          2.791529655456543,
          -4.912296295166016,
          4.562893867492676,
          1.9302103519439697,
          -9.625638008117676,
          1.600480318069458,
          7.10352897644043,
          -9.406506538391113,
          2.1851468086242676,
          -3.855194091796875,
          -9.689266204833984,
          1.6029525995254517,
          -8.465766906738281,
          -8.480335235595703,
          -10.463958740234375,
          -5.289936542510986,
          2.9043545722961426,
          5.162810325622559,
          -5.041715621948242,
          -3.3043878078460693,
          -9.204261779785156,
          -8.345086097717285,
          -3.32297682762146,
          -5.296331405639648,
          4.723354339599609,
          -5.002274036407471,
          11.305335998535156,
          -7.023446559906006,
          5.594932556152344,
          3.7723145484924316,
          8.101655960083008,
          17.507770538330078,
          -3.9419379234313965,
          5.9994072914123535,
          -3.941939115524292,
          -13.986857414245605,
          4.976820945739746,
          -14.212763786315918,
          4.912738800048828,
          6.125577926635742,
          5.77752161026001,
          -11.353751182556152,
          17.773672103881836,
          -14.212803840637207,
          8.147167205810547,
          5.173651218414307,
          -1.3127965927124023,
          -6.20237398147583,
          6.513635158538818,
          -13.986343383789062,
          -2.446229934692383,
          2.3879005908966064,
          -4.854318618774414,
          -85.89921569824219,
          7.164689064025879,
          -9.514629364013672,
          5.239811420440674,
          5.4844865798950195,
          4.446787357330322,
          3.9452340602874756,
          3.749561309814453,
          -8.317599296569824,
          -7.021940231323242,
          17.615943908691406,
          -1.3190090656280518,
          -6.592586994171143,
          3.0448341369628906,
          9.312614440917969,
          12.636297225952148,
          6.653017520904541,
          -7.037624359130859,
          12.662050247192383,
          -1.865997552871704,
          9.311741828918457,
          -11.271976470947266,
          -5.090308666229248,
          -3.941941499710083,
          -8.376365661621094,
          6.170680046081543,
          -7.077155590057373,
          -13.095514297485352,
          2.9718101024627686,
          -6.363584041595459,
          -7.2399773597717285,
          -5.294853687286377,
          6.06798791885376,
          12.662049293518066,
          14.31735610961914,
          12.662078857421875,
          1.9215353727340698,
          -1.201741099357605,
          -3.9427027702331543,
          -14.21279525756836,
          11.530320167541504,
          -8.881187438964844,
          17.129552841186523,
          17.842496871948242,
          14.317337989807129,
          -3.9908928871154785,
          -12.81811809539795,
          6.339425563812256,
          11.305235862731934,
          -11.356473922729492,
          -8.568655014038086,
          7.124544620513916,
          2.215102195739746,
          0.7716065049171448,
          6.587345600128174,
          12.662079811096191,
          -12.818121910095215,
          12.662145614624023,
          3.8433423042297363,
          -11.168208122253418,
          -7.034089088439941,
          -6.081923007965088,
          6.670711040496826,
          -3.1868200302124023,
          -3.775118350982666,
          -5.002274513244629,
          14.341382026672363,
          -0.3976086974143982,
          15.539487838745117,
          8.756952285766602,
          -9.626294136047363,
          17.590909957885742,
          6.375494003295898,
          6.170766353607178,
          -1.8329201936721802,
          -15.066231727600098,
          1.6159467697143555,
          -2.7772257328033447,
          5.050442695617676,
          6.045948505401611,
          6.567832946777344,
          -3.814716339111328,
          -4.684872627258301,
          2.875930070877075,
          7.633157253265381,
          -4.555148124694824,
          -4.027127265930176,
          14.317342758178711,
          17.573698043823242,
          5.674374580383301,
          8.437276840209961,
          -3.941938877105713,
          -8.117307662963867,
          -7.165159702301025,
          9.31174373626709,
          -5.091381549835205,
          9.439004898071289,
          -4.924320697784424,
          -9.290570259094238,
          -8.418147087097168,
          -1.9893845319747925,
          5.697255611419678,
          -13.095786094665527,
          -9.18642807006836,
          17.842056274414062,
          0.07419541478157043,
          -11.343839645385742,
          -3.8551807403564453,
          2.791529417037964,
          6.771778583526611,
          3.3935272693634033,
          -5.172348499298096,
          9.439006805419922,
          17.58905029296875,
          10.388006210327148,
          16.81691551208496,
          -11.23878288269043,
          -5.105954647064209,
          7.877915382385254,
          -14.677369117736816,
          17.556058883666992,
          -8.292044639587402,
          -3.34110426902771,
          4.978124618530273,
          -12.817902565002441,
          -5.296347618103027,
          -1.3373260498046875,
          0.10370400547981262,
          2.21282958984375,
          6.522902965545654,
          0.03176452964544296,
          -12.81811809539795,
          -13.095412254333496,
          -4.838449478149414,
          -1.9038246870040894,
          -12.818120956420898,
          5.975373268127441,
          -10.47429370880127,
          11.305234909057617,
          7.592757225036621,
          7.685567855834961,
          10.387134552001953,
          -6.08192253112793,
          2.3277125358581543,
          -5.143739700317383,
          -9.675222396850586,
          -3.361379861831665,
          -1.3572713136672974,
          -6.08192253112793,
          5.702600479125977,
          -11.241273880004883,
          -1.2776130437850952,
          0.10384859144687653,
          0.7935220003128052,
          9.312000274658203,
          7.6827898025512695,
          9.439001083374023,
          -2.4505810737609863,
          7.779120445251465,
          -6.082137107849121,
          17.447248458862305,
          -13.095752716064453,
          4.120160102844238,
          4.120199203491211,
          8.99531078338623,
          6.752927780151367,
          3.687964677810669,
          -7.377082824707031,
          9.311761856079102,
          -13.095477104187012,
          9.311741828918457,
          -12.818120002746582,
          -11.25048828125,
          1.7192392349243164,
          -6.081923007965088,
          -8.331785202026367,
          7.633162021636963,
          -14.67773723602295,
          1.7014858722686768,
          -3.3580057621002197,
          -14.793313980102539,
          -2.885166883468628,
          2.9362106323242188,
          -1.2016716003417969,
          -11.356159210205078,
          5.4276933670043945,
          3.135556221008301,
          12.662444114685059,
          -8.656174659729004,
          4.120268821716309,
          -7.905178546905518,
          -5.296363353729248,
          -8.013940811157227,
          1.8283363580703735,
          7.020698547363281,
          -11.288692474365234,
          -5.219500541687012,
          1.6190978288650513,
          -2.459702253341675,
          -7.755987644195557,
          5.429168701171875,
          -10.5030517578125,
          -1.957183837890625,
          1.8695969581604004,
          -8.63615608215332,
          -9.515079498291016,
          5.609256267547607,
          2.9601805210113525,
          4.088098526000977,
          -5.562350749969482,
          -1.20176362991333,
          -4.71724271774292,
          -9.8816556930542,
          12.636283874511719,
          11.530323028564453,
          -14.212769508361816,
          2.0487074851989746,
          -1.2016955614089966,
          14.317357063293457,
          -1.201688528060913,
          -5.296153545379639,
          -6.231479167938232,
          -9.51539421081543,
          14.94969367980957,
          -10.54026985168457,
          -2.1926679611206055,
          -8.649565696716309,
          17.53720474243164,
          9.311749458312988,
          -4.546845436096191
         ],
         "xaxis": "x",
         "y": [
          7.541008472442627,
          10.993447303771973,
          17.66211700439453,
          -22.15791893005371,
          -1.8958740234375,
          -4.49203634262085,
          10.735774993896484,
          -6.369182109832764,
          -1.895874261856079,
          -13.834085464477539,
          -7.409506797790527,
          2.2517950534820557,
          -23.377681732177734,
          -20.746870040893555,
          -3.774972438812256,
          12.415634155273438,
          4.2367939949035645,
          -3.46278977394104,
          8.884678840637207,
          11.810593605041504,
          2.2518396377563477,
          -5.793187141418457,
          -22.41526222229004,
          -6.467711448669434,
          -4.161545753479004,
          10.871536254882812,
          1.1639490127563477,
          7.919215202331543,
          -3.585253953933716,
          7.488842010498047,
          -2.7295150756835938,
          7.466438293457031,
          -2.9207139015197754,
          4.289621829986572,
          -1.4031623601913452,
          7.985235214233398,
          2.251793384552002,
          -21.193740844726562,
          -7.436644077301025,
          -3.8747708797454834,
          -6.856657028198242,
          -3.895923376083374,
          -8.627005577087402,
          -4.939988136291504,
          -2.577120065689087,
          8.193497657775879,
          -5.545857906341553,
          -4.338603973388672,
          -3.975306510925293,
          11.281195640563965,
          -1.3834322690963745,
          -5.885522365570068,
          12.096174240112305,
          -21.391929626464844,
          -6.626290798187256,
          -2.97204852104187,
          -3.259582996368408,
          11.748712539672852,
          -3.5787529945373535,
          -1.790626049041748,
          -5.911943435668945,
          -3.565746545791626,
          -22.956809997558594,
          -5.2252020835876465,
          17.073850631713867,
          -7.229116916656494,
          -21.419227600097656,
          -6.970646381378174,
          17.073293685913086,
          8.457761764526367,
          12.065196990966797,
          10.931158065795898,
          8.030653953552246,
          -2.6339638233184814,
          -5.487056732177734,
          -3.501075267791748,
          -1.3831883668899536,
          11.658883094787598,
          -22.25916290283203,
          2.2270610332489014,
          -21.53411102294922,
          14.975140571594238,
          11.567400932312012,
          -21.68830108642578,
          -22.413711547851562,
          -21.73054313659668,
          4.303893566131592,
          10.640239715576172,
          10.560904502868652,
          -3.088967800140381,
          -6.290323734283447,
          -0.9190767407417297,
          -6.466800212860107,
          11.344697952270508,
          2.2270615100860596,
          -21.517894744873047,
          17.073619842529297,
          11.785910606384277,
          -8.787817001342773,
          -8.956184387207031,
          -1.4065687656402588,
          -3.9095218181610107,
          -4.8129191398620605,
          -23.269529342651367,
          7.985185623168945,
          -5.5194926261901855,
          -5.492617130279541,
          -6.155652046203613,
          17.073261260986328,
          -2.7854604721069336,
          -5.468211650848389,
          -6.253231525421143,
          7.689578533172607,
          17.073488235473633,
          -5.509028911590576,
          -1.364983320236206,
          -1.3831843137741089,
          2.251856803894043,
          3.9766602516174316,
          -3.571676254272461,
          8.483551979064941,
          -7.181762218475342,
          0.5444493889808655,
          -3.1856837272644043,
          -21.612550735473633,
          -6.717381000518799,
          11.276713371276855,
          11.861351013183594,
          4.591395854949951,
          -10.381362915039062,
          -22.347667694091797,
          10.358542442321777,
          4.226773738861084,
          10.783133506774902,
          -5.2536444664001465,
          -6.04326868057251,
          -5.82065486907959,
          -1.8958736658096313,
          17.073780059814453,
          1.524889349937439,
          -22.934667587280273,
          12.415634155273438,
          4.2233686447143555,
          -21.52866554260254,
          6.670000076293945,
          -6.720451831817627,
          -8.42977523803711,
          -23.353506088256836,
          10.742870330810547,
          -4.611450672149658,
          -23.477949142456055,
          -21.171072006225586,
          17.289411544799805,
          8.85087776184082,
          -5.424976825714111,
          4.488673686981201,
          -10.409300804138184,
          -4.674145221710205,
          -0.6096234321594238,
          10.764005661010742,
          -6.120236396789551,
          -23.151914596557617,
          -1.400048017501831,
          -8.547439575195312,
          -3.7770872116088867,
          4.444390296936035,
          11.252561569213867,
          -23.027013778686523,
          -22.94866943359375,
          17.289609909057617,
          10.88843059539795,
          -3.0283541679382324,
          -9.717774391174316,
          10.651195526123047,
          8.66829776763916,
          11.287779808044434,
          16.939441680908203,
          5.1092209815979,
          -1.3833844661712646,
          -14.5556058883667,
          10.689886093139648,
          10.324917793273926,
          -8.820330619812012,
          -23.40483283996582,
          -22.257551193237305,
          11.655019760131836,
          8.174378395080566,
          2.2518470287323,
          7.508049488067627,
          -6.14635705947876,
          -5.4180707931518555,
          -22.15915298461914,
          -4.757740020751953,
          -3.422344446182251,
          8.18746566772461,
          -8.375913619995117,
          9.051011085510254,
          11.77668285369873,
          -9.161211967468262,
          -8.244906425476074,
          16.939376831054688,
          9.203242301940918,
          -8.156885147094727,
          8.187485694885254,
          -1.895873785018921,
          -13.834086418151855,
          -11.652887344360352,
          12.243894577026367,
          -6.868646621704102,
          4.799997329711914,
          17.396114349365234,
          12.242924690246582,
          -8.359651565551758,
          8.950906753540039,
          8.535508155822754,
          4.876640796661377,
          -8.70283317565918,
          10.687268257141113,
          -23.40621566772461,
          9.132739067077637,
          7.952648639678955,
          8.668067932128906,
          12.125643730163574,
          10.862868309020996,
          -9.068915367126465,
          10.20133113861084,
          -6.043334007263184,
          8.066341400146484,
          7.6373820304870605,
          0.9869382381439209,
          4.043939113616943,
          -2.755246877670288,
          -9.068870544433594,
          -10.381284713745117,
          12.049517631530762,
          -23.409467697143555,
          12.190082550048828,
          8.497160911560059,
          4.915048122406006,
          7.938633918762207,
          -6.369161605834961,
          -5.434721946716309,
          -3.4369547367095947,
          -2.630645751953125,
          16.939393997192383,
          5.013978004455566,
          -13.834083557128906,
          10.849138259887695,
          -5.216188907623291,
          -10.381284713745117,
          -5.2306904792785645,
          -0.4893491566181183,
          12.130125045776367,
          6.0566911697387695,
          11.614256858825684,
          -5.705839157104492,
          -8.158548355102539,
          11.518475532531738,
          17.4509220123291,
          -8.2796049118042,
          11.626766204833984,
          8.125214576721191,
          8.136075973510742,
          11.980780601501465,
          -20.72376251220703,
          12.006139755249023,
          -3.886054277420044,
          -5.890091896057129,
          -22.124805450439453,
          -8.581887245178223,
          10.004236221313477,
          12.415224075317383,
          -20.746850967407227,
          -3.9990336894989014,
          -9.717772483825684,
          -6.3691792488098145,
          13.074407577514648,
          -0.6481898427009583,
          1.5249241590499878,
          -4.183992385864258,
          -9.059892654418945,
          17.28961181640625,
          5.220760822296143,
          17.28961181640625,
          11.515204429626465,
          -2.937034845352173,
          17.073671340942383,
          -3.975893497467041,
          5.26741361618042,
          4.4552412033081055,
          7.821135997772217,
          -8.630073547363281,
          17.07357406616211,
          -2.218250274658203,
          -5.793875217437744,
          4.794909477233887,
          -6.426518440246582,
          5.185551166534424,
          11.51518726348877,
          -21.746530532836914,
          11.573473930358887,
          -5.225246906280518,
          13.627242088317871,
          -6.876145362854004,
          -8.712449073791504,
          -5.888439178466797,
          -3.2614386081695557,
          -4.113066673278809,
          -4.4057230949401855,
          -4.214666366577148,
          9.173711776733398,
          8.137216567993164,
          -9.069278717041016,
          -7.409045696258545,
          -5.231086730957031,
          11.149365425109863,
          -13.832137107849121,
          8.457744598388672,
          4.923240661621094,
          8.326376914978027,
          8.193507194519043,
          -0.934745728969574,
          -13.834081649780273,
          7.321185111999512,
          -23.28120994567871,
          17.289609909057617,
          14.976143836975098,
          -10.409396171569824,
          8.474713325500488,
          1.5501371622085571,
          -5.218613624572754,
          -4.3341593742370605,
          8.799826622009277,
          -20.7429141998291,
          5.249637603759766,
          8.19350528717041,
          -1.895874261856079,
          8.193521499633789,
          10.85654067993164,
          -11.652897834777832,
          17.28748893737793,
          17.075490951538086,
          2.251854419708252,
          11.730687141418457,
          -8.80430793762207,
          -8.82033634185791,
          -1.8959054946899414,
          17.387514114379883,
          0.9869379997253418,
          5.274614334106445,
          -6.369128704071045,
          7.878194332122803,
          10.272233963012695,
          -6.918220043182373,
          12.231493949890137,
          6.606595993041992,
          4.3543267250061035,
          8.193521499633789,
          0.9869381189346313,
          8.193523406982422,
          -3.9302172660827637,
          11.256309509277344,
          8.02820873260498,
          -1.3831846714019775,
          4.47529935836792,
          -21.407546997070312,
          5.374689102172852,
          -9.717772483825684,
          -1.9144634008407593,
          -3.4359190464019775,
          -8.764126777648926,
          -5.130493640899658,
          12.081063270568848,
          -8.542206764221191,
          -7.4038615226745605,
          -10.409401893615723,
          -0.9187242388725281,
          16.939668655395508,
          -0.6720681190490723,
          2.299424171447754,
          -3.4030826091766357,
          -7.406920909881592,
          5.1134562492370605,
          5.426458358764648,
          3.118244171142578,
          11.021750450134277,
          13.365220069885254,
          -5.409483432769775,
          -4.081879615783691,
          -1.8959224224090576,
          -8.542819023132324,
          -3.2125613689422607,
          -3.267000913619995,
          17.289609909057617,
          7.5254740715026855,
          7.887160301208496,
          -13.83408260345459,
          -5.836602210998535,
          -9.161195755004883,
          -3.697814702987671,
          -8.214388847351074,
          8.533384323120117,
          -18.638471603393555,
          4.684371471405029,
          1.550148367881775,
          -8.375432968139648,
          -8.822949409484863,
          1.3876850605010986,
          9.920806884765625,
          17.450807571411133,
          -10.381296157836914,
          10.799010276794434,
          -0.36387550830841064,
          -5.445262432098389,
          -9.1612548828125,
          -8.542179107666016,
          -3.7494618892669678,
          -8.794757843017578,
          8.951898574829102,
          -5.338312149047852,
          -0.0770120844244957,
          8.187514305114746,
          -9.070122718811035,
          9.735357284545898,
          12.410099983215332,
          -5.499730110168457,
          0.9867584109306335,
          -20.74685287475586,
          -11.657599449157715,
          1.401971697807312,
          -2.698978900909424,
          5.17533540725708,
          1.4782612323760986,
          0.9869381785392761,
          1.5503040552139282,
          -5.949993133544922,
          -0.8534924387931824,
          0.9869377017021179,
          -3.702502727508545,
          11.973947525024414,
          -6.369129180908203,
          -1.3008530139923096,
          13.338157653808594,
          -3.748621702194214,
          -1.383192777633667,
          11.317549705505371,
          -5.775905609130859,
          -8.256396293640137,
          -22.021663665771484,
          4.848056316375732,
          -1.38319730758667,
          4.757351875305176,
          9.138558387756348,
          -7.417462348937988,
          1.4019731283187866,
          -1.8116145133972168,
          -13.833492279052734,
          13.35132884979248,
          -9.161194801330566,
          -21.955217361450195,
          13.60289478302002,
          -1.385263204574585,
          -8.587531089782715,
          1.5501415729522705,
          -13.045523643493652,
          -13.045509338378906,
          -14.227004051208496,
          0.7605648636817932,
          -4.62388277053833,
          8.832606315612793,
          -13.83407211303711,
          1.550113320350647,
          -13.834083557128906,
          0.9869378209114075,
          7.244342803955078,
          3.9753522872924805,
          -1.3831840753555298,
          9.695293426513672,
          13.365490913391113,
          8.187487602233887,
          11.06951904296875,
          -21.97101593017578,
          17.45603370666504,
          -22.422321319580078,
          11.931639671325684,
          -11.652917861938477,
          7.868434429168701,
          -6.697549819946289,
          11.43044662475586,
          8.193767547607422,
          10.697129249572754,
          -13.045509338378906,
          9.392295837402344,
          -20.746871948242188,
          7.839758396148682,
          12.035155296325684,
          -5.508071422576904,
          9.538188934326172,
          -22.938732147216797,
          11.283380508422852,
          -21.780323028564453,
          9.773475646972656,
          -6.69476842880249,
          11.87210750579834,
          7.919239521026611,
          12.08413028717041,
          11.564470291137695,
          -8.712392807006836,
          -2.562108039855957,
          -5.531346797943115,
          7.5560994148254395,
          -23.040340423583984,
          -11.652861595153809,
          -5.939696788787842,
          12.093164443969727,
          8.457846641540527,
          2.251856803894043,
          17.073190689086914,
          -7.918132305145264,
          -11.652922630310059,
          -1.895873785018921,
          -11.652888298034668,
          -20.746604919433594,
          4.298175811767578,
          -8.712264060974121,
          -8.74332046508789,
          -9.046512603759766,
          -19.125595092773438,
          11.23647689819336,
          -8.547460556030273,
          -13.834085464477539,
          -5.382328510284424
         ],
         "yaxis": "y"
        }
       ],
       "layout": {
        "legend": {
         "tracegroupgap": 0
        },
        "margin": {
         "t": 60
        },
        "template": {
         "data": {
          "bar": [
           {
            "error_x": {
             "color": "#2a3f5f"
            },
            "error_y": {
             "color": "#2a3f5f"
            },
            "marker": {
             "line": {
              "color": "#E5ECF6",
              "width": 0.5
             },
             "pattern": {
              "fillmode": "overlay",
              "size": 10,
              "solidity": 0.2
             }
            },
            "type": "bar"
           }
          ],
          "barpolar": [
           {
            "marker": {
             "line": {
              "color": "#E5ECF6",
              "width": 0.5
             },
             "pattern": {
              "fillmode": "overlay",
              "size": 10,
              "solidity": 0.2
             }
            },
            "type": "barpolar"
           }
          ],
          "carpet": [
           {
            "aaxis": {
             "endlinecolor": "#2a3f5f",
             "gridcolor": "white",
             "linecolor": "white",
             "minorgridcolor": "white",
             "startlinecolor": "#2a3f5f"
            },
            "baxis": {
             "endlinecolor": "#2a3f5f",
             "gridcolor": "white",
             "linecolor": "white",
             "minorgridcolor": "white",
             "startlinecolor": "#2a3f5f"
            },
            "type": "carpet"
           }
          ],
          "choropleth": [
           {
            "colorbar": {
             "outlinewidth": 0,
             "ticks": ""
            },
            "type": "choropleth"
           }
          ],
          "contour": [
           {
            "colorbar": {
             "outlinewidth": 0,
             "ticks": ""
            },
            "colorscale": [
             [
              0,
              "#0d0887"
             ],
             [
              0.1111111111111111,
              "#46039f"
             ],
             [
              0.2222222222222222,
              "#7201a8"
             ],
             [
              0.3333333333333333,
              "#9c179e"
             ],
             [
              0.4444444444444444,
              "#bd3786"
             ],
             [
              0.5555555555555556,
              "#d8576b"
             ],
             [
              0.6666666666666666,
              "#ed7953"
             ],
             [
              0.7777777777777778,
              "#fb9f3a"
             ],
             [
              0.8888888888888888,
              "#fdca26"
             ],
             [
              1,
              "#f0f921"
             ]
            ],
            "type": "contour"
           }
          ],
          "contourcarpet": [
           {
            "colorbar": {
             "outlinewidth": 0,
             "ticks": ""
            },
            "type": "contourcarpet"
           }
          ],
          "heatmap": [
           {
            "colorbar": {
             "outlinewidth": 0,
             "ticks": ""
            },
            "colorscale": [
             [
              0,
              "#0d0887"
             ],
             [
              0.1111111111111111,
              "#46039f"
             ],
             [
              0.2222222222222222,
              "#7201a8"
             ],
             [
              0.3333333333333333,
              "#9c179e"
             ],
             [
              0.4444444444444444,
              "#bd3786"
             ],
             [
              0.5555555555555556,
              "#d8576b"
             ],
             [
              0.6666666666666666,
              "#ed7953"
             ],
             [
              0.7777777777777778,
              "#fb9f3a"
             ],
             [
              0.8888888888888888,
              "#fdca26"
             ],
             [
              1,
              "#f0f921"
             ]
            ],
            "type": "heatmap"
           }
          ],
          "heatmapgl": [
           {
            "colorbar": {
             "outlinewidth": 0,
             "ticks": ""
            },
            "colorscale": [
             [
              0,
              "#0d0887"
             ],
             [
              0.1111111111111111,
              "#46039f"
             ],
             [
              0.2222222222222222,
              "#7201a8"
             ],
             [
              0.3333333333333333,
              "#9c179e"
             ],
             [
              0.4444444444444444,
              "#bd3786"
             ],
             [
              0.5555555555555556,
              "#d8576b"
             ],
             [
              0.6666666666666666,
              "#ed7953"
             ],
             [
              0.7777777777777778,
              "#fb9f3a"
             ],
             [
              0.8888888888888888,
              "#fdca26"
             ],
             [
              1,
              "#f0f921"
             ]
            ],
            "type": "heatmapgl"
           }
          ],
          "histogram": [
           {
            "marker": {
             "pattern": {
              "fillmode": "overlay",
              "size": 10,
              "solidity": 0.2
             }
            },
            "type": "histogram"
           }
          ],
          "histogram2d": [
           {
            "colorbar": {
             "outlinewidth": 0,
             "ticks": ""
            },
            "colorscale": [
             [
              0,
              "#0d0887"
             ],
             [
              0.1111111111111111,
              "#46039f"
             ],
             [
              0.2222222222222222,
              "#7201a8"
             ],
             [
              0.3333333333333333,
              "#9c179e"
             ],
             [
              0.4444444444444444,
              "#bd3786"
             ],
             [
              0.5555555555555556,
              "#d8576b"
             ],
             [
              0.6666666666666666,
              "#ed7953"
             ],
             [
              0.7777777777777778,
              "#fb9f3a"
             ],
             [
              0.8888888888888888,
              "#fdca26"
             ],
             [
              1,
              "#f0f921"
             ]
            ],
            "type": "histogram2d"
           }
          ],
          "histogram2dcontour": [
           {
            "colorbar": {
             "outlinewidth": 0,
             "ticks": ""
            },
            "colorscale": [
             [
              0,
              "#0d0887"
             ],
             [
              0.1111111111111111,
              "#46039f"
             ],
             [
              0.2222222222222222,
              "#7201a8"
             ],
             [
              0.3333333333333333,
              "#9c179e"
             ],
             [
              0.4444444444444444,
              "#bd3786"
             ],
             [
              0.5555555555555556,
              "#d8576b"
             ],
             [
              0.6666666666666666,
              "#ed7953"
             ],
             [
              0.7777777777777778,
              "#fb9f3a"
             ],
             [
              0.8888888888888888,
              "#fdca26"
             ],
             [
              1,
              "#f0f921"
             ]
            ],
            "type": "histogram2dcontour"
           }
          ],
          "mesh3d": [
           {
            "colorbar": {
             "outlinewidth": 0,
             "ticks": ""
            },
            "type": "mesh3d"
           }
          ],
          "parcoords": [
           {
            "line": {
             "colorbar": {
              "outlinewidth": 0,
              "ticks": ""
             }
            },
            "type": "parcoords"
           }
          ],
          "pie": [
           {
            "automargin": true,
            "type": "pie"
           }
          ],
          "scatter": [
           {
            "marker": {
             "colorbar": {
              "outlinewidth": 0,
              "ticks": ""
             }
            },
            "type": "scatter"
           }
          ],
          "scatter3d": [
           {
            "line": {
             "colorbar": {
              "outlinewidth": 0,
              "ticks": ""
             }
            },
            "marker": {
             "colorbar": {
              "outlinewidth": 0,
              "ticks": ""
             }
            },
            "type": "scatter3d"
           }
          ],
          "scattercarpet": [
           {
            "marker": {
             "colorbar": {
              "outlinewidth": 0,
              "ticks": ""
             }
            },
            "type": "scattercarpet"
           }
          ],
          "scattergeo": [
           {
            "marker": {
             "colorbar": {
              "outlinewidth": 0,
              "ticks": ""
             }
            },
            "type": "scattergeo"
           }
          ],
          "scattergl": [
           {
            "marker": {
             "colorbar": {
              "outlinewidth": 0,
              "ticks": ""
             }
            },
            "type": "scattergl"
           }
          ],
          "scattermapbox": [
           {
            "marker": {
             "colorbar": {
              "outlinewidth": 0,
              "ticks": ""
             }
            },
            "type": "scattermapbox"
           }
          ],
          "scatterpolar": [
           {
            "marker": {
             "colorbar": {
              "outlinewidth": 0,
              "ticks": ""
             }
            },
            "type": "scatterpolar"
           }
          ],
          "scatterpolargl": [
           {
            "marker": {
             "colorbar": {
              "outlinewidth": 0,
              "ticks": ""
             }
            },
            "type": "scatterpolargl"
           }
          ],
          "scatterternary": [
           {
            "marker": {
             "colorbar": {
              "outlinewidth": 0,
              "ticks": ""
             }
            },
            "type": "scatterternary"
           }
          ],
          "surface": [
           {
            "colorbar": {
             "outlinewidth": 0,
             "ticks": ""
            },
            "colorscale": [
             [
              0,
              "#0d0887"
             ],
             [
              0.1111111111111111,
              "#46039f"
             ],
             [
              0.2222222222222222,
              "#7201a8"
             ],
             [
              0.3333333333333333,
              "#9c179e"
             ],
             [
              0.4444444444444444,
              "#bd3786"
             ],
             [
              0.5555555555555556,
              "#d8576b"
             ],
             [
              0.6666666666666666,
              "#ed7953"
             ],
             [
              0.7777777777777778,
              "#fb9f3a"
             ],
             [
              0.8888888888888888,
              "#fdca26"
             ],
             [
              1,
              "#f0f921"
             ]
            ],
            "type": "surface"
           }
          ],
          "table": [
           {
            "cells": {
             "fill": {
              "color": "#EBF0F8"
             },
             "line": {
              "color": "white"
             }
            },
            "header": {
             "fill": {
              "color": "#C8D4E3"
             },
             "line": {
              "color": "white"
             }
            },
            "type": "table"
           }
          ]
         },
         "layout": {
          "annotationdefaults": {
           "arrowcolor": "#2a3f5f",
           "arrowhead": 0,
           "arrowwidth": 1
          },
          "autotypenumbers": "strict",
          "coloraxis": {
           "colorbar": {
            "outlinewidth": 0,
            "ticks": ""
           }
          },
          "colorscale": {
           "diverging": [
            [
             0,
             "#8e0152"
            ],
            [
             0.1,
             "#c51b7d"
            ],
            [
             0.2,
             "#de77ae"
            ],
            [
             0.3,
             "#f1b6da"
            ],
            [
             0.4,
             "#fde0ef"
            ],
            [
             0.5,
             "#f7f7f7"
            ],
            [
             0.6,
             "#e6f5d0"
            ],
            [
             0.7,
             "#b8e186"
            ],
            [
             0.8,
             "#7fbc41"
            ],
            [
             0.9,
             "#4d9221"
            ],
            [
             1,
             "#276419"
            ]
           ],
           "sequential": [
            [
             0,
             "#0d0887"
            ],
            [
             0.1111111111111111,
             "#46039f"
            ],
            [
             0.2222222222222222,
             "#7201a8"
            ],
            [
             0.3333333333333333,
             "#9c179e"
            ],
            [
             0.4444444444444444,
             "#bd3786"
            ],
            [
             0.5555555555555556,
             "#d8576b"
            ],
            [
             0.6666666666666666,
             "#ed7953"
            ],
            [
             0.7777777777777778,
             "#fb9f3a"
            ],
            [
             0.8888888888888888,
             "#fdca26"
            ],
            [
             1,
             "#f0f921"
            ]
           ],
           "sequentialminus": [
            [
             0,
             "#0d0887"
            ],
            [
             0.1111111111111111,
             "#46039f"
            ],
            [
             0.2222222222222222,
             "#7201a8"
            ],
            [
             0.3333333333333333,
             "#9c179e"
            ],
            [
             0.4444444444444444,
             "#bd3786"
            ],
            [
             0.5555555555555556,
             "#d8576b"
            ],
            [
             0.6666666666666666,
             "#ed7953"
            ],
            [
             0.7777777777777778,
             "#fb9f3a"
            ],
            [
             0.8888888888888888,
             "#fdca26"
            ],
            [
             1,
             "#f0f921"
            ]
           ]
          },
          "colorway": [
           "#636efa",
           "#EF553B",
           "#00cc96",
           "#ab63fa",
           "#FFA15A",
           "#19d3f3",
           "#FF6692",
           "#B6E880",
           "#FF97FF",
           "#FECB52"
          ],
          "font": {
           "color": "#2a3f5f"
          },
          "geo": {
           "bgcolor": "white",
           "lakecolor": "white",
           "landcolor": "#E5ECF6",
           "showlakes": true,
           "showland": true,
           "subunitcolor": "white"
          },
          "hoverlabel": {
           "align": "left"
          },
          "hovermode": "closest",
          "mapbox": {
           "style": "light"
          },
          "paper_bgcolor": "white",
          "plot_bgcolor": "#E5ECF6",
          "polar": {
           "angularaxis": {
            "gridcolor": "white",
            "linecolor": "white",
            "ticks": ""
           },
           "bgcolor": "#E5ECF6",
           "radialaxis": {
            "gridcolor": "white",
            "linecolor": "white",
            "ticks": ""
           }
          },
          "scene": {
           "xaxis": {
            "backgroundcolor": "#E5ECF6",
            "gridcolor": "white",
            "gridwidth": 2,
            "linecolor": "white",
            "showbackground": true,
            "ticks": "",
            "zerolinecolor": "white"
           },
           "yaxis": {
            "backgroundcolor": "#E5ECF6",
            "gridcolor": "white",
            "gridwidth": 2,
            "linecolor": "white",
            "showbackground": true,
            "ticks": "",
            "zerolinecolor": "white"
           },
           "zaxis": {
            "backgroundcolor": "#E5ECF6",
            "gridcolor": "white",
            "gridwidth": 2,
            "linecolor": "white",
            "showbackground": true,
            "ticks": "",
            "zerolinecolor": "white"
           }
          },
          "shapedefaults": {
           "line": {
            "color": "#2a3f5f"
           }
          },
          "ternary": {
           "aaxis": {
            "gridcolor": "white",
            "linecolor": "white",
            "ticks": ""
           },
           "baxis": {
            "gridcolor": "white",
            "linecolor": "white",
            "ticks": ""
           },
           "bgcolor": "#E5ECF6",
           "caxis": {
            "gridcolor": "white",
            "linecolor": "white",
            "ticks": ""
           }
          },
          "title": {
           "x": 0.05
          },
          "xaxis": {
           "automargin": true,
           "gridcolor": "white",
           "linecolor": "white",
           "ticks": "",
           "title": {
            "standoff": 15
           },
           "zerolinecolor": "white",
           "zerolinewidth": 2
          },
          "yaxis": {
           "automargin": true,
           "gridcolor": "white",
           "linecolor": "white",
           "ticks": "",
           "title": {
            "standoff": 15
           },
           "zerolinecolor": "white",
           "zerolinewidth": 2
          }
         }
        },
        "xaxis": {
         "anchor": "y",
         "domain": [
          0,
          1
         ],
         "title": {
          "text": "x"
         }
        },
        "yaxis": {
         "anchor": "x",
         "domain": [
          0,
          1
         ],
         "title": {
          "text": "y"
         }
        }
       }
      }
     },
     "metadata": {},
     "output_type": "display_data"
    }
   ],
   "source": [
    "# x and y given as DataFrame columns\n",
    "import plotly.express as px\n",
    "fig = px.scatter(df_outcome_features_40, x=\"x\", y=\"y\")\n",
    "fig.show()"
   ]
  },
  {
   "cell_type": "code",
   "execution_count": 54,
   "metadata": {},
   "outputs": [
    {
     "data": {
      "image/png": "[encoded data removed]",
      "text/plain": [
       "<Figure size 432x288 with 1 Axes>"
      ]
     },
     "metadata": {
      "needs_background": "light"
     },
     "output_type": "display_data"
    }
   ],
   "source": [
    "import matplotlib.pyplot as plt\n",
    "# Plot t-SNE by using .pyplot\n",
    "X = tsne_features_40[:,0]\n",
    "y = tsne_features_40[:,1]\n",
    "\n",
    "plt.scatter(X, y)\n",
    "plt.show()"
   ]
  },
  {
   "cell_type": "markdown",
   "metadata": {},
   "source": [
    "### t-SNE with perplexity equals to 45 and PCA(n_components=0.9)"
   ]
  },
  {
   "cell_type": "code",
   "execution_count": 55,
   "metadata": {},
   "outputs": [
    {
     "data": {
      "text/plain": [
       "(532, 2)"
      ]
     },
     "execution_count": 55,
     "metadata": {},
     "output_type": "execute_result"
    }
   ],
   "source": [
    "from sklearn.manifold import TSNE\n",
    "# Reduce dimensions with t-SNE\n",
    "tsne_45 = TSNE(perplexity=45)\n",
    "tsne_features_45 = tsne_45.fit_transform(outcome_pca)\n",
    "tsne_features_45.shape"
   ]
  },
  {
   "cell_type": "code",
   "execution_count": 56,
   "metadata": {},
   "outputs": [
    {
     "data": {
      "text/plain": [
       "array([[  3.3636386,  -8.504396 ],\n",
       "       [  6.9024806, -10.920155 ],\n",
       "       [  7.840292 , -16.283146 ],\n",
       "       ...,\n",
       "       [ -5.47346  ,  16.409025 ],\n",
       "       [  2.8777287,  15.151779 ],\n",
       "       [  8.416724 ,   5.098059 ]], dtype=float32)"
      ]
     },
     "execution_count": 56,
     "metadata": {},
     "output_type": "execute_result"
    }
   ],
   "source": [
    "tsne_features_45"
   ]
  },
  {
   "cell_type": "code",
   "execution_count": 57,
   "metadata": {},
   "outputs": [
    {
     "data": {
      "text/html": [
       "<div>\n",
       "<style scoped>\n",
       "    .dataframe tbody tr th:only-of-type {\n",
       "        vertical-align: middle;\n",
       "    }\n",
       "\n",
       "    .dataframe tbody tr th {\n",
       "        vertical-align: top;\n",
       "    }\n",
       "\n",
       "    .dataframe thead th {\n",
       "        text-align: right;\n",
       "    }\n",
       "</style>\n",
       "<table border=\"1\" class=\"dataframe\">\n",
       "  <thead>\n",
       "    <tr style=\"text-align: right;\">\n",
       "      <th></th>\n",
       "      <th>x</th>\n",
       "      <th>y</th>\n",
       "    </tr>\n",
       "  </thead>\n",
       "  <tbody>\n",
       "    <tr>\n",
       "      <th>0</th>\n",
       "      <td>3.363639</td>\n",
       "      <td>-8.504396</td>\n",
       "    </tr>\n",
       "    <tr>\n",
       "      <th>1</th>\n",
       "      <td>6.902481</td>\n",
       "      <td>-10.920155</td>\n",
       "    </tr>\n",
       "    <tr>\n",
       "      <th>2</th>\n",
       "      <td>7.840292</td>\n",
       "      <td>-16.283146</td>\n",
       "    </tr>\n",
       "    <tr>\n",
       "      <th>3</th>\n",
       "      <td>-14.980947</td>\n",
       "      <td>9.245204</td>\n",
       "    </tr>\n",
       "    <tr>\n",
       "      <th>4</th>\n",
       "      <td>-0.849460</td>\n",
       "      <td>12.046885</td>\n",
       "    </tr>\n",
       "  </tbody>\n",
       "</table>\n",
       "</div>"
      ],
      "text/plain": [
       "           x          y\n",
       "0   3.363639  -8.504396\n",
       "1   6.902481 -10.920155\n",
       "2   7.840292 -16.283146\n",
       "3 -14.980947   9.245204\n",
       "4  -0.849460  12.046885"
      ]
     },
     "execution_count": 57,
     "metadata": {},
     "output_type": "execute_result"
    }
   ],
   "source": [
    "# Transform PCA data to a DataFrame\n",
    "df_outcome_features_45 = pd.DataFrame(\n",
    "    data=tsne_features_45, columns=['x','y']\n",
    ")\n",
    "df_outcome_features_45.head()"
   ]
  },
  {
   "cell_type": "code",
   "execution_count": 58,
   "metadata": {},
   "outputs": [
    {
     "data": {
      "application/vnd.plotly.v1+json": {
       "config": {
        "plotlyServerURL": "https://plot.ly"
       },
       "data": [
        {
         "hovertemplate": "x=%{x}<br>y=%{y}<extra></extra>",
         "legendgroup": "",
         "marker": {
          "color": "#636efa",
          "symbol": "circle"
         },
         "mode": "markers",
         "name": "",
         "orientation": "v",
         "showlegend": false,
         "type": "scatter",
         "x": [
          3.3636386394500732,
          6.902480602264404,
          7.840291976928711,
          -14.98094654083252,
          -0.8494601249694824,
          -0.18534345924854279,
          -7.051822662353516,
          -6.874427795410156,
          -0.8494595885276794,
          2.8777287006378174,
          5.9907050132751465,
          5.668238162994385,
          -16.951061248779297,
          -16.123291015625,
          1.047010064125061,
          -0.450592964887619,
          -5.803061485290527,
          0.07253406941890717,
          4.593076705932617,
          7.316685199737549,
          5.66848087310791,
          1.972662329673767,
          -14.435415267944336,
          -0.8373563885688782,
          0.30086231231689453,
          5.735359191894531,
          14.299635887145996,
          9.165071487426758,
          -0.31494826078414917,
          3.358644723892212,
          0.48963212966918945,
          3.420776128768921,
          0.08282382041215897,
          -6.114442825317383,
          6.970864772796631,
          9.145882606506348,
          5.66758394241333,
          -14.160968780517578,
          2.7771573066711426,
          -0.23327648639678955,
          -0.4839268922805786,
          0.6232327222824097,
          13.488733291625977,
          4.812682151794434,
          1.1497336626052856,
          -1.6136294603347778,
          0.8578327894210815,
          -0.11916925758123398,
          -0.39166900515556335,
          6.153476238250732,
          10.87699031829834,
          2.0126307010650635,
          -7.139106750488281,
          -14.343982696533203,
          -0.7209218740463257,
          0.2693600654602051,
          1.008174180984497,
          2.7115671634674072,
          -0.33753737807273865,
          -3.7651515007019043,
          8.129652976989746,
          0.15152879059314728,
          -16.98258399963379,
          8.421849250793457,
          8.242366790771484,
          2.4229471683502197,
          -14.930398941040039,
          -0.22686077654361725,
          8.24240779876709,
          -1.559566855430603,
          7.325825214385986,
          5.836728572845459,
          4.472052574157715,
          1.123521089553833,
          -1.0461976528167725,
          -0.2653152644634247,
          10.877711296081543,
          -7.01840877532959,
          -14.291131019592285,
          5.715916633605957,
          -14.762160301208496,
          -0.3681982159614563,
          -7.138379096984863,
          -14.989352226257324,
          -14.563955307006836,
          -14.973912239074707,
          -5.6583428382873535,
          6.6419782638549805,
          5.5661444664001465,
          -0.21775752305984497,
          3.6000897884368896,
          3.9034273624420166,
          -0.8426258563995361,
          -6.251498699188232,
          5.715918064117432,
          -14.797462463378906,
          8.242395401000977,
          7.256843090057373,
          -5.080337047576904,
          -5.462584018707275,
          7.000956058502197,
          9.045612335205078,
          -0.5547512769699097,
          -17.06884002685547,
          9.146017074584961,
          0.8026503324508667,
          8.305045127868652,
          -0.983555257320404,
          8.242413520812988,
          0.7613757848739624,
          8.701959609985352,
          -0.9593905806541443,
          3.379894495010376,
          8.242409706115723,
          0.7861130237579346,
          -2.9501888751983643,
          10.878472328186035,
          5.66850471496582,
          1.508934497833252,
          0.1478404551744461,
          4.463132858276367,
          2.3676364421844482,
          -3.3465771675109863,
          0.6190273761749268,
          -14.593789100646973,
          2.728959798812866,
          -7.0144243240356445,
          2.529576539993286,
          -5.741668224334717,
          -8.67209529876709,
          -14.57361888885498,
          1.4606868028640747,
          -6.386184215545654,
          -3.353807210922241,
          -0.9407642483711243,
          -1.0362495183944702,
          8.752446174621582,
          -0.8494606018066406,
          8.242379188537598,
          -5.319319725036621,
          -16.996234893798828,
          -0.4505983293056488,
          -5.6610894203186035,
          -14.932602882385254,
          10.782373428344727,
          -0.6752632260322571,
          0.6937270164489746,
          -17.205039978027344,
          -6.741453647613525,
          -0.5941414833068848,
          -17.13027000427246,
          -14.148336410522461,
          -4.1030426025390625,
          4.371651649475098,
          8.734284400939941,
          -6.540031909942627,
          -5.591339111328125,
          -0.660425066947937,
          -0.13773618638515472,
          -5.851589202880859,
          7.618330001831055,
          -16.951152801513672,
          6.9684834480285645,
          13.311716079711914,
          -0.08136100322008133,
          -5.929903984069824,
          -6.469627857208252,
          -17.071903228759766,
          -16.95058250427246,
          -4.103095531463623,
          -5.780473232269287,
          0.7581825852394104,
          9.594944953918457,
          6.645952224731445,
          4.29355525970459,
          6.147279262542725,
          9.01345443725586,
          -6.527434825897217,
          10.876700401306152,
          3.323507070541382,
          -5.95650053024292,
          5.400137424468994,
          -5.775238990783691,
          -17.20674705505371,
          -14.682559967041016,
          -6.719137668609619,
          3.921651840209961,
          5.668496131896973,
          3.404092788696289,
          -0.9893983006477356,
          8.291071891784668,
          -14.96391773223877,
          4.2352519035339355,
          0.8027628064155579,
          1.9903826713562012,
          13.590580940246582,
          4.684301853179932,
          -5.774959087371826,
          -10.055636405944824,
          13.54366397857666,
          9.013500213623047,
          1.3703136444091797,
          13.30453109741211,
          1.9900528192520142,
          -0.8494606018066406,
          2.8777284622192383,
          6.902213096618652,
          -6.558480739593506,
          2.034564733505249,
          -5.611330509185791,
          8.111363410949707,
          -6.710723876953125,
          13.46101188659668,
          4.644509792327881,
          4.228184700012207,
          -6.3168439865112305,
          13.36819839477539,
          -6.959709644317627,
          -16.972497940063477,
          4.672857761383057,
          -6.190531253814697,
          4.230254173278809,
          7.300400257110596,
          -6.619581699371338,
          -5.771613597869873,
          5.351040840148926,
          7.919711589813232,
          3.701077938079834,
          3.846353530883789,
          14.217911720275879,
          1.527264952659607,
          1.0843043327331543,
          -5.527692794799805,
          -8.67214298248291,
          7.130858421325684,
          -16.976490020751953,
          -6.4833173751831055,
          4.471426486968994,
          -6.64437198638916,
          3.8397037982940674,
          -6.874411582946777,
          8.734538078308105,
          4.684849739074707,
          0.4088100492954254,
          9.013493537902832,
          -5.697916030883789,
          2.8777287006378174,
          6.797084331512451,
          -0.6218258142471313,
          -8.672142028808594,
          8.528836250305176,
          -3.434413433074951,
          -6.976840019226074,
          1.608721375465393,
          -6.3187079429626465,
          1.0399760007858276,
          13.443266868591309,
          -5.857536792755127,
          -4.149453639984131,
          13.49317455291748,
          -5.871099472045898,
          4.038943290710449,
          3.9640252590179443,
          7.301202774047852,
          -16.11029624938965,
          -6.461279392242432,
          0.6216131448745728,
          8.512661933898926,
          -14.195270538330078,
          13.704179763793945,
          5.188326835632324,
          -0.45045560598373413,
          -16.123506546020508,
          0.4302983283996582,
          9.594669342041016,
          -6.874413967132568,
          2.361722707748413,
          -2.3865370750427246,
          -5.319767951965332,
          2.831455707550049,
          -5.801642894744873,
          -4.102889537811279,
          -6.077343940734863,
          -4.103280067443848,
          -2.649789571762085,
          -0.20747612416744232,
          8.242392539978027,
          0.5608901977539062,
          -6.539273262023926,
          -5.74065637588501,
          4.316800117492676,
          -5.834408283233643,
          8.242396354675293,
          -2.2618985176086426,
          1.985711693763733,
          2.481494665145874,
          10.002376556396484,
          -6.276307106018066,
          -2.6534082889556885,
          -14.946722984313965,
          -6.481322288513184,
          8.333752632141113,
          -58.487953186035156,
          2.042980432510376,
          13.538183212280273,
          2.0139787197113037,
          0.44709882140159607,
          0.21091623604297638,
          0.015781188383698463,
          -0.0027744658291339874,
          4.686984062194824,
          3.903930902481079,
          -5.83425760269165,
          5.990728378295898,
          8.186798095703125,
          -7.181548595428467,
          2.8765156269073486,
          -1.5595680475234985,
          -6.385478973388672,
          3.695910692214966,
          -1.6136300563812256,
          3.9142861366271973,
          2.8777287006378174,
          4.052671432495117,
          -17.04543685913086,
          -4.1032490730285645,
          -0.3823888599872589,
          -5.591338634490967,
          4.169853687286377,
          14.15210247039795,
          -0.6248622536659241,
          10.104708671569824,
          4.288106441497803,
          -16.119693756103516,
          -6.090425491333008,
          -1.6136300563812256,
          -0.8494599461555481,
          -1.613629937171936,
          -6.453438758850098,
          6.902252197265625,
          -4.102407932281494,
          8.242189407348633,
          5.668492794036865,
          6.732874393463135,
          -5.452130317687988,
          -5.833810329437256,
          -0.8494861125946045,
          -4.093355178833008,
          14.217911720275879,
          -5.9850287437438965,
          -6.87443208694458,
          4.353085517883301,
          5.400116920471191,
          2.08642578125,
          -6.248713493347168,
          10.806666374206543,
          -6.503703594207764,
          -1.6136300563812256,
          14.217901229858398,
          -1.6136181354522705,
          -0.42359548807144165,
          7.034614086151123,
          3.7842400074005127,
          10.878473281860352,
          -6.466524124145508,
          -14.199844360351562,
          1.1424508094787598,
          9.594403266906738,
          -0.8324728608131409,
          2.434083938598633,
          -4.715629577636719,
          -2.451655149459839,
          7.235491752624512,
          -5.509470462799072,
          2.678445816040039,
          -5.591338157653809,
          3.903427839279175,
          9.015892028808594,
          4.278654098510742,
          5.948355197906494,
          0.29979246854782104,
          2.8001503944396973,
          -5.773191452026367,
          1.1551799774169922,
          1.3702079057693481,
          -6.26289701461792,
          -1.059896469116211,
          8.742425918579102,
          9.638710021972656,
          -0.8494842052459717,
          -5.496269226074219,
          1.0747798681259155,
          -2.3490123748779297,
          -4.103364944458008,
          3.5683441162109375,
          3.605543613433838,
          2.877727746963501,
          8.606194496154785,
          -10.05630111694336,
          9.681564331054688,
          13.704225540161133,
          4.30242395401001,
          -12.3199462890625,
          -5.651200771331787,
          14.152109146118164,
          13.701272964477539,
          -5.525893211364746,
          -10.860960960388184,
          6.015538215637207,
          -4.149454593658447,
          -8.672141075134277,
          -3.333630084991455,
          -3.6106038093566895,
          8.469032287597656,
          -10.056060791015625,
          -5.506520748138428,
          -4.016585826873779,
          -5.330305576324463,
          5.158387660980225,
          8.591416358947754,
          -1.1618503332138062,
          1.9901206493377686,
          -5.8196868896484375,
          4.968610763549805,
          -0.44491252303123474,
          1.672202706336975,
          14.217914581298828,
          -16.12326431274414,
          7.018241882324219,
          -10.852006912231445,
          -2.964848756790161,
          -6.121822834014893,
          -10.86918830871582,
          14.217911720275879,
          14.15210247039795,
          8.203919410705566,
          3.9335851669311523,
          14.217912673950195,
          1.1019692420959473,
          7.297330379486084,
          -6.874423503875732,
          -2.738508462905884,
          -1.087815284729004,
          -4.015120506286621,
          10.878300666809082,
          -5.947160243988037,
          8.58808422088623,
          13.304758071899414,
          -14.182574272155762,
          2.4924144744873047,
          10.877714157104492,
          -6.117892742156982,
          5.319033622741699,
          5.964175224304199,
          -10.852028846740723,
          4.764934539794922,
          2.877384662628174,
          -1.0646878480911255,
          -10.056161880493164,
          -14.928607940673828,
          -0.8347544074058533,
          10.87789249420166,
          -5.763672351837158,
          14.15210247039795,
          -7.28778076171875,
          -7.286465644836426,
          3.279775857925415,
          -2.097393035888672,
          -0.5655416250228882,
          4.341045379638672,
          2.877721071243286,
          14.15210247039795,
          2.877728223800659,
          14.217912673950195,
          4.006469249725342,
          1.508934497833252,
          10.878473281860352,
          4.952146530151367,
          -1.0600054264068604,
          1.990157127380371,
          -5.771363258361816,
          -14.403278350830078,
          8.712843894958496,
          -14.505992889404297,
          -6.843626022338867,
          6.902343273162842,
          4.34935998916626,
          2.7105891704559326,
          -7.049752235412598,
          -1.614101767539978,
          5.714833736419678,
          -7.287796974182129,
          4.684454441070557,
          -16.123550415039062,
          3.6188790798187256,
          -6.09421443939209,
          0.7829522490501404,
          5.669428825378418,
          -16.970970153808594,
          -5.956561088562012,
          -14.801584243774414,
          5.074911117553711,
          2.7096755504608154,
          7.295114994049072,
          9.164521217346191,
          -6.133153915405273,
          6.479321002960205,
          13.57856559753418,
          1.1068291664123535,
          -0.9698923826217651,
          -7.303548812866211,
          -16.954864501953125,
          6.902258396148682,
          8.139793395996094,
          7.318129539489746,
          -1.5595674514770508,
          5.668505668640137,
          8.242420196533203,
          -1.643843412399292,
          6.902138710021973,
          -0.8494604825973511,
          6.9021992683410645,
          -16.123123168945312,
          3.605996608734131,
          13.701308250427246,
          -4.433877468109131,
          14.585347175598145,
          -12.835798263549805,
          6.146503925323486,
          -5.4734601974487305,
          2.8777287006378174,
          8.41672420501709
         ],
         "xaxis": "x",
         "y": [
          -8.504396438598633,
          -10.920154571533203,
          -16.283145904541016,
          9.245203971862793,
          12.04688549041748,
          6.1175217628479,
          -7.393374443054199,
          9.98352336883545,
          12.046882629394531,
          15.151780128479004,
          7.23128080368042,
          10.862442016601562,
          9.69331169128418,
          7.5683913230896,
          4.768082618713379,
          -11.912859916687012,
          0.5149760246276855,
          4.980294227600098,
          -7.5702362060546875,
          -9.886506080627441,
          10.862552642822266,
          6.046903610229492,
          9.788949012756348,
          7.613385200500488,
          5.512465953826904,
          -7.86328649520874,
          -4.4569854736328125,
          -5.145216941833496,
          5.0264105796813965,
          -8.198187828063965,
          4.386153697967529,
          -7.967983245849609,
          3.9813568592071533,
          0.5755435228347778,
          -3.030146360397339,
          -5.202966690063477,
          10.862258911132812,
          9.04776668548584,
          7.182241916656494,
          4.457894325256348,
          8.005121231079102,
          5.013624668121338,
          6.38809061050415,
          3.212158441543579,
          4.290053844451904,
          -1.7214030027389526,
          7.974342346191406,
          6.049642562866211,
          5.451725959777832,
          -8.206459999084473,
          1.8185853958129883,
          6.0725626945495605,
          -7.039910316467285,
          9.706068992614746,
          7.776409149169922,
          4.591170787811279,
          3.9776792526245117,
          -10.633533477783203,
          5.0368428230285645,
          5.859428405761719,
          4.933076858520508,
          3.958780527114868,
          9.348130226135254,
          5.098965167999268,
          -16.7171573638916,
          7.635140419006348,
          9.043237686157227,
          8.116264343261719,
          -16.717243194580078,
          -1.9990586042404175,
          -9.42782974243164,
          -8.149188041687012,
          -11.745094299316406,
          4.6119232177734375,
          6.671565055847168,
          4.920812606811523,
          1.8173936605453491,
          -6.627452850341797,
          9.626812934875488,
          10.853550910949707,
          9.84213924407959,
          -9.011404991149902,
          -7.021688938140869,
          9.339056015014648,
          8.868870735168457,
          9.545397758483887,
          0.29443657398223877,
          -11.111879348754883,
          -8.188457489013672,
          4.526078224182129,
          2.808218240737915,
          0.543806254863739,
          7.611530303955078,
          -6.3805437088012695,
          10.853549003601074,
          9.832582473754883,
          -16.717212677001953,
          -10.097479820251465,
          15.28741455078125,
          16.236591339111328,
          -2.959953546524048,
          3.2371408939361572,
          6.222543239593506,
          9.305187225341797,
          -5.202366352081299,
          7.987874984741211,
          4.553874492645264,
          7.322899341583252,
          -16.717254638671875,
          3.847411870956421,
          4.654887676239014,
          7.421163558959961,
          -8.522782325744629,
          -16.71724510192871,
          7.991213321685791,
          6.770045757293701,
          1.8140321969985962,
          10.862565040588379,
          -1.1358706951141357,
          3.9542038440704346,
          -7.517765045166016,
          7.680683135986328,
          2.545876979827881,
          3.771240234375,
          8.867462158203125,
          6.178395748138428,
          -6.6092352867126465,
          -10.738261222839355,
          0.4489235281944275,
          6.955207347869873,
          8.875665664672852,
          -7.428341865539551,
          0.41775575280189514,
          -4.892515659332275,
          6.478270530700684,
          7.2083539962768555,
          4.8577470779418945,
          12.04688549041748,
          -16.717180252075195,
          4.207342624664307,
          9.311361312866211,
          -11.912860870361328,
          0.30339518189430237,
          9.64362907409668,
          -9.337611198425293,
          7.879692554473877,
          9.51073932647705,
          9.408960342407227,
          -7.8376054763793945,
          6.016633987426758,
          9.67578411102295,
          9.039210319519043,
          -14.345162391662598,
          -8.948390007019043,
          4.923608303070068,
          0.14578257501125336,
          7.024453163146973,
          5.665395736694336,
          1.9020390510559082,
          -7.345735549926758,
          5.021218776702881,
          9.693334579467773,
          -3.0351171493530273,
          6.236103534698486,
          4.130809307098389,
          0.5616766810417175,
          -7.027587413787842,
          9.303947448730469,
          9.687435150146484,
          -14.345072746276855,
          -6.919947624206543,
          3.8217484951019287,
          8.789145469665527,
          -11.105463981628418,
          -8.968417167663574,
          -8.101035118103027,
          -16.59760093688965,
          0.0253911055624485,
          1.8170746564865112,
          15.91752815246582,
          -6.609035015106201,
          -8.278915405273438,
          16.44933319091797,
          9.393083572387695,
          8.865165710449219,
          -6.403587818145752,
          -8.317153930664062,
          10.862557411193848,
          -8.068979263305664,
          7.313282012939453,
          4.562652111053467,
          9.590699195861816,
          4.30778694152832,
          4.921889305114746,
          -14.664508819580078,
          6.368508815765381,
          -7.594666481018066,
          -7.13192892074585,
          3.3950393199920654,
          6.384775161743164,
          -16.59762954711914,
          -8.800718307495117,
          6.199376106262207,
          -14.664649963378906,
          12.046886444091797,
          15.151779174804688,
          0.16296003758907318,
          -7.722941875457764,
          7.911543846130371,
          0.15354910492897034,
          -16.5200138092041,
          -6.407297134399414,
          5.960451602935791,
          -8.1129732131958,
          -8.985494613647461,
          -0.27581965923309326,
          6.017344951629639,
          -7.461069583892822,
          9.701014518737793,
          -7.983551979064941,
          -2.9020674228668213,
          -8.949728965759277,
          -9.191255569458008,
          -6.347016334533691,
          16.44516944885254,
          -8.720046043395996,
          4.956728935241699,
          -8.851364135742188,
          -7.486583232879639,
          -4.151013374328613,
          -1.2029978036880493,
          4.05459451675415,
          16.464250564575195,
          6.955206871032715,
          -8.86854076385498,
          9.708580017089844,
          -6.994531631469727,
          -7.515912055969238,
          0.6908672451972961,
          -8.398286819458008,
          9.983468055725098,
          4.930042743682861,
          5.348289966583252,
          3.8172812461853027,
          -16.597623825073242,
          -0.12159527093172073,
          15.151779174804688,
          -11.017486572265625,
          6.610161304473877,
          6.955207347869873,
          5.097860336303711,
          4.7661848068237305,
          -7.4681878089904785,
          -9.891300201416016,
          -7.741833209991455,
          7.896535396575928,
          5.966486930847168,
          -6.669854640960693,
          -14.388018608093262,
          6.400660991668701,
          -7.397418022155762,
          -8.190144538879395,
          -8.994172096252441,
          -9.819893836975098,
          7.554340362548828,
          -7.040305137634277,
          5.093695163726807,
          4.52869176864624,
          9.443586349487305,
          6.056748867034912,
          -8.721211433410645,
          -11.9129056930542,
          7.571389198303223,
          5.364551067352295,
          8.789149284362793,
          9.98352336883545,
          -11.878499031066895,
          5.033782958984375,
          4.207118511199951,
          3.9935948848724365,
          16.200786590576172,
          -14.344986915588379,
          -0.3329361081123352,
          -14.344944953918457,
          -9.619122505187988,
          4.368470668792725,
          -16.71720314025879,
          5.299760341644287,
          0.1515759825706482,
          -0.1693212389945984,
          -11.846321105957031,
          16.270740509033203,
          -16.71721076965332,
          1.9417306184768677,
          6.041962623596191,
          -3.149827003479004,
          4.04887580871582,
          -0.28888997435569763,
          -9.619186401367188,
          9.067216873168945,
          -6.997363090515137,
          4.538950443267822,
          -59.95836639404297,
          7.908390998840332,
          6.385522365570068,
          6.076305389404297,
          4.42469596862793,
          5.468149662017822,
          5.839178562164307,
          5.854165554046631,
          -8.395703315734863,
          -7.489809513092041,
          16.269908905029297,
          7.231067657470703,
          3.281049966812134,
          -7.059390544891357,
          15.151592254638672,
          -1.999041199684143,
          0.42804139852523804,
          -8.856650352478027,
          -1.721412181854248,
          0.5420912504196167,
          15.151779174804688,
          -12.129205703735352,
          9.30298137664795,
          -14.344991683959961,
          -9.012248992919922,
          7.024454116821289,
          -7.476257801055908,
          -4.688215255737305,
          6.610947132110596,
          4.745752811431885,
          -8.058431625366211,
          7.568819522857666,
          -0.33570873737335205,
          -1.7214114665985107,
          12.046884536743164,
          -1.721411943435669,
          -7.735767841339111,
          0.16294552385807037,
          -14.344756126403809,
          -16.716665267944336,
          10.862525939941406,
          -8.492647171020508,
          15.972724914550781,
          16.275888442993164,
          12.046833038330078,
          -14.379419326782227,
          -4.1510138511657715,
          -0.32159918546676636,
          9.983467102050781,
          -11.808915138244629,
          -8.762785911560059,
          7.882796764373779,
          -6.384263515472412,
          -9.335663795471191,
          -0.03849141299724579,
          -1.7214125394821167,
          -4.1510419845581055,
          -1.7213566303253174,
          5.410297870635986,
          -10.682382583618164,
          -7.560331344604492,
          1.8140326738357544,
          -0.12638840079307556,
          9.440791130065918,
          -4.613557815551758,
          8.789093017578125,
          12.067876815795898,
          2.0961434841156006,
          14.647417068481445,
          3.355055809020996,
          -9.041705131530762,
          16.449886322021484,
          7.35939359664917,
          7.024454116821289,
          0.5438123941421509,
          -16.597360610961914,
          -2.493295431137085,
          -5.037047386169434,
          4.737953186035156,
          7.074261665344238,
          -0.21942022442817688,
          -4.660645484924316,
          0.9044435620307922,
          -6.37460994720459,
          -6.002171039581299,
          4.7517876625061035,
          5.826344013214111,
          12.046858787536621,
          16.4361515045166,
          4.698781490325928,
          4.181084632873535,
          -14.345062255859375,
          -7.745399475097656,
          -7.737691879272461,
          15.151780128479004,
          4.562187671661377,
          3.3950343132019043,
          3.4994826316833496,
          6.0568528175354,
          -8.354944229125977,
          7.602407932281494,
          -0.02195887453854084,
          -4.688217639923096,
          6.051347255706787,
          16.464515686035156,
          -1.162131905555725,
          -11.294673919677734,
          -14.388019561767578,
          6.955207347869873,
          -4.877252101898193,
          3.6890084743499756,
          5.101839065551758,
          3.3950328826904297,
          16.44900894165039,
          9.452302932739258,
          15.701093673706055,
          -11.394617080688477,
          4.555353164672852,
          2.0795934200286865,
          -14.664326667785645,
          16.229745864868164,
          -8.806376457214355,
          -11.914013862609863,
          5.903170585632324,
          -4.151020050048828,
          7.568387985229492,
          0.29086965322494507,
          -1.1618951559066772,
          7.718240261077881,
          0.573017418384552,
          -1.212799310684204,
          -4.151013374328613,
          -4.688213348388672,
          4.635944366455078,
          0.4494815170764923,
          -4.15101432800293,
          4.646544456481934,
          -9.83015251159668,
          9.983475685119629,
          5.858809471130371,
          -5.921192169189453,
          9.452177047729492,
          1.814292073249817,
          -6.621100425720215,
          5.074256896972656,
          6.208736419677734,
          9.353349685668945,
          -3.2070932388305664,
          1.8153637647628784,
          0.5738272070884705,
          -11.349780082702637,
          7.259477138519287,
          -1.1619110107421875,
          -4.148702144622803,
          15.151704788208008,
          -5.935964584350586,
          3.395033121109009,
          9.04074478149414,
          -6.046474456787109,
          1.8162977695465088,
          16.162500381469727,
          -4.68821382522583,
          4.407230854034424,
          4.407588958740234,
          15.064546585083008,
          8.891660690307617,
          5.805159568786621,
          -8.131834983825684,
          15.151779174804688,
          -4.688213348388672,
          15.151779174804688,
          -4.1510138511657715,
          -12.167125701904297,
          -1.1359201669692993,
          1.8140320777893066,
          -8.835367202758789,
          -6.002200126647949,
          -14.66464900970459,
          -7.000569820404053,
          8.97390079498291,
          -17.022563934326172,
          9.814624786376953,
          -7.540838241577148,
          0.16288971900939941,
          -11.820491790771484,
          6.166128158569336,
          -6.662749767303467,
          -1.7194616794586182,
          -8.744023323059082,
          4.407654285430908,
          -8.804265975952148,
          7.5713887214660645,
          -8.790973663330078,
          -7.612656116485596,
          7.991881370544434,
          -11.325817108154297,
          9.305887222290039,
          -7.491322994232178,
          9.830163955688477,
          -7.95581579208374,
          6.170510768890381,
          -9.889871597290039,
          -5.144629001617432,
          -7.650582313537598,
          -8.371999740600586,
          5.960965156555176,
          4.287723064422607,
          6.735981464385986,
          -3.3324005603790283,
          9.690886497497559,
          0.16296714544296265,
          4.728164196014404,
          -9.275097846984863,
          -1.9990544319152832,
          10.862565040588379,
          -16.717267990112305,
          3.0182547569274902,
          0.16291268169879913,
          12.04688549041748,
          0.16290314495563507,
          7.570830821990967,
          -4.744070529937744,
          6.051419734954834,
          14.151405334472656,
          6.621766090393066,
          7.905301570892334,
          -8.60315990447998,
          16.409025192260742,
          15.151779174804688,
          5.098059177398682
         ],
         "yaxis": "y"
        }
       ],
       "layout": {
        "legend": {
         "tracegroupgap": 0
        },
        "margin": {
         "t": 60
        },
        "template": {
         "data": {
          "bar": [
           {
            "error_x": {
             "color": "#2a3f5f"
            },
            "error_y": {
             "color": "#2a3f5f"
            },
            "marker": {
             "line": {
              "color": "#E5ECF6",
              "width": 0.5
             },
             "pattern": {
              "fillmode": "overlay",
              "size": 10,
              "solidity": 0.2
             }
            },
            "type": "bar"
           }
          ],
          "barpolar": [
           {
            "marker": {
             "line": {
              "color": "#E5ECF6",
              "width": 0.5
             },
             "pattern": {
              "fillmode": "overlay",
              "size": 10,
              "solidity": 0.2
             }
            },
            "type": "barpolar"
           }
          ],
          "carpet": [
           {
            "aaxis": {
             "endlinecolor": "#2a3f5f",
             "gridcolor": "white",
             "linecolor": "white",
             "minorgridcolor": "white",
             "startlinecolor": "#2a3f5f"
            },
            "baxis": {
             "endlinecolor": "#2a3f5f",
             "gridcolor": "white",
             "linecolor": "white",
             "minorgridcolor": "white",
             "startlinecolor": "#2a3f5f"
            },
            "type": "carpet"
           }
          ],
          "choropleth": [
           {
            "colorbar": {
             "outlinewidth": 0,
             "ticks": ""
            },
            "type": "choropleth"
           }
          ],
          "contour": [
           {
            "colorbar": {
             "outlinewidth": 0,
             "ticks": ""
            },
            "colorscale": [
             [
              0,
              "#0d0887"
             ],
             [
              0.1111111111111111,
              "#46039f"
             ],
             [
              0.2222222222222222,
              "#7201a8"
             ],
             [
              0.3333333333333333,
              "#9c179e"
             ],
             [
              0.4444444444444444,
              "#bd3786"
             ],
             [
              0.5555555555555556,
              "#d8576b"
             ],
             [
              0.6666666666666666,
              "#ed7953"
             ],
             [
              0.7777777777777778,
              "#fb9f3a"
             ],
             [
              0.8888888888888888,
              "#fdca26"
             ],
             [
              1,
              "#f0f921"
             ]
            ],
            "type": "contour"
           }
          ],
          "contourcarpet": [
           {
            "colorbar": {
             "outlinewidth": 0,
             "ticks": ""
            },
            "type": "contourcarpet"
           }
          ],
          "heatmap": [
           {
            "colorbar": {
             "outlinewidth": 0,
             "ticks": ""
            },
            "colorscale": [
             [
              0,
              "#0d0887"
             ],
             [
              0.1111111111111111,
              "#46039f"
             ],
             [
              0.2222222222222222,
              "#7201a8"
             ],
             [
              0.3333333333333333,
              "#9c179e"
             ],
             [
              0.4444444444444444,
              "#bd3786"
             ],
             [
              0.5555555555555556,
              "#d8576b"
             ],
             [
              0.6666666666666666,
              "#ed7953"
             ],
             [
              0.7777777777777778,
              "#fb9f3a"
             ],
             [
              0.8888888888888888,
              "#fdca26"
             ],
             [
              1,
              "#f0f921"
             ]
            ],
            "type": "heatmap"
           }
          ],
          "heatmapgl": [
           {
            "colorbar": {
             "outlinewidth": 0,
             "ticks": ""
            },
            "colorscale": [
             [
              0,
              "#0d0887"
             ],
             [
              0.1111111111111111,
              "#46039f"
             ],
             [
              0.2222222222222222,
              "#7201a8"
             ],
             [
              0.3333333333333333,
              "#9c179e"
             ],
             [
              0.4444444444444444,
              "#bd3786"
             ],
             [
              0.5555555555555556,
              "#d8576b"
             ],
             [
              0.6666666666666666,
              "#ed7953"
             ],
             [
              0.7777777777777778,
              "#fb9f3a"
             ],
             [
              0.8888888888888888,
              "#fdca26"
             ],
             [
              1,
              "#f0f921"
             ]
            ],
            "type": "heatmapgl"
           }
          ],
          "histogram": [
           {
            "marker": {
             "pattern": {
              "fillmode": "overlay",
              "size": 10,
              "solidity": 0.2
             }
            },
            "type": "histogram"
           }
          ],
          "histogram2d": [
           {
            "colorbar": {
             "outlinewidth": 0,
             "ticks": ""
            },
            "colorscale": [
             [
              0,
              "#0d0887"
             ],
             [
              0.1111111111111111,
              "#46039f"
             ],
             [
              0.2222222222222222,
              "#7201a8"
             ],
             [
              0.3333333333333333,
              "#9c179e"
             ],
             [
              0.4444444444444444,
              "#bd3786"
             ],
             [
              0.5555555555555556,
              "#d8576b"
             ],
             [
              0.6666666666666666,
              "#ed7953"
             ],
             [
              0.7777777777777778,
              "#fb9f3a"
             ],
             [
              0.8888888888888888,
              "#fdca26"
             ],
             [
              1,
              "#f0f921"
             ]
            ],
            "type": "histogram2d"
           }
          ],
          "histogram2dcontour": [
           {
            "colorbar": {
             "outlinewidth": 0,
             "ticks": ""
            },
            "colorscale": [
             [
              0,
              "#0d0887"
             ],
             [
              0.1111111111111111,
              "#46039f"
             ],
             [
              0.2222222222222222,
              "#7201a8"
             ],
             [
              0.3333333333333333,
              "#9c179e"
             ],
             [
              0.4444444444444444,
              "#bd3786"
             ],
             [
              0.5555555555555556,
              "#d8576b"
             ],
             [
              0.6666666666666666,
              "#ed7953"
             ],
             [
              0.7777777777777778,
              "#fb9f3a"
             ],
             [
              0.8888888888888888,
              "#fdca26"
             ],
             [
              1,
              "#f0f921"
             ]
            ],
            "type": "histogram2dcontour"
           }
          ],
          "mesh3d": [
           {
            "colorbar": {
             "outlinewidth": 0,
             "ticks": ""
            },
            "type": "mesh3d"
           }
          ],
          "parcoords": [
           {
            "line": {
             "colorbar": {
              "outlinewidth": 0,
              "ticks": ""
             }
            },
            "type": "parcoords"
           }
          ],
          "pie": [
           {
            "automargin": true,
            "type": "pie"
           }
          ],
          "scatter": [
           {
            "marker": {
             "colorbar": {
              "outlinewidth": 0,
              "ticks": ""
             }
            },
            "type": "scatter"
           }
          ],
          "scatter3d": [
           {
            "line": {
             "colorbar": {
              "outlinewidth": 0,
              "ticks": ""
             }
            },
            "marker": {
             "colorbar": {
              "outlinewidth": 0,
              "ticks": ""
             }
            },
            "type": "scatter3d"
           }
          ],
          "scattercarpet": [
           {
            "marker": {
             "colorbar": {
              "outlinewidth": 0,
              "ticks": ""
             }
            },
            "type": "scattercarpet"
           }
          ],
          "scattergeo": [
           {
            "marker": {
             "colorbar": {
              "outlinewidth": 0,
              "ticks": ""
             }
            },
            "type": "scattergeo"
           }
          ],
          "scattergl": [
           {
            "marker": {
             "colorbar": {
              "outlinewidth": 0,
              "ticks": ""
             }
            },
            "type": "scattergl"
           }
          ],
          "scattermapbox": [
           {
            "marker": {
             "colorbar": {
              "outlinewidth": 0,
              "ticks": ""
             }
            },
            "type": "scattermapbox"
           }
          ],
          "scatterpolar": [
           {
            "marker": {
             "colorbar": {
              "outlinewidth": 0,
              "ticks": ""
             }
            },
            "type": "scatterpolar"
           }
          ],
          "scatterpolargl": [
           {
            "marker": {
             "colorbar": {
              "outlinewidth": 0,
              "ticks": ""
             }
            },
            "type": "scatterpolargl"
           }
          ],
          "scatterternary": [
           {
            "marker": {
             "colorbar": {
              "outlinewidth": 0,
              "ticks": ""
             }
            },
            "type": "scatterternary"
           }
          ],
          "surface": [
           {
            "colorbar": {
             "outlinewidth": 0,
             "ticks": ""
            },
            "colorscale": [
             [
              0,
              "#0d0887"
             ],
             [
              0.1111111111111111,
              "#46039f"
             ],
             [
              0.2222222222222222,
              "#7201a8"
             ],
             [
              0.3333333333333333,
              "#9c179e"
             ],
             [
              0.4444444444444444,
              "#bd3786"
             ],
             [
              0.5555555555555556,
              "#d8576b"
             ],
             [
              0.6666666666666666,
              "#ed7953"
             ],
             [
              0.7777777777777778,
              "#fb9f3a"
             ],
             [
              0.8888888888888888,
              "#fdca26"
             ],
             [
              1,
              "#f0f921"
             ]
            ],
            "type": "surface"
           }
          ],
          "table": [
           {
            "cells": {
             "fill": {
              "color": "#EBF0F8"
             },
             "line": {
              "color": "white"
             }
            },
            "header": {
             "fill": {
              "color": "#C8D4E3"
             },
             "line": {
              "color": "white"
             }
            },
            "type": "table"
           }
          ]
         },
         "layout": {
          "annotationdefaults": {
           "arrowcolor": "#2a3f5f",
           "arrowhead": 0,
           "arrowwidth": 1
          },
          "autotypenumbers": "strict",
          "coloraxis": {
           "colorbar": {
            "outlinewidth": 0,
            "ticks": ""
           }
          },
          "colorscale": {
           "diverging": [
            [
             0,
             "#8e0152"
            ],
            [
             0.1,
             "#c51b7d"
            ],
            [
             0.2,
             "#de77ae"
            ],
            [
             0.3,
             "#f1b6da"
            ],
            [
             0.4,
             "#fde0ef"
            ],
            [
             0.5,
             "#f7f7f7"
            ],
            [
             0.6,
             "#e6f5d0"
            ],
            [
             0.7,
             "#b8e186"
            ],
            [
             0.8,
             "#7fbc41"
            ],
            [
             0.9,
             "#4d9221"
            ],
            [
             1,
             "#276419"
            ]
           ],
           "sequential": [
            [
             0,
             "#0d0887"
            ],
            [
             0.1111111111111111,
             "#46039f"
            ],
            [
             0.2222222222222222,
             "#7201a8"
            ],
            [
             0.3333333333333333,
             "#9c179e"
            ],
            [
             0.4444444444444444,
             "#bd3786"
            ],
            [
             0.5555555555555556,
             "#d8576b"
            ],
            [
             0.6666666666666666,
             "#ed7953"
            ],
            [
             0.7777777777777778,
             "#fb9f3a"
            ],
            [
             0.8888888888888888,
             "#fdca26"
            ],
            [
             1,
             "#f0f921"
            ]
           ],
           "sequentialminus": [
            [
             0,
             "#0d0887"
            ],
            [
             0.1111111111111111,
             "#46039f"
            ],
            [
             0.2222222222222222,
             "#7201a8"
            ],
            [
             0.3333333333333333,
             "#9c179e"
            ],
            [
             0.4444444444444444,
             "#bd3786"
            ],
            [
             0.5555555555555556,
             "#d8576b"
            ],
            [
             0.6666666666666666,
             "#ed7953"
            ],
            [
             0.7777777777777778,
             "#fb9f3a"
            ],
            [
             0.8888888888888888,
             "#fdca26"
            ],
            [
             1,
             "#f0f921"
            ]
           ]
          },
          "colorway": [
           "#636efa",
           "#EF553B",
           "#00cc96",
           "#ab63fa",
           "#FFA15A",
           "#19d3f3",
           "#FF6692",
           "#B6E880",
           "#FF97FF",
           "#FECB52"
          ],
          "font": {
           "color": "#2a3f5f"
          },
          "geo": {
           "bgcolor": "white",
           "lakecolor": "white",
           "landcolor": "#E5ECF6",
           "showlakes": true,
           "showland": true,
           "subunitcolor": "white"
          },
          "hoverlabel": {
           "align": "left"
          },
          "hovermode": "closest",
          "mapbox": {
           "style": "light"
          },
          "paper_bgcolor": "white",
          "plot_bgcolor": "#E5ECF6",
          "polar": {
           "angularaxis": {
            "gridcolor": "white",
            "linecolor": "white",
            "ticks": ""
           },
           "bgcolor": "#E5ECF6",
           "radialaxis": {
            "gridcolor": "white",
            "linecolor": "white",
            "ticks": ""
           }
          },
          "scene": {
           "xaxis": {
            "backgroundcolor": "#E5ECF6",
            "gridcolor": "white",
            "gridwidth": 2,
            "linecolor": "white",
            "showbackground": true,
            "ticks": "",
            "zerolinecolor": "white"
           },
           "yaxis": {
            "backgroundcolor": "#E5ECF6",
            "gridcolor": "white",
            "gridwidth": 2,
            "linecolor": "white",
            "showbackground": true,
            "ticks": "",
            "zerolinecolor": "white"
           },
           "zaxis": {
            "backgroundcolor": "#E5ECF6",
            "gridcolor": "white",
            "gridwidth": 2,
            "linecolor": "white",
            "showbackground": true,
            "ticks": "",
            "zerolinecolor": "white"
           }
          },
          "shapedefaults": {
           "line": {
            "color": "#2a3f5f"
           }
          },
          "ternary": {
           "aaxis": {
            "gridcolor": "white",
            "linecolor": "white",
            "ticks": ""
           },
           "baxis": {
            "gridcolor": "white",
            "linecolor": "white",
            "ticks": ""
           },
           "bgcolor": "#E5ECF6",
           "caxis": {
            "gridcolor": "white",
            "linecolor": "white",
            "ticks": ""
           }
          },
          "title": {
           "x": 0.05
          },
          "xaxis": {
           "automargin": true,
           "gridcolor": "white",
           "linecolor": "white",
           "ticks": "",
           "title": {
            "standoff": 15
           },
           "zerolinecolor": "white",
           "zerolinewidth": 2
          },
          "yaxis": {
           "automargin": true,
           "gridcolor": "white",
           "linecolor": "white",
           "ticks": "",
           "title": {
            "standoff": 15
           },
           "zerolinecolor": "white",
           "zerolinewidth": 2
          }
         }
        },
        "xaxis": {
         "anchor": "y",
         "domain": [
          0,
          1
         ],
         "title": {
          "text": "x"
         }
        },
        "yaxis": {
         "anchor": "x",
         "domain": [
          0,
          1
         ],
         "title": {
          "text": "y"
         }
        }
       }
      }
     },
     "metadata": {},
     "output_type": "display_data"
    }
   ],
   "source": [
    "# x and y given as DataFrame columns\n",
    "import plotly.express as px\n",
    "fig = px.scatter(df_outcome_features_45, x=\"x\", y=\"y\")\n",
    "fig.show()"
   ]
  },
  {
   "cell_type": "code",
   "execution_count": 59,
   "metadata": {},
   "outputs": [
    {
     "data": {
      "image/png": "[encoded data removed]",
      "text/plain": [
       "<Figure size 432x288 with 1 Axes>"
      ]
     },
     "metadata": {
      "needs_background": "light"
     },
     "output_type": "display_data"
    }
   ],
   "source": [
    "import matplotlib.pyplot as plt\n",
    "# Plot t-SNE by using .pyplot\n",
    "X = tsne_features_45[:,0]\n",
    "y = tsne_features_45[:,1]\n",
    "\n",
    "plt.scatter(X, y)\n",
    "plt.show()"
   ]
  },
  {
   "cell_type": "markdown",
   "metadata": {},
   "source": [
    "### t-SNE with perplexity equals to 50 and PCA(n_components=0.9)"
   ]
  },
  {
   "cell_type": "code",
   "execution_count": 60,
   "metadata": {},
   "outputs": [
    {
     "data": {
      "text/plain": [
       "(532, 2)"
      ]
     },
     "execution_count": 60,
     "metadata": {},
     "output_type": "execute_result"
    }
   ],
   "source": [
    "# Reduce dimensions with t-SNE\n",
    "tsne = TSNE(perplexity=50)\n",
    "tsne_features_50 = tsne.fit_transform(outcome_pca)\n",
    "tsne_features_50.shape"
   ]
  },
  {
   "cell_type": "code",
   "execution_count": 61,
   "metadata": {},
   "outputs": [
    {
     "data": {
      "text/plain": [
       "array([[ -7.0334406,   5.1276417],\n",
       "       [ -5.022353 ,   8.242619 ],\n",
       "       [-18.628828 ,   5.1471767],\n",
       "       ...,\n",
       "       [  4.51079  , -14.463081 ],\n",
       "       [ 13.286026 ,   1.2739608],\n",
       "       [ -3.7373607,  -3.6502855]], dtype=float32)"
      ]
     },
     "execution_count": 61,
     "metadata": {},
     "output_type": "execute_result"
    }
   ],
   "source": [
    "tsne_features_50"
   ]
  },
  {
   "cell_type": "code",
   "execution_count": 62,
   "metadata": {},
   "outputs": [
    {
     "data": {
      "text/html": [
       "<div>\n",
       "<style scoped>\n",
       "    .dataframe tbody tr th:only-of-type {\n",
       "        vertical-align: middle;\n",
       "    }\n",
       "\n",
       "    .dataframe tbody tr th {\n",
       "        vertical-align: top;\n",
       "    }\n",
       "\n",
       "    .dataframe thead th {\n",
       "        text-align: right;\n",
       "    }\n",
       "</style>\n",
       "<table border=\"1\" class=\"dataframe\">\n",
       "  <thead>\n",
       "    <tr style=\"text-align: right;\">\n",
       "      <th></th>\n",
       "      <th>x</th>\n",
       "      <th>y</th>\n",
       "    </tr>\n",
       "  </thead>\n",
       "  <tbody>\n",
       "    <tr>\n",
       "      <th>0</th>\n",
       "      <td>-7.033441</td>\n",
       "      <td>5.127642</td>\n",
       "    </tr>\n",
       "    <tr>\n",
       "      <th>1</th>\n",
       "      <td>-5.022353</td>\n",
       "      <td>8.242619</td>\n",
       "    </tr>\n",
       "    <tr>\n",
       "      <th>2</th>\n",
       "      <td>-18.628828</td>\n",
       "      <td>5.147177</td>\n",
       "    </tr>\n",
       "    <tr>\n",
       "      <th>3</th>\n",
       "      <td>14.393146</td>\n",
       "      <td>-10.366433</td>\n",
       "    </tr>\n",
       "    <tr>\n",
       "      <th>4</th>\n",
       "      <td>11.528663</td>\n",
       "      <td>-3.823332</td>\n",
       "    </tr>\n",
       "  </tbody>\n",
       "</table>\n",
       "</div>"
      ],
      "text/plain": [
       "           x          y\n",
       "0  -7.033441   5.127642\n",
       "1  -5.022353   8.242619\n",
       "2 -18.628828   5.147177\n",
       "3  14.393146 -10.366433\n",
       "4  11.528663  -3.823332"
      ]
     },
     "execution_count": 62,
     "metadata": {},
     "output_type": "execute_result"
    }
   ],
   "source": [
    "# Transform PCA data to a DataFrame\n",
    "df_outcome_tsne = pd.DataFrame(\n",
    "    data=tsne_features_50, columns=['x','y']\n",
    ")\n",
    "df_outcome_tsne.head()"
   ]
  },
  {
   "cell_type": "code",
   "execution_count": 63,
   "metadata": {},
   "outputs": [
    {
     "data": {
      "application/vnd.plotly.v1+json": {
       "config": {
        "plotlyServerURL": "https://plot.ly"
       },
       "data": [
        {
         "hovertemplate": "x=%{x}<br>y=%{y}<extra></extra>",
         "legendgroup": "",
         "marker": {
          "color": "#636efa",
          "symbol": "circle"
         },
         "mode": "markers",
         "name": "",
         "orientation": "v",
         "showlegend": false,
         "type": "scatter",
         "x": [
          -7.033440589904785,
          -5.022353172302246,
          -18.628828048706055,
          14.393145561218262,
          11.52866268157959,
          4.409379959106445,
          -14.044315338134766,
          9.672975540161133,
          11.52866268157959,
          13.286040306091309,
          2.2115318775177,
          9.640607833862305,
          16.008819580078125,
          16.097959518432617,
          4.9864301681518555,
          -11.138265609741211,
          2.0689096450805664,
          4.3362627029418945,
          -6.315972328186035,
          -4.251445293426514,
          9.64224910736084,
          2.756838798522949,
          14.29737663269043,
          4.190783977508545,
          4.346370697021484,
          -5.094640731811523,
          -10.926095962524414,
          -5.611577987670898,
          5.340430736541748,
          -6.915820598602295,
          4.314637660980225,
          -6.996827602386475,
          5.504472732543945,
          1.5807113647460938,
          -0.04141498729586601,
          -5.629770755767822,
          9.640111923217773,
          13.725111961364746,
          1.648485541343689,
          4.902649402618408,
          3.6365232467651367,
          5.520543098449707,
          -6.283051490783691,
          0.15118476748466492,
          4.495757102966309,
          5.244967937469482,
          2.681588649749756,
          4.998236179351807,
          4.383242607116699,
          -5.064089775085449,
          -2.7992172241210938,
          2.744994878768921,
          -12.897754669189453,
          14.440679550170898,
          3.9710676670074463,
          4.261783599853516,
          5.22549295425415,
          -3.1383349895477295,
          4.924785137176514,
          6.908637046813965,
          -3.3381619453430176,
          5.384138584136963,
          16.206600189208984,
          -3.4757449626922607,
          -18.92464256286621,
          1.7113348245620728,
          14.14853572845459,
          3.3745250701904297,
          -18.924955368041992,
          5.171136379241943,
          -4.230048179626465,
          -5.360243320465088,
          -7.582821369171143,
          5.599618911743164,
          4.800882816314697,
          4.944972515106201,
          -2.7991130352020264,
          -13.038680076599121,
          14.019181251525879,
          9.648943901062012,
          14.080342292785645,
          -8.75998592376709,
          -12.903976440429688,
          14.513720512390137,
          14.143603324890137,
          14.205924034118652,
          2.3449504375457764,
          -5.341606616973877,
          -5.222615718841553,
          5.5304856300354,
          -0.6154505610466003,
          4.574071407318115,
          4.208838939666748,
          -13.402568817138672,
          9.647920608520508,
          14.352255821228027,
          -18.92485809326172,
          -4.403583526611328,
          3.6926891803741455,
          4.251424312591553,
          -0.015288623981177807,
          -2.9768216609954834,
          4.879543781280518,
          16.008777618408203,
          -5.630150318145752,
          2.7049431800842285,
          -3.7354817390441895,
          4.176980018615723,
          -18.924867630004883,
          4.982709884643555,
          -3.6838061809539795,
          4.345831871032715,
          -7.042428970336914,
          -18.924949645996094,
          2.713164806365967,
          7.42289924621582,
          -2.7991092205047607,
          9.641611099243164,
          1.8787541389465332,
          4.453800678253174,
          -6.0356364250183105,
          1.7335001230239868,
          6.300622463226318,
          4.813209533691406,
          14.514723777770996,
          2.2604522705078125,
          -13.033507347106934,
          -2.8548240661621094,
          1.7997705936431885,
          8.127542495727539,
          13.796103477478027,
          -9.069378852844238,
          1.6545273065567017,
          -0.15625298023223877,
          4.864821910858154,
          4.575809955596924,
          -3.815474033355713,
          11.52866268157959,
          -18.924938201904297,
          4.883645534515381,
          16.211137771606445,
          -11.141291618347168,
          2.349278450012207,
          14.532880783081055,
          -3.3131117820739746,
          3.8492705821990967,
          3.6422953605651855,
          16.21527862548828,
          -14.223730087280273,
          4.4407525062561035,
          16.011133193969727,
          13.705229759216309,
          -8.861367225646973,
          -5.597263336181641,
          -3.7375741004943848,
          1.7161380052566528,
          9.07495403289795,
          5.169589519500732,
          4.379720211029053,
          -14.144957542419434,
          -2.999218702316284,
          16.0087890625,
          -0.04245564714074135,
          -6.237544059753418,
          5.605067253112793,
          2.017059803009033,
          -13.517398834228516,
          16.214805603027344,
          16.214080810546875,
          -8.864727020263672,
          -13.218527793884277,
          4.814646244049072,
          6.490034103393555,
          -5.329263687133789,
          -6.055609226226807,
          -5.043489456176758,
          -19.576330184936523,
          1.5804297924041748,
          -2.7995805740356445,
          13.687682151794434,
          -12.938223838806152,
          -5.79869270324707,
          4.334596633911133,
          16.008821487426758,
          13.879634857177734,
          -13.786476135253906,
          -6.704218864440918,
          9.641600608825684,
          -6.816037654876709,
          4.479281425476074,
          -3.8716909885406494,
          13.87653636932373,
          -0.4136025011539459,
          4.298284530639648,
          -12.524895668029785,
          -6.494318962097168,
          -5.601864814758301,
          -13.564013481140137,
          7.993519306182861,
          -6.495143413543701,
          -19.57465934753418,
          -9.253236770629883,
          -6.494401931762695,
          -12.515020370483398,
          11.52866268157959,
          13.286038398742676,
          -3.2161409854888916,
          -13.972518920898438,
          1.8627375364303589,
          2.2838287353515625,
          -18.841041564941406,
          -13.216263771057129,
          -6.311724662780762,
          -5.871631622314453,
          -6.085029125213623,
          2.2396240234375,
          -6.495805740356445,
          -14.097885131835938,
          16.219039916992188,
          -6.04326057434082,
          -0.43147268891334534,
          -6.377091884613037,
          -4.28395938873291,
          -13.201179504394531,
          4.520446300506592,
          -5.846282005310059,
          -3.2379918098449707,
          -6.302916049957275,
          -6.604367256164551,
          -10.708226203918457,
          1.8453874588012695,
          5.230983257293701,
          4.334357738494873,
          8.127532958984375,
          -4.490197658538818,
          16.219039916992188,
          -13.7280912399292,
          -6.402582168579102,
          2.337785243988037,
          -6.54290771484375,
          9.672974586486816,
          -3.7567996978759766,
          1.0855762958526611,
          4.576911926269531,
          -19.57479476928711,
          1.9179894924163818,
          13.286046981811523,
          -5.164832592010498,
          4.349564552307129,
          8.127495765686035,
          -3.4777467250823975,
          2.349261999130249,
          -13.815763473510742,
          -8.691457748413086,
          -14.129408836364746,
          2.596088409423828,
          -6.2359185218811035,
          -12.922135353088379,
          -8.739449501037598,
          -6.494332790374756,
          -13.988561630249023,
          -6.604916095733643,
          -6.60891580581665,
          -4.246341228485107,
          16.09569549560547,
          -13.475387573242188,
          5.504619598388672,
          -3.8127124309539795,
          14.094622611999512,
          -6.237544536590576,
          -5.935005187988281,
          -11.138105392456055,
          16.097858428955078,
          4.320652961730957,
          6.492483615875244,
          9.672965049743652,
          -9.210530281066895,
          4.78690767288208,
          4.883511543273926,
          7.281984329223633,
          4.503188610076904,
          -8.86225700378418,
          1.5394136905670166,
          -8.86159610748291,
          -10.964802742004395,
          4.927755832672119,
          -18.925823211669922,
          4.291930198669434,
          1.6175594329833984,
          1.9337120056152344,
          -7.7630615234375,
          4.333907127380371,
          -18.92500114440918,
          7.031350135803223,
          2.7400662899017334,
          -3.1541974544525146,
          -4.734177112579346,
          1.9328150749206543,
          -10.965012550354004,
          13.845020294189453,
          -13.703298568725586,
          -3.475611686706543,
          -81.3020248413086,
          1.8583778142929077,
          -6.2360076904296875,
          2.744187831878662,
          4.297147750854492,
          5.321725368499756,
          4.588724613189697,
          4.471822738647461,
          -5.4731011390686035,
          -6.508783340454102,
          4.333556652069092,
          2.216247320175171,
          -5.128581523895264,
          -13.219902992248535,
          13.286236763000488,
          5.171170234680176,
          2.0518558025360107,
          -6.913968086242676,
          5.245236396789551,
          4.575500965118408,
          13.286027908325195,
          -8.082114219665527,
          16.00871467590332,
          -8.861268043518066,
          -8.761033058166504,
          9.074563026428223,
          -6.698231220245361,
          -11.06723690032959,
          4.346142292022705,
          -4.178225994110107,
          -5.985159873962402,
          16.096435546875,
          2.3086836338043213,
          5.244983673095703,
          11.52866268157959,
          5.245427131652832,
          -13.097445487976074,
          -3.216407299041748,
          -8.860845565795898,
          -18.92395782470703,
          9.640909194946289,
          -4.801700592041016,
          4.162992477416992,
          4.3346405029296875,
          11.5286226272583,
          -8.8145112991333,
          -10.708226203918457,
          1.7618293762207031,
          9.67296314239502,
          -7.715998649597168,
          -5.308393478393555,
          1.8376898765563965,
          -13.971986770629883,
          -3.289214849472046,
          2.2574756145477295,
          5.245468616485596,
          -10.708227157592773,
          5.24552583694458,
          5.1954474449157715,
          -4.792850494384766,
          -7.0079569816589355,
          -2.7991092205047607,
          1.541764259338379,
          14.526217460632324,
          -5.714011192321777,
          6.491443634033203,
          11.52658748626709,
          -0.9674456119537354,
          3.262671947479248,
          3.2049310207366943,
          -4.368167400360107,
          4.519415855407715,
          1.6375994682312012,
          9.074992179870605,
          4.5741868019104,
          -19.575281143188477,
          -1.6918433904647827,
          -1.7049245834350586,
          4.95219612121582,
          1.687182903289795,
          1.74019455909729,
          -5.748321056365967,
          -0.655052900314331,
          -14.051175117492676,
          -0.8179808855056763,
          -3.8725650310516357,
          -2.501628875732422,
          11.528637886047363,
          4.322072982788086,
          4.35460090637207,
          6.071107864379883,
          -8.862083435058594,
          -6.804235935211182,
          -7.019143104553223,
          13.286030769348145,
          -3.8463692665100098,
          7.993555068969727,
          -3.591442823410034,
          -6.311192989349365,
          -5.753730297088623,
          13.857806205749512,
          2.336235523223877,
          -11.067207336425781,
          -6.311339378356934,
          4.520381927490234,
          -0.13530167937278748,
          -5.974693298339844,
          -8.739327430725098,
          8.127440452575684,
          -0.14137214422225952,
          1.9981286525726318,
          -3.4698245525360107,
          7.993524074554443,
          4.519232749938965,
          6.6118998527526855,
          3.984522819519043,
          -6.818751811981201,
          -3.7568583488464355,
          5.470001220703125,
          -12.523064613342285,
          4.315013408660889,
          -5.737736225128174,
          -11.1410493850708,
          2.9503676891326904,
          -10.708230018615723,
          16.09794044494629,
          -3.2289609909057617,
          -0.12192831933498383,
          1.3163676261901855,
          2.3467214107513428,
          -0.18130116164684296,
          -10.708226203918457,
          -11.067203521728516,
          -3.375612497329712,
          4.546339988708496,
          -10.708226203918457,
          5.612216949462891,
          -4.262814521789551,
          9.672962188720703,
          3.6487789154052734,
          -0.7487590909004211,
          6.612635135650635,
          -2.7995593547821045,
          -13.525132179260254,
          -3.7290892601013184,
          -6.495846271514893,
          14.019131660461426,
          -3.2052817344665527,
          -2.7995567321777344,
          1.5572776794433594,
          -6.644731044769287,
          2.207550287246704,
          -0.12191202491521835,
          -1.643457293510437,
          13.286094665527344,
          -0.761987030506134,
          7.993554592132568,
          14.3912353515625,
          -0.8018595576286316,
          -2.7990775108337402,
          4.472498416900635,
          -11.067089080810547,
          5.592132091522217,
          5.590369701385498,
          13.138550758361816,
          7.374868392944336,
          5.064004421234131,
          -6.3322224617004395,
          13.286028861999512,
          -11.067325592041016,
          13.286026954650879,
          -10.708226203918457,
          -8.131816864013672,
          1.8797281980514526,
          -2.7991089820861816,
          -5.765120506286621,
          -0.8179457783699036,
          -12.522643089294434,
          -13.440733909606934,
          14.30814266204834,
          -19.435928344726562,
          13.834738731384277,
          -13.615141868591309,
          -3.215108871459961,
          -7.725396633148193,
          2.279073476791382,
          -12.924002647399902,
          5.244999408721924,
          -5.62126350402832,
          5.591551303863525,
          -6.160966396331787,
          16.097959518432617,
          -6.315954685211182,
          -13.534162521362305,
          2.714310884475708,
          -6.308335304260254,
          16.247467041015625,
          -13.045173645019531,
          14.527789115905762,
          -5.357367038726807,
          2.258434772491455,
          -4.305445671081543,
          -5.611137390136719,
          -13.786344528198242,
          -4.965306758880615,
          -6.227720260620117,
          5.343659400939941,
          4.630366802215576,
          -0.08703746646642685,
          16.00870704650879,
          -3.2164254188537598,
          -3.3706562519073486,
          -4.260345935821533,
          5.171163082122803,
          9.640881538391113,
          -18.924877166748047,
          2.8209729194641113,
          -3.2166762351989746,
          11.52866268157959,
          -3.2167444229125977,
          16.09773063659668,
          0.16354648768901825,
          -6.236048698425293,
          2.9427239894866943,
          -6.827098846435547,
          14.058581352233887,
          -5.337689399719238,
          4.51078987121582,
          13.286026000976562,
          -3.737360715866089
         ],
         "xaxis": "x",
         "y": [
          5.127641677856445,
          8.242618560791016,
          5.147176742553711,
          -10.366433143615723,
          -3.823331832885742,
          0.094826340675354,
          0.4557029902935028,
          -0.743902862071991,
          -3.823331117630005,
          1.273871660232544,
          4.268287658691406,
          4.79371452331543,
          -11.339163780212402,
          -9.23047924041748,
          -1.2041847705841064,
          8.898749351501465,
          -7.362349510192871,
          -0.6895840764045715,
          5.469656467437744,
          7.439812183380127,
          4.793761253356934,
          0.31473901867866516,
          -9.643861770629883,
          1.5520312786102295,
          -0.46933677792549133,
          5.2813544273376465,
          -5.569244384765625,
          12.587435722351074,
          -0.3575133681297302,
          4.887075424194336,
          -1.2467244863510132,
          5.106894493103027,
          -1.264352560043335,
          -7.5736517906188965,
          5.740697383880615,
          12.563244819641113,
          4.793703556060791,
          -10.26632308959961,
          0.04652349650859833,
          -0.9287981986999512,
          1.6509149074554443,
          -0.6421970129013062,
          -8.904032707214355,
          1.760869026184082,
          -1.5800260305404663,
          10.401132583618164,
          -1.4798805713653564,
          0.15699566900730133,
          -0.24468109011650085,
          5.715229034423828,
          -7.544142723083496,
          0.3384217619895935,
          0.7338041067123413,
          -9.742520332336426,
          1.6114380359649658,
          -0.9894225001335144,
          -1.6645681858062744,
          5.1056599617004395,
          -0.4730048179626465,
          -2.802354335784912,
          -3.76364803314209,
          -1.3569432497024536,
          -11.105849266052246,
          -4.041210174560547,
          4.722111701965332,
          -0.486689954996109,
          -10.510536193847656,
          1.5846449136734009,
          4.72370719909668,
          10.477049827575684,
          6.99204683303833,
          5.780001163482666,
          8.093683242797852,
          -1.1426243782043457,
          0.8870009183883667,
          -0.5653263330459595,
          -7.5442633628845215,
          0.41109341382980347,
          -9.67894172668457,
          4.805848598480225,
          -9.652649879455566,
          10.637722969055176,
          0.9649144411087036,
          -9.88399887084961,
          -10.515625,
          -10.50645637512207,
          -7.62548303604126,
          8.341595649719238,
          5.310733795166016,
          -0.6673780679702759,
          -0.9382658004760742,
          5.923974514007568,
          1.5643329620361328,
          1.4354501962661743,
          4.805849075317383,
          -9.67031192779541,
          4.723751068115234,
          7.651671886444092,
          -13.66801929473877,
          -14.516934394836426,
          5.727346897125244,
          -5.445716857910156,
          0.41692206263542175,
          -11.339021682739258,
          12.563108444213867,
          -1.4856398105621338,
          -3.649651050567627,
          1.1872700452804565,
          4.723727226257324,
          -1.719639778137207,
          -4.124246120452881,
          1.387648105621338,
          5.402532577514648,
          4.723718643188477,
          -1.4903446435928345,
          -0.6033622026443481,
          -7.544265270233154,
          4.793740272521973,
          7.250688076019287,
          -1.4868237972259521,
          4.577216625213623,
          -0.5498151183128357,
          2.042370319366455,
          -1.7423837184906006,
          -10.161869049072266,
          0.8029115796089172,
          1.1765711307525635,
          4.992755889892578,
          -7.370354652404785,
          -4.65300178527832,
          -10.031306266784668,
          5.723940372467041,
          -8.049336433410645,
          11.363375663757324,
          0.734154999256134,
          1.2924367189407349,
          -4.047790050506592,
          -3.8233320713043213,
          4.723761558532715,
          -6.10824728012085,
          -11.111854553222656,
          8.899038314819336,
          -7.639967918395996,
          -10.079300880432129,
          10.723024368286133,
          1.6407876014709473,
          -3.04426908493042,
          -11.115005493164062,
          1.038994550704956,
          0.18241234123706818,
          -11.34223747253418,
          -10.249958992004395,
          0.3263821005821228,
          4.663259029388428,
          -4.113945484161377,
          -7.414931774139404,
          -7.175638198852539,
          0.14721815288066864,
          -4.448455333709717,
          0.8296315670013428,
          -3.4291951656341553,
          -11.339128494262695,
          5.7403998374938965,
          -9.156838417053223,
          -1.0203673839569092,
          -7.34940242767334,
          1.4544769525527954,
          -11.114608764648438,
          -11.11394214630127,
          0.32563138008117676,
          0.2813522219657898,
          -1.7424465417861938,
          4.114081859588623,
          8.34097957611084,
          5.09440279006958,
          5.665281295776367,
          4.437508583068848,
          -7.573820114135742,
          -7.543334484100342,
          2.0041277408599854,
          0.6086087822914124,
          6.015475749969482,
          -14.640301704406738,
          -11.339166641235352,
          -9.82060718536377,
          1.3695249557495117,
          5.929327964782715,
          4.793741703033447,
          4.76310396194458,
          1.3444494009017944,
          -3.8272578716278076,
          -9.825151443481445,
          0.3158453106880188,
          -1.0316635370254517,
          6.270497798919678,
          -9.023016929626465,
          4.617392539978027,
          0.83210688829422,
          -9.807372093200684,
          -9.029854774475098,
          4.436342239379883,
          6.582760810852051,
          -9.023642539978027,
          6.271892547607422,
          -3.8233323097229004,
          1.2738720178604126,
          -0.027095366269350052,
          1.233170986175537,
          -0.869276762008667,
          -7.9662089347839355,
          4.857119083404541,
          1.3629889488220215,
          -8.891261100769043,
          5.101868152618408,
          5.027336120605469,
          -7.454144477844238,
          -9.042179107666016,
          0.9244457483291626,
          -11.117998123168945,
          5.381110668182373,
          -8.163688659667969,
          5.976748943328857,
          6.764570236206055,
          1.3529884815216064,
          -14.487035751342773,
          6.075440406799316,
          -3.57535982131958,
          4.476687431335449,
          4.577391147613525,
          -5.682404518127441,
          7.279225826263428,
          -1.653924584388733,
          -14.640228271484375,
          -4.652288913726807,
          6.455540180206299,
          -11.118021011352539,
          1.404210090637207,
          5.315409183502197,
          -8.381061553955078,
          5.046933174133301,
          -0.7438713908195496,
          -3.6630709171295166,
          2.6029577255249023,
          -1.6546143293380737,
          4.436416149139404,
          -8.172196388244629,
          1.2739112377166748,
          8.300467491149902,
          0.5773204565048218,
          -4.652480602264404,
          -4.041962146759033,
          -4.121067523956299,
          0.2743421196937561,
          3.6771790981292725,
          0.705680251121521,
          -1.382211446762085,
          -9.155111312866211,
          0.7130609750747681,
          0.22172343730926514,
          -9.021984100341797,
          1.2095212936401367,
          6.0054931640625,
          6.005415916442871,
          7.371224880218506,
          -9.210567474365234,
          0.19801226258277893,
          -0.5998328328132629,
          -3.736098289489746,
          -10.516444206237793,
          -9.156838417053223,
          6.067242622375488,
          8.89980411529541,
          -9.230379104614258,
          -0.6067885756492615,
          4.114088535308838,
          -0.7442790269851685,
          4.729954242706299,
          -3.460167646408081,
          -6.108870506286621,
          -1.7505695819854736,
          -14.450492858886719,
          0.325878769159317,
          -7.845258712768555,
          0.3256467878818512,
          4.264439582824707,
          -0.9888638257980347,
          4.722174167633057,
          -0.6946499347686768,
          -7.514009475708008,
          -7.346567630767822,
          8.02118968963623,
          -14.640063285827637,
          4.721719741821289,
          1.2826544046401978,
          0.3306189775466919,
          2.5778937339782715,
          -5.094281196594238,
          -8.172551155090332,
          4.253978729248047,
          -9.876303672790527,
          1.4155631065368652,
          -4.041085243225098,
          20.91973114013672,
          -0.8611024618148804,
          -9.1552095413208,
          0.33897730708122253,
          -1.1981103420257568,
          -0.27578005194664,
          -0.12267622351646423,
          -0.12216591089963913,
          4.830583572387695,
          4.511274337768555,
          -14.639945030212402,
          4.266814231872559,
          -4.196128845214844,
          0.28044393658638,
          1.2732692956924438,
          10.477056503295898,
          -8.1661958694458,
          5.705384254455566,
          10.401204109191895,
          5.928229808807373,
          1.2739495038986206,
          7.773626804351807,
          -11.33887004852295,
          0.32566654682159424,
          10.634873390197754,
          -7.175638675689697,
          5.931672096252441,
          -5.363252639770508,
          0.5794681310653687,
          -5.55010986328125,
          4.562251091003418,
          -9.227167129516602,
          -7.924577713012695,
          10.401182174682617,
          -3.823331356048584,
          10.401180267333984,
          1.2720355987548828,
          -0.027053246274590492,
          0.32702207565307617,
          4.723748683929443,
          4.793739318847656,
          6.08787202835083,
          -14.257954597473145,
          -14.640310287475586,
          -3.8233094215393066,
          0.25741350650787354,
          -5.682400703430176,
          -8.142048835754395,
          -0.7442768216133118,
          8.045257568359375,
          5.270383834838867,
          -0.8227815628051758,
          0.41624224185943604,
          10.730748176574707,
          -7.479547500610352,
          10.401190757751465,
          -5.682405471801758,
          10.401121139526367,
          -0.10483501106500626,
          8.093235969543457,
          5.495351314544678,
          -7.544264793395996,
          -7.846877098083496,
          -10.115443229675293,
          1.240298867225647,
          4.114087104797363,
          -3.815894365310669,
          1.3224941492080688,
          -13.091525077819824,
          -4.711816310882568,
          6.60182523727417,
          -14.482039451599121,
          -0.1433837115764618,
          -7.175041198730469,
          5.9258317947387695,
          4.438412189483643,
          5.837410926818848,
          2.671678066253662,
          -0.8633410334587097,
          0.1486137956380844,
          -8.133753776550293,
          1.2649896144866943,
          3.076030969619751,
          0.5057826042175293,
          9.35302448272705,
          -3.8559048175811768,
          -4.979268550872803,
          -3.823316812515259,
          -14.635153770446777,
          -1.3394105434417725,
          -3.4294469356536865,
          0.3256809115409851,
          4.762502193450928,
          5.5339765548706055,
          1.2739230394363403,
          -4.000225067138672,
          -9.807373046875,
          -5.59481954574585,
          -8.89115047454834,
          4.552456378936768,
          -7.1588263511657715,
          -7.862762928009033,
          -5.365067481994629,
          -8.891109466552734,
          -14.486855506896973,
          -4.066226959228516,
          8.379800796508789,
          0.22171026468276978,
          -4.651762008666992,
          11.342581748962402,
          -3.1610023975372314,
          -4.034756183624268,
          -9.807372093200684,
          -14.481513977050781,
          -6.333549976348877,
          -14.039722442626953,
          8.22386646270752,
          -3.6631059646606445,
          -4.157508373260498,
          6.274811267852783,
          -14.630976676940918,
          5.49232816696167,
          8.900102615356445,
          0.17456863820552826,
          -5.682402610778809,
          -9.23046588897705,
          -0.20256929099559784,
          -4.060704708099365,
          -2.5018651485443115,
          -7.828900337219238,
          -4.040829658508301,
          -5.6824116706848145,
          -5.363664627075195,
          -3.90215802192688,
          5.981165885925293,
          -5.682405948638916,
          -1.0961328744888306,
          7.387381553649902,
          -0.7442280054092407,
          -3.809396266937256,
          9.349289894104004,
          -6.332591533660889,
          -7.543426990509033,
          0.8217971920967102,
          -4.1168951988220215,
          -9.048471450805664,
          -10.495915412902832,
          2.6037590503692627,
          -7.543424129486084,
          -7.8924994468688965,
          8.259503364562988,
          4.289402484893799,
          -4.060727596282959,
          4.068495750427246,
          1.2737833261489868,
          9.349761009216309,
          -9.807374954223633,
          -10.368433952331543,
          9.244134902954102,
          -7.544957637786865,
          -14.417206764221191,
          -5.366045951843262,
          -8.490155220031738,
          -8.490496635437012,
          1.493037223815918,
          0.4421226978302002,
          0.17612820863723755,
          5.4452290534973145,
          1.2739309072494507,
          -5.361437797546387,
          1.2739348411560059,
          -5.682404518127441,
          7.714870452880859,
          7.250768184661865,
          -7.5442657470703125,
          5.526375770568848,
          9.353265762329102,
          6.272186279296875,
          0.20405015349388123,
          -9.648680686950684,
          4.8444719314575195,
          -10.248953819274902,
          0.20216086506843567,
          -0.026776475831866264,
          8.041157722473145,
          0.7949573993682861,
          1.040322184562683,
          10.401089668273926,
          6.103366851806641,
          -8.489983558654785,
          6.006160259246826,
          -9.230480194091797,
          4.456523895263672,
          0.8235206604003906,
          -1.4900985956192017,
          8.337027549743652,
          -11.094107627868652,
          0.4291762709617615,
          -9.942500114440918,
          4.951487064361572,
          0.791128396987915,
          7.440314769744873,
          12.587506294250488,
          0.25827524065971375,
          5.958256244659424,
          -9.14360237121582,
          -1.49234938621521,
          0.8575466871261597,
          -9.355120658874512,
          -11.33889389038086,
          -0.02707591839134693,
          -3.774688243865967,
          6.830965042114258,
          10.477035522460938,
          4.793738842010498,
          4.7237043380737305,
          -3.0686140060424805,
          -0.026716269552707672,
          -3.8233320713043213,
          -0.027070235460996628,
          -9.2302827835083,
          3.7770607471466064,
          -9.15524959564209,
          -12.656326293945312,
          -10.035314559936523,
          -7.720773220062256,
          6.146704196929932,
          -14.463081359863281,
          1.273960828781128,
          -3.650285482406616
         ],
         "yaxis": "y"
        }
       ],
       "layout": {
        "legend": {
         "tracegroupgap": 0
        },
        "margin": {
         "t": 60
        },
        "template": {
         "data": {
          "bar": [
           {
            "error_x": {
             "color": "#2a3f5f"
            },
            "error_y": {
             "color": "#2a3f5f"
            },
            "marker": {
             "line": {
              "color": "#E5ECF6",
              "width": 0.5
             },
             "pattern": {
              "fillmode": "overlay",
              "size": 10,
              "solidity": 0.2
             }
            },
            "type": "bar"
           }
          ],
          "barpolar": [
           {
            "marker": {
             "line": {
              "color": "#E5ECF6",
              "width": 0.5
             },
             "pattern": {
              "fillmode": "overlay",
              "size": 10,
              "solidity": 0.2
             }
            },
            "type": "barpolar"
           }
          ],
          "carpet": [
           {
            "aaxis": {
             "endlinecolor": "#2a3f5f",
             "gridcolor": "white",
             "linecolor": "white",
             "minorgridcolor": "white",
             "startlinecolor": "#2a3f5f"
            },
            "baxis": {
             "endlinecolor": "#2a3f5f",
             "gridcolor": "white",
             "linecolor": "white",
             "minorgridcolor": "white",
             "startlinecolor": "#2a3f5f"
            },
            "type": "carpet"
           }
          ],
          "choropleth": [
           {
            "colorbar": {
             "outlinewidth": 0,
             "ticks": ""
            },
            "type": "choropleth"
           }
          ],
          "contour": [
           {
            "colorbar": {
             "outlinewidth": 0,
             "ticks": ""
            },
            "colorscale": [
             [
              0,
              "#0d0887"
             ],
             [
              0.1111111111111111,
              "#46039f"
             ],
             [
              0.2222222222222222,
              "#7201a8"
             ],
             [
              0.3333333333333333,
              "#9c179e"
             ],
             [
              0.4444444444444444,
              "#bd3786"
             ],
             [
              0.5555555555555556,
              "#d8576b"
             ],
             [
              0.6666666666666666,
              "#ed7953"
             ],
             [
              0.7777777777777778,
              "#fb9f3a"
             ],
             [
              0.8888888888888888,
              "#fdca26"
             ],
             [
              1,
              "#f0f921"
             ]
            ],
            "type": "contour"
           }
          ],
          "contourcarpet": [
           {
            "colorbar": {
             "outlinewidth": 0,
             "ticks": ""
            },
            "type": "contourcarpet"
           }
          ],
          "heatmap": [
           {
            "colorbar": {
             "outlinewidth": 0,
             "ticks": ""
            },
            "colorscale": [
             [
              0,
              "#0d0887"
             ],
             [
              0.1111111111111111,
              "#46039f"
             ],
             [
              0.2222222222222222,
              "#7201a8"
             ],
             [
              0.3333333333333333,
              "#9c179e"
             ],
             [
              0.4444444444444444,
              "#bd3786"
             ],
             [
              0.5555555555555556,
              "#d8576b"
             ],
             [
              0.6666666666666666,
              "#ed7953"
             ],
             [
              0.7777777777777778,
              "#fb9f3a"
             ],
             [
              0.8888888888888888,
              "#fdca26"
             ],
             [
              1,
              "#f0f921"
             ]
            ],
            "type": "heatmap"
           }
          ],
          "heatmapgl": [
           {
            "colorbar": {
             "outlinewidth": 0,
             "ticks": ""
            },
            "colorscale": [
             [
              0,
              "#0d0887"
             ],
             [
              0.1111111111111111,
              "#46039f"
             ],
             [
              0.2222222222222222,
              "#7201a8"
             ],
             [
              0.3333333333333333,
              "#9c179e"
             ],
             [
              0.4444444444444444,
              "#bd3786"
             ],
             [
              0.5555555555555556,
              "#d8576b"
             ],
             [
              0.6666666666666666,
              "#ed7953"
             ],
             [
              0.7777777777777778,
              "#fb9f3a"
             ],
             [
              0.8888888888888888,
              "#fdca26"
             ],
             [
              1,
              "#f0f921"
             ]
            ],
            "type": "heatmapgl"
           }
          ],
          "histogram": [
           {
            "marker": {
             "pattern": {
              "fillmode": "overlay",
              "size": 10,
              "solidity": 0.2
             }
            },
            "type": "histogram"
           }
          ],
          "histogram2d": [
           {
            "colorbar": {
             "outlinewidth": 0,
             "ticks": ""
            },
            "colorscale": [
             [
              0,
              "#0d0887"
             ],
             [
              0.1111111111111111,
              "#46039f"
             ],
             [
              0.2222222222222222,
              "#7201a8"
             ],
             [
              0.3333333333333333,
              "#9c179e"
             ],
             [
              0.4444444444444444,
              "#bd3786"
             ],
             [
              0.5555555555555556,
              "#d8576b"
             ],
             [
              0.6666666666666666,
              "#ed7953"
             ],
             [
              0.7777777777777778,
              "#fb9f3a"
             ],
             [
              0.8888888888888888,
              "#fdca26"
             ],
             [
              1,
              "#f0f921"
             ]
            ],
            "type": "histogram2d"
           }
          ],
          "histogram2dcontour": [
           {
            "colorbar": {
             "outlinewidth": 0,
             "ticks": ""
            },
            "colorscale": [
             [
              0,
              "#0d0887"
             ],
             [
              0.1111111111111111,
              "#46039f"
             ],
             [
              0.2222222222222222,
              "#7201a8"
             ],
             [
              0.3333333333333333,
              "#9c179e"
             ],
             [
              0.4444444444444444,
              "#bd3786"
             ],
             [
              0.5555555555555556,
              "#d8576b"
             ],
             [
              0.6666666666666666,
              "#ed7953"
             ],
             [
              0.7777777777777778,
              "#fb9f3a"
             ],
             [
              0.8888888888888888,
              "#fdca26"
             ],
             [
              1,
              "#f0f921"
             ]
            ],
            "type": "histogram2dcontour"
           }
          ],
          "mesh3d": [
           {
            "colorbar": {
             "outlinewidth": 0,
             "ticks": ""
            },
            "type": "mesh3d"
           }
          ],
          "parcoords": [
           {
            "line": {
             "colorbar": {
              "outlinewidth": 0,
              "ticks": ""
             }
            },
            "type": "parcoords"
           }
          ],
          "pie": [
           {
            "automargin": true,
            "type": "pie"
           }
          ],
          "scatter": [
           {
            "marker": {
             "colorbar": {
              "outlinewidth": 0,
              "ticks": ""
             }
            },
            "type": "scatter"
           }
          ],
          "scatter3d": [
           {
            "line": {
             "colorbar": {
              "outlinewidth": 0,
              "ticks": ""
             }
            },
            "marker": {
             "colorbar": {
              "outlinewidth": 0,
              "ticks": ""
             }
            },
            "type": "scatter3d"
           }
          ],
          "scattercarpet": [
           {
            "marker": {
             "colorbar": {
              "outlinewidth": 0,
              "ticks": ""
             }
            },
            "type": "scattercarpet"
           }
          ],
          "scattergeo": [
           {
            "marker": {
             "colorbar": {
              "outlinewidth": 0,
              "ticks": ""
             }
            },
            "type": "scattergeo"
           }
          ],
          "scattergl": [
           {
            "marker": {
             "colorbar": {
              "outlinewidth": 0,
              "ticks": ""
             }
            },
            "type": "scattergl"
           }
          ],
          "scattermapbox": [
           {
            "marker": {
             "colorbar": {
              "outlinewidth": 0,
              "ticks": ""
             }
            },
            "type": "scattermapbox"
           }
          ],
          "scatterpolar": [
           {
            "marker": {
             "colorbar": {
              "outlinewidth": 0,
              "ticks": ""
             }
            },
            "type": "scatterpolar"
           }
          ],
          "scatterpolargl": [
           {
            "marker": {
             "colorbar": {
              "outlinewidth": 0,
              "ticks": ""
             }
            },
            "type": "scatterpolargl"
           }
          ],
          "scatterternary": [
           {
            "marker": {
             "colorbar": {
              "outlinewidth": 0,
              "ticks": ""
             }
            },
            "type": "scatterternary"
           }
          ],
          "surface": [
           {
            "colorbar": {
             "outlinewidth": 0,
             "ticks": ""
            },
            "colorscale": [
             [
              0,
              "#0d0887"
             ],
             [
              0.1111111111111111,
              "#46039f"
             ],
             [
              0.2222222222222222,
              "#7201a8"
             ],
             [
              0.3333333333333333,
              "#9c179e"
             ],
             [
              0.4444444444444444,
              "#bd3786"
             ],
             [
              0.5555555555555556,
              "#d8576b"
             ],
             [
              0.6666666666666666,
              "#ed7953"
             ],
             [
              0.7777777777777778,
              "#fb9f3a"
             ],
             [
              0.8888888888888888,
              "#fdca26"
             ],
             [
              1,
              "#f0f921"
             ]
            ],
            "type": "surface"
           }
          ],
          "table": [
           {
            "cells": {
             "fill": {
              "color": "#EBF0F8"
             },
             "line": {
              "color": "white"
             }
            },
            "header": {
             "fill": {
              "color": "#C8D4E3"
             },
             "line": {
              "color": "white"
             }
            },
            "type": "table"
           }
          ]
         },
         "layout": {
          "annotationdefaults": {
           "arrowcolor": "#2a3f5f",
           "arrowhead": 0,
           "arrowwidth": 1
          },
          "autotypenumbers": "strict",
          "coloraxis": {
           "colorbar": {
            "outlinewidth": 0,
            "ticks": ""
           }
          },
          "colorscale": {
           "diverging": [
            [
             0,
             "#8e0152"
            ],
            [
             0.1,
             "#c51b7d"
            ],
            [
             0.2,
             "#de77ae"
            ],
            [
             0.3,
             "#f1b6da"
            ],
            [
             0.4,
             "#fde0ef"
            ],
            [
             0.5,
             "#f7f7f7"
            ],
            [
             0.6,
             "#e6f5d0"
            ],
            [
             0.7,
             "#b8e186"
            ],
            [
             0.8,
             "#7fbc41"
            ],
            [
             0.9,
             "#4d9221"
            ],
            [
             1,
             "#276419"
            ]
           ],
           "sequential": [
            [
             0,
             "#0d0887"
            ],
            [
             0.1111111111111111,
             "#46039f"
            ],
            [
             0.2222222222222222,
             "#7201a8"
            ],
            [
             0.3333333333333333,
             "#9c179e"
            ],
            [
             0.4444444444444444,
             "#bd3786"
            ],
            [
             0.5555555555555556,
             "#d8576b"
            ],
            [
             0.6666666666666666,
             "#ed7953"
            ],
            [
             0.7777777777777778,
             "#fb9f3a"
            ],
            [
             0.8888888888888888,
             "#fdca26"
            ],
            [
             1,
             "#f0f921"
            ]
           ],
           "sequentialminus": [
            [
             0,
             "#0d0887"
            ],
            [
             0.1111111111111111,
             "#46039f"
            ],
            [
             0.2222222222222222,
             "#7201a8"
            ],
            [
             0.3333333333333333,
             "#9c179e"
            ],
            [
             0.4444444444444444,
             "#bd3786"
            ],
            [
             0.5555555555555556,
             "#d8576b"
            ],
            [
             0.6666666666666666,
             "#ed7953"
            ],
            [
             0.7777777777777778,
             "#fb9f3a"
            ],
            [
             0.8888888888888888,
             "#fdca26"
            ],
            [
             1,
             "#f0f921"
            ]
           ]
          },
          "colorway": [
           "#636efa",
           "#EF553B",
           "#00cc96",
           "#ab63fa",
           "#FFA15A",
           "#19d3f3",
           "#FF6692",
           "#B6E880",
           "#FF97FF",
           "#FECB52"
          ],
          "font": {
           "color": "#2a3f5f"
          },
          "geo": {
           "bgcolor": "white",
           "lakecolor": "white",
           "landcolor": "#E5ECF6",
           "showlakes": true,
           "showland": true,
           "subunitcolor": "white"
          },
          "hoverlabel": {
           "align": "left"
          },
          "hovermode": "closest",
          "mapbox": {
           "style": "light"
          },
          "paper_bgcolor": "white",
          "plot_bgcolor": "#E5ECF6",
          "polar": {
           "angularaxis": {
            "gridcolor": "white",
            "linecolor": "white",
            "ticks": ""
           },
           "bgcolor": "#E5ECF6",
           "radialaxis": {
            "gridcolor": "white",
            "linecolor": "white",
            "ticks": ""
           }
          },
          "scene": {
           "xaxis": {
            "backgroundcolor": "#E5ECF6",
            "gridcolor": "white",
            "gridwidth": 2,
            "linecolor": "white",
            "showbackground": true,
            "ticks": "",
            "zerolinecolor": "white"
           },
           "yaxis": {
            "backgroundcolor": "#E5ECF6",
            "gridcolor": "white",
            "gridwidth": 2,
            "linecolor": "white",
            "showbackground": true,
            "ticks": "",
            "zerolinecolor": "white"
           },
           "zaxis": {
            "backgroundcolor": "#E5ECF6",
            "gridcolor": "white",
            "gridwidth": 2,
            "linecolor": "white",
            "showbackground": true,
            "ticks": "",
            "zerolinecolor": "white"
           }
          },
          "shapedefaults": {
           "line": {
            "color": "#2a3f5f"
           }
          },
          "ternary": {
           "aaxis": {
            "gridcolor": "white",
            "linecolor": "white",
            "ticks": ""
           },
           "baxis": {
            "gridcolor": "white",
            "linecolor": "white",
            "ticks": ""
           },
           "bgcolor": "#E5ECF6",
           "caxis": {
            "gridcolor": "white",
            "linecolor": "white",
            "ticks": ""
           }
          },
          "title": {
           "x": 0.05
          },
          "xaxis": {
           "automargin": true,
           "gridcolor": "white",
           "linecolor": "white",
           "ticks": "",
           "title": {
            "standoff": 15
           },
           "zerolinecolor": "white",
           "zerolinewidth": 2
          },
          "yaxis": {
           "automargin": true,
           "gridcolor": "white",
           "linecolor": "white",
           "ticks": "",
           "title": {
            "standoff": 15
           },
           "zerolinecolor": "white",
           "zerolinewidth": 2
          }
         }
        },
        "xaxis": {
         "anchor": "y",
         "domain": [
          0,
          1
         ],
         "title": {
          "text": "x"
         }
        },
        "yaxis": {
         "anchor": "x",
         "domain": [
          0,
          1
         ],
         "title": {
          "text": "y"
         }
        }
       }
      }
     },
     "metadata": {},
     "output_type": "display_data"
    }
   ],
   "source": [
    "# x and y given as DataFrame columns\n",
    "import plotly.express as px\n",
    "fig = px.scatter(df_outcome_tsne, x=\"x\", y=\"y\")\n",
    "fig.show()"
   ]
  },
  {
   "cell_type": "code",
   "execution_count": 64,
   "metadata": {},
   "outputs": [
    {
     "data": {
      "image/png": "[encoded data removed]",
      "text/plain": [
       "<Figure size 432x288 with 1 Axes>"
      ]
     },
     "metadata": {
      "needs_background": "light"
     },
     "output_type": "display_data"
    }
   ],
   "source": [
    "import matplotlib.pyplot as plt\n",
    "# Plot t-SNE by using .pyplot\n",
    "X = tsne_features_50[:,0]\n",
    "y = tsne_features_50[:,1]\n",
    "\n",
    "plt.scatter(X, y)\n",
    "plt.show()"
   ]
  },
  {
   "cell_type": "markdown",
   "metadata": {},
   "source": [
    "## KMeans"
   ]
  },
  {
   "cell_type": "markdown",
   "metadata": {},
   "source": [
    "### with PCA(n_components=0.9)"
   ]
  },
  {
   "cell_type": "code",
   "execution_count": 65,
   "metadata": {},
   "outputs": [
    {
     "name": "stderr",
     "output_type": "stream",
     "text": [
      "C:\\Users\\sroiz\\anaconda3\\envs\\PythonData\\lib\\site-packages\\sklearn\\cluster\\_kmeans.py:882: UserWarning:\n",
      "\n",
      "KMeans is known to have a memory leak on Windows with MKL, when there are less chunks than available threads. You can avoid it by setting the environment variable OMP_NUM_THREADS=3.\n",
      "\n"
     ]
    }
   ],
   "source": [
    "from sklearn.cluster import KMeans\n",
    "# Identify clusters with k-means\n",
    "list_clusters = []\n",
    "k = list(range(1,11))\n",
    "\n",
    "for i in k:\n",
    "    kmeans = KMeans(n_clusters=i, random_state=0)\n",
    "    kmeans.fit(outcome_pca)\n",
    "    list_clusters.append(kmeans.inertia_)"
   ]
  },
  {
   "cell_type": "code",
   "execution_count": 66,
   "metadata": {},
   "outputs": [
    {
     "data": {
      "image/png": "[encoded data removed]",
      "text/plain": [
       "<Figure size 432x288 with 1 Axes>"
      ]
     },
     "metadata": {
      "needs_background": "light"
     },
     "output_type": "display_data"
    }
   ],
   "source": [
    "# Create an elbow plot\n",
    "elbow_df = pd.DataFrame({'k': k, 'inertia': list_clusters})\n",
    "elbow_df.plot.line(x='k', y='inertia')\n",
    "plt.ylabel('Inertia')\n",
    "plt.title('Elbow Plot')\n",
    "plt.show()"
   ]
  },
  {
   "cell_type": "code",
   "execution_count": null,
   "metadata": {},
   "outputs": [],
   "source": []
  },
  {
   "cell_type": "markdown",
   "metadata": {},
   "source": [
    "## Comparison of PCA, t-SNE,  elbow plot"
   ]
  },
  {
   "cell_type": "markdown",
   "metadata": {},
   "source": [
    "### PCA Comparisons to each other"
   ]
  },
  {
   "cell_type": "code",
   "execution_count": 67,
   "metadata": {},
   "outputs": [],
   "source": [
    "from sklearn.decomposition import PCA\n",
    "\n",
    "# Initialize PCA model\n",
    "pca_3 = PCA(n_components=3)\n",
    "pca_80 = PCA(n_components=80)\n",
    "pca_pnt_99 = PCA(n_components=.99)\n",
    "pca_pnt_9 = PCA(n_components=.9)\n",
    "pca_74 = PCA(n_components=74)\n",
    "\n",
    "# Get two principal components for the data.\n",
    "outcome_pca_3 = pca_3.fit_transform(X_scaled)\n",
    "outcome_pca_80 = pca_80.fit_transform(X_scaled)\n",
    "outcome_pca_pnt_99 = pca_pnt_99.fit_transform(X_scaled)\n",
    "outcome_pca_pnt_9 = pca_pnt_9.fit_transform(X_scaled)\n",
    "outcome_pca_74 = pca_74.fit_transform(X_scaled)\n"
   ]
  },
  {
   "cell_type": "code",
   "execution_count": 68,
   "metadata": {},
   "outputs": [
    {
     "name": "stdout",
     "output_type": "stream",
     "text": [
      "[[-0.36055041  1.05775506 -0.50200548]\n",
      " [-0.34398981  1.05801885 -0.50231037]\n",
      " [ 2.27672469  1.76069831 -0.68365701]\n",
      " ...\n",
      " [ 0.32308302 -2.24225696  0.3705599 ]\n",
      " [-0.13281192 -2.03535075  0.37080677]\n",
      " [-0.29862782  0.76094033 -0.21459572]]\n",
      "\n",
      " -  -  -  -  -  -  -  -  -  - \n",
      "[[-0.33509881  1.03218907 -0.59071344 ... -0.67773963  0.19442335\n",
      "   0.14780009]\n",
      " [-0.31843395  1.03233143 -0.59112555 ... -0.67774056  0.19445175\n",
      "   0.14775272]\n",
      " [ 2.30546811  1.65638302 -0.68361667 ...  0.6195448   0.42146662\n",
      "   0.26751762]\n",
      " ...\n",
      " [ 0.32434854 -2.31230764  0.42151537 ...  0.18581829 -0.0206708\n",
      "  -0.01286809]\n",
      " [-0.14936365 -2.04933553  0.41296826 ... -0.159409    0.02289926\n",
      "  -0.09110089]\n",
      " [-0.2899575   0.82119451 -0.27632685 ... -0.57278881  0.38895821\n",
      "  -0.56054604]]\n",
      "\n",
      " -  -  -  -  -  -  -  -  -  - \n",
      "[[-0.33509881  1.03218907 -0.59071344 ...  0.13391619 -0.11593793\n",
      "   0.00934363]\n",
      " [-0.31843395  1.03233143 -0.59112555 ...  0.13399077 -0.11564619\n",
      "   0.00918792]\n",
      " [ 2.30546811  1.65638302 -0.68361667 ... -0.07341934  0.17914389\n",
      "  -1.41905933]\n",
      " ...\n",
      " [ 0.32434854 -2.31230764  0.42151537 ...  0.23019201 -0.01101053\n",
      "   0.47286829]\n",
      " [-0.14936365 -2.04933553  0.41296826 ...  0.35568904  0.08258903\n",
      "  -0.07056385]\n",
      " [-0.2899575   0.82119451 -0.27632685 ...  1.03190166 -0.05476628\n",
      "  -0.9014263 ]]\n",
      "\n",
      " -  -  -  -  -  -  -  -  -  - \n",
      "[[-3.35098808e-01  1.03218907e+00 -5.90713438e-01 ... -4.70138375e-15\n",
      "  -3.50691655e-15 -1.74331953e-15]\n",
      " [-3.18433948e-01  1.03233143e+00 -5.91125551e-01 ... -5.23229269e-15\n",
      "  -3.57954066e-15 -1.13102935e-15]\n",
      " [ 2.30546811e+00  1.65638302e+00 -6.83616670e-01 ...  3.85021975e-14\n",
      "   5.25975805e-14  7.12152003e-14]\n",
      " ...\n",
      " [ 3.24348535e-01 -2.31230764e+00  4.21515366e-01 ... -6.15324512e-14\n",
      "  -1.71623532e-15 -3.51183596e-14]\n",
      " [-1.49363652e-01 -2.04933553e+00  4.12968257e-01 ... -3.28205913e-15\n",
      "  -4.72721999e-15  8.60125889e-16]\n",
      " [-2.89957500e-01  8.21194511e-01 -2.76326847e-01 ... -1.08137723e-15\n",
      "  -2.35334926e-15  4.79613766e-15]]\n",
      "\n",
      " -  -  -  -  -  -  -  -  -  - \n",
      "[[-3.35087157e-01  1.03198225e+00 -5.91046734e-01 ...  3.70569880e-07\n",
      "  -1.23499113e-05  2.08233680e-03]\n",
      " [-3.18422175e-01  1.03212477e+00 -5.91458503e-01 ...  2.38920121e-07\n",
      "  -7.30392153e-06  2.08883522e-03]\n",
      " [ 2.30549215e+00  1.65945802e+00 -6.76593109e-01 ...  5.75859412e-08\n",
      "  -1.14029143e-04  1.34371920e-02]\n",
      " ...\n",
      " [ 3.24417472e-01 -2.31316827e+00  4.19098621e-01 ...  1.26198682e-06\n",
      "  -3.97335718e-05  2.09635396e-03]\n",
      " [-1.49330096e-01 -2.05041863e+00  4.11200070e-01 ...  6.86562343e-08\n",
      "  -1.45937383e-05 -1.11832731e-03]\n",
      " [-2.89653751e-01  8.20402850e-01 -2.76749589e-01 ...  3.38815245e-07\n",
      "  -1.33971167e-04 -5.22768590e-03]]\n",
      "\n",
      " -  -  -  -  -  -  -  -  -  - \n"
     ]
    }
   ],
   "source": [
    "print(outcome_pca_3)\n",
    "print(\"\")\n",
    "print(\" - \" * 10)\n",
    "print(outcome_pca_80)\n",
    "print(\"\")\n",
    "print(\" - \" * 10)\n",
    "print(outcome_pca_pnt_99)\n",
    "print(\"\")\n",
    "print(\" - \" * 10)\n",
    "print(outcome_pca_pnt_9)\n",
    "print(\"\")\n",
    "print(\" - \" * 10)\n",
    "print(outcome_pca_74)\n",
    "print(\"\")\n",
    "print(\" - \" * 10)"
   ]
  },
  {
   "cell_type": "code",
   "execution_count": 69,
   "metadata": {},
   "outputs": [
    {
     "name": "stdout",
     "output_type": "stream",
     "text": [
      "(532, 3) (532, 80) (532, 86) (532, 74) (532, 74)\n"
     ]
    }
   ],
   "source": [
    "print(outcome_pca_3.shape,\n",
    "outcome_pca_80.shape,\n",
    "outcome_pca_pnt_99.shape,\n",
    "outcome_pca_pnt_9.shape,\n",
    "outcome_pca_74.shape)\n",
    "\n"
   ]
  },
  {
   "cell_type": "code",
   "execution_count": 70,
   "metadata": {},
   "outputs": [
    {
     "name": "stdout",
     "output_type": "stream",
     "text": [
      "PCA_3\n",
      "[0.02792288 0.02138533 0.02049963]\n",
      "\n",
      " -  -  -  -  -  -  -  -  -  - \n",
      "PCA_80\n",
      "[0.0279317  0.02141802 0.02051615 0.02044661 0.0204466  0.0204466\n",
      " 0.0204466  0.02042554 0.01870913 0.01756291 0.01741106 0.01629007\n",
      " 0.01596154 0.01551138 0.01435005 0.01321122 0.01236583 0.01206255\n",
      " 0.01104295 0.01071499 0.01049079 0.01040887 0.01039089 0.01037741\n",
      " 0.01035414 0.01034034 0.01029605 0.01028233 0.01028139 0.01028139\n",
      " 0.01028138 0.01027965 0.01027051 0.01026331 0.01026202 0.01025761\n",
      " 0.01025565 0.01025068 0.01024924 0.01024279 0.01024259 0.01024259\n",
      " 0.0102419  0.01024018 0.01023676 0.01023495 0.01023    0.01022442\n",
      " 0.0102233  0.0102233  0.0102233  0.0102233  0.0102233  0.0102233\n",
      " 0.0102233  0.0102233  0.0102233  0.0102233  0.0102233  0.0102233\n",
      " 0.0102233  0.0102233  0.0102233  0.0102233  0.0102233  0.0102233\n",
      " 0.0102233  0.0102233  0.0102233  0.0102233  0.0102233  0.0102233\n",
      " 0.0102233  0.0102233  0.0102233  0.0102233  0.0102233  0.00963118\n",
      " 0.00904029 0.00875676]\n",
      "\n",
      " -  -  -  -  -  -  -  -  -  - \n",
      "PCA .99\n",
      "[0.0279317  0.02141802 0.02051615 0.02044661 0.0204466  0.0204466\n",
      " 0.0204466  0.02042554 0.01870913 0.01756291 0.01741106 0.01629007\n",
      " 0.01596154 0.01551138 0.01435005 0.01321122 0.01236583 0.01206255\n",
      " 0.01104295 0.01071499 0.01049079 0.01040887 0.01039089 0.01037741\n",
      " 0.01035414 0.01034034 0.01029605 0.01028233 0.01028139 0.01028139\n",
      " 0.01028138 0.01027965 0.01027051 0.01026331 0.01026202 0.01025761\n",
      " 0.01025565 0.01025068 0.01024924 0.01024279 0.01024259 0.01024259\n",
      " 0.0102419  0.01024018 0.01023676 0.01023495 0.01023    0.01022442\n",
      " 0.0102233  0.0102233  0.0102233  0.0102233  0.0102233  0.0102233\n",
      " 0.0102233  0.0102233  0.0102233  0.0102233  0.0102233  0.0102233\n",
      " 0.0102233  0.0102233  0.0102233  0.0102233  0.0102233  0.0102233\n",
      " 0.0102233  0.0102233  0.0102233  0.0102233  0.0102233  0.0102233\n",
      " 0.0102233  0.0102233  0.0102233  0.0102233  0.0102233  0.00963118\n",
      " 0.00904029 0.00875676 0.00762015 0.00633956 0.00517976 0.00495366\n",
      " 0.00431432 0.00392106]\n",
      "\n",
      " -  -  -  -  -  -  -  -  -  - \n",
      "PCA .9\n",
      "[0.0279317  0.02141802 0.02051615 0.02044661 0.0204466  0.0204466\n",
      " 0.0204466  0.02042554 0.01870913 0.01756291 0.01741106 0.01629007\n",
      " 0.01596154 0.01551138 0.01435005 0.01321122 0.01236583 0.01206255\n",
      " 0.01104295 0.01071499 0.01049079 0.01040887 0.01039089 0.01037741\n",
      " 0.01035414 0.01034034 0.01029605 0.01028233 0.01028139 0.01028139\n",
      " 0.01028138 0.01027965 0.01027051 0.01026331 0.01026202 0.01025761\n",
      " 0.01025565 0.01025068 0.01024924 0.01024279 0.01024259 0.01024259\n",
      " 0.0102419  0.01024018 0.01023676 0.01023495 0.01023    0.01022442\n",
      " 0.0102233  0.0102233  0.0102233  0.0102233  0.0102233  0.0102233\n",
      " 0.0102233  0.0102233  0.0102233  0.0102233  0.0102233  0.0102233\n",
      " 0.0102233  0.0102233  0.0102233  0.0102233  0.0102233  0.0102233\n",
      " 0.0102233  0.0102233  0.0102233  0.0102233  0.0102233  0.0102233\n",
      " 0.0102233  0.0102233 ]\n",
      "\n",
      " -  -  -  -  -  -  -  -  -  - \n",
      "PCA_74\n",
      "[0.0279317  0.02141801 0.02051613 0.0204466  0.0204466  0.02044659\n",
      " 0.0204464  0.02042553 0.01870906 0.01756289 0.017411   0.01629003\n",
      " 0.01596152 0.01551131 0.01434998 0.01320977 0.01236478 0.01206209\n",
      " 0.01104187 0.01070937 0.01048907 0.01040863 0.01038886 0.01037713\n",
      " 0.01035235 0.01033849 0.01029334 0.01028204 0.01028095 0.01028012\n",
      " 0.01027878 0.0102747  0.01026982 0.01026289 0.01026077 0.01025708\n",
      " 0.01025377 0.0102498  0.01024748 0.0102426  0.01024257 0.0102422\n",
      " 0.01024013 0.01023973 0.01023641 0.01023417 0.01022967 0.01022425\n",
      " 0.0102233  0.0102233  0.0102233  0.0102233  0.0102233  0.0102233\n",
      " 0.0102233  0.0102233  0.0102233  0.0102233  0.0102233  0.0102233\n",
      " 0.0102233  0.0102233  0.0102233  0.0102233  0.0102233  0.0102233\n",
      " 0.0102233  0.0102233  0.0102233  0.0102233  0.0102233  0.0102233\n",
      " 0.0102233  0.01022222]\n"
     ]
    }
   ],
   "source": [
    "# Fetch the explained variance\n",
    "print(\"PCA_3\")\n",
    "print(pca_3.explained_variance_ratio_)\n",
    "print(\"\")\n",
    "print(\" - \" * 10)\n",
    "print(\"PCA_80\")\n",
    "print(pca_80.explained_variance_ratio_)\n",
    "print(\"\")\n",
    "print(\" - \" * 10)\n",
    "print(\"PCA .99\")\n",
    "print(pca_pnt_99.explained_variance_ratio_)\n",
    "print(\"\")\n",
    "print(\" - \" * 10)\n",
    "print(\"PCA .9\")\n",
    "print(pca_pnt_9.explained_variance_ratio_)\n",
    "print(\"\")\n",
    "print(\" - \" * 10)\n",
    "print(\"PCA_74\")\n",
    "print(pca_74.explained_variance_ratio_)"
   ]
  },
  {
   "cell_type": "code",
   "execution_count": 71,
   "metadata": {},
   "outputs": [
    {
     "name": "stdout",
     "output_type": "stream",
     "text": [
      "PCA_3\n",
      "6.854052240097257\n",
      "\n",
      " -  -  -  -  -  -  -  -  -  - \n",
      "PCA_80\n",
      "94.17717291914931\n",
      "\n",
      " -  -  -  -  -  -  -  -  -  - \n",
      "PCA .99\n",
      "97.35133315075764\n",
      "\n",
      " -  -  -  -  -  -  -  -  -  - \n",
      "PCA .9\n",
      "88.47283457566152\n",
      "\n",
      " -  -  -  -  -  -  -  -  -  - \n",
      "PCA_74\n",
      "88.4685799563558\n"
     ]
    }
   ],
   "source": [
    "# Fetch the explained variance sum\n",
    "print(\"PCA_3\")\n",
    "print(pca_3.explained_variance_.sum())\n",
    "print(\"\")\n",
    "print(\" - \" * 10)\n",
    "print(\"PCA_80\")\n",
    "print(pca_80.explained_variance_.sum())\n",
    "print(\"\")\n",
    "print(\" - \" * 10)\n",
    "print(\"PCA .99\")\n",
    "print(pca_pnt_99.explained_variance_.sum())\n",
    "print(\"\")\n",
    "print(\" - \" * 10)\n",
    "print(\"PCA .9\")\n",
    "print(pca_pnt_9.explained_variance_.sum())\n",
    "print(\"\")\n",
    "print(\" - \" * 10)\n",
    "print(\"PCA_74\")\n",
    "print(pca_74.explained_variance_.sum())"
   ]
  },
  {
   "cell_type": "code",
   "execution_count": 72,
   "metadata": {},
   "outputs": [
    {
     "name": "stdout",
     "output_type": "stream",
     "text": [
      "PCA_3\n",
      "2.284684080032419\n",
      "\n",
      " -  -  -  -  -  -  -  -  -  - \n",
      "PCA_80\n",
      "1.1772146614893664\n",
      "\n",
      " -  -  -  -  -  -  -  -  -  - \n",
      "PCA .99\n",
      "1.1319922459390424\n",
      "\n",
      " -  -  -  -  -  -  -  -  -  - \n",
      "PCA .9\n",
      "1.1955788456170475\n",
      "\n",
      " -  -  -  -  -  -  -  -  -  - \n",
      "PCA_74\n",
      "1.1955213507615647\n"
     ]
    }
   ],
   "source": [
    "import numpy as np\n",
    "# Fetch the explained variance sum\n",
    "print(\"PCA_3\")\n",
    "print(pca_3.explained_variance_.mean())\n",
    "print(\"\")\n",
    "print(\" - \" * 10)\n",
    "print(\"PCA_80\")\n",
    "print(pca_80.explained_variance_.mean())\n",
    "print(\"\")\n",
    "print(\" - \" * 10)\n",
    "print(\"PCA .99\")\n",
    "print(pca_pnt_99.explained_variance_.mean())\n",
    "print(\"\")\n",
    "print(\" - \" * 10)\n",
    "print(\"PCA .9\")\n",
    "print(pca_pnt_9.explained_variance_.mean())\n",
    "print(\"\")\n",
    "print(\" - \" * 10)\n",
    "print(\"PCA_74\")\n",
    "print(pca_74.explained_variance_.mean())"
   ]
  },
  {
   "cell_type": "markdown",
   "metadata": {},
   "source": [
    "### PCA Dataframes"
   ]
  },
  {
   "cell_type": "code",
   "execution_count": 73,
   "metadata": {},
   "outputs": [
    {
     "data": {
      "text/html": [
       "<div>\n",
       "<style scoped>\n",
       "    .dataframe tbody tr th:only-of-type {\n",
       "        vertical-align: middle;\n",
       "    }\n",
       "\n",
       "    .dataframe tbody tr th {\n",
       "        vertical-align: top;\n",
       "    }\n",
       "\n",
       "    .dataframe thead th {\n",
       "        text-align: right;\n",
       "    }\n",
       "</style>\n",
       "<table border=\"1\" class=\"dataframe\">\n",
       "  <thead>\n",
       "    <tr style=\"text-align: right;\">\n",
       "      <th></th>\n",
       "      <th>principal component 1</th>\n",
       "      <th>principal component 2</th>\n",
       "      <th>principal component 3</th>\n",
       "    </tr>\n",
       "  </thead>\n",
       "  <tbody>\n",
       "    <tr>\n",
       "      <th>0</th>\n",
       "      <td>-0.360550</td>\n",
       "      <td>1.057755</td>\n",
       "      <td>-0.502005</td>\n",
       "    </tr>\n",
       "    <tr>\n",
       "      <th>1</th>\n",
       "      <td>-0.343990</td>\n",
       "      <td>1.058019</td>\n",
       "      <td>-0.502310</td>\n",
       "    </tr>\n",
       "    <tr>\n",
       "      <th>2</th>\n",
       "      <td>2.276725</td>\n",
       "      <td>1.760698</td>\n",
       "      <td>-0.683657</td>\n",
       "    </tr>\n",
       "    <tr>\n",
       "      <th>3</th>\n",
       "      <td>-0.133024</td>\n",
       "      <td>-1.319351</td>\n",
       "      <td>0.128448</td>\n",
       "    </tr>\n",
       "    <tr>\n",
       "      <th>4</th>\n",
       "      <td>-0.147009</td>\n",
       "      <td>-2.113120</td>\n",
       "      <td>0.272852</td>\n",
       "    </tr>\n",
       "  </tbody>\n",
       "</table>\n",
       "</div>"
      ],
      "text/plain": [
       "   principal component 1  principal component 2  principal component 3\n",
       "0              -0.360550               1.057755              -0.502005\n",
       "1              -0.343990               1.058019              -0.502310\n",
       "2               2.276725               1.760698              -0.683657\n",
       "3              -0.133024              -1.319351               0.128448\n",
       "4              -0.147009              -2.113120               0.272852"
      ]
     },
     "execution_count": 73,
     "metadata": {},
     "output_type": "execute_result"
    }
   ],
   "source": [
    "# for loop since outcome_pca.shape is 532 rows and 74 columns under of n_components = .9\n",
    "col = []\n",
    "\n",
    "for x in range(1,4):\n",
    "    string = f\"principal component {x}\"\n",
    "    col.append(string)\n",
    "\n",
    "# Transform PCA data to a DataFrame\n",
    "df_pca_3 = pd.DataFrame(\n",
    "    data=outcome_pca_3, columns=col\n",
    ")\n",
    "df_pca_3.head()\n"
   ]
  },
  {
   "cell_type": "code",
   "execution_count": 74,
   "metadata": {},
   "outputs": [
    {
     "data": {
      "text/html": [
       "<div>\n",
       "<style scoped>\n",
       "    .dataframe tbody tr th:only-of-type {\n",
       "        vertical-align: middle;\n",
       "    }\n",
       "\n",
       "    .dataframe tbody tr th {\n",
       "        vertical-align: top;\n",
       "    }\n",
       "\n",
       "    .dataframe thead th {\n",
       "        text-align: right;\n",
       "    }\n",
       "</style>\n",
       "<table border=\"1\" class=\"dataframe\">\n",
       "  <thead>\n",
       "    <tr style=\"text-align: right;\">\n",
       "      <th></th>\n",
       "      <th>principal component 1</th>\n",
       "      <th>principal component 2</th>\n",
       "      <th>principal component 3</th>\n",
       "      <th>principal component 4</th>\n",
       "      <th>principal component 5</th>\n",
       "      <th>principal component 6</th>\n",
       "      <th>principal component 7</th>\n",
       "      <th>principal component 8</th>\n",
       "      <th>principal component 9</th>\n",
       "      <th>principal component 10</th>\n",
       "      <th>...</th>\n",
       "      <th>principal component 71</th>\n",
       "      <th>principal component 72</th>\n",
       "      <th>principal component 73</th>\n",
       "      <th>principal component 74</th>\n",
       "      <th>principal component 75</th>\n",
       "      <th>principal component 76</th>\n",
       "      <th>principal component 77</th>\n",
       "      <th>principal component 78</th>\n",
       "      <th>principal component 79</th>\n",
       "      <th>principal component 80</th>\n",
       "    </tr>\n",
       "  </thead>\n",
       "  <tbody>\n",
       "    <tr>\n",
       "      <th>0</th>\n",
       "      <td>-0.335099</td>\n",
       "      <td>1.032189</td>\n",
       "      <td>-0.590713</td>\n",
       "      <td>0.001397</td>\n",
       "      <td>5.883773e-12</td>\n",
       "      <td>-1.528209e-14</td>\n",
       "      <td>-2.052997e-14</td>\n",
       "      <td>-0.007129</td>\n",
       "      <td>-1.319756</td>\n",
       "      <td>-0.051813</td>\n",
       "      <td>...</td>\n",
       "      <td>-1.960593e-15</td>\n",
       "      <td>-4.701384e-15</td>\n",
       "      <td>-3.506917e-15</td>\n",
       "      <td>-1.743320e-15</td>\n",
       "      <td>-1.952341e-15</td>\n",
       "      <td>-1.734998e-15</td>\n",
       "      <td>1.196673e-15</td>\n",
       "      <td>-0.677740</td>\n",
       "      <td>0.194423</td>\n",
       "      <td>0.147800</td>\n",
       "    </tr>\n",
       "    <tr>\n",
       "      <th>1</th>\n",
       "      <td>-0.318434</td>\n",
       "      <td>1.032331</td>\n",
       "      <td>-0.591126</td>\n",
       "      <td>0.001386</td>\n",
       "      <td>5.835747e-12</td>\n",
       "      <td>-1.492024e-14</td>\n",
       "      <td>-2.070827e-14</td>\n",
       "      <td>-0.007739</td>\n",
       "      <td>-1.322514</td>\n",
       "      <td>-0.056674</td>\n",
       "      <td>...</td>\n",
       "      <td>-2.424754e-15</td>\n",
       "      <td>-5.232293e-15</td>\n",
       "      <td>-3.579541e-15</td>\n",
       "      <td>-1.131029e-15</td>\n",
       "      <td>-1.612694e-15</td>\n",
       "      <td>-2.196468e-15</td>\n",
       "      <td>6.973664e-16</td>\n",
       "      <td>-0.677741</td>\n",
       "      <td>0.194452</td>\n",
       "      <td>0.147753</td>\n",
       "    </tr>\n",
       "    <tr>\n",
       "      <th>2</th>\n",
       "      <td>2.305468</td>\n",
       "      <td>1.656383</td>\n",
       "      <td>-0.683617</td>\n",
       "      <td>0.004731</td>\n",
       "      <td>1.992513e-11</td>\n",
       "      <td>-2.261520e-14</td>\n",
       "      <td>-3.514674e-14</td>\n",
       "      <td>-0.054781</td>\n",
       "      <td>-1.542879</td>\n",
       "      <td>-0.943951</td>\n",
       "      <td>...</td>\n",
       "      <td>2.284557e-14</td>\n",
       "      <td>3.850220e-14</td>\n",
       "      <td>5.259758e-14</td>\n",
       "      <td>7.121520e-14</td>\n",
       "      <td>6.386282e-14</td>\n",
       "      <td>8.341298e-14</td>\n",
       "      <td>-3.596253e-14</td>\n",
       "      <td>0.619545</td>\n",
       "      <td>0.421467</td>\n",
       "      <td>0.267518</td>\n",
       "    </tr>\n",
       "    <tr>\n",
       "      <th>3</th>\n",
       "      <td>-0.145184</td>\n",
       "      <td>-1.320593</td>\n",
       "      <td>0.192813</td>\n",
       "      <td>-0.001229</td>\n",
       "      <td>-5.171696e-12</td>\n",
       "      <td>5.914112e-15</td>\n",
       "      <td>9.169421e-15</td>\n",
       "      <td>-0.002071</td>\n",
       "      <td>0.281463</td>\n",
       "      <td>0.251862</td>\n",
       "      <td>...</td>\n",
       "      <td>1.228947e-14</td>\n",
       "      <td>8.757601e-15</td>\n",
       "      <td>3.037998e-15</td>\n",
       "      <td>8.974373e-15</td>\n",
       "      <td>1.059896e-14</td>\n",
       "      <td>-2.689116e-15</td>\n",
       "      <td>-1.363706e-14</td>\n",
       "      <td>0.238515</td>\n",
       "      <td>0.162774</td>\n",
       "      <td>0.130823</td>\n",
       "    </tr>\n",
       "    <tr>\n",
       "      <th>4</th>\n",
       "      <td>-0.151768</td>\n",
       "      <td>-2.036192</td>\n",
       "      <td>0.396182</td>\n",
       "      <td>-0.001705</td>\n",
       "      <td>-7.183238e-12</td>\n",
       "      <td>1.256574e-14</td>\n",
       "      <td>2.101612e-14</td>\n",
       "      <td>0.027735</td>\n",
       "      <td>0.519099</td>\n",
       "      <td>0.188820</td>\n",
       "      <td>...</td>\n",
       "      <td>3.059337e-13</td>\n",
       "      <td>-7.121052e-14</td>\n",
       "      <td>-4.539463e-14</td>\n",
       "      <td>-1.514386e-13</td>\n",
       "      <td>-7.090518e-14</td>\n",
       "      <td>-1.326584e-13</td>\n",
       "      <td>-1.820266e-13</td>\n",
       "      <td>0.222678</td>\n",
       "      <td>-0.073823</td>\n",
       "      <td>0.358934</td>\n",
       "    </tr>\n",
       "  </tbody>\n",
       "</table>\n",
       "<p>5 rows × 80 columns</p>\n",
       "</div>"
      ],
      "text/plain": [
       "   principal component 1  principal component 2  principal component 3  \\\n",
       "0              -0.335099               1.032189              -0.590713   \n",
       "1              -0.318434               1.032331              -0.591126   \n",
       "2               2.305468               1.656383              -0.683617   \n",
       "3              -0.145184              -1.320593               0.192813   \n",
       "4              -0.151768              -2.036192               0.396182   \n",
       "\n",
       "   principal component 4  principal component 5  principal component 6  \\\n",
       "0               0.001397           5.883773e-12          -1.528209e-14   \n",
       "1               0.001386           5.835747e-12          -1.492024e-14   \n",
       "2               0.004731           1.992513e-11          -2.261520e-14   \n",
       "3              -0.001229          -5.171696e-12           5.914112e-15   \n",
       "4              -0.001705          -7.183238e-12           1.256574e-14   \n",
       "\n",
       "   principal component 7  principal component 8  principal component 9  \\\n",
       "0          -2.052997e-14              -0.007129              -1.319756   \n",
       "1          -2.070827e-14              -0.007739              -1.322514   \n",
       "2          -3.514674e-14              -0.054781              -1.542879   \n",
       "3           9.169421e-15              -0.002071               0.281463   \n",
       "4           2.101612e-14               0.027735               0.519099   \n",
       "\n",
       "   principal component 10  ...  principal component 71  \\\n",
       "0               -0.051813  ...           -1.960593e-15   \n",
       "1               -0.056674  ...           -2.424754e-15   \n",
       "2               -0.943951  ...            2.284557e-14   \n",
       "3                0.251862  ...            1.228947e-14   \n",
       "4                0.188820  ...            3.059337e-13   \n",
       "\n",
       "   principal component 72  principal component 73  principal component 74  \\\n",
       "0           -4.701384e-15           -3.506917e-15           -1.743320e-15   \n",
       "1           -5.232293e-15           -3.579541e-15           -1.131029e-15   \n",
       "2            3.850220e-14            5.259758e-14            7.121520e-14   \n",
       "3            8.757601e-15            3.037998e-15            8.974373e-15   \n",
       "4           -7.121052e-14           -4.539463e-14           -1.514386e-13   \n",
       "\n",
       "   principal component 75  principal component 76  principal component 77  \\\n",
       "0           -1.952341e-15           -1.734998e-15            1.196673e-15   \n",
       "1           -1.612694e-15           -2.196468e-15            6.973664e-16   \n",
       "2            6.386282e-14            8.341298e-14           -3.596253e-14   \n",
       "3            1.059896e-14           -2.689116e-15           -1.363706e-14   \n",
       "4           -7.090518e-14           -1.326584e-13           -1.820266e-13   \n",
       "\n",
       "   principal component 78  principal component 79  principal component 80  \n",
       "0               -0.677740                0.194423                0.147800  \n",
       "1               -0.677741                0.194452                0.147753  \n",
       "2                0.619545                0.421467                0.267518  \n",
       "3                0.238515                0.162774                0.130823  \n",
       "4                0.222678               -0.073823                0.358934  \n",
       "\n",
       "[5 rows x 80 columns]"
      ]
     },
     "execution_count": 74,
     "metadata": {},
     "output_type": "execute_result"
    }
   ],
   "source": [
    "# for loop since outcome_pca.shape is 532 rows and 74 columns under of n_components = .9\n",
    "col = []\n",
    "\n",
    "for x in range(1,81):\n",
    "    string = f\"principal component {x}\"\n",
    "    col.append(string)\n",
    "\n",
    "# Transform PCA data to a DataFrame\n",
    "df_pca_80 = pd.DataFrame(\n",
    "    data=outcome_pca_80, columns=col\n",
    ")\n",
    "df_pca_80.head()\n"
   ]
  },
  {
   "cell_type": "code",
   "execution_count": 75,
   "metadata": {},
   "outputs": [
    {
     "data": {
      "text/html": [
       "<div>\n",
       "<style scoped>\n",
       "    .dataframe tbody tr th:only-of-type {\n",
       "        vertical-align: middle;\n",
       "    }\n",
       "\n",
       "    .dataframe tbody tr th {\n",
       "        vertical-align: top;\n",
       "    }\n",
       "\n",
       "    .dataframe thead th {\n",
       "        text-align: right;\n",
       "    }\n",
       "</style>\n",
       "<table border=\"1\" class=\"dataframe\">\n",
       "  <thead>\n",
       "    <tr style=\"text-align: right;\">\n",
       "      <th></th>\n",
       "      <th>principal component 1</th>\n",
       "      <th>principal component 2</th>\n",
       "      <th>principal component 3</th>\n",
       "      <th>principal component 4</th>\n",
       "      <th>principal component 5</th>\n",
       "      <th>principal component 6</th>\n",
       "      <th>principal component 7</th>\n",
       "      <th>principal component 8</th>\n",
       "      <th>principal component 9</th>\n",
       "      <th>principal component 10</th>\n",
       "      <th>...</th>\n",
       "      <th>principal component 77</th>\n",
       "      <th>principal component 78</th>\n",
       "      <th>principal component 79</th>\n",
       "      <th>principal component 80</th>\n",
       "      <th>principal component 81</th>\n",
       "      <th>principal component 82</th>\n",
       "      <th>principal component 83</th>\n",
       "      <th>principal component 84</th>\n",
       "      <th>principal component 85</th>\n",
       "      <th>principal component 86</th>\n",
       "    </tr>\n",
       "  </thead>\n",
       "  <tbody>\n",
       "    <tr>\n",
       "      <th>0</th>\n",
       "      <td>-0.335099</td>\n",
       "      <td>1.032189</td>\n",
       "      <td>-0.590713</td>\n",
       "      <td>0.001397</td>\n",
       "      <td>5.883773e-12</td>\n",
       "      <td>-1.528209e-14</td>\n",
       "      <td>-2.052997e-14</td>\n",
       "      <td>-0.007129</td>\n",
       "      <td>-1.319756</td>\n",
       "      <td>-0.051813</td>\n",
       "      <td>...</td>\n",
       "      <td>1.196673e-15</td>\n",
       "      <td>-0.677740</td>\n",
       "      <td>0.194423</td>\n",
       "      <td>0.147800</td>\n",
       "      <td>0.283666</td>\n",
       "      <td>-0.632204</td>\n",
       "      <td>-0.114891</td>\n",
       "      <td>0.133916</td>\n",
       "      <td>-0.115938</td>\n",
       "      <td>0.009344</td>\n",
       "    </tr>\n",
       "    <tr>\n",
       "      <th>1</th>\n",
       "      <td>-0.318434</td>\n",
       "      <td>1.032331</td>\n",
       "      <td>-0.591126</td>\n",
       "      <td>0.001386</td>\n",
       "      <td>5.835747e-12</td>\n",
       "      <td>-1.492024e-14</td>\n",
       "      <td>-2.070827e-14</td>\n",
       "      <td>-0.007739</td>\n",
       "      <td>-1.322514</td>\n",
       "      <td>-0.056674</td>\n",
       "      <td>...</td>\n",
       "      <td>6.973664e-16</td>\n",
       "      <td>-0.677741</td>\n",
       "      <td>0.194452</td>\n",
       "      <td>0.147753</td>\n",
       "      <td>0.283593</td>\n",
       "      <td>-0.632066</td>\n",
       "      <td>-0.114763</td>\n",
       "      <td>0.133991</td>\n",
       "      <td>-0.115646</td>\n",
       "      <td>0.009188</td>\n",
       "    </tr>\n",
       "    <tr>\n",
       "      <th>2</th>\n",
       "      <td>2.305468</td>\n",
       "      <td>1.656383</td>\n",
       "      <td>-0.683617</td>\n",
       "      <td>0.004731</td>\n",
       "      <td>1.992513e-11</td>\n",
       "      <td>-2.261520e-14</td>\n",
       "      <td>-3.514674e-14</td>\n",
       "      <td>-0.054781</td>\n",
       "      <td>-1.542879</td>\n",
       "      <td>-0.943951</td>\n",
       "      <td>...</td>\n",
       "      <td>-3.596253e-14</td>\n",
       "      <td>0.619545</td>\n",
       "      <td>0.421467</td>\n",
       "      <td>0.267518</td>\n",
       "      <td>-0.286185</td>\n",
       "      <td>0.453215</td>\n",
       "      <td>-0.447750</td>\n",
       "      <td>-0.073419</td>\n",
       "      <td>0.179144</td>\n",
       "      <td>-1.419059</td>\n",
       "    </tr>\n",
       "    <tr>\n",
       "      <th>3</th>\n",
       "      <td>-0.145184</td>\n",
       "      <td>-1.320593</td>\n",
       "      <td>0.192813</td>\n",
       "      <td>-0.001229</td>\n",
       "      <td>-5.171696e-12</td>\n",
       "      <td>5.914112e-15</td>\n",
       "      <td>9.169421e-15</td>\n",
       "      <td>-0.002071</td>\n",
       "      <td>0.281463</td>\n",
       "      <td>0.251862</td>\n",
       "      <td>...</td>\n",
       "      <td>-1.363706e-14</td>\n",
       "      <td>0.238515</td>\n",
       "      <td>0.162774</td>\n",
       "      <td>0.130823</td>\n",
       "      <td>-0.103999</td>\n",
       "      <td>0.457951</td>\n",
       "      <td>-0.089676</td>\n",
       "      <td>-0.317943</td>\n",
       "      <td>0.001320</td>\n",
       "      <td>0.178234</td>\n",
       "    </tr>\n",
       "    <tr>\n",
       "      <th>4</th>\n",
       "      <td>-0.151768</td>\n",
       "      <td>-2.036192</td>\n",
       "      <td>0.396182</td>\n",
       "      <td>-0.001705</td>\n",
       "      <td>-7.183238e-12</td>\n",
       "      <td>1.256574e-14</td>\n",
       "      <td>2.101612e-14</td>\n",
       "      <td>0.027735</td>\n",
       "      <td>0.519099</td>\n",
       "      <td>0.188820</td>\n",
       "      <td>...</td>\n",
       "      <td>-1.820266e-13</td>\n",
       "      <td>0.222678</td>\n",
       "      <td>-0.073823</td>\n",
       "      <td>0.358934</td>\n",
       "      <td>0.609940</td>\n",
       "      <td>-0.645370</td>\n",
       "      <td>-0.113545</td>\n",
       "      <td>0.100206</td>\n",
       "      <td>0.044561</td>\n",
       "      <td>0.017486</td>\n",
       "    </tr>\n",
       "  </tbody>\n",
       "</table>\n",
       "<p>5 rows × 86 columns</p>\n",
       "</div>"
      ],
      "text/plain": [
       "   principal component 1  principal component 2  principal component 3  \\\n",
       "0              -0.335099               1.032189              -0.590713   \n",
       "1              -0.318434               1.032331              -0.591126   \n",
       "2               2.305468               1.656383              -0.683617   \n",
       "3              -0.145184              -1.320593               0.192813   \n",
       "4              -0.151768              -2.036192               0.396182   \n",
       "\n",
       "   principal component 4  principal component 5  principal component 6  \\\n",
       "0               0.001397           5.883773e-12          -1.528209e-14   \n",
       "1               0.001386           5.835747e-12          -1.492024e-14   \n",
       "2               0.004731           1.992513e-11          -2.261520e-14   \n",
       "3              -0.001229          -5.171696e-12           5.914112e-15   \n",
       "4              -0.001705          -7.183238e-12           1.256574e-14   \n",
       "\n",
       "   principal component 7  principal component 8  principal component 9  \\\n",
       "0          -2.052997e-14              -0.007129              -1.319756   \n",
       "1          -2.070827e-14              -0.007739              -1.322514   \n",
       "2          -3.514674e-14              -0.054781              -1.542879   \n",
       "3           9.169421e-15              -0.002071               0.281463   \n",
       "4           2.101612e-14               0.027735               0.519099   \n",
       "\n",
       "   principal component 10  ...  principal component 77  \\\n",
       "0               -0.051813  ...            1.196673e-15   \n",
       "1               -0.056674  ...            6.973664e-16   \n",
       "2               -0.943951  ...           -3.596253e-14   \n",
       "3                0.251862  ...           -1.363706e-14   \n",
       "4                0.188820  ...           -1.820266e-13   \n",
       "\n",
       "   principal component 78  principal component 79  principal component 80  \\\n",
       "0               -0.677740                0.194423                0.147800   \n",
       "1               -0.677741                0.194452                0.147753   \n",
       "2                0.619545                0.421467                0.267518   \n",
       "3                0.238515                0.162774                0.130823   \n",
       "4                0.222678               -0.073823                0.358934   \n",
       "\n",
       "   principal component 81  principal component 82  principal component 83  \\\n",
       "0                0.283666               -0.632204               -0.114891   \n",
       "1                0.283593               -0.632066               -0.114763   \n",
       "2               -0.286185                0.453215               -0.447750   \n",
       "3               -0.103999                0.457951               -0.089676   \n",
       "4                0.609940               -0.645370               -0.113545   \n",
       "\n",
       "   principal component 84  principal component 85  principal component 86  \n",
       "0                0.133916               -0.115938                0.009344  \n",
       "1                0.133991               -0.115646                0.009188  \n",
       "2               -0.073419                0.179144               -1.419059  \n",
       "3               -0.317943                0.001320                0.178234  \n",
       "4                0.100206                0.044561                0.017486  \n",
       "\n",
       "[5 rows x 86 columns]"
      ]
     },
     "execution_count": 75,
     "metadata": {},
     "output_type": "execute_result"
    }
   ],
   "source": [
    "# for loop since outcome_pca.shape is 532 rows and 74 columns under of n_components = .9\n",
    "col = []\n",
    "\n",
    "for x in range(1,87):\n",
    "    string = f\"principal component {x}\"\n",
    "    col.append(string)\n",
    "\n",
    "# Transform PCA data to a DataFrame\n",
    "df_pca_pnt_99 = pd.DataFrame(\n",
    "    data=outcome_pca_pnt_99, columns=col\n",
    ")\n",
    "df_pca_pnt_99.head()\n"
   ]
  },
  {
   "cell_type": "code",
   "execution_count": 76,
   "metadata": {},
   "outputs": [
    {
     "data": {
      "text/html": [
       "<div>\n",
       "<style scoped>\n",
       "    .dataframe tbody tr th:only-of-type {\n",
       "        vertical-align: middle;\n",
       "    }\n",
       "\n",
       "    .dataframe tbody tr th {\n",
       "        vertical-align: top;\n",
       "    }\n",
       "\n",
       "    .dataframe thead th {\n",
       "        text-align: right;\n",
       "    }\n",
       "</style>\n",
       "<table border=\"1\" class=\"dataframe\">\n",
       "  <thead>\n",
       "    <tr style=\"text-align: right;\">\n",
       "      <th></th>\n",
       "      <th>principal component 1</th>\n",
       "      <th>principal component 2</th>\n",
       "      <th>principal component 3</th>\n",
       "      <th>principal component 4</th>\n",
       "      <th>principal component 5</th>\n",
       "      <th>principal component 6</th>\n",
       "      <th>principal component 7</th>\n",
       "      <th>principal component 8</th>\n",
       "      <th>principal component 9</th>\n",
       "      <th>principal component 10</th>\n",
       "      <th>...</th>\n",
       "      <th>principal component 65</th>\n",
       "      <th>principal component 66</th>\n",
       "      <th>principal component 67</th>\n",
       "      <th>principal component 68</th>\n",
       "      <th>principal component 69</th>\n",
       "      <th>principal component 70</th>\n",
       "      <th>principal component 71</th>\n",
       "      <th>principal component 72</th>\n",
       "      <th>principal component 73</th>\n",
       "      <th>principal component 74</th>\n",
       "    </tr>\n",
       "  </thead>\n",
       "  <tbody>\n",
       "    <tr>\n",
       "      <th>0</th>\n",
       "      <td>-0.335099</td>\n",
       "      <td>1.032189</td>\n",
       "      <td>-0.590713</td>\n",
       "      <td>0.001397</td>\n",
       "      <td>5.883773e-12</td>\n",
       "      <td>-1.528209e-14</td>\n",
       "      <td>-2.052997e-14</td>\n",
       "      <td>-0.007129</td>\n",
       "      <td>-1.319756</td>\n",
       "      <td>-0.051813</td>\n",
       "      <td>...</td>\n",
       "      <td>3.663974e-16</td>\n",
       "      <td>1.279457e-16</td>\n",
       "      <td>1.116407e-15</td>\n",
       "      <td>2.220395e-15</td>\n",
       "      <td>-7.270163e-15</td>\n",
       "      <td>2.678370e-15</td>\n",
       "      <td>-1.960593e-15</td>\n",
       "      <td>-4.701384e-15</td>\n",
       "      <td>-3.506917e-15</td>\n",
       "      <td>-1.743320e-15</td>\n",
       "    </tr>\n",
       "    <tr>\n",
       "      <th>1</th>\n",
       "      <td>-0.318434</td>\n",
       "      <td>1.032331</td>\n",
       "      <td>-0.591126</td>\n",
       "      <td>0.001386</td>\n",
       "      <td>5.835747e-12</td>\n",
       "      <td>-1.492024e-14</td>\n",
       "      <td>-2.070827e-14</td>\n",
       "      <td>-0.007739</td>\n",
       "      <td>-1.322514</td>\n",
       "      <td>-0.056674</td>\n",
       "      <td>...</td>\n",
       "      <td>2.857025e-16</td>\n",
       "      <td>1.814937e-16</td>\n",
       "      <td>1.616619e-15</td>\n",
       "      <td>2.153290e-15</td>\n",
       "      <td>-7.048775e-15</td>\n",
       "      <td>3.068350e-15</td>\n",
       "      <td>-2.424754e-15</td>\n",
       "      <td>-5.232293e-15</td>\n",
       "      <td>-3.579541e-15</td>\n",
       "      <td>-1.131029e-15</td>\n",
       "    </tr>\n",
       "    <tr>\n",
       "      <th>2</th>\n",
       "      <td>2.305468</td>\n",
       "      <td>1.656383</td>\n",
       "      <td>-0.683617</td>\n",
       "      <td>0.004731</td>\n",
       "      <td>1.992513e-11</td>\n",
       "      <td>-2.261520e-14</td>\n",
       "      <td>-3.514674e-14</td>\n",
       "      <td>-0.054781</td>\n",
       "      <td>-1.542879</td>\n",
       "      <td>-0.943951</td>\n",
       "      <td>...</td>\n",
       "      <td>3.631014e-14</td>\n",
       "      <td>2.552104e-14</td>\n",
       "      <td>-1.030627e-13</td>\n",
       "      <td>-6.121448e-14</td>\n",
       "      <td>1.096315e-13</td>\n",
       "      <td>-4.016573e-14</td>\n",
       "      <td>2.284557e-14</td>\n",
       "      <td>3.850220e-14</td>\n",
       "      <td>5.259758e-14</td>\n",
       "      <td>7.121520e-14</td>\n",
       "    </tr>\n",
       "    <tr>\n",
       "      <th>3</th>\n",
       "      <td>-0.145184</td>\n",
       "      <td>-1.320593</td>\n",
       "      <td>0.192813</td>\n",
       "      <td>-0.001229</td>\n",
       "      <td>-5.171696e-12</td>\n",
       "      <td>5.914112e-15</td>\n",
       "      <td>9.169421e-15</td>\n",
       "      <td>-0.002071</td>\n",
       "      <td>0.281463</td>\n",
       "      <td>0.251862</td>\n",
       "      <td>...</td>\n",
       "      <td>3.408003e-15</td>\n",
       "      <td>1.980245e-15</td>\n",
       "      <td>-3.087469e-14</td>\n",
       "      <td>-6.056649e-15</td>\n",
       "      <td>1.965085e-14</td>\n",
       "      <td>-4.981920e-15</td>\n",
       "      <td>1.228947e-14</td>\n",
       "      <td>8.757601e-15</td>\n",
       "      <td>3.037998e-15</td>\n",
       "      <td>8.974373e-15</td>\n",
       "    </tr>\n",
       "    <tr>\n",
       "      <th>4</th>\n",
       "      <td>-0.151768</td>\n",
       "      <td>-2.036192</td>\n",
       "      <td>0.396182</td>\n",
       "      <td>-0.001705</td>\n",
       "      <td>-7.183238e-12</td>\n",
       "      <td>1.256574e-14</td>\n",
       "      <td>2.101612e-14</td>\n",
       "      <td>0.027735</td>\n",
       "      <td>0.519099</td>\n",
       "      <td>0.188820</td>\n",
       "      <td>...</td>\n",
       "      <td>-1.488727e-13</td>\n",
       "      <td>-6.889317e-14</td>\n",
       "      <td>-9.772559e-14</td>\n",
       "      <td>5.013589e-14</td>\n",
       "      <td>6.823743e-14</td>\n",
       "      <td>-6.419272e-14</td>\n",
       "      <td>3.059337e-13</td>\n",
       "      <td>-7.121052e-14</td>\n",
       "      <td>-4.539463e-14</td>\n",
       "      <td>-1.514386e-13</td>\n",
       "    </tr>\n",
       "  </tbody>\n",
       "</table>\n",
       "<p>5 rows × 74 columns</p>\n",
       "</div>"
      ],
      "text/plain": [
       "   principal component 1  principal component 2  principal component 3  \\\n",
       "0              -0.335099               1.032189              -0.590713   \n",
       "1              -0.318434               1.032331              -0.591126   \n",
       "2               2.305468               1.656383              -0.683617   \n",
       "3              -0.145184              -1.320593               0.192813   \n",
       "4              -0.151768              -2.036192               0.396182   \n",
       "\n",
       "   principal component 4  principal component 5  principal component 6  \\\n",
       "0               0.001397           5.883773e-12          -1.528209e-14   \n",
       "1               0.001386           5.835747e-12          -1.492024e-14   \n",
       "2               0.004731           1.992513e-11          -2.261520e-14   \n",
       "3              -0.001229          -5.171696e-12           5.914112e-15   \n",
       "4              -0.001705          -7.183238e-12           1.256574e-14   \n",
       "\n",
       "   principal component 7  principal component 8  principal component 9  \\\n",
       "0          -2.052997e-14              -0.007129              -1.319756   \n",
       "1          -2.070827e-14              -0.007739              -1.322514   \n",
       "2          -3.514674e-14              -0.054781              -1.542879   \n",
       "3           9.169421e-15              -0.002071               0.281463   \n",
       "4           2.101612e-14               0.027735               0.519099   \n",
       "\n",
       "   principal component 10  ...  principal component 65  \\\n",
       "0               -0.051813  ...            3.663974e-16   \n",
       "1               -0.056674  ...            2.857025e-16   \n",
       "2               -0.943951  ...            3.631014e-14   \n",
       "3                0.251862  ...            3.408003e-15   \n",
       "4                0.188820  ...           -1.488727e-13   \n",
       "\n",
       "   principal component 66  principal component 67  principal component 68  \\\n",
       "0            1.279457e-16            1.116407e-15            2.220395e-15   \n",
       "1            1.814937e-16            1.616619e-15            2.153290e-15   \n",
       "2            2.552104e-14           -1.030627e-13           -6.121448e-14   \n",
       "3            1.980245e-15           -3.087469e-14           -6.056649e-15   \n",
       "4           -6.889317e-14           -9.772559e-14            5.013589e-14   \n",
       "\n",
       "   principal component 69  principal component 70  principal component 71  \\\n",
       "0           -7.270163e-15            2.678370e-15           -1.960593e-15   \n",
       "1           -7.048775e-15            3.068350e-15           -2.424754e-15   \n",
       "2            1.096315e-13           -4.016573e-14            2.284557e-14   \n",
       "3            1.965085e-14           -4.981920e-15            1.228947e-14   \n",
       "4            6.823743e-14           -6.419272e-14            3.059337e-13   \n",
       "\n",
       "   principal component 72  principal component 73  principal component 74  \n",
       "0           -4.701384e-15           -3.506917e-15           -1.743320e-15  \n",
       "1           -5.232293e-15           -3.579541e-15           -1.131029e-15  \n",
       "2            3.850220e-14            5.259758e-14            7.121520e-14  \n",
       "3            8.757601e-15            3.037998e-15            8.974373e-15  \n",
       "4           -7.121052e-14           -4.539463e-14           -1.514386e-13  \n",
       "\n",
       "[5 rows x 74 columns]"
      ]
     },
     "execution_count": 76,
     "metadata": {},
     "output_type": "execute_result"
    }
   ],
   "source": [
    "# for loop since outcome_pca.shape is 532 rows and 74 columns under of n_components = .9\n",
    "col = []\n",
    "\n",
    "for x in range(1,75):\n",
    "    string = f\"principal component {x}\"\n",
    "    col.append(string)\n",
    "\n",
    "# Transform PCA data to a DataFrame\n",
    "df_pca_pnt_9 = pd.DataFrame(\n",
    "    data=outcome_pca_pnt_9, columns=col\n",
    ")\n",
    "df_pca_pnt_9.head()\n"
   ]
  },
  {
   "cell_type": "code",
   "execution_count": 77,
   "metadata": {},
   "outputs": [
    {
     "data": {
      "text/html": [
       "<div>\n",
       "<style scoped>\n",
       "    .dataframe tbody tr th:only-of-type {\n",
       "        vertical-align: middle;\n",
       "    }\n",
       "\n",
       "    .dataframe tbody tr th {\n",
       "        vertical-align: top;\n",
       "    }\n",
       "\n",
       "    .dataframe thead th {\n",
       "        text-align: right;\n",
       "    }\n",
       "</style>\n",
       "<table border=\"1\" class=\"dataframe\">\n",
       "  <thead>\n",
       "    <tr style=\"text-align: right;\">\n",
       "      <th></th>\n",
       "      <th>principal component 1</th>\n",
       "      <th>principal component 2</th>\n",
       "      <th>principal component 3</th>\n",
       "      <th>principal component 4</th>\n",
       "      <th>principal component 5</th>\n",
       "      <th>principal component 6</th>\n",
       "      <th>principal component 7</th>\n",
       "      <th>principal component 8</th>\n",
       "      <th>principal component 9</th>\n",
       "      <th>principal component 10</th>\n",
       "      <th>...</th>\n",
       "      <th>principal component 65</th>\n",
       "      <th>principal component 66</th>\n",
       "      <th>principal component 67</th>\n",
       "      <th>principal component 68</th>\n",
       "      <th>principal component 69</th>\n",
       "      <th>principal component 70</th>\n",
       "      <th>principal component 71</th>\n",
       "      <th>principal component 72</th>\n",
       "      <th>principal component 73</th>\n",
       "      <th>principal component 74</th>\n",
       "    </tr>\n",
       "  </thead>\n",
       "  <tbody>\n",
       "    <tr>\n",
       "      <th>0</th>\n",
       "      <td>-0.335087</td>\n",
       "      <td>1.031982</td>\n",
       "      <td>-0.591047</td>\n",
       "      <td>-0.000941</td>\n",
       "      <td>-0.000001</td>\n",
       "      <td>-0.000083</td>\n",
       "      <td>0.002530</td>\n",
       "      <td>-0.006951</td>\n",
       "      <td>-1.319567</td>\n",
       "      <td>-0.052038</td>\n",
       "      <td>...</td>\n",
       "      <td>4.164998e-11</td>\n",
       "      <td>-2.785126e-11</td>\n",
       "      <td>1.731020e-12</td>\n",
       "      <td>-5.458505e-12</td>\n",
       "      <td>-1.219179e-11</td>\n",
       "      <td>-1.294521e-11</td>\n",
       "      <td>-1.125992e-11</td>\n",
       "      <td>3.705699e-07</td>\n",
       "      <td>-0.000012</td>\n",
       "      <td>0.002082</td>\n",
       "    </tr>\n",
       "    <tr>\n",
       "      <th>1</th>\n",
       "      <td>-0.318422</td>\n",
       "      <td>1.032125</td>\n",
       "      <td>-0.591459</td>\n",
       "      <td>-0.000934</td>\n",
       "      <td>-0.000001</td>\n",
       "      <td>-0.000083</td>\n",
       "      <td>0.002520</td>\n",
       "      <td>-0.007562</td>\n",
       "      <td>-1.322326</td>\n",
       "      <td>-0.056900</td>\n",
       "      <td>...</td>\n",
       "      <td>2.685624e-11</td>\n",
       "      <td>-1.795166e-11</td>\n",
       "      <td>1.117542e-12</td>\n",
       "      <td>-3.512369e-12</td>\n",
       "      <td>-7.860867e-12</td>\n",
       "      <td>-8.346573e-12</td>\n",
       "      <td>-7.261373e-12</td>\n",
       "      <td>2.389201e-07</td>\n",
       "      <td>-0.000007</td>\n",
       "      <td>0.002089</td>\n",
       "    </tr>\n",
       "    <tr>\n",
       "      <th>2</th>\n",
       "      <td>2.305492</td>\n",
       "      <td>1.659458</td>\n",
       "      <td>-0.676593</td>\n",
       "      <td>-0.002225</td>\n",
       "      <td>-0.000021</td>\n",
       "      <td>0.001900</td>\n",
       "      <td>-0.016365</td>\n",
       "      <td>-0.057033</td>\n",
       "      <td>-1.547204</td>\n",
       "      <td>-0.936675</td>\n",
       "      <td>...</td>\n",
       "      <td>6.493835e-12</td>\n",
       "      <td>-4.450356e-12</td>\n",
       "      <td>6.050615e-13</td>\n",
       "      <td>-1.045369e-12</td>\n",
       "      <td>-1.658641e-12</td>\n",
       "      <td>-1.906075e-12</td>\n",
       "      <td>-1.689244e-12</td>\n",
       "      <td>5.758594e-08</td>\n",
       "      <td>-0.000114</td>\n",
       "      <td>0.013437</td>\n",
       "    </tr>\n",
       "    <tr>\n",
       "      <th>3</th>\n",
       "      <td>-0.145240</td>\n",
       "      <td>-1.320154</td>\n",
       "      <td>0.193241</td>\n",
       "      <td>0.000779</td>\n",
       "      <td>0.000004</td>\n",
       "      <td>0.000094</td>\n",
       "      <td>-0.002749</td>\n",
       "      <td>-0.002154</td>\n",
       "      <td>0.280910</td>\n",
       "      <td>0.252425</td>\n",
       "      <td>...</td>\n",
       "      <td>4.126392e-11</td>\n",
       "      <td>-2.745787e-11</td>\n",
       "      <td>1.220809e-12</td>\n",
       "      <td>-5.053754e-12</td>\n",
       "      <td>-1.230654e-11</td>\n",
       "      <td>-1.287767e-11</td>\n",
       "      <td>-1.130857e-11</td>\n",
       "      <td>3.668384e-07</td>\n",
       "      <td>0.000150</td>\n",
       "      <td>-0.000444</td>\n",
       "    </tr>\n",
       "    <tr>\n",
       "      <th>4</th>\n",
       "      <td>-0.151734</td>\n",
       "      <td>-2.036014</td>\n",
       "      <td>0.396086</td>\n",
       "      <td>0.001069</td>\n",
       "      <td>-0.000003</td>\n",
       "      <td>-0.000120</td>\n",
       "      <td>-0.001997</td>\n",
       "      <td>0.027815</td>\n",
       "      <td>0.518487</td>\n",
       "      <td>0.188978</td>\n",
       "      <td>...</td>\n",
       "      <td>-3.575431e-12</td>\n",
       "      <td>2.396965e-12</td>\n",
       "      <td>-5.359603e-14</td>\n",
       "      <td>3.499026e-13</td>\n",
       "      <td>1.194589e-12</td>\n",
       "      <td>9.179464e-13</td>\n",
       "      <td>9.710580e-13</td>\n",
       "      <td>-3.154048e-08</td>\n",
       "      <td>-0.000009</td>\n",
       "      <td>-0.012750</td>\n",
       "    </tr>\n",
       "  </tbody>\n",
       "</table>\n",
       "<p>5 rows × 74 columns</p>\n",
       "</div>"
      ],
      "text/plain": [
       "   principal component 1  principal component 2  principal component 3  \\\n",
       "0              -0.335087               1.031982              -0.591047   \n",
       "1              -0.318422               1.032125              -0.591459   \n",
       "2               2.305492               1.659458              -0.676593   \n",
       "3              -0.145240              -1.320154               0.193241   \n",
       "4              -0.151734              -2.036014               0.396086   \n",
       "\n",
       "   principal component 4  principal component 5  principal component 6  \\\n",
       "0              -0.000941              -0.000001              -0.000083   \n",
       "1              -0.000934              -0.000001              -0.000083   \n",
       "2              -0.002225              -0.000021               0.001900   \n",
       "3               0.000779               0.000004               0.000094   \n",
       "4               0.001069              -0.000003              -0.000120   \n",
       "\n",
       "   principal component 7  principal component 8  principal component 9  \\\n",
       "0               0.002530              -0.006951              -1.319567   \n",
       "1               0.002520              -0.007562              -1.322326   \n",
       "2              -0.016365              -0.057033              -1.547204   \n",
       "3              -0.002749              -0.002154               0.280910   \n",
       "4              -0.001997               0.027815               0.518487   \n",
       "\n",
       "   principal component 10  ...  principal component 65  \\\n",
       "0               -0.052038  ...            4.164998e-11   \n",
       "1               -0.056900  ...            2.685624e-11   \n",
       "2               -0.936675  ...            6.493835e-12   \n",
       "3                0.252425  ...            4.126392e-11   \n",
       "4                0.188978  ...           -3.575431e-12   \n",
       "\n",
       "   principal component 66  principal component 67  principal component 68  \\\n",
       "0           -2.785126e-11            1.731020e-12           -5.458505e-12   \n",
       "1           -1.795166e-11            1.117542e-12           -3.512369e-12   \n",
       "2           -4.450356e-12            6.050615e-13           -1.045369e-12   \n",
       "3           -2.745787e-11            1.220809e-12           -5.053754e-12   \n",
       "4            2.396965e-12           -5.359603e-14            3.499026e-13   \n",
       "\n",
       "   principal component 69  principal component 70  principal component 71  \\\n",
       "0           -1.219179e-11           -1.294521e-11           -1.125992e-11   \n",
       "1           -7.860867e-12           -8.346573e-12           -7.261373e-12   \n",
       "2           -1.658641e-12           -1.906075e-12           -1.689244e-12   \n",
       "3           -1.230654e-11           -1.287767e-11           -1.130857e-11   \n",
       "4            1.194589e-12            9.179464e-13            9.710580e-13   \n",
       "\n",
       "   principal component 72  principal component 73  principal component 74  \n",
       "0            3.705699e-07               -0.000012                0.002082  \n",
       "1            2.389201e-07               -0.000007                0.002089  \n",
       "2            5.758594e-08               -0.000114                0.013437  \n",
       "3            3.668384e-07                0.000150               -0.000444  \n",
       "4           -3.154048e-08               -0.000009               -0.012750  \n",
       "\n",
       "[5 rows x 74 columns]"
      ]
     },
     "execution_count": 77,
     "metadata": {},
     "output_type": "execute_result"
    }
   ],
   "source": [
    "# for loop since outcome_pca.shape is 532 rows and 74 columns under of n_components = .9\n",
    "col = []\n",
    "\n",
    "for x in range(1,75):\n",
    "    string = f\"principal component {x}\"\n",
    "    col.append(string)\n",
    "\n",
    "# Transform PCA data to a DataFrame\n",
    "df_pca_74 = pd.DataFrame(\n",
    "    data=outcome_pca_74, columns=col\n",
    ")\n",
    "df_pca_74.head()\n"
   ]
  },
  {
   "cell_type": "markdown",
   "metadata": {},
   "source": [
    "### t-SNE with perplexity equals to 30 and PCA(n_components=#)"
   ]
  },
  {
   "cell_type": "code",
   "execution_count": 78,
   "metadata": {},
   "outputs": [
    {
     "name": "stdout",
     "output_type": "stream",
     "text": [
      "t-SNE Features with PCA 3\n",
      "(532, 2)\n",
      "\n",
      " -  -  -  -  -  -  -  -  -  - \n",
      "t-SNE Features with PCA 80\n",
      "(532, 2)\n",
      "\n",
      " -  -  -  -  -  -  -  -  -  - \n",
      "t-SNE Features with PCA 99\n",
      "(532, 2)\n",
      "\n",
      " -  -  -  -  -  -  -  -  -  - \n",
      "t-SNE Features with PCA 9\n",
      "(532, 2)\n",
      "\n",
      " -  -  -  -  -  -  -  -  -  - \n",
      "t-SNE Features with PCA 74\n",
      "(532, 2)\n",
      "\n",
      " -  -  -  -  -  -  -  -  -  - \n"
     ]
    }
   ],
   "source": [
    "# outcome_pca_3\n",
    "# outcome_pca_80\n",
    "# outcome_pca_pnt_99\n",
    "# outcome_pca_pnt_9\n",
    "# outcome_pca_74\n",
    "\n",
    "from sklearn.manifold import TSNE\n",
    "# Reduce dimensions with t-SNE\n",
    "tsne_30 = TSNE(perplexity=30)\n",
    "\n",
    "tsne_features_w_pca_3 = tsne_30.fit_transform(outcome_pca_3)\n",
    "tsne_features_w_pca_80 = tsne_30.fit_transform(outcome_pca_80)\n",
    "tsne_features_w_pca_pnt_99 = tsne_30.fit_transform(outcome_pca_pnt_99)\n",
    "tsne_features_w_pca_pnt_9 = tsne_30.fit_transform(outcome_pca_pnt_9)\n",
    "tsne_features_w_pca_74 = tsne_30.fit_transform(outcome_pca_74)\n",
    "\n",
    "print(\"t-SNE Features with PCA 3\")\n",
    "print(tsne_features_w_pca_3.shape)\n",
    "print(\"\")\n",
    "print(\" - \" * 10)\n",
    "print(\"t-SNE Features with PCA 80\")\n",
    "print(tsne_features_w_pca_80.shape)\n",
    "print(\"\")\n",
    "print(\" - \" * 10)\n",
    "print(\"t-SNE Features with PCA 99\")\n",
    "print(tsne_features_w_pca_pnt_99.shape)\n",
    "print(\"\")\n",
    "print(\" - \" * 10)\n",
    "print(\"t-SNE Features with PCA 9\")\n",
    "print(tsne_features_w_pca_pnt_9.shape)\n",
    "print(\"\")\n",
    "print(\" - \" * 10)\n",
    "print(\"t-SNE Features with PCA 74\")\n",
    "print(tsne_features_w_pca_74.shape)\n",
    "print(\"\")\n",
    "print(\" - \" * 10)"
   ]
  },
  {
   "cell_type": "code",
   "execution_count": 79,
   "metadata": {},
   "outputs": [
    {
     "name": "stdout",
     "output_type": "stream",
     "text": [
      "t-SNE Features with PCA 3\n",
      "[[-20.63797     9.702927 ]\n",
      " [-14.112825    9.532802 ]\n",
      " [  1.2306409   4.0162487]\n",
      " ...\n",
      " [  3.9332378  13.3481455]\n",
      " [  7.6041956  19.663033 ]\n",
      " [-16.858059   -3.6237786]]\n",
      "\n",
      " -  -  -  -  -  -  -  -  -  - \n",
      "t-SNE Features with PCA 80\n",
      "[[ -0.8816754 -15.408465 ]\n",
      " [  5.3342743 -14.619259 ]\n",
      " [  9.6991625 -25.054274 ]\n",
      " ...\n",
      " [-15.676741   19.261337 ]\n",
      " [ -2.8852906  18.20513  ]\n",
      " [  8.794348    3.0962467]]\n",
      "\n",
      " -  -  -  -  -  -  -  -  -  - \n",
      "t-SNE Features with PCA 99\n",
      "[[  2.2100437   9.867525 ]\n",
      " [  2.618201   16.97876  ]\n",
      " [ 13.135757   18.304464 ]\n",
      " ...\n",
      " [ 14.728902  -15.015344 ]\n",
      " [  5.690092  -21.14944  ]\n",
      " [-12.200401   -6.082686 ]]\n",
      "\n",
      " -  -  -  -  -  -  -  -  -  - \n",
      "t-SNE Features with PCA 9\n",
      "[[-18.244934    1.5485137]\n",
      " [-17.518515   -5.08644  ]\n",
      " [-28.355022    4.218397 ]\n",
      " ...\n",
      " [ -4.0966144  24.793463 ]\n",
      " [ 12.731163   20.037613 ]\n",
      " [ 11.050655   -2.222263 ]]\n",
      "\n",
      " -  -  -  -  -  -  -  -  -  - \n",
      "t-SNE Features with PCA 74\n",
      "[[-16.782375    6.2192764]\n",
      " [-13.921524   11.979743 ]\n",
      " [-26.535786   13.375927 ]\n",
      " ...\n",
      " [-10.514785  -23.291847 ]\n",
      " [  0.1171421 -24.26344  ]\n",
      " [ 12.159021   -2.3137023]]\n",
      "\n",
      " -  -  -  -  -  -  -  -  -  - \n"
     ]
    }
   ],
   "source": [
    "print(\"t-SNE Features with PCA 3\")\n",
    "print(tsne_features_w_pca_3)\n",
    "print(\"\")\n",
    "print(\" - \" * 10)\n",
    "print(\"t-SNE Features with PCA 80\")\n",
    "print(tsne_features_w_pca_80)\n",
    "print(\"\")\n",
    "print(\" - \" * 10)\n",
    "print(\"t-SNE Features with PCA 99\")\n",
    "print(tsne_features_w_pca_pnt_99)\n",
    "print(\"\")\n",
    "print(\" - \" * 10)\n",
    "print(\"t-SNE Features with PCA 9\")\n",
    "print(tsne_features_w_pca_pnt_9)\n",
    "print(\"\")\n",
    "print(\" - \" * 10)\n",
    "print(\"t-SNE Features with PCA 74\")\n",
    "print(tsne_features_w_pca_74)\n",
    "print(\"\")\n",
    "print(\" - \" * 10)"
   ]
  },
  {
   "cell_type": "markdown",
   "metadata": {},
   "source": [
    "#### t-SNE Dataframes and Scatter Plots"
   ]
  },
  {
   "cell_type": "code",
   "execution_count": 80,
   "metadata": {},
   "outputs": [
    {
     "data": {
      "text/html": [
       "<div>\n",
       "<style scoped>\n",
       "    .dataframe tbody tr th:only-of-type {\n",
       "        vertical-align: middle;\n",
       "    }\n",
       "\n",
       "    .dataframe tbody tr th {\n",
       "        vertical-align: top;\n",
       "    }\n",
       "\n",
       "    .dataframe thead th {\n",
       "        text-align: right;\n",
       "    }\n",
       "</style>\n",
       "<table border=\"1\" class=\"dataframe\">\n",
       "  <thead>\n",
       "    <tr style=\"text-align: right;\">\n",
       "      <th></th>\n",
       "      <th>x</th>\n",
       "      <th>y</th>\n",
       "    </tr>\n",
       "  </thead>\n",
       "  <tbody>\n",
       "    <tr>\n",
       "      <th>0</th>\n",
       "      <td>-20.637970</td>\n",
       "      <td>9.702927</td>\n",
       "    </tr>\n",
       "    <tr>\n",
       "      <th>1</th>\n",
       "      <td>-14.112825</td>\n",
       "      <td>9.532802</td>\n",
       "    </tr>\n",
       "    <tr>\n",
       "      <th>2</th>\n",
       "      <td>1.230641</td>\n",
       "      <td>4.016249</td>\n",
       "    </tr>\n",
       "    <tr>\n",
       "      <th>3</th>\n",
       "      <td>17.878584</td>\n",
       "      <td>12.242441</td>\n",
       "    </tr>\n",
       "    <tr>\n",
       "      <th>4</th>\n",
       "      <td>6.547212</td>\n",
       "      <td>20.745323</td>\n",
       "    </tr>\n",
       "  </tbody>\n",
       "</table>\n",
       "</div>"
      ],
      "text/plain": [
       "           x          y\n",
       "0 -20.637970   9.702927\n",
       "1 -14.112825   9.532802\n",
       "2   1.230641   4.016249\n",
       "3  17.878584  12.242441\n",
       "4   6.547212  20.745323"
      ]
     },
     "execution_count": 80,
     "metadata": {},
     "output_type": "execute_result"
    }
   ],
   "source": [
    "# Transform PCA data to a DataFrame\n",
    "df_tsne_features_w_pca_3 = pd.DataFrame(\n",
    "    data=tsne_features_w_pca_3, columns=['x','y']\n",
    ")\n",
    "df_tsne_features_w_pca_3.head()"
   ]
  },
  {
   "cell_type": "code",
   "execution_count": 87,
   "metadata": {},
   "outputs": [
    {
     "data": {
      "application/vnd.plotly.v1+json": {
       "config": {
        "plotlyServerURL": "https://plot.ly"
       },
       "data": [
        {
         "hovertemplate": "x=%{x}<br>y=%{y}<extra></extra>",
         "legendgroup": "",
         "marker": {
          "color": "#636efa",
          "symbol": "circle"
         },
         "mode": "markers",
         "name": "",
         "orientation": "v",
         "showlegend": false,
         "type": "scatter",
         "x": [
          -20.637969970703125,
          -14.112825393676758,
          1.2306408882141113,
          17.878583908081055,
          6.547211647033691,
          24.239410400390625,
          2.383582830429077,
          4.141193866729736,
          6.543519020080566,
          7.604519367218018,
          -0.8590608239173889,
          9.839545249938965,
          -16.855056762695312,
          -17.802249908447266,
          26.77174949645996,
          6.510868549346924,
          -22.82486915588379,
          25.568161010742188,
          -18.84495735168457,
          -13.857596397399902,
          10.897285461425781,
          3.3945021629333496,
          18.483318328857422,
          22.017560958862305,
          25.174907684326172,
          -16.224609375,
          -21.634254455566406,
          20.642841339111328,
          25.232196807861328,
          -20.64121437072754,
          26.138896942138672,
          -20.340774536132812,
          26.350162506103516,
          -22.735261917114258,
          -11.482176780700684,
          -17.631589889526367,
          9.809085845947266,
          19.201826095581055,
          20.452939987182617,
          25.847082138061523,
          21.496137619018555,
          25.769855499267578,
          -3.5711007118225098,
          -19.19856071472168,
          26.562931060791016,
          12.337666511535645,
          21.279029846191406,
          24.346651077270508,
          24.793481826782227,
          -15.681047439575195,
          -9.903604507446289,
          4.300014495849609,
          2.1799545288085938,
          18.834884643554688,
          21.820690155029297,
          26.307437896728516,
          26.85154151916504,
          7.822147369384766,
          25.2342586517334,
          3.1782734394073486,
          -14.784876823425293,
          26.388647079467773,
          -16.132822036743164,
          -16.94831085205078,
          6.69307279586792,
          21.025447845458984,
          18.420141220092773,
          21.33127784729004,
          6.8685102462768555,
          -19.282934188842773,
          -14.019928932189941,
          -16.09053611755371,
          -11.77838134765625,
          27.00762367248535,
          23.279085159301758,
          25.44838523864746,
          -9.892582893371582,
          2.7825560569763184,
          18.168514251708984,
          -19.810951232910156,
          18.8033504486084,
          -1.620652437210083,
          2.57030987739563,
          18.894611358642578,
          17.826696395874023,
          18.446332931518555,
          -22.72492790222168,
          -14.228949546813965,
          -16.530662536621094,
          26.12116241455078,
          -19.44392204284668,
          18.164779663085938,
          22.018556594848633,
          2.4379751682281494,
          -19.810739517211914,
          18.28131103515625,
          6.700113773345947,
          -13.849273681640625,
          2.9473249912261963,
          3.6619486808776855,
          -15.605695724487305,
          -1.5933656692504883,
          23.946043014526367,
          -16.582717895507812,
          -17.629682540893555,
          21.273818969726562,
          -16.498720169067383,
          22.40765380859375,
          6.868714809417725,
          27.294374465942383,
          -16.341144561767578,
          22.281389236450195,
          -20.717294692993164,
          6.86856746673584,
          21.273685455322266,
          2.716930627822876,
          -9.892641067504883,
          10.97774600982666,
          17.524085998535156,
          26.377017974853516,
          -19.12822723388672,
          21.080480575561523,
          4.090834617614746,
          26.91962242126465,
          17.965633392333984,
          18.68890380859375,
          2.770800828933716,
          7.991350173950195,
          -23.308609008789062,
          3.2431623935699463,
          17.91592025756836,
          7.963160514831543,
          -22.656349182128906,
          -16.564613342285156,
          23.52724266052246,
          22.571962356567383,
          -16.488033294677734,
          6.547674179077148,
          6.691189765930176,
          3.9308035373687744,
          -16.381145477294922,
          6.509707450866699,
          -23.066171646118164,
          17.820833206176758,
          -14.81053638458252,
          21.69965171813965,
          5.584607124328613,
          -16.70836067199707,
          0.9646268486976624,
          24.123289108276367,
          -16.871593475341797,
          19.149641036987305,
          3.510951280593872,
          -18.796119689941406,
          -16.48975944519043,
          -23.78948211669922,
          4.602674961090088,
          24.526296615600586,
          3.443406105041504,
          1.1742212772369385,
          -10.776468276977539,
          -16.681896209716797,
          -18.706100463867188,
          -3.5522782802581787,
          26.761966705322266,
          -23.608545303344727,
          1.3590267896652222,
          -16.527624130249023,
          -16.478727340698242,
          3.9499247074127197,
          1.6424788236618042,
          27.105634689331055,
          -4.266117572784424,
          -14.227181434631348,
          -18.722675323486328,
          -15.691073417663574,
          1.4303101301193237,
          -22.745023727416992,
          -9.900297164916992,
          17.440954208374023,
          1.9019708633422852,
          -16.821712493896484,
          3.7187612056732178,
          -16.758272171020508,
          18.422842025756836,
          2.6686360836029053,
          -19.53217315673828,
          10.933411598205566,
          -20.703630447387695,
          22.422374725341797,
          -16.457042694091797,
          18.226402282714844,
          -18.200714111328125,
          25.98261833190918,
          6.459654331207275,
          -4.1033525466918945,
          -18.865886688232422,
          -0.21705520153045654,
          2.5378024578094482,
          -3.988844156265259,
          1.4310539960861206,
          7.712576866149902,
          -4.120275497436523,
          7.306836128234863,
          6.5455708503723145,
          7.605775356292725,
          0.5460929274559021,
          1.9675213098526,
          21.438732147216797,
          -23.751657485961914,
          4.4477715492248535,
          2.7103431224823,
          -3.6088101863861084,
          -18.44332504272461,
          -18.88732147216797,
          -23.765764236450195,
          -3.5522868633270264,
          2.054365634918213,
          -16.705074310302734,
          -18.44598960876465,
          -9.197876930236816,
          -18.865650177001953,
          -14.194405555725098,
          2.755288600921631,
          3.4457664489746094,
          -16.905296325683594,
          -11.276219367980957,
          -20.184410095214844,
          -20.55556869506836,
          -2.4148006439208984,
          -16.668466567993164,
          27.304731369018555,
          3.445729970932007,
          3.243596076965332,
          -14.483238220214844,
          -16.846899032592773,
          2.610278606414795,
          -19.473981857299805,
          18.55988311767578,
          -19.60581398010254,
          4.140176296234131,
          -16.95641326904297,
          -18.685712814331055,
          27.257272720336914,
          1.431028962135315,
          -23.45188331604004,
          7.606076717376709,
          -14.16501522064209,
          23.46759796142578,
          3.2446696758270264,
          -16.44014549255371,
          4.862595081329346,
          1.8231505155563354,
          7.898492813110352,
          1.366289496421814,
          21.308969497680664,
          -3.5571067333221436,
          1.7180852890014648,
          -22.053661346435547,
          -4.162020683288574,
          0.6425873041152954,
          -19.6163272857666,
          -19.794414520263672,
          -13.887205123901367,
          -11.50441837310791,
          1.9377782344818115,
          25.91900634765625,
          -16.227113723754883,
          17.895097732543945,
          -3.5415172576904297,
          -17.135974884033203,
          4.400921821594238,
          -17.798511505126953,
          25.40526008605957,
          -4.293400287628174,
          4.141242980957031,
          4.58089017868042,
          3.120377779006958,
          4.46762752532959,
          2.3256545066833496,
          3.514378070831299,
          3.954554796218872,
          -23.035078048706055,
          3.949937105178833,
          7.827360153198242,
          26.340438842773438,
          6.696331977844238,
          25.587099075317383,
          -23.749574661254883,
          -23.307653427124023,
          -11.708328247070312,
          3.938105583190918,
          6.700308322906494,
          6.4701409339904785,
          3.0981132984161377,
          -24.33149528503418,
          -4.203084945678711,
          -23.388961791992188,
          7.82811975479126,
          17.903438568115234,
          2.299882650375366,
          -16.939247131347656,
          -0.08125478029251099,
          21.43410873413086,
          -3.602811098098755,
          4.298330783843994,
          26.09726905822754,
          25.15215301513672,
          24.652097702026367,
          24.63587188720703,
          -18.182756423950195,
          -19.932886123657227,
          3.943469762802124,
          -0.8848957419395447,
          -10.025724411010742,
          2.343846321105957,
          7.503451347351074,
          -19.28104591369629,
          -23.822328567504883,
          -20.025833129882812,
          12.342665672302246,
          -17.52315902709961,
          7.48149299621582,
          -10.85749340057373,
          -16.513992309570312,
          3.905885934829712,
          5.893759727478027,
          4.600674152374268,
          -19.557449340820312,
          5.270202159881592,
          23.465965270996094,
          -4.307985305786133,
          -19.41969871520996,
          -17.046894073486328,
          -23.411285400390625,
          12.342480659484863,
          6.542180061340332,
          12.342604637145996,
          1.5743846893310547,
          0.5450468063354492,
          1.080310583114624,
          6.670368671417236,
          10.956578254699707,
          -15.038459777832031,
          3.6751255989074707,
          3.531101703643799,
          6.521451950073242,
          -7.753984451293945,
          -2.401219367980957,
          -23.757678985595703,
          4.141053676605225,
          -11.74991226196289,
          -16.82175636291504,
          21.390380859375,
          1.8051050901412964,
          4.580245494842529,
          -23.512025833129883,
          12.34267807006836,
          -2.418543815612793,
          12.33520221710205,
          24.80742645263672,
          -14.016845703125,
          -20.568965911865234,
          -9.892645835876465,
          -23.080074310302734,
          18.929136276245117,
          20.78438949584961,
          -4.145886421203613,
          -20.672061920166016,
          -19.225679397583008,
          2.0980429649353027,
          8.472177505493164,
          -14.253552436828613,
          3.977092981338501,
          20.6721134185791,
          4.601019859313965,
          18.148883819580078,
          1.4263378381729126,
          -4.3189826011657715,
          -3.9572834968566895,
          25.81592559814453,
          20.322513580322266,
          -23.25875473022461,
          -17.693164825439453,
          -4.342893600463867,
          2.327681541442871,
          2.8455843925476074,
          -16.79578399658203,
          -1.5515315532684326,
          6.5336103439331055,
          3.97385573387146,
          26.518604278564453,
          7.257421493530273,
          3.953287124633789,
          -20.197532653808594,
          -20.060916900634766,
          7.473151206970215,
          -16.32537269592285,
          2.539135694503784,
          -3.0201034545898438,
          -3.60945725440979,
          -19.27871322631836,
          0.49584898352622986,
          -23.040790557861328,
          5.271582126617432,
          -3.6063992977142334,
          3.7185840606689453,
          -17.883169174194336,
          -14.305252075195312,
          -22.0548152923584,
          3.243882417678833,
          -10.280501365661621,
          3.4420037269592285,
          -16.865739822387695,
          2.5377588272094727,
          3.42098331451416,
          3.6773011684417725,
          3.3660740852355957,
          -14.14749813079834,
          -16.949214935302734,
          8.657455444335938,
          7.556570529937744,
          3.4338343143463135,
          -17.44528579711914,
          1.3253896236419678,
          1.8828485012054443,
          -2.402815103530884,
          -17.798582077026367,
          -9.618867874145508,
          18.924264907836914,
          8.14936637878418,
          -22.816438674926758,
          -17.140552520751953,
          -2.4159581661224365,
          5.269778728485107,
          -15.50505256652832,
          -16.583356857299805,
          -2.3999223709106445,
          26.96754264831543,
          -13.884725570678711,
          4.1322760581970215,
          6.647120475769043,
          -22.387439727783203,
          3.0990588665008545,
          -9.89278507232666,
          1.8710676431655884,
          -16.416812896728516,
          -3.5499367713928223,
          17.97093391418457,
          0.17442311346530914,
          -9.892938613891602,
          -22.79862403869629,
          -14.19677448272705,
          -0.2770429849624634,
          18.91916275024414,
          -4.350192546844482,
          7.544692039489746,
          -8.687190055847168,
          2.5383217334747314,
          18.886384963989258,
          -10.666300773620605,
          -10.294268608093262,
          3.621976852416992,
          5.270901679992676,
          2.388692617416382,
          2.38664174079895,
          -20.428586959838867,
          3.688021183013916,
          24.38912582397461,
          -19.305477142333984,
          7.466755390167236,
          5.269901275634766,
          7.479928970336914,
          -2.4171924591064453,
          -10.743023872375488,
          17.52352523803711,
          -9.89251708984375,
          -17.474733352661133,
          2.836731195449829,
          7.381831645965576,
          1.0776348114013672,
          18.658466339111328,
          -21.053905487060547,
          18.54882049560547,
          2.044207811355591,
          0.5430296659469604,
          -11.730175018310547,
          18.654159545898438,
          1.1230759620666504,
          12.260445594787598,
          -16.301746368408203,
          2.3347160816192627,
          -18.0101261138916,
          -17.802366256713867,
          -20.26914405822754,
          -0.02166695147752762,
          21.2735652923584,
          -14.293994903564453,
          -14.800545692443848,
          -0.2127745896577835,
          18.867578506469727,
          -17.496013641357422,
          18.626720428466797,
          -13.858561515808105,
          20.641881942749023,
          0.8856921792030334,
          -15.318568229675293,
          -3.5720930099487305,
          27.248390197753906,
          23.180524826049805,
          -16.60780906677246,
          -16.52449607849121,
          0.5460684299468994,
          -15.007537841796875,
          -14.09744930267334,
          -19.282785415649414,
          10.979273796081543,
          6.869112491607666,
          6.062679290771484,
          0.5440511703491211,
          6.545572757720947,
          0.5436282753944397,
          -17.735700607299805,
          -4.209161281585693,
          -3.574463367462158,
          1.7008246183395386,
          -8.349907875061035,
          1.341827392578125,
          -15.667407035827637,
          3.9332377910614014,
          7.604195594787598,
          -16.85805892944336
         ],
         "xaxis": "x",
         "y": [
          9.702926635742188,
          9.532801628112793,
          4.01624870300293,
          12.242441177368164,
          20.745323181152344,
          -2.4583492279052734,
          -20.616609573364258,
          20.444149017333984,
          20.748859405517578,
          19.663455963134766,
          -11.186310768127441,
          17.355358123779297,
          0.9774132370948792,
          -6.047632694244385,
          0.8754714727401733,
          -15.020764350891113,
          -13.257254600524902,
          -0.380459189414978,
          10.648797988891602,
          10.857821464538574,
          17.695453643798828,
          7.097691535949707,
          11.569090843200684,
          -3.2467312812805176,
          -1.1469069719314575,
          12.825325012207031,
          -11.086546897888184,
          9.441553115844727,
          -0.9363486766815186,
          9.751940727233887,
          1.2328243255615234,
          9.575339317321777,
          1.6048600673675537,
          -13.74807357788086,
          0.38509097695350647,
          3.737250804901123,
          17.337390899658203,
          4.094877243041992,
          2.523729085922241,
          0.5162990689277649,
          -2.824923276901245,
          0.20727579295635223,
          -9.480257034301758,
          -7.171677589416504,
          1.8251607418060303,
          17.038305282592773,
          -0.6160427331924438,
          -2.346768617630005,
          -1.7456272840499878,
          12.736177444458008,
          -4.980191230773926,
          6.8977179527282715,
          -21.16143226623535,
          12.218897819519043,
          -3.1462457180023193,
          0.37801799178123474,
          2.0303001403808594,
          -13.588966369628906,
          -1.0105286836624146,
          21.646812438964844,
          -3.4641849994659424,
          1.6402806043624878,
          0.9022736549377441,
          -3.7516427040100098,
          -14.245497703552246,
          1.9102662801742554,
          12.454832077026367,
          -2.523568868637085,
          -14.496110916137695,
          -5.376064777374268,
          11.370623588562012,
          12.817085266113281,
          3.4832873344421387,
          1.0277669429779053,
          -3.1569151878356934,
          -0.6907297968864441,
          -5.028411865234375,
          -21.207725524902344,
          11.546463012695312,
          -8.31920337677002,
          11.707618713378906,
          -10.923911094665527,
          -21.650789260864258,
          12.139787673950195,
          11.992568016052246,
          12.452095031738281,
          -13.684309005737305,
          9.189319610595703,
          12.79301929473877,
          0.10886090248823166,
          -7.5871734619140625,
          13.50155258178711,
          -3.24924898147583,
          -21.783424377441406,
          -8.31884479522705,
          11.800674438476562,
          -14.251988410949707,
          10.657584190368652,
          7.280811786651611,
          12.84778881072998,
          -5.2290167808532715,
          -10.849601745605469,
          -2.752333879470825,
          0.6429053544998169,
          3.735682964324951,
          -0.696232259273529,
          -3.5911388397216797,
          -3.322150945663452,
          -14.496560096740723,
          1.7054009437561035,
          -3.7234129905700684,
          -3.312823534011841,
          10.058938026428223,
          -14.496335983276367,
          -0.7014349699020386,
          21.405221939086914,
          -5.029383659362793,
          17.71407699584961,
          14.014094352722168,
          1.6091101169586182,
          10.42890453338623,
          1.8420242071151733,
          20.791669845581055,
          2.0371289253234863,
          12.34598159790039,
          3.6291115283966064,
          -21.388431549072266,
          -13.10560417175293,
          -12.971074104309082,
          20.84238052368164,
          11.978778839111328,
          -13.985176086425781,
          -13.510849952697754,
          -2.6871166229248047,
          -3.0230937004089355,
          -3.3212156295776367,
          -4.18027400970459,
          20.742616653442383,
          -14.245916366577148,
          13.01673698425293,
          0.9128448963165283,
          -15.021397590637207,
          -13.057738304138184,
          12.029914855957031,
          1.2221453189849854,
          -3.044085741043091,
          20.367856979370117,
          1.085814356803894,
          -16.020681381225586,
          -2.5930919647216797,
          0.7883046269416809,
          4.0566086769104,
          -16.724422454833984,
          11.210625648498535,
          -4.182229042053223,
          -13.29206371307373,
          20.378482818603516,
          -2.1659791469573975,
          22.123287200927734,
          -21.511621475219727,
          1.1778690814971924,
          1.0919971466064453,
          -6.52424955368042,
          -9.410969734191895,
          0.8705551028251648,
          -13.020025253295898,
          -21.481414794921875,
          0.6613073945045471,
          1.0325406789779663,
          -16.898042678833008,
          -20.689130783081055,
          1.9286267757415771,
          -9.27453327178955,
          9.206595420837402,
          10.80582332611084,
          12.739550590515137,
          -14.601107597351074,
          -13.321148872375488,
          -4.999989986419678,
          14.297524452209473,
          -21.803674697875977,
          12.709741592407227,
          13.743053436279297,
          0.6645488739013672,
          12.457066535949707,
          -21.547502517700195,
          10.037758827209473,
          17.704015731811523,
          10.14016342163086,
          -3.3222811222076416,
          -4.166694641113281,
          12.437195777893066,
          -6.627935409545898,
          0.7726348042488098,
          -12.925753593444824,
          -8.664977073669434,
          11.319314956665039,
          -20.803159713745117,
          21.914508819580078,
          -8.501508712768555,
          -14.600127220153809,
          -14.37802505493164,
          -8.689107894897461,
          -13.450727462768555,
          20.74107551574707,
          19.665220260620117,
          3.859562635421753,
          -21.852706909179688,
          1.334507942199707,
          -13.673470497131348,
          -11.382737159729004,
          -20.865917205810547,
          -8.43795394897461,
          11.330974578857422,
          10.55340576171875,
          -13.3701171875,
          -9.41091537475586,
          -20.494367599487305,
          1.0846823453903198,
          11.330135345458984,
          -5.446873664855957,
          10.597071647644043,
          11.676538467407227,
          -20.97905921936035,
          13.594690322875977,
          12.680257797241211,
          0.7699344754219055,
          10.58289623260498,
          10.43541431427002,
          -8.710993766784668,
          -3.097899913787842,
          1.6104012727737427,
          13.593659400939941,
          20.843421936035156,
          11.975569725036621,
          0.982576310634613,
          -20.698762893676758,
          10.921184539794922,
          3.469675302505493,
          9.953363418579102,
          20.44914436340332,
          -3.9014170169830322,
          -6.320281982421875,
          1.4547990560531616,
          -14.600279808044434,
          -13.896271705627441,
          19.66563606262207,
          9.382134437561035,
          -3.0530624389648438,
          20.843013763427734,
          -3.645641565322876,
          20.55779457092285,
          -21.202234268188477,
          -13.943184852600098,
          -20.83770751953125,
          -0.40606623888015747,
          -8.940327644348145,
          -21.69450569152832,
          -11.758357048034668,
          -8.719952583312988,
          -21.33294677734375,
          10.461207389831543,
          10.727689743041992,
          11.003927230834961,
          0.36457931995391846,
          -21.825345993041992,
          -0.0696745216846466,
          -3.917412757873535,
          11.463499069213867,
          -8.926013946533203,
          12.5623197555542,
          -11.339113235473633,
          -6.049316883087158,
          -0.6734520196914673,
          -9.225915908813477,
          20.449216842651367,
          -11.508363723754883,
          20.522594451904297,
          21.886335372924805,
          22.52190589904785,
          13.253250122070312,
          -16.898395538330078,
          -14.009519577026367,
          -16.898168563842773,
          -14.901195526123047,
          0.4808667004108429,
          -14.24743938446045,
          -0.3517548739910126,
          -13.171525955200195,
          -12.967273712158203,
          3.3508005142211914,
          13.620841026306152,
          -14.25259780883789,
          19.766714096069336,
          7.029311656951904,
          -14.526476860046387,
          -9.746147155761719,
          -14.016560554504395,
          -14.900259017944336,
          12.2832612991333,
          -21.174623489379883,
          -3.7397406101226807,
          2.967280149459839,
          1.3430904150009155,
          -8.44312572479248,
          6.8741536140441895,
          1.132469892501831,
          -1.1747039556503296,
          -1.9506131410598755,
          -1.9856462478637695,
          11.689651489257812,
          9.69064998626709,
          13.617379188537598,
          -11.173901557922363,
          1.5486974716186523,
          -20.557331085205078,
          18.139822006225586,
          -5.376977920532227,
          -13.985755920410156,
          10.197609901428223,
          17.03657341003418,
          -6.228437423706055,
          19.51395034790039,
          2.074573516845703,
          0.66905677318573,
          -16.894540786743164,
          -14.394966125488281,
          20.383066177368164,
          10.021795272827148,
          -15.610655784606934,
          -3.060168981552124,
          -9.057726860046387,
          11.038714408874512,
          -6.148820400238037,
          -13.702214241027832,
          17.03664207458496,
          20.746238708496094,
          17.036596298217773,
          -20.733291625976562,
          3.8592917919158936,
          -15.926107406616211,
          -14.215362548828125,
          17.70924949645996,
          12.40178108215332,
          11.712786674499512,
          13.684932708740234,
          21.213956832885742,
          -6.539796829223633,
          -8.785686492919922,
          -13.533045768737793,
          20.489917755126953,
          3.4103891849517822,
          12.712658882141113,
          1.4159674644470215,
          -21.209733963012695,
          6.976342678070068,
          -12.960759162902832,
          17.03656578063965,
          -8.700780868530273,
          17.039142608642578,
          -1.7133204936981201,
          9.851679801940918,
          10.394146919250488,
          -5.029319763183594,
          -13.041176795959473,
          12.067652702331543,
          9.25517463684082,
          -9.45330810546875,
          -9.608312606811523,
          -7.235280513763428,
          6.567020893096924,
          19.265422821044922,
          11.750630378723145,
          13.533108711242676,
          2.2973427772521973,
          20.38436508178711,
          13.466447830200195,
          -14.605613708496094,
          -3.467557907104492,
          -3.2183754444122314,
          0.35567811131477356,
          2.6515462398529053,
          -14.04200267791748,
          3.947476625442505,
          -3.4901678562164307,
          -21.838762283325195,
          -17.3124942779541,
          -4.1309027671813965,
          -10.876432418823242,
          21.035293579101562,
          13.47608757019043,
          1.2282836437225342,
          20.20870018005371,
          -16.898338317871094,
          9.550817489624023,
          9.577646255493164,
          19.496339797973633,
          -3.7406792640686035,
          21.91459083557129,
          -9.265008926391602,
          -8.43736457824707,
          11.147377014160156,
          3.832637071609497,
          -14.009848594665527,
          -15.609192848205566,
          -8.439611434936523,
          13.74256420135498,
          -6.032345771789551,
          8.374065399169922,
          -11.757035255432129,
          20.84366226196289,
          -4.662268161773682,
          19.981586456298828,
          -4.067560195922852,
          21.91451072692871,
          13.51115608215332,
          12.356966018676758,
          7.736758708953857,
          7.323433876037598,
          -3.754817247390747,
          19.373178482055664,
          -13.55344009399414,
          13.411656379699707,
          12.349342346191406,
          -15.100029945373535,
          4.87369966506958,
          -8.83889389038086,
          -6.048731803894043,
          1.4534811973571777,
          12.850464820861816,
          19.416780471801758,
          -13.264389038085938,
          0.5680892467498779,
          -8.706445693969727,
          -15.611837387084961,
          -3.8019728660583496,
          -0.4924924075603485,
          -8.807588577270508,
          0.991197943687439,
          10.99335765838623,
          20.4935359954834,
          19.989248275756836,
          -12.225780487060547,
          7.444553375244141,
          -5.028321743011475,
          -20.569568634033203,
          -4.1459574699401855,
          -8.934782981872559,
          11.343652725219727,
          -19.363662719726562,
          -5.0279669761657715,
          -13.856695175170898,
          7.482241630554199,
          -11.417680740356445,
          12.84809398651123,
          -3.495708703994751,
          18.65711212158203,
          -5.79378604888916,
          21.91455078125,
          12.163434982299805,
          1.4766361713409424,
          -4.169257640838623,
          13.08211898803711,
          -15.611517906188965,
          22.529293060302734,
          22.529611587524414,
          -9.24130630493164,
          22.2183837890625,
          -2.325742244720459,
          11.14305305480957,
          19.484622955322266,
          -15.611610412597656,
          19.5106258392334,
          -8.699443817138672,
          1.8732212781906128,
          14.013161659240723,
          -5.029352188110352,
          12.323822021484375,
          -17.301231384277344,
          -13.484151840209961,
          -21.070913314819336,
          11.61232852935791,
          -10.19105052947998,
          11.576629638671875,
          -20.4907169342041,
          3.858140230178833,
          3.393298625946045,
          3.611488103866577,
          -20.986921310424805,
          17.05573081970215,
          12.818000793457031,
          22.556724548339844,
          11.843226432800293,
          -6.047633647918701,
          10.568008422851562,
          -21.052518844604492,
          -0.7049521803855896,
          7.976489067077637,
          1.231462836265564,
          -20.824094772338867,
          11.813981056213379,
          12.305376052856445,
          3.583631753921509,
          10.858448028564453,
          9.442533493041992,
          -21.409896850585938,
          12.574027061462402,
          -9.479729652404785,
          1.227161169052124,
          -3.1959595680236816,
          -2.270373582839966,
          0.6637100577354431,
          3.8595786094665527,
          -3.5814385414123535,
          11.524953842163086,
          -5.376177787780762,
          17.714801788330078,
          -14.496901512145996,
          21.103124618530273,
          3.8585238456726074,
          20.74095916748047,
          3.8588707447052,
          -6.065724849700928,
          -3.394348621368408,
          -9.48346996307373,
          6.258773326873779,
          -6.040505886077881,
          4.377495765686035,
          12.731454849243164,
          13.348145484924316,
          19.66303253173828,
          -3.6237785816192627
         ],
         "yaxis": "y"
        }
       ],
       "layout": {
        "legend": {
         "tracegroupgap": 0
        },
        "margin": {
         "t": 60
        },
        "template": {
         "data": {
          "bar": [
           {
            "error_x": {
             "color": "#2a3f5f"
            },
            "error_y": {
             "color": "#2a3f5f"
            },
            "marker": {
             "line": {
              "color": "#E5ECF6",
              "width": 0.5
             },
             "pattern": {
              "fillmode": "overlay",
              "size": 10,
              "solidity": 0.2
             }
            },
            "type": "bar"
           }
          ],
          "barpolar": [
           {
            "marker": {
             "line": {
              "color": "#E5ECF6",
              "width": 0.5
             },
             "pattern": {
              "fillmode": "overlay",
              "size": 10,
              "solidity": 0.2
             }
            },
            "type": "barpolar"
           }
          ],
          "carpet": [
           {
            "aaxis": {
             "endlinecolor": "#2a3f5f",
             "gridcolor": "white",
             "linecolor": "white",
             "minorgridcolor": "white",
             "startlinecolor": "#2a3f5f"
            },
            "baxis": {
             "endlinecolor": "#2a3f5f",
             "gridcolor": "white",
             "linecolor": "white",
             "minorgridcolor": "white",
             "startlinecolor": "#2a3f5f"
            },
            "type": "carpet"
           }
          ],
          "choropleth": [
           {
            "colorbar": {
             "outlinewidth": 0,
             "ticks": ""
            },
            "type": "choropleth"
           }
          ],
          "contour": [
           {
            "colorbar": {
             "outlinewidth": 0,
             "ticks": ""
            },
            "colorscale": [
             [
              0,
              "#0d0887"
             ],
             [
              0.1111111111111111,
              "#46039f"
             ],
             [
              0.2222222222222222,
              "#7201a8"
             ],
             [
              0.3333333333333333,
              "#9c179e"
             ],
             [
              0.4444444444444444,
              "#bd3786"
             ],
             [
              0.5555555555555556,
              "#d8576b"
             ],
             [
              0.6666666666666666,
              "#ed7953"
             ],
             [
              0.7777777777777778,
              "#fb9f3a"
             ],
             [
              0.8888888888888888,
              "#fdca26"
             ],
             [
              1,
              "#f0f921"
             ]
            ],
            "type": "contour"
           }
          ],
          "contourcarpet": [
           {
            "colorbar": {
             "outlinewidth": 0,
             "ticks": ""
            },
            "type": "contourcarpet"
           }
          ],
          "heatmap": [
           {
            "colorbar": {
             "outlinewidth": 0,
             "ticks": ""
            },
            "colorscale": [
             [
              0,
              "#0d0887"
             ],
             [
              0.1111111111111111,
              "#46039f"
             ],
             [
              0.2222222222222222,
              "#7201a8"
             ],
             [
              0.3333333333333333,
              "#9c179e"
             ],
             [
              0.4444444444444444,
              "#bd3786"
             ],
             [
              0.5555555555555556,
              "#d8576b"
             ],
             [
              0.6666666666666666,
              "#ed7953"
             ],
             [
              0.7777777777777778,
              "#fb9f3a"
             ],
             [
              0.8888888888888888,
              "#fdca26"
             ],
             [
              1,
              "#f0f921"
             ]
            ],
            "type": "heatmap"
           }
          ],
          "heatmapgl": [
           {
            "colorbar": {
             "outlinewidth": 0,
             "ticks": ""
            },
            "colorscale": [
             [
              0,
              "#0d0887"
             ],
             [
              0.1111111111111111,
              "#46039f"
             ],
             [
              0.2222222222222222,
              "#7201a8"
             ],
             [
              0.3333333333333333,
              "#9c179e"
             ],
             [
              0.4444444444444444,
              "#bd3786"
             ],
             [
              0.5555555555555556,
              "#d8576b"
             ],
             [
              0.6666666666666666,
              "#ed7953"
             ],
             [
              0.7777777777777778,
              "#fb9f3a"
             ],
             [
              0.8888888888888888,
              "#fdca26"
             ],
             [
              1,
              "#f0f921"
             ]
            ],
            "type": "heatmapgl"
           }
          ],
          "histogram": [
           {
            "marker": {
             "pattern": {
              "fillmode": "overlay",
              "size": 10,
              "solidity": 0.2
             }
            },
            "type": "histogram"
           }
          ],
          "histogram2d": [
           {
            "colorbar": {
             "outlinewidth": 0,
             "ticks": ""
            },
            "colorscale": [
             [
              0,
              "#0d0887"
             ],
             [
              0.1111111111111111,
              "#46039f"
             ],
             [
              0.2222222222222222,
              "#7201a8"
             ],
             [
              0.3333333333333333,
              "#9c179e"
             ],
             [
              0.4444444444444444,
              "#bd3786"
             ],
             [
              0.5555555555555556,
              "#d8576b"
             ],
             [
              0.6666666666666666,
              "#ed7953"
             ],
             [
              0.7777777777777778,
              "#fb9f3a"
             ],
             [
              0.8888888888888888,
              "#fdca26"
             ],
             [
              1,
              "#f0f921"
             ]
            ],
            "type": "histogram2d"
           }
          ],
          "histogram2dcontour": [
           {
            "colorbar": {
             "outlinewidth": 0,
             "ticks": ""
            },
            "colorscale": [
             [
              0,
              "#0d0887"
             ],
             [
              0.1111111111111111,
              "#46039f"
             ],
             [
              0.2222222222222222,
              "#7201a8"
             ],
             [
              0.3333333333333333,
              "#9c179e"
             ],
             [
              0.4444444444444444,
              "#bd3786"
             ],
             [
              0.5555555555555556,
              "#d8576b"
             ],
             [
              0.6666666666666666,
              "#ed7953"
             ],
             [
              0.7777777777777778,
              "#fb9f3a"
             ],
             [
              0.8888888888888888,
              "#fdca26"
             ],
             [
              1,
              "#f0f921"
             ]
            ],
            "type": "histogram2dcontour"
           }
          ],
          "mesh3d": [
           {
            "colorbar": {
             "outlinewidth": 0,
             "ticks": ""
            },
            "type": "mesh3d"
           }
          ],
          "parcoords": [
           {
            "line": {
             "colorbar": {
              "outlinewidth": 0,
              "ticks": ""
             }
            },
            "type": "parcoords"
           }
          ],
          "pie": [
           {
            "automargin": true,
            "type": "pie"
           }
          ],
          "scatter": [
           {
            "marker": {
             "colorbar": {
              "outlinewidth": 0,
              "ticks": ""
             }
            },
            "type": "scatter"
           }
          ],
          "scatter3d": [
           {
            "line": {
             "colorbar": {
              "outlinewidth": 0,
              "ticks": ""
             }
            },
            "marker": {
             "colorbar": {
              "outlinewidth": 0,
              "ticks": ""
             }
            },
            "type": "scatter3d"
           }
          ],
          "scattercarpet": [
           {
            "marker": {
             "colorbar": {
              "outlinewidth": 0,
              "ticks": ""
             }
            },
            "type": "scattercarpet"
           }
          ],
          "scattergeo": [
           {
            "marker": {
             "colorbar": {
              "outlinewidth": 0,
              "ticks": ""
             }
            },
            "type": "scattergeo"
           }
          ],
          "scattergl": [
           {
            "marker": {
             "colorbar": {
              "outlinewidth": 0,
              "ticks": ""
             }
            },
            "type": "scattergl"
           }
          ],
          "scattermapbox": [
           {
            "marker": {
             "colorbar": {
              "outlinewidth": 0,
              "ticks": ""
             }
            },
            "type": "scattermapbox"
           }
          ],
          "scatterpolar": [
           {
            "marker": {
             "colorbar": {
              "outlinewidth": 0,
              "ticks": ""
             }
            },
            "type": "scatterpolar"
           }
          ],
          "scatterpolargl": [
           {
            "marker": {
             "colorbar": {
              "outlinewidth": 0,
              "ticks": ""
             }
            },
            "type": "scatterpolargl"
           }
          ],
          "scatterternary": [
           {
            "marker": {
             "colorbar": {
              "outlinewidth": 0,
              "ticks": ""
             }
            },
            "type": "scatterternary"
           }
          ],
          "surface": [
           {
            "colorbar": {
             "outlinewidth": 0,
             "ticks": ""
            },
            "colorscale": [
             [
              0,
              "#0d0887"
             ],
             [
              0.1111111111111111,
              "#46039f"
             ],
             [
              0.2222222222222222,
              "#7201a8"
             ],
             [
              0.3333333333333333,
              "#9c179e"
             ],
             [
              0.4444444444444444,
              "#bd3786"
             ],
             [
              0.5555555555555556,
              "#d8576b"
             ],
             [
              0.6666666666666666,
              "#ed7953"
             ],
             [
              0.7777777777777778,
              "#fb9f3a"
             ],
             [
              0.8888888888888888,
              "#fdca26"
             ],
             [
              1,
              "#f0f921"
             ]
            ],
            "type": "surface"
           }
          ],
          "table": [
           {
            "cells": {
             "fill": {
              "color": "#EBF0F8"
             },
             "line": {
              "color": "white"
             }
            },
            "header": {
             "fill": {
              "color": "#C8D4E3"
             },
             "line": {
              "color": "white"
             }
            },
            "type": "table"
           }
          ]
         },
         "layout": {
          "annotationdefaults": {
           "arrowcolor": "#2a3f5f",
           "arrowhead": 0,
           "arrowwidth": 1
          },
          "autotypenumbers": "strict",
          "coloraxis": {
           "colorbar": {
            "outlinewidth": 0,
            "ticks": ""
           }
          },
          "colorscale": {
           "diverging": [
            [
             0,
             "#8e0152"
            ],
            [
             0.1,
             "#c51b7d"
            ],
            [
             0.2,
             "#de77ae"
            ],
            [
             0.3,
             "#f1b6da"
            ],
            [
             0.4,
             "#fde0ef"
            ],
            [
             0.5,
             "#f7f7f7"
            ],
            [
             0.6,
             "#e6f5d0"
            ],
            [
             0.7,
             "#b8e186"
            ],
            [
             0.8,
             "#7fbc41"
            ],
            [
             0.9,
             "#4d9221"
            ],
            [
             1,
             "#276419"
            ]
           ],
           "sequential": [
            [
             0,
             "#0d0887"
            ],
            [
             0.1111111111111111,
             "#46039f"
            ],
            [
             0.2222222222222222,
             "#7201a8"
            ],
            [
             0.3333333333333333,
             "#9c179e"
            ],
            [
             0.4444444444444444,
             "#bd3786"
            ],
            [
             0.5555555555555556,
             "#d8576b"
            ],
            [
             0.6666666666666666,
             "#ed7953"
            ],
            [
             0.7777777777777778,
             "#fb9f3a"
            ],
            [
             0.8888888888888888,
             "#fdca26"
            ],
            [
             1,
             "#f0f921"
            ]
           ],
           "sequentialminus": [
            [
             0,
             "#0d0887"
            ],
            [
             0.1111111111111111,
             "#46039f"
            ],
            [
             0.2222222222222222,
             "#7201a8"
            ],
            [
             0.3333333333333333,
             "#9c179e"
            ],
            [
             0.4444444444444444,
             "#bd3786"
            ],
            [
             0.5555555555555556,
             "#d8576b"
            ],
            [
             0.6666666666666666,
             "#ed7953"
            ],
            [
             0.7777777777777778,
             "#fb9f3a"
            ],
            [
             0.8888888888888888,
             "#fdca26"
            ],
            [
             1,
             "#f0f921"
            ]
           ]
          },
          "colorway": [
           "#636efa",
           "#EF553B",
           "#00cc96",
           "#ab63fa",
           "#FFA15A",
           "#19d3f3",
           "#FF6692",
           "#B6E880",
           "#FF97FF",
           "#FECB52"
          ],
          "font": {
           "color": "#2a3f5f"
          },
          "geo": {
           "bgcolor": "white",
           "lakecolor": "white",
           "landcolor": "#E5ECF6",
           "showlakes": true,
           "showland": true,
           "subunitcolor": "white"
          },
          "hoverlabel": {
           "align": "left"
          },
          "hovermode": "closest",
          "mapbox": {
           "style": "light"
          },
          "paper_bgcolor": "white",
          "plot_bgcolor": "#E5ECF6",
          "polar": {
           "angularaxis": {
            "gridcolor": "white",
            "linecolor": "white",
            "ticks": ""
           },
           "bgcolor": "#E5ECF6",
           "radialaxis": {
            "gridcolor": "white",
            "linecolor": "white",
            "ticks": ""
           }
          },
          "scene": {
           "xaxis": {
            "backgroundcolor": "#E5ECF6",
            "gridcolor": "white",
            "gridwidth": 2,
            "linecolor": "white",
            "showbackground": true,
            "ticks": "",
            "zerolinecolor": "white"
           },
           "yaxis": {
            "backgroundcolor": "#E5ECF6",
            "gridcolor": "white",
            "gridwidth": 2,
            "linecolor": "white",
            "showbackground": true,
            "ticks": "",
            "zerolinecolor": "white"
           },
           "zaxis": {
            "backgroundcolor": "#E5ECF6",
            "gridcolor": "white",
            "gridwidth": 2,
            "linecolor": "white",
            "showbackground": true,
            "ticks": "",
            "zerolinecolor": "white"
           }
          },
          "shapedefaults": {
           "line": {
            "color": "#2a3f5f"
           }
          },
          "ternary": {
           "aaxis": {
            "gridcolor": "white",
            "linecolor": "white",
            "ticks": ""
           },
           "baxis": {
            "gridcolor": "white",
            "linecolor": "white",
            "ticks": ""
           },
           "bgcolor": "#E5ECF6",
           "caxis": {
            "gridcolor": "white",
            "linecolor": "white",
            "ticks": ""
           }
          },
          "title": {
           "x": 0.05
          },
          "xaxis": {
           "automargin": true,
           "gridcolor": "white",
           "linecolor": "white",
           "ticks": "",
           "title": {
            "standoff": 15
           },
           "zerolinecolor": "white",
           "zerolinewidth": 2
          },
          "yaxis": {
           "automargin": true,
           "gridcolor": "white",
           "linecolor": "white",
           "ticks": "",
           "title": {
            "standoff": 15
           },
           "zerolinecolor": "white",
           "zerolinewidth": 2
          }
         }
        },
        "xaxis": {
         "anchor": "y",
         "domain": [
          0,
          1
         ],
         "title": {
          "text": "x"
         }
        },
        "yaxis": {
         "anchor": "x",
         "domain": [
          0,
          1
         ],
         "title": {
          "text": "y"
         }
        }
       }
      }
     },
     "metadata": {},
     "output_type": "display_data"
    }
   ],
   "source": [
    "# x and y given as DataFrame columns\n",
    "import plotly.express as px\n",
    "fig = px.scatter(df_tsne_features_w_pca_3, x=\"x\", y=\"y\")\n",
    "fig.show()"
   ]
  },
  {
   "cell_type": "code",
   "execution_count": 89,
   "metadata": {},
   "outputs": [
    {
     "data": {
      "image/png": "[encoded data removed]",
      "text/plain": [
       "<Figure size 432x288 with 1 Axes>"
      ]
     },
     "metadata": {
      "needs_background": "light"
     },
     "output_type": "display_data"
    }
   ],
   "source": [
    "import matplotlib.pyplot as plt\n",
    "# Plot t-SNE by using .pyplot\n",
    "X = tsne_features_w_pca_3[:,0]\n",
    "y = tsne_features_w_pca_3[:,1]\n",
    "\n",
    "plt.scatter(X, y)\n",
    "plt.show()"
   ]
  },
  {
   "cell_type": "code",
   "execution_count": 81,
   "metadata": {},
   "outputs": [
    {
     "data": {
      "text/html": [
       "<div>\n",
       "<style scoped>\n",
       "    .dataframe tbody tr th:only-of-type {\n",
       "        vertical-align: middle;\n",
       "    }\n",
       "\n",
       "    .dataframe tbody tr th {\n",
       "        vertical-align: top;\n",
       "    }\n",
       "\n",
       "    .dataframe thead th {\n",
       "        text-align: right;\n",
       "    }\n",
       "</style>\n",
       "<table border=\"1\" class=\"dataframe\">\n",
       "  <thead>\n",
       "    <tr style=\"text-align: right;\">\n",
       "      <th></th>\n",
       "      <th>x</th>\n",
       "      <th>y</th>\n",
       "    </tr>\n",
       "  </thead>\n",
       "  <tbody>\n",
       "    <tr>\n",
       "      <th>0</th>\n",
       "      <td>-0.881675</td>\n",
       "      <td>-15.408465</td>\n",
       "    </tr>\n",
       "    <tr>\n",
       "      <th>1</th>\n",
       "      <td>5.334274</td>\n",
       "      <td>-14.619259</td>\n",
       "    </tr>\n",
       "    <tr>\n",
       "      <th>2</th>\n",
       "      <td>9.699162</td>\n",
       "      <td>-25.054274</td>\n",
       "    </tr>\n",
       "    <tr>\n",
       "      <th>3</th>\n",
       "      <td>23.139307</td>\n",
       "      <td>20.189888</td>\n",
       "    </tr>\n",
       "    <tr>\n",
       "      <th>4</th>\n",
       "      <td>-8.652841</td>\n",
       "      <td>14.234759</td>\n",
       "    </tr>\n",
       "  </tbody>\n",
       "</table>\n",
       "</div>"
      ],
      "text/plain": [
       "           x          y\n",
       "0  -0.881675 -15.408465\n",
       "1   5.334274 -14.619259\n",
       "2   9.699162 -25.054274\n",
       "3  23.139307  20.189888\n",
       "4  -8.652841  14.234759"
      ]
     },
     "execution_count": 81,
     "metadata": {},
     "output_type": "execute_result"
    }
   ],
   "source": [
    "# Transform PCA data to a DataFrame\n",
    "df_tsne_features_w_pca_80 = pd.DataFrame(\n",
    "    data=tsne_features_w_pca_80, columns=['x','y']\n",
    ")\n",
    "df_tsne_features_w_pca_80.head()"
   ]
  },
  {
   "cell_type": "code",
   "execution_count": 96,
   "metadata": {},
   "outputs": [
    {
     "data": {
      "application/vnd.plotly.v1+json": {
       "config": {
        "plotlyServerURL": "https://plot.ly"
       },
       "data": [
        {
         "hovertemplate": "x=%{x}<br>y=%{y}<extra></extra>",
         "legendgroup": "",
         "marker": {
          "color": "#636efa",
          "symbol": "circle"
         },
         "mode": "markers",
         "name": "",
         "orientation": "v",
         "showlegend": false,
         "type": "scatter",
         "x": [
          -0.8816754221916199,
          5.3342742919921875,
          9.699162483215332,
          23.139307022094727,
          -8.652840614318848,
          -3.756641149520874,
          -20.357446670532227,
          -14.14008903503418,
          -8.652838706970215,
          -2.8852908611297607,
          4.555832862854004,
          2.133612632751465,
          26.672365188598633,
          23.873634338378906,
          -1.836072325706482,
          9.073360443115234,
          -16.66921615600586,
          -3.293876886367798,
          0.3446248173713684,
          5.419990539550781,
          2.1368110179901123,
          -2.397930860519409,
          23.843961715698242,
          -5.871601104736328,
          -3.6131579875946045,
          3.8206677436828613,
          13.173065185546875,
          -7.958549499511719,
          -3.49761962890625,
          -1.0479894876480103,
          -1.934606671333313,
          -1.0885003805160522,
          -1.568988561630249,
          -16.334609985351562,
          2.0084197521209717,
          -7.918314456939697,
          2.1336379051208496,
          22.81113052368164,
          -4.60951566696167,
          -2.656024694442749,
          -6.143802165985107,
          -2.875596046447754,
          16.367326736450195,
          1.4786326885223389,
          -1.4413578510284424,
          -7.242115497589111,
          -5.853126525878906,
          -3.673748254776001,
          -3.55181622505188,
          4.313256740570068,
          -17.088298797607422,
          -2.6507019996643066,
          -20.96651840209961,
          24.07571029663086,
          -5.994174957275391,
          -2.557866334915161,
          -1.0255368947982788,
          2.7067413330078125,
          -3.511173725128174,
          -0.264494925737381,
          7.72477388381958,
          -1.6639997959136963,
          26.477935791015625,
          8.740700721740723,
          10.444925308227539,
          -4.822807788848877,
          24.265670776367188,
          -6.186513900756836,
          10.445101737976074,
          -7.126017093658447,
          5.519374847412109,
          3.8975822925567627,
          2.3895299434661865,
          -1.5875478982925415,
          -4.886460304260254,
          -3.405640125274658,
          -17.08835792541504,
          -21.222946166992188,
          23.301509857177734,
          2.444718599319458,
          23.106061935424805,
          -4.07100248336792,
          -20.622013092041016,
          23.50383186340332,
          23.627670288085938,
          24.225908279418945,
          -16.272066116333008,
          5.065602779388428,
          3.427889585494995,
          -2.812075138092041,
          0.9210246801376343,
          1.9363329410552979,
          -5.879493236541748,
          -20.619096755981445,
          2.4447264671325684,
          23.776594161987305,
          10.445038795471191,
          5.665294647216797,
          -15.153223991394043,
          -15.983406066894531,
          2.0735530853271484,
          8.394648551940918,
          -4.07485294342041,
          26.749319076538086,
          -7.91831636428833,
          -5.886208534240723,
          8.74221134185791,
          -5.587197303771973,
          10.502115249633789,
          -1.034031629562378,
          8.447067260742188,
          -5.682431221008301,
          -0.6241682171821594,
          10.502100944519043,
          -5.896650791168213,
          -1.0779438018798828,
          -17.0883731842041,
          2.1369028091430664,
          -6.470561981201172,
          -1.4917162656784058,
          0.014589461497962475,
          -4.83287239074707,
          -4.684075355529785,
          -0.9281632900238037,
          23.933780670166016,
          -3.550187110900879,
          -21.631383895874023,
          2.7225422859191895,
          -16.1614990234375,
          -11.425041198730469,
          23.49524688720703,
          -1.095141887664795,
          -16.324825286865234,
          -11.914198875427246,
          -4.591899394989014,
          -5.486647605895996,
          8.031089782714844,
          -8.652840614318848,
          10.444972038269043,
          -2.7669732570648193,
          26.517013549804688,
          9.07337474822998,
          -16.22576141357422,
          23.498231887817383,
          -3.3718464374542236,
          -6.038148880004883,
          -7.532679557800293,
          26.79347038269043,
          -21.245479583740234,
          -3.874990701675415,
          27.07337188720703,
          22.779401779174805,
          -3.9174745082855225,
          1.0639762878417969,
          8.042343139648438,
          -16.715957641601562,
          -8.87983512878418,
          -3.381037712097168,
          -7.293914794921875,
          -20.159931182861328,
          7.232836723327637,
          27.185897827148438,
          2.0131924152374268,
          16.23272705078125,
          -2.0206847190856934,
          -16.768505096435547,
          -21.00075340270996,
          26.5760498046875,
          26.642704010009766,
          -3.918086051940918,
          -20.31113052368164,
          -0.9391416907310486,
          3.8615736961364746,
          5.071735382080078,
          1.037229061126709,
          4.310943126678467,
          11.478703498840332,
          -17.16510009765625,
          -17.088274002075195,
          -3.162661075592041,
          -20.324512481689453,
          3.0953774452209473,
          -16.3187255859375,
          26.96111488342285,
          23.131332397460938,
          -21.645597457885742,
          -0.04589466750621796,
          2.13685941696167,
          -0.4000222086906433,
          -5.576926231384277,
          8.030975341796875,
          23.6269588470459,
          1.1354426145553589,
          -2.4750595092773438,
          2.804877758026123,
          15.946516990661621,
          0.5661271214485168,
          -20.481351852416992,
          -10.294222831726074,
          16.37584114074707,
          11.478748321533203,
          1.5681579113006592,
          16.065195083618164,
          2.804871082305908,
          -8.652839660644531,
          -2.8852884769439697,
          7.162253379821777,
          -21.7613582611084,
          -4.883925914764404,
          -16.923898696899414,
          10.083392143249512,
          -20.900556564331055,
          16.096694946289062,
          1.19130277633667,
          0.865870475769043,
          -17.606828689575195,
          16.125341415405273,
          -21.207210540771484,
          27.098613739013672,
          1.1175283193588257,
          -17.42185401916504,
          0.6415289640426636,
          5.472933292388916,
          -21.255741119384766,
          -15.6984281539917,
          3.0820257663726807,
          7.550266265869141,
          -0.5763552784919739,
          -0.9610257148742676,
          12.989372253417969,
          -6.470117568969727,
          -1.0146278142929077,
          -16.112674713134766,
          -11.424991607666016,
          5.2821173667907715,
          27.184696197509766,
          -21.83205223083496,
          0.3584100604057312,
          -17.116506576538086,
          -0.21007589995861053,
          -14.140110969543457,
          8.527603149414062,
          1.866222620010376,
          -1.2738972902297974,
          11.478741645812988,
          -17.281108856201172,
          -2.885287284851074,
          5.229667663574219,
          -4.561956405639648,
          -11.425060272216797,
          8.392560005187988,
          -8.195195198059082,
          -20.33359146118164,
          0.252888560295105,
          -20.94846534729004,
          -5.669834613800049,
          16.318859100341797,
          -20.804412841796875,
          -4.242753982543945,
          15.783317565917969,
          -20.119354248046875,
          -0.23517179489135742,
          0.382388710975647,
          5.719120502471924,
          23.856266021728516,
          -21.75726318359375,
          -2.9693498611450195,
          8.267925262451172,
          23.186288833618164,
          15.662374496459961,
          2.78814435005188,
          9.073196411132812,
          23.873611450195312,
          -3.469698429107666,
          3.8615736961364746,
          -14.140100479125977,
          52.7689323425293,
          -7.906211853027344,
          -2.7682390213012695,
          -6.2101030349731445,
          -15.67564582824707,
          -3.9180901050567627,
          -17.058807373046875,
          -3.9180877208709717,
          -3.85025954246521,
          -2.3491220474243164,
          10.502008438110352,
          -3.333148717880249,
          -16.61004066467285,
          -16.19908905029297,
          2.1945133209228516,
          -16.336204528808594,
          10.502030372619629,
          -8.436821937561035,
          -2.364020347595215,
          -0.7618322968482971,
          7.790678977966309,
          -17.439754486083984,
          -3.850260019302368,
          23.935348510742188,
          -21.839750289916992,
          8.772314071655273,
          -3.1915736198425293,
          -4.881828308105469,
          15.850839614868164,
          -2.6541876792907715,
          -2.0009653568267822,
          -3.5630717277526855,
          -3.4968831539154053,
          -3.499537229537964,
          1.554826259613037,
          -0.08155281096696854,
          -16.315204620361328,
          4.555598258972168,
          9.283289909362793,
          -21.189416885375977,
          -2.8882639408111572,
          -7.1259989738464355,
          -17.524677276611328,
          0.040511202067136765,
          -7.242152214050293,
          1.9662388563156128,
          -2.8852903842926025,
          1.678839087486267,
          27.061965942382812,
          -3.9180748462677,
          -4.06110954284668,
          -8.879304885864258,
          0.2182231843471527,
          12.696430206298828,
          -4.56412410736084,
          9.839420318603516,
          0.07789059728384018,
          23.870710372924805,
          -17.120887756347656,
          -7.242145538330078,
          -8.652838706970215,
          -7.242145538330078,
          -20.680273056030273,
          7.162195682525635,
          -3.912269353866577,
          10.445233345031738,
          2.136869430541992,
          4.834571361541748,
          -15.676222801208496,
          -16.337827682495117,
          -8.65278148651123,
          -4.274677276611328,
          12.989372253417969,
          -17.6046199798584,
          -14.14008903503418,
          2.242877960205078,
          3.1703147888183594,
          -4.877636909484863,
          -21.45546531677246,
          -3.400614023208618,
          -16.549732208251953,
          -7.242152214050293,
          12.98937702178955,
          -7.242117404937744,
          -3.559192657470703,
          5.4579668045043945,
          -0.9840834140777588,
          -17.088356018066406,
          -16.970693588256836,
          24.29058265686035,
          -0.8910707235336304,
          3.8615736961364746,
          -8.684429168701172,
          0.3032584488391876,
          -14.64970588684082,
          -6.945574760437012,
          5.370351791381836,
          -16.050735473632812,
          -4.714922904968262,
          -8.87985897064209,
          1.9364643096923828,
          11.478507995605469,
          -4.129440784454346,
          -2.6532790660858154,
          -2.6558022499084473,
          -4.525540828704834,
          -17.563566207885742,
          -0.8668178915977478,
          -0.8369766473770142,
          -21.910709381103516,
          4.145883560180664,
          8.054940223693848,
          10.248355865478516,
          -8.652789115905762,
          -15.683150291442871,
          -1.9407039880752563,
          -1.9820051193237305,
          -3.9180908203125,
          -0.27375760674476624,
          -0.6710563898086548,
          -2.885258913040161,
          8.520275115966797,
          -10.294222831726074,
          7.001440048217773,
          16.368274688720703,
          0.776338517665863,
          20.226160049438477,
          -17.546546936035156,
          12.696228981018066,
          15.672151565551758,
          -16.3172664642334,
          -2.2122983932495117,
          4.387630462646484,
          -4.242343902587891,
          -11.424991607666016,
          -11.850035667419434,
          -7.551488876342773,
          8.352258682250977,
          -10.29422378540039,
          -15.880932807922363,
          -5.400506019592285,
          -15.471940040588379,
          3.368147134780884,
          8.773598670959473,
          -6.604249954223633,
          2.8048834800720215,
          -16.406177520751953,
          2.4318182468414307,
          9.09264850616455,
          -1.3228169679641724,
          12.989407539367676,
          23.873619079589844,
          7.440365314483643,
          -2.233800172805786,
          -8.437443733215332,
          -16.613162994384766,
          -2.2100892066955566,
          12.989372253417969,
          12.696226119995117,
          8.048341751098633,
          1.9687206745147705,
          12.989374160766602,
          -1.8484787940979004,
          5.71835994720459,
          -14.140109062194824,
          -4.924365997314453,
          4.144588947296143,
          -5.397011756896973,
          -17.08837127685547,
          -21.540639877319336,
          8.49793529510498,
          15.91103744506836,
          23.234548568725586,
          -0.7444567680358887,
          -17.088369369506836,
          -17.08340835571289,
          3.5490903854370117,
          4.467609405517578,
          -2.233800172805786,
          -2.0507962703704834,
          -2.8871657848358154,
          4.161830425262451,
          -10.294229507446289,
          24.206268310546875,
          4.211145877838135,
          -17.087764739990234,
          -16.111061096191406,
          12.696226119995117,
          -10.776827812194824,
          -10.776822090148926,
          -2.312974214553833,
          -5.824345588684082,
          -3.6264021396636963,
          0.3169870972633362,
          -2.8852970600128174,
          12.696226119995117,
          -2.8852922916412354,
          12.989372253417969,
          1.6113957166671753,
          -6.470425128936768,
          -17.0883731842041,
          2.402987003326416,
          4.1458845138549805,
          2.8048839569091797,
          -20.172292709350586,
          24.053831100463867,
          11.014715194702148,
          24.27379608154297,
          -21.194215774536133,
          7.162031650543213,
          2.239630699157715,
          -3.5345940589904785,
          -20.847333908081055,
          -7.240203380584717,
          3.6849331855773926,
          -10.776844024658203,
          1.7451611757278442,
          23.873632431030273,
          -0.7653957009315491,
          -20.110719680786133,
          -5.8983988761901855,
          3.9989688396453857,
          26.407329559326172,
          -20.413341522216797,
          23.50405502319336,
          2.168309211730957,
          -3.537897825241089,
          5.55911111831665,
          -7.958561897277832,
          -20.401988983154297,
          4.628652095794678,
          15.630605697631836,
          -1.2749338150024414,
          -4.915443420410156,
          -18.97203826904297,
          26.88857650756836,
          7.162248611450195,
          7.957437992095947,
          5.465085029602051,
          -7.1260175704956055,
          2.1369049549102783,
          10.50214672088623,
          -3.344738006591797,
          7.162093639373779,
          -8.652840614318848,
          7.162074565887451,
          23.873411178588867,
          -0.596849262714386,
          15.672983169555664,
          -14.265471458435059,
          17.05588722229004,
          20.726320266723633,
          4.290928840637207,
          -15.676740646362305,
          -2.8852906227111816,
          8.794347763061523
         ],
         "xaxis": "x",
         "y": [
          -15.408465385437012,
          -14.619258880615234,
          -25.05427360534668,
          20.18988800048828,
          14.234759330749512,
          4.290085315704346,
          -10.07066535949707,
          7.530858516693115,
          14.234755516052246,
          18.20512580871582,
          5.787265777587891,
          14.0636568069458,
          18.033384323120117,
          16.28243064880371,
          6.102759838104248,
          -17.309139251708984,
          -0.42707720398902893,
          6.17383337020874,
          -17.273937225341797,
          -15.984179496765137,
          14.065812110900879,
          9.428686141967773,
          19.186811447143555,
          4.555515766143799,
          5.595491409301758,
          -18.904647827148438,
          -9.858243942260742,
          -12.872480392456055,
          5.784817695617676,
          -15.605267524719238,
          6.382730960845947,
          -15.855594635009766,
          6.475742816925049,
          -0.8680660128593445,
          9.174650192260742,
          -12.923041343688965,
          14.0636568069458,
          19.56119155883789,
          8.564393043518066,
          6.628291130065918,
          5.107565402984619,
          6.481505393981934,
          3.0729784965515137,
          6.912047863006592,
          7.088963985443115,
          -6.509765625,
          6.603860855102539,
          4.410852909088135,
          5.038585662841797,
          -18.429168701171875,
          -5.875432014465332,
          9.213404655456543,
          -10.292036056518555,
          20.28931427001953,
          4.733701229095459,
          6.703065395355225,
          6.881595134735107,
          -15.09765338897705,
          5.755533695220947,
          8.94301986694336,
          3.1812634468078613,
          7.037898063659668,
          17.778963088989258,
          3.3628714084625244,
          -25.35869026184082,
          8.014854431152344,
          19.64754867553711,
          5.384745121002197,
          -25.3587703704834,
          -6.969588756561279,
          -16.582075119018555,
          -18.612459182739258,
          -12.299463272094727,
          6.06791353225708,
          3.9224977493286133,
          6.003312587738037,
          -5.875400543212891,
          -9.681905746459961,
          19.273784637451172,
          14.09038257598877,
          20.109479904174805,
          -14.78184986114502,
          -9.821686744689941,
          19.154579162597656,
          19.829307556152344,
          20.160444259643555,
          -0.8091346621513367,
          -14.27412223815918,
          -18.63091278076172,
          6.555509090423584,
          3.0784802436828613,
          -2.079257011413574,
          4.543308258056641,
          -9.84105396270752,
          14.0903959274292,
          20.471235275268555,
          -25.358741760253906,
          -15.751779556274414,
          17.98934555053711,
          18.840620040893555,
          9.1777925491333,
          1.14780592918396,
          4.075892925262451,
          17.328861236572266,
          -12.922942161560059,
          6.5580902099609375,
          3.3599610328674316,
          4.2800188064575195,
          -24.956552505493164,
          6.917129039764404,
          2.6641550064086914,
          4.3608880043029785,
          -15.356060981750488,
          -24.956554412841797,
          6.545810222625732,
          3.933122158050537,
          -5.875396728515625,
          14.065794944763184,
          -1.938427209854126,
          6.0492987632751465,
          -17.026248931884766,
          7.941823482513428,
          1.9669301509857178,
          6.578670501708984,
          19.22844696044922,
          8.795295715332031,
          -9.889374732971191,
          -15.00501823425293,
          -0.386363685131073,
          2.9022023677825928,
          20.437179565429688,
          -19.101791381835938,
          -0.014276955276727676,
          -3.5670063495635986,
          3.9433586597442627,
          4.163596153259277,
          2.815664291381836,
          14.234758377075195,
          -25.35871696472168,
          12.312932014465332,
          17.506275177001953,
          -17.309295654296875,
          -0.12858310341835022,
          20.437898635864258,
          -10.753637313842773,
          4.87384557723999,
          3.1275887489318848,
          17.32400894165039,
          -13.026854515075684,
          4.183149337768555,
          17.433670043945312,
          19.528961181640625,
          -23.429121017456055,
          -17.092945098876953,
          2.7991786003112793,
          -1.1173933744430542,
          0.7364738583564758,
          4.3976263999938965,
          9.08471393585205,
          -11.162906646728516,
          3.5220537185668945,
          17.72530174255371,
          9.174019813537598,
          3.4694368839263916,
          6.929070949554443,
          -0.46207213401794434,
          -11.351574897766113,
          17.421621322631836,
          18.015016555786133,
          -23.42953109741211,
          -10.64039421081543,
          6.361094951629639,
          1.7770599126815796,
          -14.281878471374512,
          -16.802135467529297,
          -18.473512649536133,
          -25.16234016418457,
          -0.009663043543696404,
          -5.875308990478516,
          19.278413772583008,
          -10.269099235534668,
          -18.590364456176758,
          18.918609619140625,
          18.06067657470703,
          20.178951263427734,
          -9.914759635925293,
          -16.245746612548828,
          14.065799713134766,
          -15.301351547241211,
          4.270793437957764,
          2.815406560897827,
          19.827289581298828,
          5.6550188064575195,
          6.740106105804443,
          -22.62167739868164,
          3.531859874725342,
          -17.618133544921875,
          -12.910820960998535,
          9.702791213989258,
          3.261756181716919,
          -25.162343978881836,
          -20.13503646850586,
          2.784318208694458,
          -22.621667861938477,
          14.234757423400879,
          18.205120086669922,
          10.47792911529541,
          -10.88577938079834,
          7.495666980743408,
          -1.141222596168518,
          -25.111427307128906,
          -9.71599006652832,
          2.792407989501953,
          -17.477540969848633,
          -16.55575180053711,
          -0.6134194731712341,
          3.5203256607055664,
          -10.59494400024414,
          17.96173858642578,
          -17.554040908813477,
          -3.275456190109253,
          -16.877605438232422,
          -16.87656593322754,
          -9.71619701385498,
          19.351118087768555,
          -18.456594467163086,
          3.418010950088501,
          -16.47910499572754,
          -16.239816665649414,
          -9.2835111618042,
          -2.022364854812622,
          6.245944499969482,
          19.538198471069336,
          2.902019500732422,
          -17.23611068725586,
          17.750991821289062,
          -10.22581672668457,
          -16.688556671142578,
          0.6650777459144592,
          -16.241191864013672,
          7.530790328979492,
          3.5675594806671143,
          4.5336151123046875,
          7.038014888763428,
          -25.162342071533203,
          -1.0426816940307617,
          18.205121994018555,
          -14.461258888244629,
          3.9861714839935303,
          2.9021947383880615,
          3.6001250743865967,
          7.648791313171387,
          -10.467618942260742,
          -19.752901077270508,
          -11.306092262268066,
          6.757190227508545,
          2.9721872806549072,
          -10.709478378295898,
          -23.65937614440918,
          2.833411931991577,
          -11.798920631408691,
          -16.727094650268555,
          -16.16204071044922,
          -16.094463348388672,
          16.278839111328125,
          -10.962071418762207,
          6.389173984527588,
          3.542574405670166,
          19.77263832092285,
          2.97598934173584,
          -18.440711975097656,
          -17.309518814086914,
          16.282438278198242,
          5.997459888458252,
          1.7770265340805054,
          7.530859470367432,
          77.8770523071289,
          4.994295597076416,
          12.313819885253906,
          9.543708801269531,
          19.228759765625,
          -23.429534912109375,
          -0.551498293876648,
          -23.429533004760742,
          -18.140661239624023,
          6.2341389656066895,
          -24.956581115722656,
          6.2080512046813965,
          -1.066597580909729,
          -0.5997438430786133,
          -12.162400245666504,
          19.38456916809082,
          -24.956571578979492,
          5.981064796447754,
          9.482985496520996,
          -6.303783893585205,
          5.036008834838867,
          -0.9110598564147949,
          -18.14065933227539,
          20.417945861816406,
          -10.396553993225098,
          2.9855875968933105,
          6.169100761413574,
          7.50353479385376,
          3.4990930557250977,
          9.210442543029785,
          6.229879379272461,
          5.569380760192871,
          4.7917304039001465,
          4.760463714599609,
          -17.72144889831543,
          -15.556514739990234,
          18.915523529052734,
          5.78682804107666,
          4.879050254821777,
          -10.243550300598145,
          18.193368911743164,
          -6.9696125984191895,
          -0.08578146994113922,
          -15.776679039001465,
          -6.509748935699463,
          -2.079688549041748,
          18.20512580871582,
          -11.786014556884766,
          17.42388153076172,
          -23.429540634155273,
          -14.786431312561035,
          0.7365350127220154,
          -15.974026679992676,
          -10.022804260253906,
          3.9852962493896484,
          1.7885929346084595,
          -17.156030654907227,
          16.281084060668945,
          -1.1038318872451782,
          -6.509746551513672,
          14.234753608703613,
          -6.5097479820251465,
          -10.88514518737793,
          10.4779691696167,
          -23.426095962524414,
          -25.356698989868164,
          14.065790176391602,
          -17.865869522094727,
          18.730125427246094,
          19.38575553894043,
          14.234389305114746,
          -23.554197311401367,
          -9.283509254455566,
          -0.3609389364719391,
          7.530858993530273,
          -12.19984245300293,
          -18.45159912109375,
          7.557611465454102,
          -11.135228157043457,
          -10.69310188293457,
          0.14510749280452728,
          -6.509749889373779,
          -9.283512115478516,
          -6.509756088256836,
          5.075325012207031,
          -14.937474250793457,
          -16.213199615478516,
          -5.875397205352783,
          0.11536221951246262,
          19.805980682373047,
          -9.125787734985352,
          1.7770599126815796,
          14.486313819885254,
          4.356749057769775,
          17.372678756713867,
          8.0144624710083,
          -17.015527725219727,
          19.549306869506836,
          8.389339447021484,
          0.7364864945411682,
          -2.0792336463928223,
          -25.16230583190918,
          0.6829684972763062,
          0.7926369309425354,
          6.222095966339111,
          8.624526023864746,
          -0.21837136149406433,
          -9.198173522949219,
          1.1655558347702026,
          -10.526626586914062,
          -8.05349349975586,
          2.7863211631774902,
          3.5868778228759766,
          14.234395980834961,
          19.302845001220703,
          6.969230651855469,
          3.230600118637085,
          -23.429534912109375,
          -15.316547393798828,
          -15.797516822814941,
          18.205121994018555,
          2.7006592750549316,
          9.70309829711914,
          1.7008483409881592,
          3.286933660507202,
          -16.675138473510742,
          18.767253875732422,
          -0.7720813155174255,
          -10.02293872833252,
          3.3245882987976074,
          18.917905807495117,
          -2.6107754707336426,
          -13.730447769165039,
          -23.65972900390625,
          2.9020328521728516,
          -3.5482964515686035,
          6.6295576095581055,
          3.602081775665283,
          9.702400207519531,
          19.523418426513672,
          11.912168502807617,
          18.449007034301758,
          -13.006646156311035,
          2.989647150039673,
          2.3884449005126953,
          -22.621644973754883,
          19.193782806396484,
          -18.26146697998047,
          -17.303619384765625,
          10.303738594055176,
          -9.283528327941895,
          16.28243064880371,
          10.292771339416504,
          -2.5971288681030273,
          3.9693450927734375,
          0.1372968703508377,
          -2.6937689781188965,
          -9.2835111618042,
          -10.02293586730957,
          3.4233474731445312,
          -2.163027286529541,
          -9.283510208129883,
          7.026052474975586,
          -16.08135414123535,
          7.530858516693115,
          10.226370811462402,
          -7.949577331542969,
          11.911460876464844,
          -5.875391006469727,
          -11.105545043945312,
          2.6802828311920166,
          2.778350353240967,
          19.360469818115234,
          -6.372329235076904,
          -5.8753838539123535,
          0.07477809488773346,
          -13.130706787109375,
          5.8239827156066895,
          -2.5971291065216064,
          2.034168243408203,
          18.203813552856445,
          -7.934356689453125,
          9.702853202819824,
          19.506227493286133,
          -8.456490516662598,
          -5.875075817108154,
          18.826345443725586,
          -10.02293586730957,
          6.049217224121094,
          6.049314975738525,
          18.583887100219727,
          1.5356090068817139,
          4.397225379943848,
          -17.196611404418945,
          18.20508575439453,
          -10.02293586730957,
          18.20512580871582,
          -9.2835111618042,
          -11.74047565460205,
          -1.9384652376174927,
          -5.875396728515625,
          -18.23806381225586,
          -8.053521156311035,
          -22.621644973754883,
          -11.27471923828125,
          19.36325454711914,
          -25.720401763916016,
          20.06275177001953,
          -10.560263633728027,
          10.478094100952148,
          -12.194561958312988,
          8.796652793884277,
          -11.542312622070312,
          -6.509472846984863,
          -18.29464340209961,
          6.049592971801758,
          -17.842708587646484,
          16.28243064880371,
          -16.517488479614258,
          -12.542062759399414,
          6.543880462646484,
          -13.455788612365723,
          17.729137420654297,
          -12.882390975952148,
          19.154504776000977,
          -18.32008171081543,
          8.805190086364746,
          -15.999337196350098,
          -12.872858047485352,
          -11.603999137878418,
          -18.1362247467041,
          3.0744473934173584,
          6.155603885650635,
          3.9875681400299072,
          -2.8556904792785645,
          18.078777313232422,
          10.477932929992676,
          3.415576934814453,
          -16.761869430541992,
          -6.969586372375488,
          14.065796852111816,
          -24.956541061401367,
          2.266495943069458,
          10.478058815002441,
          14.234758377075195,
          10.47806453704834,
          16.28240966796875,
          2.6438496112823486,
          3.330038547515869,
          16.897077560424805,
          2.1831557750701904,
          18.87687110900879,
          -18.176294326782227,
          19.261337280273438,
          18.205129623413086,
          3.0962467193603516
         ],
         "yaxis": "y"
        }
       ],
       "layout": {
        "legend": {
         "tracegroupgap": 0
        },
        "margin": {
         "t": 60
        },
        "template": {
         "data": {
          "bar": [
           {
            "error_x": {
             "color": "#2a3f5f"
            },
            "error_y": {
             "color": "#2a3f5f"
            },
            "marker": {
             "line": {
              "color": "#E5ECF6",
              "width": 0.5
             },
             "pattern": {
              "fillmode": "overlay",
              "size": 10,
              "solidity": 0.2
             }
            },
            "type": "bar"
           }
          ],
          "barpolar": [
           {
            "marker": {
             "line": {
              "color": "#E5ECF6",
              "width": 0.5
             },
             "pattern": {
              "fillmode": "overlay",
              "size": 10,
              "solidity": 0.2
             }
            },
            "type": "barpolar"
           }
          ],
          "carpet": [
           {
            "aaxis": {
             "endlinecolor": "#2a3f5f",
             "gridcolor": "white",
             "linecolor": "white",
             "minorgridcolor": "white",
             "startlinecolor": "#2a3f5f"
            },
            "baxis": {
             "endlinecolor": "#2a3f5f",
             "gridcolor": "white",
             "linecolor": "white",
             "minorgridcolor": "white",
             "startlinecolor": "#2a3f5f"
            },
            "type": "carpet"
           }
          ],
          "choropleth": [
           {
            "colorbar": {
             "outlinewidth": 0,
             "ticks": ""
            },
            "type": "choropleth"
           }
          ],
          "contour": [
           {
            "colorbar": {
             "outlinewidth": 0,
             "ticks": ""
            },
            "colorscale": [
             [
              0,
              "#0d0887"
             ],
             [
              0.1111111111111111,
              "#46039f"
             ],
             [
              0.2222222222222222,
              "#7201a8"
             ],
             [
              0.3333333333333333,
              "#9c179e"
             ],
             [
              0.4444444444444444,
              "#bd3786"
             ],
             [
              0.5555555555555556,
              "#d8576b"
             ],
             [
              0.6666666666666666,
              "#ed7953"
             ],
             [
              0.7777777777777778,
              "#fb9f3a"
             ],
             [
              0.8888888888888888,
              "#fdca26"
             ],
             [
              1,
              "#f0f921"
             ]
            ],
            "type": "contour"
           }
          ],
          "contourcarpet": [
           {
            "colorbar": {
             "outlinewidth": 0,
             "ticks": ""
            },
            "type": "contourcarpet"
           }
          ],
          "heatmap": [
           {
            "colorbar": {
             "outlinewidth": 0,
             "ticks": ""
            },
            "colorscale": [
             [
              0,
              "#0d0887"
             ],
             [
              0.1111111111111111,
              "#46039f"
             ],
             [
              0.2222222222222222,
              "#7201a8"
             ],
             [
              0.3333333333333333,
              "#9c179e"
             ],
             [
              0.4444444444444444,
              "#bd3786"
             ],
             [
              0.5555555555555556,
              "#d8576b"
             ],
             [
              0.6666666666666666,
              "#ed7953"
             ],
             [
              0.7777777777777778,
              "#fb9f3a"
             ],
             [
              0.8888888888888888,
              "#fdca26"
             ],
             [
              1,
              "#f0f921"
             ]
            ],
            "type": "heatmap"
           }
          ],
          "heatmapgl": [
           {
            "colorbar": {
             "outlinewidth": 0,
             "ticks": ""
            },
            "colorscale": [
             [
              0,
              "#0d0887"
             ],
             [
              0.1111111111111111,
              "#46039f"
             ],
             [
              0.2222222222222222,
              "#7201a8"
             ],
             [
              0.3333333333333333,
              "#9c179e"
             ],
             [
              0.4444444444444444,
              "#bd3786"
             ],
             [
              0.5555555555555556,
              "#d8576b"
             ],
             [
              0.6666666666666666,
              "#ed7953"
             ],
             [
              0.7777777777777778,
              "#fb9f3a"
             ],
             [
              0.8888888888888888,
              "#fdca26"
             ],
             [
              1,
              "#f0f921"
             ]
            ],
            "type": "heatmapgl"
           }
          ],
          "histogram": [
           {
            "marker": {
             "pattern": {
              "fillmode": "overlay",
              "size": 10,
              "solidity": 0.2
             }
            },
            "type": "histogram"
           }
          ],
          "histogram2d": [
           {
            "colorbar": {
             "outlinewidth": 0,
             "ticks": ""
            },
            "colorscale": [
             [
              0,
              "#0d0887"
             ],
             [
              0.1111111111111111,
              "#46039f"
             ],
             [
              0.2222222222222222,
              "#7201a8"
             ],
             [
              0.3333333333333333,
              "#9c179e"
             ],
             [
              0.4444444444444444,
              "#bd3786"
             ],
             [
              0.5555555555555556,
              "#d8576b"
             ],
             [
              0.6666666666666666,
              "#ed7953"
             ],
             [
              0.7777777777777778,
              "#fb9f3a"
             ],
             [
              0.8888888888888888,
              "#fdca26"
             ],
             [
              1,
              "#f0f921"
             ]
            ],
            "type": "histogram2d"
           }
          ],
          "histogram2dcontour": [
           {
            "colorbar": {
             "outlinewidth": 0,
             "ticks": ""
            },
            "colorscale": [
             [
              0,
              "#0d0887"
             ],
             [
              0.1111111111111111,
              "#46039f"
             ],
             [
              0.2222222222222222,
              "#7201a8"
             ],
             [
              0.3333333333333333,
              "#9c179e"
             ],
             [
              0.4444444444444444,
              "#bd3786"
             ],
             [
              0.5555555555555556,
              "#d8576b"
             ],
             [
              0.6666666666666666,
              "#ed7953"
             ],
             [
              0.7777777777777778,
              "#fb9f3a"
             ],
             [
              0.8888888888888888,
              "#fdca26"
             ],
             [
              1,
              "#f0f921"
             ]
            ],
            "type": "histogram2dcontour"
           }
          ],
          "mesh3d": [
           {
            "colorbar": {
             "outlinewidth": 0,
             "ticks": ""
            },
            "type": "mesh3d"
           }
          ],
          "parcoords": [
           {
            "line": {
             "colorbar": {
              "outlinewidth": 0,
              "ticks": ""
             }
            },
            "type": "parcoords"
           }
          ],
          "pie": [
           {
            "automargin": true,
            "type": "pie"
           }
          ],
          "scatter": [
           {
            "marker": {
             "colorbar": {
              "outlinewidth": 0,
              "ticks": ""
             }
            },
            "type": "scatter"
           }
          ],
          "scatter3d": [
           {
            "line": {
             "colorbar": {
              "outlinewidth": 0,
              "ticks": ""
             }
            },
            "marker": {
             "colorbar": {
              "outlinewidth": 0,
              "ticks": ""
             }
            },
            "type": "scatter3d"
           }
          ],
          "scattercarpet": [
           {
            "marker": {
             "colorbar": {
              "outlinewidth": 0,
              "ticks": ""
             }
            },
            "type": "scattercarpet"
           }
          ],
          "scattergeo": [
           {
            "marker": {
             "colorbar": {
              "outlinewidth": 0,
              "ticks": ""
             }
            },
            "type": "scattergeo"
           }
          ],
          "scattergl": [
           {
            "marker": {
             "colorbar": {
              "outlinewidth": 0,
              "ticks": ""
             }
            },
            "type": "scattergl"
           }
          ],
          "scattermapbox": [
           {
            "marker": {
             "colorbar": {
              "outlinewidth": 0,
              "ticks": ""
             }
            },
            "type": "scattermapbox"
           }
          ],
          "scatterpolar": [
           {
            "marker": {
             "colorbar": {
              "outlinewidth": 0,
              "ticks": ""
             }
            },
            "type": "scatterpolar"
           }
          ],
          "scatterpolargl": [
           {
            "marker": {
             "colorbar": {
              "outlinewidth": 0,
              "ticks": ""
             }
            },
            "type": "scatterpolargl"
           }
          ],
          "scatterternary": [
           {
            "marker": {
             "colorbar": {
              "outlinewidth": 0,
              "ticks": ""
             }
            },
            "type": "scatterternary"
           }
          ],
          "surface": [
           {
            "colorbar": {
             "outlinewidth": 0,
             "ticks": ""
            },
            "colorscale": [
             [
              0,
              "#0d0887"
             ],
             [
              0.1111111111111111,
              "#46039f"
             ],
             [
              0.2222222222222222,
              "#7201a8"
             ],
             [
              0.3333333333333333,
              "#9c179e"
             ],
             [
              0.4444444444444444,
              "#bd3786"
             ],
             [
              0.5555555555555556,
              "#d8576b"
             ],
             [
              0.6666666666666666,
              "#ed7953"
             ],
             [
              0.7777777777777778,
              "#fb9f3a"
             ],
             [
              0.8888888888888888,
              "#fdca26"
             ],
             [
              1,
              "#f0f921"
             ]
            ],
            "type": "surface"
           }
          ],
          "table": [
           {
            "cells": {
             "fill": {
              "color": "#EBF0F8"
             },
             "line": {
              "color": "white"
             }
            },
            "header": {
             "fill": {
              "color": "#C8D4E3"
             },
             "line": {
              "color": "white"
             }
            },
            "type": "table"
           }
          ]
         },
         "layout": {
          "annotationdefaults": {
           "arrowcolor": "#2a3f5f",
           "arrowhead": 0,
           "arrowwidth": 1
          },
          "autotypenumbers": "strict",
          "coloraxis": {
           "colorbar": {
            "outlinewidth": 0,
            "ticks": ""
           }
          },
          "colorscale": {
           "diverging": [
            [
             0,
             "#8e0152"
            ],
            [
             0.1,
             "#c51b7d"
            ],
            [
             0.2,
             "#de77ae"
            ],
            [
             0.3,
             "#f1b6da"
            ],
            [
             0.4,
             "#fde0ef"
            ],
            [
             0.5,
             "#f7f7f7"
            ],
            [
             0.6,
             "#e6f5d0"
            ],
            [
             0.7,
             "#b8e186"
            ],
            [
             0.8,
             "#7fbc41"
            ],
            [
             0.9,
             "#4d9221"
            ],
            [
             1,
             "#276419"
            ]
           ],
           "sequential": [
            [
             0,
             "#0d0887"
            ],
            [
             0.1111111111111111,
             "#46039f"
            ],
            [
             0.2222222222222222,
             "#7201a8"
            ],
            [
             0.3333333333333333,
             "#9c179e"
            ],
            [
             0.4444444444444444,
             "#bd3786"
            ],
            [
             0.5555555555555556,
             "#d8576b"
            ],
            [
             0.6666666666666666,
             "#ed7953"
            ],
            [
             0.7777777777777778,
             "#fb9f3a"
            ],
            [
             0.8888888888888888,
             "#fdca26"
            ],
            [
             1,
             "#f0f921"
            ]
           ],
           "sequentialminus": [
            [
             0,
             "#0d0887"
            ],
            [
             0.1111111111111111,
             "#46039f"
            ],
            [
             0.2222222222222222,
             "#7201a8"
            ],
            [
             0.3333333333333333,
             "#9c179e"
            ],
            [
             0.4444444444444444,
             "#bd3786"
            ],
            [
             0.5555555555555556,
             "#d8576b"
            ],
            [
             0.6666666666666666,
             "#ed7953"
            ],
            [
             0.7777777777777778,
             "#fb9f3a"
            ],
            [
             0.8888888888888888,
             "#fdca26"
            ],
            [
             1,
             "#f0f921"
            ]
           ]
          },
          "colorway": [
           "#636efa",
           "#EF553B",
           "#00cc96",
           "#ab63fa",
           "#FFA15A",
           "#19d3f3",
           "#FF6692",
           "#B6E880",
           "#FF97FF",
           "#FECB52"
          ],
          "font": {
           "color": "#2a3f5f"
          },
          "geo": {
           "bgcolor": "white",
           "lakecolor": "white",
           "landcolor": "#E5ECF6",
           "showlakes": true,
           "showland": true,
           "subunitcolor": "white"
          },
          "hoverlabel": {
           "align": "left"
          },
          "hovermode": "closest",
          "mapbox": {
           "style": "light"
          },
          "paper_bgcolor": "white",
          "plot_bgcolor": "#E5ECF6",
          "polar": {
           "angularaxis": {
            "gridcolor": "white",
            "linecolor": "white",
            "ticks": ""
           },
           "bgcolor": "#E5ECF6",
           "radialaxis": {
            "gridcolor": "white",
            "linecolor": "white",
            "ticks": ""
           }
          },
          "scene": {
           "xaxis": {
            "backgroundcolor": "#E5ECF6",
            "gridcolor": "white",
            "gridwidth": 2,
            "linecolor": "white",
            "showbackground": true,
            "ticks": "",
            "zerolinecolor": "white"
           },
           "yaxis": {
            "backgroundcolor": "#E5ECF6",
            "gridcolor": "white",
            "gridwidth": 2,
            "linecolor": "white",
            "showbackground": true,
            "ticks": "",
            "zerolinecolor": "white"
           },
           "zaxis": {
            "backgroundcolor": "#E5ECF6",
            "gridcolor": "white",
            "gridwidth": 2,
            "linecolor": "white",
            "showbackground": true,
            "ticks": "",
            "zerolinecolor": "white"
           }
          },
          "shapedefaults": {
           "line": {
            "color": "#2a3f5f"
           }
          },
          "ternary": {
           "aaxis": {
            "gridcolor": "white",
            "linecolor": "white",
            "ticks": ""
           },
           "baxis": {
            "gridcolor": "white",
            "linecolor": "white",
            "ticks": ""
           },
           "bgcolor": "#E5ECF6",
           "caxis": {
            "gridcolor": "white",
            "linecolor": "white",
            "ticks": ""
           }
          },
          "title": {
           "x": 0.05
          },
          "xaxis": {
           "automargin": true,
           "gridcolor": "white",
           "linecolor": "white",
           "ticks": "",
           "title": {
            "standoff": 15
           },
           "zerolinecolor": "white",
           "zerolinewidth": 2
          },
          "yaxis": {
           "automargin": true,
           "gridcolor": "white",
           "linecolor": "white",
           "ticks": "",
           "title": {
            "standoff": 15
           },
           "zerolinecolor": "white",
           "zerolinewidth": 2
          }
         }
        },
        "xaxis": {
         "anchor": "y",
         "domain": [
          0,
          1
         ],
         "title": {
          "text": "x"
         }
        },
        "yaxis": {
         "anchor": "x",
         "domain": [
          0,
          1
         ],
         "title": {
          "text": "y"
         }
        }
       }
      }
     },
     "metadata": {},
     "output_type": "display_data"
    }
   ],
   "source": [
    "# x and y given as DataFrame columns\n",
    "import plotly.express as px\n",
    "fig = px.scatter(df_tsne_features_w_pca_80, x=\"x\", y=\"y\")\n",
    "fig.show()"
   ]
  },
  {
   "cell_type": "code",
   "execution_count": 97,
   "metadata": {},
   "outputs": [
    {
     "data": {
      "image/png": "[encoded data removed]",
      "text/plain": [
       "<Figure size 432x288 with 1 Axes>"
      ]
     },
     "metadata": {
      "needs_background": "light"
     },
     "output_type": "display_data"
    }
   ],
   "source": [
    "import matplotlib.pyplot as plt\n",
    "# Plot t-SNE by using .pyplot\n",
    "X = tsne_features_w_pca_80[:,0]\n",
    "y = tsne_features_w_pca_80[:,1]\n",
    "\n",
    "plt.scatter(X, y)\n",
    "plt.show()"
   ]
  },
  {
   "cell_type": "code",
   "execution_count": 82,
   "metadata": {},
   "outputs": [
    {
     "data": {
      "text/html": [
       "<div>\n",
       "<style scoped>\n",
       "    .dataframe tbody tr th:only-of-type {\n",
       "        vertical-align: middle;\n",
       "    }\n",
       "\n",
       "    .dataframe tbody tr th {\n",
       "        vertical-align: top;\n",
       "    }\n",
       "\n",
       "    .dataframe thead th {\n",
       "        text-align: right;\n",
       "    }\n",
       "</style>\n",
       "<table border=\"1\" class=\"dataframe\">\n",
       "  <thead>\n",
       "    <tr style=\"text-align: right;\">\n",
       "      <th></th>\n",
       "      <th>x</th>\n",
       "      <th>y</th>\n",
       "    </tr>\n",
       "  </thead>\n",
       "  <tbody>\n",
       "    <tr>\n",
       "      <th>0</th>\n",
       "      <td>2.210044</td>\n",
       "      <td>9.867525</td>\n",
       "    </tr>\n",
       "    <tr>\n",
       "      <th>1</th>\n",
       "      <td>2.618201</td>\n",
       "      <td>16.978760</td>\n",
       "    </tr>\n",
       "    <tr>\n",
       "      <th>2</th>\n",
       "      <td>13.135757</td>\n",
       "      <td>18.304464</td>\n",
       "    </tr>\n",
       "    <tr>\n",
       "      <th>3</th>\n",
       "      <td>32.146935</td>\n",
       "      <td>-1.290234</td>\n",
       "    </tr>\n",
       "    <tr>\n",
       "      <th>4</th>\n",
       "      <td>-2.200207</td>\n",
       "      <td>-19.750957</td>\n",
       "    </tr>\n",
       "  </tbody>\n",
       "</table>\n",
       "</div>"
      ],
      "text/plain": [
       "           x          y\n",
       "0   2.210044   9.867525\n",
       "1   2.618201  16.978760\n",
       "2  13.135757  18.304464\n",
       "3  32.146935  -1.290234\n",
       "4  -2.200207 -19.750957"
      ]
     },
     "execution_count": 82,
     "metadata": {},
     "output_type": "execute_result"
    }
   ],
   "source": [
    "# Transform PCA data to a DataFrame\n",
    "df_tsne_features_w_pca_pnt_99 = pd.DataFrame(\n",
    "    data=tsne_features_w_pca_pnt_99, columns=['x','y']\n",
    ")\n",
    "df_tsne_features_w_pca_pnt_99.head()"
   ]
  },
  {
   "cell_type": "code",
   "execution_count": 94,
   "metadata": {},
   "outputs": [
    {
     "data": {
      "application/vnd.plotly.v1+json": {
       "config": {
        "plotlyServerURL": "https://plot.ly"
       },
       "data": [
        {
         "hovertemplate": "x=%{x}<br>y=%{y}<extra></extra>",
         "legendgroup": "",
         "marker": {
          "color": "#636efa",
          "symbol": "circle"
         },
         "mode": "markers",
         "name": "",
         "orientation": "v",
         "showlegend": false,
         "type": "scatter",
         "x": [
          2.2100436687469482,
          2.6182010173797607,
          13.135757446289062,
          32.146934509277344,
          -2.2002065181732178,
          1.2812832593917847,
          -22.395612716674805,
          6.095316410064697,
          -2.2002367973327637,
          5.690092086791992,
          -9.78003215789795,
          -7.989031791687012,
          32.64966583251953,
          29.011720657348633,
          -0.36270278692245483,
          -4.351402759552002,
          -23.3490047454834,
          -0.023083679378032684,
          3.2735583782196045,
          3.711745500564575,
          -7.987346172332764,
          7.977067470550537,
          31.026878356933594,
          3.1372315883636475,
          0.10921049863100052,
          4.4674458503723145,
          -9.410700798034668,
          5.86338996887207,
          0.5883256793022156,
          2.3118364810943604,
          -0.4938332140445709,
          2.6411051750183105,
          -0.20232881605625153,
          -23.407833099365234,
          7.237906455993652,
          5.8541765213012695,
          -7.987579822540283,
          30.6095027923584,
          5.140661239624023,
          0.32843658328056335,
          3.793802499771118,
          0.0274655744433403,
          -18.524560928344727,
          2.7054505348205566,
          -0.5007094740867615,
          11.669745445251465,
          4.840239524841309,
          1.3116660118103027,
          0.8068683743476868,
          5.310818195343018,
          -17.086271286010742,
          7.207953929901123,
          -22.131898880004883,
          31.954309463500977,
          3.3760602474212646,
          0.2137862741947174,
          -0.5153285264968872,
          7.617742538452148,
          0.6829355359077454,
          2.7401418685913086,
          -12.503833770751953,
          0.2500409483909607,
          32.49009704589844,
          -12.197651863098145,
          13.337628364562988,
          5.120614051818848,
          31.452653884887695,
          4.050721645355225,
          13.188419342041016,
          11.732950210571289,
          4.370823860168457,
          5.279988765716553,
          0.3262762427330017,
          -0.8048188090324402,
          1.9821481704711914,
          0.3521038591861725,
          -17.086151123046875,
          -23.089189529418945,
          30.788843154907227,
          -8.441360473632812,
          31.209644317626953,
          -0.579809844493866,
          -22.82354164123535,
          31.666807174682617,
          31.753931045532227,
          31.46635627746582,
          -23.38227653503418,
          2.1241674423217773,
          5.480576515197754,
          0.3790714740753174,
          0.16991694271564484,
          -0.8092890381813049,
          3.140758991241455,
          -22.79608154296875,
          -8.441312789916992,
          31.210979461669922,
          13.186739921569824,
          3.748309373855591,
          13.794489860534668,
          14.87508487701416,
          7.262182235717773,
          -13.646567344665527,
          1.4359797239303589,
          32.971473693847656,
          5.854154109954834,
          4.835838794708252,
          -12.83087158203125,
          2.7593047618865967,
          13.188638687133789,
          -0.7141765356063843,
          -12.856111526489258,
          2.882648229598999,
          2.0260136127471924,
          13.1885347366333,
          4.818216800689697,
          -0.4573475122451782,
          -17.086145401000977,
          -7.987139701843262,
          4.243255615234375,
          0.318453311920166,
          3.315880537033081,
          5.118279933929443,
          -2.719393014907837,
          -0.13010801374912262,
          31.65704345703125,
          5.976929664611816,
          -23.021329879760742,
          7.883805274963379,
          -22.7772159576416,
          -4.890847206115723,
          30.83063507080078,
          0.5986259579658508,
          -23.295536041259766,
          -14.686034202575684,
          1.7422993183135986,
          2.5832157135009766,
          -12.953932762145996,
          -2.2002201080322266,
          13.336315155029297,
          -4.6881256103515625,
          32.924560546875,
          -4.351402282714844,
          -23.07256317138672,
          32.10505676269531,
          -2.7013766765594482,
          3.515320301055908,
          1.1115639209747314,
          32.643306732177734,
          -20.155933380126953,
          1.40957772731781,
          32.988746643066406,
          30.613914489746094,
          -2.461577892303467,
          4.366755962371826,
          -12.95622444152832,
          -22.565326690673828,
          -2.5613951683044434,
          0.6833972334861755,
          2.287459373474121,
          -21.133012771606445,
          -11.848562240600586,
          33.133052825927734,
          7.2383646965026855,
          -18.423635482788086,
          0.16729964315891266,
          -23.133859634399414,
          -21.432226181030273,
          32.43986129760742,
          32.78251266479492,
          -2.4624648094177246,
          -21.724782943725586,
          -0.1315390020608902,
          -8.102728843688965,
          2.078441858291626,
          4.440147399902344,
          5.149607181549072,
          14.489435195922852,
          -22.69087028503418,
          -17.086027145385742,
          4.864965915679932,
          -22.113956451416016,
          5.457849025726318,
          15.106539726257324,
          33.151710510253906,
          32.01588821411133,
          -23.02927589416504,
          3.238081455230713,
          -7.987267971038818,
          2.0182673931121826,
          2.717985153198242,
          -12.55785083770752,
          31.748193740844727,
          4.936959743499756,
          -0.3849455714225769,
          4.701128005981445,
          -18.306310653686523,
          2.9716522693634033,
          -19.834339141845703,
          1.647416353225708,
          -18.535446166992188,
          14.489516258239746,
          2.884920120239258,
          -17.763702392578125,
          4.701118469238281,
          -2.2002041339874268,
          5.690093040466309,
          11.493242263793945,
          -22.31601333618164,
          5.1058125495910645,
          -23.061859130859375,
          13.066628456115723,
          -22.795785903930664,
          -18.013328552246094,
          4.239136219024658,
          4.333405017852783,
          -22.35338592529297,
          -17.78617286682129,
          -22.23282241821289,
          33.148529052734375,
          4.006741046905518,
          -21.37535285949707,
          3.8267359733581543,
          4.608368396759033,
          -22.83492660522461,
          15.389448165893555,
          5.985543727874756,
          -12.204424858093262,
          2.806823968887329,
          2.295654535293579,
          -10.109925270080566,
          4.253643989562988,
          -0.8806456923484802,
          15.236756324768066,
          -4.890847682952881,
          4.875796794891357,
          32.99943542480469,
          -22.865039825439453,
          3.3140735626220703,
          -23.55886459350586,
          3.5579240322113037,
          6.0953168869018555,
          -12.569141387939453,
          1.151092529296875,
          -0.9537143111228943,
          14.489534378051758,
          -22.062210083007812,
          5.690080642700195,
          2.420591115951538,
          1.8938392400741577,
          -4.890846252441406,
          -12.985712051391602,
          -1.8022128343582153,
          -21.904033660888672,
          1.599429965019226,
          -21.437108993530273,
          4.930405139923096,
          -17.795780181884766,
          -21.863601684570312,
          -2.8085970878601074,
          -18.0059757232666,
          -20.5841007232666,
          3.4518215656280518,
          3.869835138320923,
          3.9784348011016846,
          28.9741268157959,
          -22.279531478881836,
          0.12065128982067108,
          -12.182573318481445,
          30.774112701416016,
          -18.493759155273438,
          5.6935906410217285,
          -4.3508524894714355,
          29.01164436340332,
          0.08771106600761414,
          -8.102776527404785,
          6.095315456390381,
          1.983579397201538,
          -2.3237216472625732,
          -4.688111305236816,
          3.4352431297302246,
          14.71468734741211,
          -2.462463617324829,
          -22.31871795654297,
          -2.4624691009521484,
          -1.4577245712280273,
          0.3500398099422455,
          13.186798095703125,
          -0.14543363451957703,
          -22.348817825317383,
          -22.7207088470459,
          -0.3165748715400696,
          15.0938720703125,
          13.335895538330078,
          2.3377420902252197,
          7.890643119812012,
          2.0482215881347656,
          -14.638641357421875,
          -22.275243759155273,
          -1.4577124118804932,
          31.281606674194336,
          -22.61405372619629,
          -13.140035629272461,
          7.0752339363098145,
          5.105278015136719,
          -18.424072265625,
          7.217596530914307,
          0.15490268170833588,
          0.2528194487094879,
          0.6544499397277832,
          0.6808046698570251,
          4.630620956420898,
          2.3733603954315186,
          15.231189727783203,
          -9.780162811279297,
          -14.65463638305664,
          -22.39759635925293,
          5.769778251647949,
          11.732951164245605,
          -22.780515670776367,
          3.2149875164031982,
          11.669744491577148,
          -0.8260354399681091,
          5.690088272094727,
          -0.6823018789291382,
          32.43580627441406,
          -2.4625742435455322,
          -0.5562632083892822,
          -2.5613815784454346,
          3.4816174507141113,
          -9.460063934326172,
          1.8984397649765015,
          -12.101868629455566,
          3.0513923168182373,
          29.00849723815918,
          -21.966896057128906,
          11.669745445251465,
          -2.200227737426758,
          11.669744491577148,
          -21.628042221069336,
          11.493213653564453,
          -2.458639144897461,
          13.33655834197998,
          -7.987252235412598,
          5.319620132446289,
          14.53863525390625,
          15.429704666137695,
          -2.200005054473877,
          -2.9554574489593506,
          -10.110013008117676,
          -22.01723861694336,
          6.095320224761963,
          -0.2817908823490143,
          6.005491733551025,
          5.108746528625488,
          -21.868215560913086,
          -2.7309539318084717,
          -23.46864891052246,
          11.669744491577148,
          -10.110058784484863,
          11.669746398925781,
          0.8866859674453735,
          2.9209351539611816,
          2.593209743499756,
          -17.086143493652344,
          -22.694746017456055,
          32.043766021728516,
          8.787154197692871,
          -8.102726936340332,
          -2.498027801513672,
          -1.5633867979049683,
          12.979364395141602,
          3.2266695499420166,
          4.5799126625061035,
          15.206239700317383,
          5.123560428619385,
          -2.5613865852355957,
          -0.8092638254165649,
          14.48953914642334,
          -0.5245511531829834,
          -0.9060478210449219,
          -0.2537437081336975,
          5.177558422088623,
          -22.06363868713379,
          8.762149810791016,
          1.7071856260299683,
          -22.48429298400879,
          -4.79528284072876,
          -13.140704154968262,
          -12.966859817504883,
          -2.1996805667877197,
          14.756133079528809,
          -0.7055132389068604,
          3.431802988052368,
          -2.462465763092041,
          2.8719968795776367,
          2.909196376800537,
          5.690169811248779,
          -12.797567367553711,
          1.6475015878677368,
          -10.69778823852539,
          -17.948511123657227,
          3.9276177883148193,
          28.481477737426758,
          -22.159229278564453,
          -9.45958137512207,
          -17.78228187561035,
          15.429656982421875,
          -5.4611945152282715,
          1.4962513446807861,
          -2.8085837364196777,
          -4.890844821929932,
          -14.624595642089844,
          2.543698787689209,
          -13.147809982299805,
          1.6474509239196777,
          15.27799129486084,
          -4.285366535186768,
          14.213927268981934,
          0.6488577127456665,
          -12.953460693359375,
          4.099994659423828,
          4.7011566162109375,
          14.739877700805664,
          5.420929908752441,
          -4.4206671714782715,
          7.597381114959717,
          -10.110047340393066,
          29.01154899597168,
          11.889007568359375,
          -5.429139137268066,
          3.2314512729644775,
          -22.96401596069336,
          -5.450798034667969,
          -10.109928131103516,
          -9.459546089172363,
          -12.250712394714355,
          -0.8146029114723206,
          -10.109968185424805,
          -0.82899010181427,
          3.9713101387023926,
          6.095320224761963,
          1.9541908502578735,
          -4.807048320770264,
          -4.284265995025635,
          -17.08613395690918,
          -21.992422103881836,
          -12.331035614013672,
          -18.32362937927246,
          31.016212463378906,
          2.0536720752716064,
          -17.086149215698242,
          -22.75214195251465,
          0.8298261165618896,
          -9.64177131652832,
          -5.4287004470825195,
          4.082025051116943,
          5.733674049377441,
          -4.833352565765381,
          1.6475242376327515,
          31.46464729309082,
          -4.655450344085693,
          -17.08596420288086,
          14.989559173583984,
          -9.459567070007324,
          -3.293156862258911,
          -3.293196201324463,
          6.065866470336914,
          3.4402530193328857,
          0.8760937452316284,
          3.449092388153076,
          5.6908793449401855,
          -9.459720611572266,
          5.690106391906738,
          -10.11001205444336,
          -0.7590062618255615,
          4.2432541847229,
          -17.086145401000977,
          5.422082424163818,
          -4.7952375411987305,
          4.701190948486328,
          -21.032217025756836,
          32.016483306884766,
          13.845027923583984,
          31.226131439208984,
          -22.022037506103516,
          11.493005752563477,
          -0.25665751099586487,
          5.988125801086426,
          -21.267406463623047,
          11.669814109802246,
          6.087514400482178,
          -3.2931580543518066,
          4.810857772827148,
          29.011714935302734,
          2.3195536136627197,
          -19.989238739013672,
          4.81748104095459,
          1.099907398223877,
          32.58969497680664,
          -19.789899826049805,
          31.25773048400879,
          4.199880123138428,
          5.981906414031982,
          3.878680944442749,
          5.863402843475342,
          -20.923547744750977,
          5.376767158508301,
          -18.25188636779785,
          0.13084708154201508,
          2.0414767265319824,
          -23.083419799804688,
          32.43242263793945,
          11.493242263793945,
          -12.301885604858398,
          4.421658039093018,
          11.732950210571289,
          -7.987171649932861,
          13.18840217590332,
          2.3286259174346924,
          11.492903709411621,
          -2.200223445892334,
          11.492867469787598,
          29.011444091796875,
          6.0275444984436035,
          -17.959556579589844,
          12.429214477539062,
          -18.118741989135742,
          29.033649444580078,
          5.911336898803711,
          14.728901863098145,
          5.690092086791992,
          -12.200401306152344
         ],
         "xaxis": "x",
         "y": [
          9.867525100708008,
          16.978759765625,
          18.30446434020996,
          -1.290234088897705,
          -19.750957489013672,
          -6.8345489501953125,
          7.072565078735352,
          -15.125138282775879,
          -19.751007080078125,
          -21.14944076538086,
          -0.1424749791622162,
          -15.879150390625,
          3.0422096252441406,
          1.9346486330032349,
          -10.28854751586914,
          14.306336402893066,
          -1.3762823343276978,
          -8.418671607971191,
          11.6441011428833,
          15.787291526794434,
          -15.879464149475098,
          -11.301246643066406,
          -0.8389868140220642,
          -5.336874008178711,
          -7.3976826667785645,
          13.93558120727539,
          9.266532897949219,
          4.616783142089844,
          -8.3485746383667,
          9.818496704101562,
          -10.131158828735352,
          9.714834213256836,
          -10.745062828063965,
          -1.0868639945983887,
          -3.4686834812164307,
          4.728703498840332,
          -15.879522323608398,
          -1.7297117710113525,
          -10.16808795928955,
          -9.775129318237305,
          -5.614296913146973,
          -9.33195686340332,
          -13.934406280517578,
          -3.091930389404297,
          -10.917807579040527,
          0.8718089461326599,
          -7.123722553253174,
          -7.061977863311768,
          -7.429501533508301,
          14.59973430633545,
          -0.794269323348999,
          -11.097137451171875,
          7.050787448883057,
          -0.979644238948822,
          -5.416947841644287,
          -9.866862297058105,
          -11.372875213623047,
          10.96916389465332,
          -8.412230491638184,
          -13.106651306152344,
          -6.792335033416748,
          -10.888588905334473,
          2.493243932723999,
          -6.104186534881592,
          19.07048988342285,
          -9.452962875366211,
          -2.0983076095581055,
          -5.808017253875732,
          19.34123992919922,
          1.4415538311004639,
          16.263561248779297,
          14.203084945678711,
          15.220372200012207,
          -10.419656753540039,
          -5.26202917098999,
          -8.494922637939453,
          -0.7940007448196411,
          7.912912845611572,
          -1.1557517051696777,
          -15.766085624694824,
          -2.0293450355529785,
          5.675752639770508,
          7.906359672546387,
          -0.787869930267334,
          -2.011603593826294,
          -1.3859273195266724,
          -0.8623939752578735,
          16.856855392456055,
          13.84226131439209,
          -9.59827709197998,
          -4.302048206329346,
          0.40364333987236023,
          -5.2956647872924805,
          7.31751823425293,
          -15.766149520874023,
          -2.030618667602539,
          19.339935302734375,
          17.152881622314453,
          -13.997509956359863,
          -14.493830680847168,
          -3.437060832977295,
          -4.3119683265686035,
          -6.43064022064209,
          3.0115456581115723,
          4.728695392608643,
          -7.116285800933838,
          -5.835788726806641,
          -5.62486457824707,
          19.341381072998047,
          -11.27813720703125,
          -6.760103702545166,
          -5.674949645996094,
          10.268126487731934,
          19.34128761291504,
          -7.036177635192871,
          -13.404831886291504,
          -0.7939930558204651,
          -15.879526138305664,
          0.5073915123939514,
          -10.952573776245117,
          11.215581893920898,
          -9.334295272827148,
          -9.418180465698242,
          -11.459709167480469,
          -0.7860873341560364,
          -11.369815826416016,
          8.199959754943848,
          10.79383373260498,
          -1.0615254640579224,
          -11.88520622253418,
          -1.0389684438705444,
          12.372746467590332,
          -0.6669769883155823,
          3.787461996078491,
          -5.482133388519287,
          -5.234574794769287,
          -6.605586051940918,
          -19.7509765625,
          19.069828033447266,
          -8.950632095336914,
          3.035210132598877,
          14.306357383728027,
          -0.4662322998046875,
          -1.436384916305542,
          8.042003631591797,
          -5.542811870574951,
          -13.193060874938965,
          3.039884090423584,
          9.477609634399414,
          -6.758384704589844,
          2.3859822750091553,
          -1.8258342742919922,
          21.09343910217285,
          11.528701782226562,
          -6.705643653869629,
          -1.139052391052246,
          -14.526654243469238,
          -6.099112033843994,
          -9.183564186096191,
          8.400727272033691,
          -7.013175010681152,
          2.544295072555542,
          -3.4649806022644043,
          -14.083769798278809,
          -10.469405174255371,
          -0.5035829544067383,
          7.4393134117126465,
          2.841305732727051,
          2.3389859199523926,
          21.09387969970703,
          8.473596572875977,
          -11.461530685424805,
          -7.957934856414795,
          16.830259323120117,
          11.28149127960205,
          14.53014087677002,
          19.232194900512695,
          -1.80081307888031,
          -0.7941135168075562,
          -21.894895553588867,
          8.71202564239502,
          13.560124397277832,
          -15.189180374145508,
          2.7685422897338867,
          -1.0505069494247437,
          7.676475524902344,
          10.64114761352539,
          -15.879473686218262,
          10.368185043334961,
          -5.424325942993164,
          -5.8017706871032715,
          -2.00964617729187,
          -3.984823703765869,
          -9.666210174560547,
          20.317543029785156,
          -13.469671249389648,
          12.021669387817383,
          8.80249309539795,
          -15.941492080688477,
          -13.73047161102295,
          19.232290267944336,
          14.198299407958984,
          -13.920038223266602,
          20.317537307739258,
          -19.750967025756836,
          -21.149442672729492,
          -6.083171367645264,
          7.760300636291504,
          -8.920854568481445,
          -1.5508005619049072,
          18.845531463623047,
          8.478852272033691,
          -13.447868347167969,
          11.928149223327637,
          11.032254219055176,
          -1.7089213132858276,
          -13.659768104553223,
          8.122641563415527,
          2.7812294960021973,
          12.028364181518555,
          3.6327993869781494,
          11.302616119384766,
          16.700790405273438,
          8.451838493347168,
          -14.955363273620605,
          13.743978500366211,
          -6.8853983879089355,
          10.661620140075684,
          10.622432708740234,
          9.03588581085205,
          0.6030521988868713,
          -11.13100814819336,
          -14.447844505310059,
          -11.885209083557129,
          16.402727127075195,
          2.3908207416534424,
          7.422985076904297,
          11.240029335021973,
          -1.974748134613037,
          10.237557411193848,
          -15.125138282775879,
          -5.795619964599609,
          -3.3848893642425537,
          -10.94456672668457,
          19.2318115234375,
          -1.3913606405258179,
          -21.149431228637695,
          16.958097457885742,
          -6.299710273742676,
          -11.885476112365723,
          -5.970542907714844,
          -7.067420482635498,
          8.615473747253418,
          13.204602241516113,
          7.690407752990723,
          -7.643368244171143,
          -13.994744300842285,
          8.152384757995605,
          21.439796447753906,
          -13.450830459594727,
          7.996415138244629,
          10.720459938049316,
          10.547534942626953,
          17.17919921875,
          1.9523807764053345,
          7.873503684997559,
          -9.178937911987305,
          -6.232728004455566,
          -1.2703105211257935,
          -13.634927749633789,
          13.34527587890625,
          14.306500434875488,
          1.934691309928894,
          -8.074872970581055,
          -7.957936763763428,
          -15.125137329101562,
          14.168431282043457,
          -8.096759796142578,
          -8.950821876525879,
          -10.55312728881836,
          -14.97262191772461,
          21.093883514404297,
          -0.5310961008071899,
          21.093881607055664,
          11.412399291992188,
          -10.006216049194336,
          19.339765548706055,
          -8.197540283203125,
          -0.510437548160553,
          -0.39658787846565247,
          14.41330337524414,
          -15.191557884216309,
          19.070066452026367,
          -10.151058197021484,
          -11.256380081176758,
          4.1567583084106445,
          -5.377612113952637,
          -1.6803876161575317,
          11.412455558776855,
          -0.7507967352867126,
          7.165889263153076,
          -6.241725444793701,
          -7.406422138214111,
          -8.936614990234375,
          -14.08385944366455,
          -11.043278694152832,
          -10.32363510131836,
          -7.626931190490723,
          -6.920419692993164,
          -6.907460689544678,
          12.1834135055542,
          10.710346221923828,
          -14.445813179016113,
          -0.14246855676174164,
          -7.059086322784424,
          8.729353904724121,
          -21.141860961914062,
          1.4415620565414429,
          -1.099376916885376,
          10.174944877624512,
          0.8718060255050659,
          0.41758328676223755,
          -21.1494197845459,
          14.545147895812988,
          2.5983290672302246,
          21.093809127807617,
          5.743749618530273,
          -14.526653289794922,
          10.383967399597168,
          9.775961875915527,
          -6.302557468414307,
          -4.184091091156006,
          11.457173347473145,
          1.9360905885696411,
          -0.9415431022644043,
          0.8718066811561584,
          -19.75100326538086,
          0.871806263923645,
          8.07616138458252,
          -6.083177089691162,
          21.089101791381836,
          19.067731857299805,
          -15.879496574401855,
          15.338774681091309,
          -14.483294486999512,
          -14.769513130187988,
          -19.75164031982422,
          21.315372467041016,
          9.035975456237793,
          -1.0030133724212646,
          -15.125181198120117,
          14.400355339050293,
          13.836658477783203,
          -8.85714054107666,
          7.3714280128479,
          7.988533973693848,
          -1.1334019899368286,
          0.8718053698539734,
          9.035935401916504,
          0.8718121647834778,
          -7.555851459503174,
          17.01738166809082,
          10.227500915527344,
          -0.7939934730529785,
          -0.39340370893478394,
          -1.704284906387329,
          7.284080982208252,
          -7.957935333251953,
          -20.020992279052734,
          -5.88486385345459,
          -13.488686561584473,
          -9.51225757598877,
          15.890983581542969,
          -14.436515808105469,
          -9.933112144470215,
          -14.52670669555664,
          0.403675377368927,
          19.23189926147461,
          -3.1488661766052246,
          -4.880259037017822,
          -9.265939712524414,
          -10.291705131530762,
          -1.3880553245544434,
          7.34077787399292,
          -2.014099359512329,
          8.666356086730957,
          3.915846109390259,
          -6.237947463989258,
          -8.409878730773926,
          -19.75130271911621,
          -15.074555397033691,
          -10.235116004943848,
          -11.598307609558105,
          21.093883514404297,
          9.706828117370605,
          9.845297813415527,
          -21.14946937561035,
          -6.7658185958862305,
          -15.941922187805176,
          -5.526900768280029,
          -14.140649795532227,
          11.221719741821289,
          -2.949817180633545,
          -0.7244591116905212,
          9.77569580078125,
          -13.667511940002441,
          -14.773954391479492,
          -1.3742352724075317,
          16.3465518951416,
          21.4398136138916,
          -11.885188102722168,
          3.784503936767578,
          -8.33188533782959,
          -6.410707950592041,
          -15.942042350769043,
          -15.106574058532715,
          -6.602023601531982,
          -14.259017944335938,
          15.51222038269043,
          -5.902954578399658,
          -12.502098083496094,
          20.317564010620117,
          -15.047015190124512,
          12.980395317077637,
          14.286670684814453,
          -9.19365119934082,
          9.035743713378906,
          1.9346541166305542,
          -6.009945392608643,
          -1.3780860900878906,
          -7.661200523376465,
          -1.6600311994552612,
          -1.3105329275131226,
          9.035881042480469,
          9.775724411010742,
          -6.471358299255371,
          0.5011560916900635,
          9.035978317260742,
          -10.317205429077148,
          17.178537368774414,
          -15.125166893005371,
          -12.166618347167969,
          3.8439576625823975,
          -6.601673603057861,
          -0.7939968705177307,
          7.64867639541626,
          -5.880396842956543,
          -13.476988792419434,
          -1.7663465738296509,
          4.235105991363525,
          -0.7939949631690979,
          -1.7906520366668701,
          15.683844566345215,
          -0.15573571622371674,
          -1.378108263015747,
          -2.7280824184417725,
          -21.13650131225586,
          3.8498337268829346,
          -15.94189739227295,
          -1.38623046875,
          3.4589505195617676,
          -0.7968101501464844,
          -14.432792663574219,
          9.775626182556152,
          -4.124937534332275,
          -4.123702526092529,
          -21.68634796142578,
          -8.534064292907715,
          -6.505758285522461,
          11.530757904052734,
          -21.14961051940918,
          9.775738716125488,
          -21.149429321289062,
          9.035974502563477,
          14.44812297821045,
          0.5073878169059753,
          -0.7939924001693726,
          12.950601577758789,
          3.915815830230713,
          20.317550659179688,
          8.352682113647461,
          -1.76059889793396,
          19.82073974609375,
          -1.456949234008789,
          7.081563949584961,
          -6.083215713500977,
          14.489312171936035,
          -11.375211715698242,
          7.199207305908203,
          0.8710117340087891,
          14.414355278015137,
          -4.124403953552246,
          12.339640617370605,
          1.9346513748168945,
          10.921908378601074,
          8.054365158081055,
          -7.034236907958984,
          15.958568572998047,
          2.3544692993164062,
          8.596284866333008,
          -0.7552191019058228,
          12.95681381225586,
          -11.257608413696289,
          16.23807716369629,
          4.616720199584961,
          7.691405773162842,
          15.02873706817627,
          -14.175151824951172,
          -11.114922523498535,
          -5.619715213775635,
          3.3836817741394043,
          2.819639205932617,
          -6.083171844482422,
          -6.555232524871826,
          16.052120208740234,
          1.441554069519043,
          -15.879538536071777,
          19.342397689819336,
          -11.156973838806152,
          -6.0832343101501465,
          -19.750988006591797,
          -6.083245754241943,
          1.934788703918457,
          -5.462338924407959,
          -14.145652770996094,
          -13.134398460388184,
          -15.253813743591309,
          -2.654715061187744,
          14.976055145263672,
          -15.01534366607666,
          -21.14944076538086,
          -6.082685947418213
         ],
         "yaxis": "y"
        }
       ],
       "layout": {
        "legend": {
         "tracegroupgap": 0
        },
        "margin": {
         "t": 60
        },
        "template": {
         "data": {
          "bar": [
           {
            "error_x": {
             "color": "#2a3f5f"
            },
            "error_y": {
             "color": "#2a3f5f"
            },
            "marker": {
             "line": {
              "color": "#E5ECF6",
              "width": 0.5
             },
             "pattern": {
              "fillmode": "overlay",
              "size": 10,
              "solidity": 0.2
             }
            },
            "type": "bar"
           }
          ],
          "barpolar": [
           {
            "marker": {
             "line": {
              "color": "#E5ECF6",
              "width": 0.5
             },
             "pattern": {
              "fillmode": "overlay",
              "size": 10,
              "solidity": 0.2
             }
            },
            "type": "barpolar"
           }
          ],
          "carpet": [
           {
            "aaxis": {
             "endlinecolor": "#2a3f5f",
             "gridcolor": "white",
             "linecolor": "white",
             "minorgridcolor": "white",
             "startlinecolor": "#2a3f5f"
            },
            "baxis": {
             "endlinecolor": "#2a3f5f",
             "gridcolor": "white",
             "linecolor": "white",
             "minorgridcolor": "white",
             "startlinecolor": "#2a3f5f"
            },
            "type": "carpet"
           }
          ],
          "choropleth": [
           {
            "colorbar": {
             "outlinewidth": 0,
             "ticks": ""
            },
            "type": "choropleth"
           }
          ],
          "contour": [
           {
            "colorbar": {
             "outlinewidth": 0,
             "ticks": ""
            },
            "colorscale": [
             [
              0,
              "#0d0887"
             ],
             [
              0.1111111111111111,
              "#46039f"
             ],
             [
              0.2222222222222222,
              "#7201a8"
             ],
             [
              0.3333333333333333,
              "#9c179e"
             ],
             [
              0.4444444444444444,
              "#bd3786"
             ],
             [
              0.5555555555555556,
              "#d8576b"
             ],
             [
              0.6666666666666666,
              "#ed7953"
             ],
             [
              0.7777777777777778,
              "#fb9f3a"
             ],
             [
              0.8888888888888888,
              "#fdca26"
             ],
             [
              1,
              "#f0f921"
             ]
            ],
            "type": "contour"
           }
          ],
          "contourcarpet": [
           {
            "colorbar": {
             "outlinewidth": 0,
             "ticks": ""
            },
            "type": "contourcarpet"
           }
          ],
          "heatmap": [
           {
            "colorbar": {
             "outlinewidth": 0,
             "ticks": ""
            },
            "colorscale": [
             [
              0,
              "#0d0887"
             ],
             [
              0.1111111111111111,
              "#46039f"
             ],
             [
              0.2222222222222222,
              "#7201a8"
             ],
             [
              0.3333333333333333,
              "#9c179e"
             ],
             [
              0.4444444444444444,
              "#bd3786"
             ],
             [
              0.5555555555555556,
              "#d8576b"
             ],
             [
              0.6666666666666666,
              "#ed7953"
             ],
             [
              0.7777777777777778,
              "#fb9f3a"
             ],
             [
              0.8888888888888888,
              "#fdca26"
             ],
             [
              1,
              "#f0f921"
             ]
            ],
            "type": "heatmap"
           }
          ],
          "heatmapgl": [
           {
            "colorbar": {
             "outlinewidth": 0,
             "ticks": ""
            },
            "colorscale": [
             [
              0,
              "#0d0887"
             ],
             [
              0.1111111111111111,
              "#46039f"
             ],
             [
              0.2222222222222222,
              "#7201a8"
             ],
             [
              0.3333333333333333,
              "#9c179e"
             ],
             [
              0.4444444444444444,
              "#bd3786"
             ],
             [
              0.5555555555555556,
              "#d8576b"
             ],
             [
              0.6666666666666666,
              "#ed7953"
             ],
             [
              0.7777777777777778,
              "#fb9f3a"
             ],
             [
              0.8888888888888888,
              "#fdca26"
             ],
             [
              1,
              "#f0f921"
             ]
            ],
            "type": "heatmapgl"
           }
          ],
          "histogram": [
           {
            "marker": {
             "pattern": {
              "fillmode": "overlay",
              "size": 10,
              "solidity": 0.2
             }
            },
            "type": "histogram"
           }
          ],
          "histogram2d": [
           {
            "colorbar": {
             "outlinewidth": 0,
             "ticks": ""
            },
            "colorscale": [
             [
              0,
              "#0d0887"
             ],
             [
              0.1111111111111111,
              "#46039f"
             ],
             [
              0.2222222222222222,
              "#7201a8"
             ],
             [
              0.3333333333333333,
              "#9c179e"
             ],
             [
              0.4444444444444444,
              "#bd3786"
             ],
             [
              0.5555555555555556,
              "#d8576b"
             ],
             [
              0.6666666666666666,
              "#ed7953"
             ],
             [
              0.7777777777777778,
              "#fb9f3a"
             ],
             [
              0.8888888888888888,
              "#fdca26"
             ],
             [
              1,
              "#f0f921"
             ]
            ],
            "type": "histogram2d"
           }
          ],
          "histogram2dcontour": [
           {
            "colorbar": {
             "outlinewidth": 0,
             "ticks": ""
            },
            "colorscale": [
             [
              0,
              "#0d0887"
             ],
             [
              0.1111111111111111,
              "#46039f"
             ],
             [
              0.2222222222222222,
              "#7201a8"
             ],
             [
              0.3333333333333333,
              "#9c179e"
             ],
             [
              0.4444444444444444,
              "#bd3786"
             ],
             [
              0.5555555555555556,
              "#d8576b"
             ],
             [
              0.6666666666666666,
              "#ed7953"
             ],
             [
              0.7777777777777778,
              "#fb9f3a"
             ],
             [
              0.8888888888888888,
              "#fdca26"
             ],
             [
              1,
              "#f0f921"
             ]
            ],
            "type": "histogram2dcontour"
           }
          ],
          "mesh3d": [
           {
            "colorbar": {
             "outlinewidth": 0,
             "ticks": ""
            },
            "type": "mesh3d"
           }
          ],
          "parcoords": [
           {
            "line": {
             "colorbar": {
              "outlinewidth": 0,
              "ticks": ""
             }
            },
            "type": "parcoords"
           }
          ],
          "pie": [
           {
            "automargin": true,
            "type": "pie"
           }
          ],
          "scatter": [
           {
            "marker": {
             "colorbar": {
              "outlinewidth": 0,
              "ticks": ""
             }
            },
            "type": "scatter"
           }
          ],
          "scatter3d": [
           {
            "line": {
             "colorbar": {
              "outlinewidth": 0,
              "ticks": ""
             }
            },
            "marker": {
             "colorbar": {
              "outlinewidth": 0,
              "ticks": ""
             }
            },
            "type": "scatter3d"
           }
          ],
          "scattercarpet": [
           {
            "marker": {
             "colorbar": {
              "outlinewidth": 0,
              "ticks": ""
             }
            },
            "type": "scattercarpet"
           }
          ],
          "scattergeo": [
           {
            "marker": {
             "colorbar": {
              "outlinewidth": 0,
              "ticks": ""
             }
            },
            "type": "scattergeo"
           }
          ],
          "scattergl": [
           {
            "marker": {
             "colorbar": {
              "outlinewidth": 0,
              "ticks": ""
             }
            },
            "type": "scattergl"
           }
          ],
          "scattermapbox": [
           {
            "marker": {
             "colorbar": {
              "outlinewidth": 0,
              "ticks": ""
             }
            },
            "type": "scattermapbox"
           }
          ],
          "scatterpolar": [
           {
            "marker": {
             "colorbar": {
              "outlinewidth": 0,
              "ticks": ""
             }
            },
            "type": "scatterpolar"
           }
          ],
          "scatterpolargl": [
           {
            "marker": {
             "colorbar": {
              "outlinewidth": 0,
              "ticks": ""
             }
            },
            "type": "scatterpolargl"
           }
          ],
          "scatterternary": [
           {
            "marker": {
             "colorbar": {
              "outlinewidth": 0,
              "ticks": ""
             }
            },
            "type": "scatterternary"
           }
          ],
          "surface": [
           {
            "colorbar": {
             "outlinewidth": 0,
             "ticks": ""
            },
            "colorscale": [
             [
              0,
              "#0d0887"
             ],
             [
              0.1111111111111111,
              "#46039f"
             ],
             [
              0.2222222222222222,
              "#7201a8"
             ],
             [
              0.3333333333333333,
              "#9c179e"
             ],
             [
              0.4444444444444444,
              "#bd3786"
             ],
             [
              0.5555555555555556,
              "#d8576b"
             ],
             [
              0.6666666666666666,
              "#ed7953"
             ],
             [
              0.7777777777777778,
              "#fb9f3a"
             ],
             [
              0.8888888888888888,
              "#fdca26"
             ],
             [
              1,
              "#f0f921"
             ]
            ],
            "type": "surface"
           }
          ],
          "table": [
           {
            "cells": {
             "fill": {
              "color": "#EBF0F8"
             },
             "line": {
              "color": "white"
             }
            },
            "header": {
             "fill": {
              "color": "#C8D4E3"
             },
             "line": {
              "color": "white"
             }
            },
            "type": "table"
           }
          ]
         },
         "layout": {
          "annotationdefaults": {
           "arrowcolor": "#2a3f5f",
           "arrowhead": 0,
           "arrowwidth": 1
          },
          "autotypenumbers": "strict",
          "coloraxis": {
           "colorbar": {
            "outlinewidth": 0,
            "ticks": ""
           }
          },
          "colorscale": {
           "diverging": [
            [
             0,
             "#8e0152"
            ],
            [
             0.1,
             "#c51b7d"
            ],
            [
             0.2,
             "#de77ae"
            ],
            [
             0.3,
             "#f1b6da"
            ],
            [
             0.4,
             "#fde0ef"
            ],
            [
             0.5,
             "#f7f7f7"
            ],
            [
             0.6,
             "#e6f5d0"
            ],
            [
             0.7,
             "#b8e186"
            ],
            [
             0.8,
             "#7fbc41"
            ],
            [
             0.9,
             "#4d9221"
            ],
            [
             1,
             "#276419"
            ]
           ],
           "sequential": [
            [
             0,
             "#0d0887"
            ],
            [
             0.1111111111111111,
             "#46039f"
            ],
            [
             0.2222222222222222,
             "#7201a8"
            ],
            [
             0.3333333333333333,
             "#9c179e"
            ],
            [
             0.4444444444444444,
             "#bd3786"
            ],
            [
             0.5555555555555556,
             "#d8576b"
            ],
            [
             0.6666666666666666,
             "#ed7953"
            ],
            [
             0.7777777777777778,
             "#fb9f3a"
            ],
            [
             0.8888888888888888,
             "#fdca26"
            ],
            [
             1,
             "#f0f921"
            ]
           ],
           "sequentialminus": [
            [
             0,
             "#0d0887"
            ],
            [
             0.1111111111111111,
             "#46039f"
            ],
            [
             0.2222222222222222,
             "#7201a8"
            ],
            [
             0.3333333333333333,
             "#9c179e"
            ],
            [
             0.4444444444444444,
             "#bd3786"
            ],
            [
             0.5555555555555556,
             "#d8576b"
            ],
            [
             0.6666666666666666,
             "#ed7953"
            ],
            [
             0.7777777777777778,
             "#fb9f3a"
            ],
            [
             0.8888888888888888,
             "#fdca26"
            ],
            [
             1,
             "#f0f921"
            ]
           ]
          },
          "colorway": [
           "#636efa",
           "#EF553B",
           "#00cc96",
           "#ab63fa",
           "#FFA15A",
           "#19d3f3",
           "#FF6692",
           "#B6E880",
           "#FF97FF",
           "#FECB52"
          ],
          "font": {
           "color": "#2a3f5f"
          },
          "geo": {
           "bgcolor": "white",
           "lakecolor": "white",
           "landcolor": "#E5ECF6",
           "showlakes": true,
           "showland": true,
           "subunitcolor": "white"
          },
          "hoverlabel": {
           "align": "left"
          },
          "hovermode": "closest",
          "mapbox": {
           "style": "light"
          },
          "paper_bgcolor": "white",
          "plot_bgcolor": "#E5ECF6",
          "polar": {
           "angularaxis": {
            "gridcolor": "white",
            "linecolor": "white",
            "ticks": ""
           },
           "bgcolor": "#E5ECF6",
           "radialaxis": {
            "gridcolor": "white",
            "linecolor": "white",
            "ticks": ""
           }
          },
          "scene": {
           "xaxis": {
            "backgroundcolor": "#E5ECF6",
            "gridcolor": "white",
            "gridwidth": 2,
            "linecolor": "white",
            "showbackground": true,
            "ticks": "",
            "zerolinecolor": "white"
           },
           "yaxis": {
            "backgroundcolor": "#E5ECF6",
            "gridcolor": "white",
            "gridwidth": 2,
            "linecolor": "white",
            "showbackground": true,
            "ticks": "",
            "zerolinecolor": "white"
           },
           "zaxis": {
            "backgroundcolor": "#E5ECF6",
            "gridcolor": "white",
            "gridwidth": 2,
            "linecolor": "white",
            "showbackground": true,
            "ticks": "",
            "zerolinecolor": "white"
           }
          },
          "shapedefaults": {
           "line": {
            "color": "#2a3f5f"
           }
          },
          "ternary": {
           "aaxis": {
            "gridcolor": "white",
            "linecolor": "white",
            "ticks": ""
           },
           "baxis": {
            "gridcolor": "white",
            "linecolor": "white",
            "ticks": ""
           },
           "bgcolor": "#E5ECF6",
           "caxis": {
            "gridcolor": "white",
            "linecolor": "white",
            "ticks": ""
           }
          },
          "title": {
           "x": 0.05
          },
          "xaxis": {
           "automargin": true,
           "gridcolor": "white",
           "linecolor": "white",
           "ticks": "",
           "title": {
            "standoff": 15
           },
           "zerolinecolor": "white",
           "zerolinewidth": 2
          },
          "yaxis": {
           "automargin": true,
           "gridcolor": "white",
           "linecolor": "white",
           "ticks": "",
           "title": {
            "standoff": 15
           },
           "zerolinecolor": "white",
           "zerolinewidth": 2
          }
         }
        },
        "xaxis": {
         "anchor": "y",
         "domain": [
          0,
          1
         ],
         "title": {
          "text": "x"
         }
        },
        "yaxis": {
         "anchor": "x",
         "domain": [
          0,
          1
         ],
         "title": {
          "text": "y"
         }
        }
       }
      }
     },
     "metadata": {},
     "output_type": "display_data"
    }
   ],
   "source": [
    "# x and y given as DataFrame columns\n",
    "import plotly.express as px\n",
    "fig = px.scatter(df_tsne_features_w_pca_pnt_99, x=\"x\", y=\"y\")\n",
    "fig.show()"
   ]
  },
  {
   "cell_type": "code",
   "execution_count": 95,
   "metadata": {},
   "outputs": [
    {
     "data": {
      "image/png": "[encoded data removed]",
      "text/plain": [
       "<Figure size 432x288 with 1 Axes>"
      ]
     },
     "metadata": {
      "needs_background": "light"
     },
     "output_type": "display_data"
    }
   ],
   "source": [
    "import matplotlib.pyplot as plt\n",
    "# Plot t-SNE by using .pyplot\n",
    "X = tsne_features_w_pca_pnt_99[:,0]\n",
    "y = tsne_features_w_pca_pnt_99[:,1]\n",
    "\n",
    "plt.scatter(X, y)\n",
    "plt.show()"
   ]
  },
  {
   "cell_type": "code",
   "execution_count": 83,
   "metadata": {},
   "outputs": [
    {
     "data": {
      "text/html": [
       "<div>\n",
       "<style scoped>\n",
       "    .dataframe tbody tr th:only-of-type {\n",
       "        vertical-align: middle;\n",
       "    }\n",
       "\n",
       "    .dataframe tbody tr th {\n",
       "        vertical-align: top;\n",
       "    }\n",
       "\n",
       "    .dataframe thead th {\n",
       "        text-align: right;\n",
       "    }\n",
       "</style>\n",
       "<table border=\"1\" class=\"dataframe\">\n",
       "  <thead>\n",
       "    <tr style=\"text-align: right;\">\n",
       "      <th></th>\n",
       "      <th>x</th>\n",
       "      <th>y</th>\n",
       "    </tr>\n",
       "  </thead>\n",
       "  <tbody>\n",
       "    <tr>\n",
       "      <th>0</th>\n",
       "      <td>-18.244934</td>\n",
       "      <td>1.548514</td>\n",
       "    </tr>\n",
       "    <tr>\n",
       "      <th>1</th>\n",
       "      <td>-17.518515</td>\n",
       "      <td>-5.086440</td>\n",
       "    </tr>\n",
       "    <tr>\n",
       "      <th>2</th>\n",
       "      <td>-28.355022</td>\n",
       "      <td>4.218397</td>\n",
       "    </tr>\n",
       "    <tr>\n",
       "      <th>3</th>\n",
       "      <td>20.117401</td>\n",
       "      <td>-26.304937</td>\n",
       "    </tr>\n",
       "    <tr>\n",
       "      <th>4</th>\n",
       "      <td>2.819554</td>\n",
       "      <td>20.658979</td>\n",
       "    </tr>\n",
       "  </tbody>\n",
       "</table>\n",
       "</div>"
      ],
      "text/plain": [
       "           x          y\n",
       "0 -18.244934   1.548514\n",
       "1 -17.518515  -5.086440\n",
       "2 -28.355022   4.218397\n",
       "3  20.117401 -26.304937\n",
       "4   2.819554  20.658979"
      ]
     },
     "execution_count": 83,
     "metadata": {},
     "output_type": "execute_result"
    }
   ],
   "source": [
    "# Transform PCA data to a DataFrame\n",
    "df_tsne_features_w_pca_pnt_9 = pd.DataFrame(\n",
    "    data=tsne_features_w_pca_pnt_9, columns=['x','y']\n",
    ")\n",
    "df_tsne_features_w_pca_pnt_9.head()\n"
   ]
  },
  {
   "cell_type": "code",
   "execution_count": 93,
   "metadata": {},
   "outputs": [
    {
     "data": {
      "application/vnd.plotly.v1+json": {
       "config": {
        "plotlyServerURL": "https://plot.ly"
       },
       "data": [
        {
         "hovertemplate": "x=%{x}<br>y=%{y}<extra></extra>",
         "legendgroup": "",
         "marker": {
          "color": "#636efa",
          "symbol": "circle"
         },
         "mode": "markers",
         "name": "",
         "orientation": "v",
         "showlegend": false,
         "type": "scatter",
         "x": [
          -18.24493408203125,
          -17.51851463317871,
          -28.355022430419922,
          20.117401123046875,
          2.819554090499878,
          3.0119972229003906,
          -0.9080736041069031,
          6.454847812652588,
          2.819556474685669,
          12.731162071228027,
          8.574468612670898,
          16.269283294677734,
          18.205183029174805,
          17.133403778076172,
          6.806039333343506,
          -24.12042999267578,
          0.5486122965812683,
          5.305716037750244,
          -19.595821380615234,
          -18.77303695678711,
          16.270225524902344,
          3.48203444480896,
          21.109344482421875,
          0.7703580260276794,
          4.580812931060791,
          -21.251020431518555,
          -13.990976333618164,
          -13.065969467163086,
          4.699584484100342,
          -17.988752365112305,
          6.715503215789795,
          -18.05426025390625,
          7.146524906158447,
          0.11647988855838776,
          11.114516258239746,
          -13.134745597839355,
          16.269397735595703,
          20.523269653320312,
          4.976274013519287,
          6.119822978973389,
          0.7931365966796875,
          5.625565528869629,
          15.365747451782227,
          9.428025245666504,
          6.664528846740723,
          -9.481494903564453,
          2.274401903152466,
          3.1648404598236084,
          3.910390853881836,
          -20.90226936340332,
          5.7294487953186035,
          3.376307487487793,
          -0.14572212100028992,
          20.108572006225586,
          0.7238256335258484,
          6.2219438552856445,
          7.324736595153809,
          -21.62813949584961,
          4.639531135559082,
          2.1410136222839355,
          10.880599975585938,
          6.911279201507568,
          17.842641830444336,
          10.826327323913574,
          -29.117578506469727,
          4.508884429931641,
          19.99818992614746,
          0.9500868320465088,
          -29.212230682373047,
          -9.928811073303223,
          -19.371023178100586,
          -20.976016998291016,
          -15.471419334411621,
          6.793701648712158,
          1.7363399267196655,
          4.945485591888428,
          5.729211330413818,
          0.008420842699706554,
          21.0484676361084,
          16.440095901489258,
          21.298274993896484,
          -14.633780479431152,
          -0.5191113948822021,
          19.998001098632812,
          21.276222229003906,
          20.082304000854492,
          0.3458614647388458,
          -17.28383445739746,
          -20.879596710205078,
          5.605358600616455,
          6.772794246673584,
          -2.656318426132202,
          0.7653475403785706,
          0.1176324263215065,
          16.440101623535156,
          20.158842086791992,
          -29.11768913269043,
          -18.50779151916504,
          -4.312851428985596,
          -4.614215850830078,
          11.165997505187988,
          8.90319538116455,
          2.6119866371154785,
          18.168237686157227,
          -13.134590148925781,
          2.207488536834717,
          10.713294982910156,
          1.0107680559158325,
          -29.212270736694336,
          7.465201377868652,
          10.4766845703125,
          0.917681872844696,
          -18.53873062133789,
          -29.212244033813477,
          2.188046455383301,
          8.595032691955566,
          5.7292046546936035,
          16.270212173461914,
          -6.050704479217529,
          6.406111240386963,
          -19.38928985595703,
          4.435757637023926,
          0.8297107815742493,
          7.181392192840576,
          20.662626266479492,
          2.5606601238250732,
          0.13244542479515076,
          -21.73166847229004,
          0.04500177875161171,
          11.196183204650879,
          21.28019905090332,
          -22.035606384277344,
          -0.2820020020008087,
          -3.6507976055145264,
          2.0435140132904053,
          1.12446928024292,
          10.601960182189941,
          2.819542169570923,
          -29.211957931518555,
          -1.12112295627594,
          17.62075424194336,
          -24.120431900024414,
          -0.3272910714149475,
          20.46126937866211,
          -10.835378646850586,
          0.7310927510261536,
          3.6335349082946777,
          17.4947509765625,
          -1.6615500450134277,
          2.8437600135803223,
          17.63614845275879,
          20.51386833190918,
          -22.17717933654785,
          -19.24738121032715,
          11.370261192321777,
          -0.6515100598335266,
          -1.0915052890777588,
          3.361802339553833,
          -1.2783184051513672,
          -1.8128591775894165,
          10.624565124511719,
          17.787927627563477,
          11.11687183380127,
          16.067392349243164,
          6.211073398590088,
          0.6894912123680115,
          -1.189384937286377,
          18.199989318847656,
          18.11040687561035,
          -22.17751121520996,
          -1.4342221021652222,
          7.608742713928223,
          15.58993148803711,
          -17.28864860534668,
          -18.985942840576172,
          -20.948345184326172,
          -30.146831512451172,
          0.07413318753242493,
          5.729365348815918,
          13.039111137390137,
          -1.2037265300750732,
          -20.79999351501465,
          -4.5911102294921875,
          17.50516700744629,
          21.092060089111328,
          -0.16325609385967255,
          -19.083145141601562,
          16.270235061645508,
          -18.66851043701172,
          1.0234073400497437,
          10.504862785339355,
          21.26963233947754,
          8.143468856811523,
          5.9187331199646,
          -24.985275268554688,
          15.297983169555664,
          -19.900217056274414,
          -2.2911360263824463,
          9.20473861694336,
          16.076675415039062,
          -30.146883010864258,
          -14.57522964477539,
          15.772472381591797,
          -24.985261917114258,
          2.819546699523926,
          12.731162071228027,
          13.752805709838867,
          -0.29009297490119934,
          3.9439778327941895,
          -0.5395855903625488,
          -28.749086380004883,
          0.14867977797985077,
          15.442156791687012,
          -19.601327896118164,
          -18.750642776489258,
          -0.4000834822654724,
          15.950226783752441,
          -1.1875498294830322,
          17.50613021850586,
          -19.74684715270996,
          -0.02422689087688923,
          -19.17110824584961,
          -19.64362907409668,
          -0.3366377353668213,
          -4.153607368469238,
          -20.563512802124023,
          10.620279312133789,
          -18.636213302612305,
          -18.88104248046875,
          -13.374639511108398,
          -6.1207661628723145,
          7.05106258392334,
          -4.29429292678833,
          11.196185111999512,
          -19.96693229675293,
          18.034692764282227,
          0.09972866624593735,
          -18.913772583007812,
          -1.0017744302749634,
          -18.238327026367188,
          6.454850196838379,
          11.334851264953613,
          6.810294151306152,
          7.440212249755859,
          -30.14691925048828,
          0.3483532667160034,
          12.73116397857666,
          -17.40440559387207,
          2.096531867980957,
          11.196186065673828,
          11.313976287841797,
          7.04902982711792,
          -0.9495370388031006,
          -22.385465621948242,
          -1.2424052953720093,
          2.5839436054229736,
          15.615492820739746,
          -0.9716532230377197,
          -22.261857986450195,
          15.306416511535645,
          -2.1917757987976074,
          -18.910221099853516,
          -18.439023971557617,
          -18.846590042114258,
          17.133041381835938,
          -0.40409916639328003,
          5.560150623321533,
          10.496988296508789,
          20.847248077392578,
          15.732136726379395,
          -20.575586318969727,
          -24.120304107666016,
          17.133420944213867,
          5.050190448760986,
          15.589932441711426,
          6.454851150512695,
          -15.366458892822266,
          8.010824203491211,
          -1.123548150062561,
          6.0780816078186035,
          -4.788652420043945,
          -22.17758560180664,
          -0.5791265964508057,
          -22.176433563232422,
          -15.403440475463867,
          5.873064994812012,
          -29.1176700592041,
          5.3613691329956055,
          0.015483045019209385,
          0.555323600769043,
          -15.283730506896973,
          -4.79558801651001,
          -29.212100982666016,
          -0.30654776096343994,
          3.493506669998169,
          -9.328289031982422,
          10.648821830749512,
          0.03448747843503952,
          -15.403424263000488,
          20.75647735595703,
          -0.4376972019672394,
          11.285675048828125,
          16.317447662353516,
          3.95174503326416,
          16.052610397338867,
          3.3750438690185547,
          6.323879241943359,
          4.545704364776611,
          3.657762289047241,
          3.618769645690918,
          -19.865856170654297,
          -18.92169189453125,
          -4.082420825958252,
          8.574568748474121,
          12.197883605957031,
          -0.441912978887558,
          12.718414306640625,
          -9.928791999816895,
          0.5248673558235168,
          -18.47086524963379,
          -9.481527328491211,
          -2.6575613021850586,
          12.731162071228027,
          -14.75322437286377,
          17.990114212036133,
          -22.177505493164062,
          -14.64657974243164,
          -1.091673493385315,
          -18.3295955657959,
          -14.021821975708008,
          2.0938608646392822,
          9.555403709411621,
          -19.51026153564453,
          17.133211135864258,
          0.49135956168174744,
          -9.481525421142578,
          2.819547414779663,
          -9.481526374816895,
          -1.3457776308059692,
          13.75278377532959,
          -22.174333572387695,
          -29.11677360534668,
          16.27020263671875,
          -20.47639274597168,
          -4.410141944885254,
          -4.820010662078857,
          2.819462776184082,
          -22.391735076904297,
          -13.374640464782715,
          -0.300484299659729,
          6.454760551452637,
          -15.335455894470215,
          -20.580223083496094,
          4.012709617614746,
          -0.7361139059066772,
          -10.771050453186035,
          -0.534054696559906,
          -9.481527328491211,
          -13.374648094177246,
          -9.481496810913086,
          3.9400622844696045,
          -17.775833129882812,
          -17.887001037597656,
          5.72920560836792,
          -0.5910400152206421,
          20.740034103393555,
          -7.0599517822265625,
          15.589932441711426,
          2.8902268409729004,
          9.158991813659668,
          -4.225728988647461,
          1.2534058094024658,
          -19.792606353759766,
          -4.599734783172607,
          4.8399434089660645,
          -1.0917532444000244,
          -2.6587347984313965,
          -30.146514892578125,
          -1.0641307830810547,
          -0.6429001092910767,
          5.986476898193359,
          5.011363983154297,
          0.03572893142700195,
          -7.116730213165283,
          6.181416988372803,
          -0.7927253246307373,
          -9.655864715576172,
          11.309255599975586,
          8.853134155273438,
          2.819502353668213,
          -4.085723400115967,
          6.253608226776123,
          4.610792636871338,
          -22.177467346191406,
          -17.881580352783203,
          -17.863725662231445,
          12.73108196258545,
          10.475685119628906,
          9.204736709594727,
          11.917166709899902,
          15.417909622192383,
          -18.915420532226562,
          20.21888542175293,
          -0.11277857422828674,
          -14.021821975708008,
          15.74431324005127,
          -4.293399810791016,
          3.4793412685394287,
          -16.96654510498047,
          -22.26157569885254,
          11.196185111999512,
          -3.664600133895874,
          0.8250963091850281,
          11.338918685913086,
          9.204766273498535,
          -4.832056045532227,
          -2.89963436126709,
          -4.364818572998047,
          -16.387338638305664,
          11.051474571228027,
          4.570364475250244,
          -24.98523712158203,
          -4.827090740203857,
          -20.3546142578125,
          -24.131074905395508,
          3.6098475456237793,
          -13.374686241149902,
          17.133413314819336,
          13.788187026977539,
          3.4497413635253906,
          2.985849142074585,
          0.6816627383232117,
          3.427767515182495,
          -13.374640464782715,
          -14.02181625366211,
          10.572441101074219,
          -2.727276086807251,
          -13.37464427947998,
          7.042811393737793,
          -18.832704544067383,
          6.45484733581543,
          0.6847250461578369,
          -9.57850170135498,
          -2.8984715938568115,
          5.729212284088135,
          -0.6190072894096375,
          11.396713256835938,
          15.43967342376709,
          20.583866119384766,
          -9.384796142578125,
          5.729212760925293,
          0.6763402819633484,
          -16.51859474182129,
          8.540653228759766,
          3.4497365951538086,
          3.4525487422943115,
          12.727384567260742,
          -9.57070255279541,
          9.20474624633789,
          20.34772300720215,
          -10.092390060424805,
          5.7302937507629395,
          -4.187809467315674,
          -14.021817207336426,
          -3.349912166595459,
          -3.349977731704712,
          13.41512680053711,
          6.868556022644043,
          3.191584348678589,
          -19.472675323486328,
          12.731023788452148,
          -14.02181625366211,
          12.731158256530762,
          -13.374639511108398,
          -14.690329551696777,
          -6.050854682922363,
          5.7292046546936035,
          -20.337636947631836,
          -9.655823707580566,
          -24.985252380371094,
          -1.8907930850982666,
          20.141164779663086,
          -29.581987380981445,
          20.66783332824707,
          -0.6171473860740662,
          13.752741813659668,
          -15.327555656433105,
          2.5718441009521484,
          -1.444317102432251,
          -9.481332778930664,
          -20.579660415649414,
          -3.3500924110412598,
          -19.953521728515625,
          17.133405685424805,
          -19.106840133666992,
          -2.4741241931915283,
          2.1852033138275146,
          -16.776941299438477,
          17.930912017822266,
          -2.3431735038757324,
          21.0939998626709,
          -20.47127914428711,
          2.5819687843322754,
          -18.7755069732666,
          -13.065916061401367,
          -1.8826748132705688,
          -20.689220428466797,
          15.740848541259766,
          6.650339126586914,
          1.7187697887420654,
          0.9253817796707153,
          17.469629287719727,
          13.752814292907715,
          10.899820327758789,
          -19.54920196533203,
          -9.92880916595459,
          16.270212173461914,
          -29.212339401245117,
          5.428509712219238,
          13.75281047821045,
          2.8195390701293945,
          13.752789497375488,
          17.133464813232422,
          1.8576971292495728,
          15.995231628417969,
          -4.161240577697754,
          16.736957550048828,
          20.242979049682617,
          -20.633304595947266,
          -4.096614360809326,
          12.731163024902344,
          11.050655364990234
         ],
         "xaxis": "x",
         "y": [
          1.548513650894165,
          -5.086440086364746,
          4.21839714050293,
          -26.3049373626709,
          20.658979415893555,
          11.334946632385254,
          -10.782569885253906,
          17.932992935180664,
          20.658994674682617,
          20.037612915039062,
          2.1968626976013184,
          11.349370956420898,
          -29.45018196105957,
          -26.274208068847656,
          9.888463020324707,
          -6.068273544311523,
          -1.823957920074463,
          10.749363899230957,
          -0.15771369636058807,
          -5.9197211265563965,
          11.347946166992188,
          9.36185359954834,
          -26.226036071777344,
          11.805401802062988,
          11.27833080291748,
          -3.4836041927337646,
          -15.219680786132812,
          6.160226821899414,
          10.858169555664062,
          1.3711649179458618,
          9.889503479003906,
          1.2758179903030396,
          9.72494125366211,
          -1.6028006076812744,
          9.381601333618164,
          6.103475093841553,
          11.349002838134766,
          -25.81708335876465,
          13.64154052734375,
          10.237737655639648,
          12.517879486083984,
          10.127575874328613,
          -6.994890213012695,
          7.886188983917236,
          8.720561981201172,
          13.409636497497559,
          13.888334274291992,
          11.260594367980957,
          11.296350479125977,
          -4.06977653503418,
          -5.616398334503174,
          9.257980346679688,
          -12.096711158752441,
          -27.023351669311523,
          12.04471492767334,
          10.167490005493164,
          8.858627319335938,
          1.9700372219085693,
          10.84290599822998,
          7.076255798339844,
          -1.234806776046753,
          9.315786361694336,
          -29.012176513671875,
          -2.231144428253174,
          4.41033935546875,
          14.112519264221191,
          -26.727298736572266,
          12.824939727783203,
          4.015554428100586,
          13.24421501159668,
          -5.677483558654785,
          -3.6299080848693848,
          -2.1252529621124268,
          9.362448692321777,
          11.062458038330078,
          10.67365550994873,
          -5.616508483886719,
          -11.076337814331055,
          -26.182682037353516,
          11.082586288452148,
          -26.59046745300293,
          1.8716508150100708,
          -10.764013290405273,
          -26.723630905151367,
          -26.89040184020996,
          -26.334287643432617,
          -1.6283059120178223,
          -4.711275100708008,
          -3.1741957664489746,
          9.931940078735352,
          5.068791389465332,
          3.8569724559783936,
          11.799443244934082,
          -11.795793533325195,
          11.082581520080566,
          -27.098751068115234,
          4.410353183746338,
          -5.710662364959717,
          23.392314910888672,
          24.566545486450195,
          9.344853401184082,
          -2.8370721340179443,
          11.319780349731445,
          -29.248350143432617,
          6.10344934463501,
          13.858095169067383,
          -2.194902181625366,
          11.449665069580078,
          4.015539646148682,
          9.105003356933594,
          -1.7536050081253052,
          11.546030044555664,
          1.5526013374328613,
          4.015553951263428,
          13.848976135253906,
          11.397887229919434,
          -5.616508960723877,
          11.347799301147461,
          6.689803600311279,
          8.84317398071289,
          0.1745174080133438,
          14.152762413024902,
          7.843176364898682,
          8.655871391296387,
          -26.705833435058594,
          8.738214492797852,
          -11.31566047668457,
          2.0921764373779297,
          -1.5657958984375,
          12.720473289489746,
          -26.87669563293457,
          -0.02359543927013874,
          -1.6149909496307373,
          -6.90420389175415,
          11.123713493347168,
          11.327568054199219,
          -2.1069095134735107,
          20.658964157104492,
          4.015727996826172,
          6.853631496429443,
          -29.065689086914062,
          -6.068284511566162,
          -1.6384315490722656,
          -27.326555252075195,
          0.17710481584072113,
          12.219205856323242,
          7.0475287437438965,
          -29.520978927612305,
          -13.878705978393555,
          11.331448554992676,
          -29.679725646972656,
          -25.775774002075195,
          -11.243780136108398,
          -0.8883877396583557,
          -2.0016028881073,
          -2.2025320529937744,
          16.540847778320312,
          11.697257041931152,
          11.92943286895752,
          -11.640509605407715,
          -0.6561238169670105,
          -29.735071182250977,
          9.381047248840332,
          -6.8064069747924805,
          9.171634674072266,
          -2.2477986812591553,
          -12.253792762756348,
          -29.48512077331543,
          -29.16351318359375,
          -11.244577407836914,
          -11.228835105895996,
          9.195486068725586,
          -1.7341712713241577,
          -4.7187910079956055,
          -0.78887540102005,
          -4.057133197784424,
          4.429724216461182,
          -2.193101644515991,
          -5.616357326507568,
          21.109628677368164,
          -10.949594497680664,
          -2.8606014251708984,
          25.231243133544922,
          -29.1792049407959,
          -27.209897994995117,
          -10.918493270874023,
          0.6409417390823364,
          11.347884178161621,
          1.5400480031967163,
          11.440641403198242,
          -1.9687801599502563,
          -26.456804275512695,
          6.761225700378418,
          9.650678634643555,
          -1.9349420070648193,
          -6.771942138671875,
          -0.4243755638599396,
          -13.415935516357422,
          15.445313453674316,
          -6.702402114868164,
          4.429713249206543,
          -3.907451868057251,
          -7.132558345794678,
          -1.9349446296691895,
          20.658964157104492,
          20.037614822387695,
          4.608610153198242,
          -12.27151870727539,
          14.358202934265137,
          -2.487558126449585,
          4.253649711608887,
          -11.492278099060059,
          -6.467094421386719,
          -1.0481727123260498,
          -0.5856883525848389,
          -2.7829203605651855,
          -6.461177825927734,
          -10.9248685836792,
          -29.17767906188965,
          -0.9459431767463684,
          -7.1445417404174805,
          -0.3762776255607605,
          -5.545679092407227,
          -10.81201171875,
          25.09356117248535,
          -2.901573896408081,
          -1.0242425203323364,
          0.7190523147583008,
          1.2854055166244507,
          -15.152255058288574,
          6.655534744262695,
          8.654122352600098,
          25.210599899291992,
          12.720473289489746,
          -5.310595989227295,
          -29.695772171020508,
          -11.911991119384766,
          -0.1392313539981842,
          -2.8691563606262207,
          0.2699820101261139,
          17.933000564575195,
          -1.552660584449768,
          6.389683246612549,
          9.452580451965332,
          4.429940223693848,
          -2.9254016876220703,
          20.037612915039062,
          -4.933691024780273,
          11.281336784362793,
          12.720355987548828,
          -1.5466939210891724,
          12.258567810058594,
          -11.552986145019531,
          -1.3915235996246338,
          -12.130476951599121,
          13.982794761657715,
          -7.148563385009766,
          -11.625268936157227,
          -11.656750679016113,
          -6.698354721069336,
          -12.184914588928223,
          0.3312489688396454,
          -0.016252605244517326,
          -5.7354936599731445,
          -26.25281524658203,
          -12.334837913513184,
          10.294119834899902,
          -1.6840890645980835,
          -26.130645751953125,
          -6.363068580627441,
          -2.5976288318634033,
          -6.068208694458008,
          -26.27418327331543,
          10.971510887145996,
          -1.7341721057891846,
          17.933061599731445,
          -4.976677894592285,
          12.664826393127441,
          6.8508992195129395,
          12.699000358581543,
          24.682117462158203,
          -11.24448299407959,
          -2.328228712081909,
          -11.245299339294434,
          -7.447818756103516,
          9.63093090057373,
          4.410350322723389,
          10.83423137664795,
          -2.245551347732544,
          -1.8291022777557373,
          -1.9823181629180908,
          25.06418800354004,
          4.0156426429748535,
          9.1156587600708,
          9.350942611694336,
          3.474872350692749,
          -3.8724076747894287,
          -3.0159354209899902,
          -7.447905540466309,
          -27.359130859375,
          -11.360498428344727,
          -1.5397411584854126,
          -93.0973129272461,
          14.356721878051758,
          -6.596795558929443,
          9.247591972351074,
          9.499157905578613,
          11.207823753356934,
          11.408743858337402,
          11.402254104614258,
          -1.3968955278396606,
          1.1766453981399536,
          24.8305721282959,
          2.1962451934814453,
          -0.3551594018936157,
          -11.565971374511719,
          20.038972854614258,
          13.244219779968262,
          -2.7761001586914062,
          0.6765090823173523,
          13.409614562988281,
          3.848722457885742,
          20.037614822387695,
          -1.6236451864242554,
          -29.714893341064453,
          -11.244522094726562,
          1.8520108461380005,
          16.541044235229492,
          0.22524960339069366,
          -14.685020446777344,
          11.281173706054688,
          -3.6948111057281494,
          0.10481920838356018,
          -26.270811080932617,
          -2.8181493282318115,
          13.409614562988281,
          20.658998489379883,
          13.409613609313965,
          -11.484722137451172,
          4.60868501663208,
          -11.237889289855957,
          4.410253047943115,
          11.347869873046875,
          -4.721693515777588,
          24.317752838134766,
          25.00565528869629,
          20.658878326416016,
          -11.57257080078125,
          -15.152255058288574,
          -2.882094144821167,
          17.933012008666992,
          -2.016627788543701,
          -2.9879379272460938,
          14.337299346923828,
          -12.134681701660156,
          0.20465728640556335,
          -1.8372095823287964,
          13.409613609313965,
          -15.152262687683105,
          13.409658432006836,
          11.260771751403809,
          -5.3101935386657715,
          0.7226276397705078,
          -5.616508483886719,
          -1.942737102508545,
          -27.378257751464844,
          0.3848658800125122,
          -1.7341716289520264,
          20.92440414428711,
          5.94966459274292,
          22.602113723754883,
          6.0323872566223145,
          -5.469613075256348,
          25.22631072998047,
          13.821643829345703,
          16.54094886779785,
          3.8567957878112793,
          4.429945945739746,
          10.360085487365723,
          13.893665313720703,
          10.384580612182617,
          13.554823875427246,
          -2.5803961753845215,
          0.35868820548057556,
          15.024073600769043,
          -10.778038024902344,
          -4.798165321350098,
          -1.5401157140731812,
          -1.6222712993621826,
          20.65892219543457,
          24.814029693603516,
          9.075858116149902,
          5.718503475189209,
          -11.244422912597656,
          1.0064412355422974,
          0.7696614861488342,
          20.03763771057129,
          -1.7455530166625977,
          15.445313453674316,
          -3.490006923675537,
          -7.0509114265441895,
          -0.5106592774391174,
          -23.18593406677246,
          -3.006901264190674,
          -14.68502140045166,
          -6.369807243347168,
          25.21011734008789,
          2.599102258682251,
          -3.9173474311828613,
          -11.656660079956055,
          12.720376014709473,
          -6.895204067230225,
          9.165575981140137,
          -2.0457332134246826,
          15.445345878601074,
          24.750225067138672,
          13.53471565246582,
          23.954471588134766,
          -2.8945469856262207,
          -2.221518039703369,
          7.539929389953613,
          -1.934913158416748,
          24.739648818969727,
          -2.2740139961242676,
          -6.078023910522461,
          9.750986099243164,
          -15.152305603027344,
          -26.274192810058594,
          4.249198913574219,
          2.6209957599639893,
          5.750639915466309,
          -2.258774995803833,
          2.5647952556610107,
          -15.152255058288574,
          -14.685016632080078,
          -1.449783205986023,
          3.814706325531006,
          -15.152259826660156,
          9.809388160705566,
          -5.735050678253174,
          17.932994842529297,
          14.721614837646484,
          -4.785826206207275,
          13.534507751464844,
          -5.616501808166504,
          -12.339482307434082,
          -1.9555127620697021,
          -6.469229698181152,
          -26.301654815673828,
          3.444490671157837,
          -5.616495609283447,
          -2.3232412338256836,
          -3.057318687438965,
          2.2716968059539795,
          2.62099552154541,
          16.141586303710938,
          20.038406372070312,
          -4.797369956970215,
          15.445313453674316,
          -27.261150360107422,
          -4.720386028289795,
          -5.615067005157471,
          24.664581298828125,
          -14.685018539428711,
          9.87962532043457,
          9.87938404083252,
          20.019922256469727,
          13.655903816223145,
          11.486222267150879,
          -0.15417642891407013,
          20.03749656677246,
          -14.685018539428711,
          20.037612915039062,
          -15.152255058288574,
          -1.5772114992141724,
          6.689786911010742,
          -5.616508960723877,
          -2.2440357208251953,
          -4.79838752746582,
          -1.9349231719970703,
          -11.707146644592285,
          -26.287492752075195,
          4.894877910614014,
          -26.703208923339844,
          -11.580999374389648,
          4.608900547027588,
          -2.0139756202697754,
          8.745208740234375,
          -12.278035163879395,
          13.409768104553223,
          -3.496082067489624,
          9.880096435546875,
          -1.6063601970672607,
          -26.27420997619629,
          1.0424755811691284,
          -12.924960136413574,
          13.847389221191406,
          -3.493009567260742,
          -28.967937469482422,
          -13.358721733093262,
          -27.21074676513672,
          -1.99421226978302,
          8.751737594604492,
          -5.805285453796387,
          6.1602559089660645,
          -12.11202621459961,
          -4.45659065246582,
          -7.141181468963623,
          8.716081619262695,
          11.176490783691406,
          -5.773212432861328,
          -29.4700927734375,
          4.608615875244141,
          -1.286371111869812,
          -5.615736484527588,
          13.244214057922363,
          11.347799301147461,
          4.015494346618652,
          6.781888484954834,
          4.608818054199219,
          20.658964157104492,
          4.608842372894287,
          -26.27395248413086,
          15.912751197814941,
          -6.959744930267334,
          21.985740661621094,
          -7.724592685699463,
          -23.696239471435547,
          -4.1090545654296875,
          24.7934627532959,
          20.037612915039062,
          -2.2222630977630615
         ],
         "yaxis": "y"
        }
       ],
       "layout": {
        "legend": {
         "tracegroupgap": 0
        },
        "margin": {
         "t": 60
        },
        "template": {
         "data": {
          "bar": [
           {
            "error_x": {
             "color": "#2a3f5f"
            },
            "error_y": {
             "color": "#2a3f5f"
            },
            "marker": {
             "line": {
              "color": "#E5ECF6",
              "width": 0.5
             },
             "pattern": {
              "fillmode": "overlay",
              "size": 10,
              "solidity": 0.2
             }
            },
            "type": "bar"
           }
          ],
          "barpolar": [
           {
            "marker": {
             "line": {
              "color": "#E5ECF6",
              "width": 0.5
             },
             "pattern": {
              "fillmode": "overlay",
              "size": 10,
              "solidity": 0.2
             }
            },
            "type": "barpolar"
           }
          ],
          "carpet": [
           {
            "aaxis": {
             "endlinecolor": "#2a3f5f",
             "gridcolor": "white",
             "linecolor": "white",
             "minorgridcolor": "white",
             "startlinecolor": "#2a3f5f"
            },
            "baxis": {
             "endlinecolor": "#2a3f5f",
             "gridcolor": "white",
             "linecolor": "white",
             "minorgridcolor": "white",
             "startlinecolor": "#2a3f5f"
            },
            "type": "carpet"
           }
          ],
          "choropleth": [
           {
            "colorbar": {
             "outlinewidth": 0,
             "ticks": ""
            },
            "type": "choropleth"
           }
          ],
          "contour": [
           {
            "colorbar": {
             "outlinewidth": 0,
             "ticks": ""
            },
            "colorscale": [
             [
              0,
              "#0d0887"
             ],
             [
              0.1111111111111111,
              "#46039f"
             ],
             [
              0.2222222222222222,
              "#7201a8"
             ],
             [
              0.3333333333333333,
              "#9c179e"
             ],
             [
              0.4444444444444444,
              "#bd3786"
             ],
             [
              0.5555555555555556,
              "#d8576b"
             ],
             [
              0.6666666666666666,
              "#ed7953"
             ],
             [
              0.7777777777777778,
              "#fb9f3a"
             ],
             [
              0.8888888888888888,
              "#fdca26"
             ],
             [
              1,
              "#f0f921"
             ]
            ],
            "type": "contour"
           }
          ],
          "contourcarpet": [
           {
            "colorbar": {
             "outlinewidth": 0,
             "ticks": ""
            },
            "type": "contourcarpet"
           }
          ],
          "heatmap": [
           {
            "colorbar": {
             "outlinewidth": 0,
             "ticks": ""
            },
            "colorscale": [
             [
              0,
              "#0d0887"
             ],
             [
              0.1111111111111111,
              "#46039f"
             ],
             [
              0.2222222222222222,
              "#7201a8"
             ],
             [
              0.3333333333333333,
              "#9c179e"
             ],
             [
              0.4444444444444444,
              "#bd3786"
             ],
             [
              0.5555555555555556,
              "#d8576b"
             ],
             [
              0.6666666666666666,
              "#ed7953"
             ],
             [
              0.7777777777777778,
              "#fb9f3a"
             ],
             [
              0.8888888888888888,
              "#fdca26"
             ],
             [
              1,
              "#f0f921"
             ]
            ],
            "type": "heatmap"
           }
          ],
          "heatmapgl": [
           {
            "colorbar": {
             "outlinewidth": 0,
             "ticks": ""
            },
            "colorscale": [
             [
              0,
              "#0d0887"
             ],
             [
              0.1111111111111111,
              "#46039f"
             ],
             [
              0.2222222222222222,
              "#7201a8"
             ],
             [
              0.3333333333333333,
              "#9c179e"
             ],
             [
              0.4444444444444444,
              "#bd3786"
             ],
             [
              0.5555555555555556,
              "#d8576b"
             ],
             [
              0.6666666666666666,
              "#ed7953"
             ],
             [
              0.7777777777777778,
              "#fb9f3a"
             ],
             [
              0.8888888888888888,
              "#fdca26"
             ],
             [
              1,
              "#f0f921"
             ]
            ],
            "type": "heatmapgl"
           }
          ],
          "histogram": [
           {
            "marker": {
             "pattern": {
              "fillmode": "overlay",
              "size": 10,
              "solidity": 0.2
             }
            },
            "type": "histogram"
           }
          ],
          "histogram2d": [
           {
            "colorbar": {
             "outlinewidth": 0,
             "ticks": ""
            },
            "colorscale": [
             [
              0,
              "#0d0887"
             ],
             [
              0.1111111111111111,
              "#46039f"
             ],
             [
              0.2222222222222222,
              "#7201a8"
             ],
             [
              0.3333333333333333,
              "#9c179e"
             ],
             [
              0.4444444444444444,
              "#bd3786"
             ],
             [
              0.5555555555555556,
              "#d8576b"
             ],
             [
              0.6666666666666666,
              "#ed7953"
             ],
             [
              0.7777777777777778,
              "#fb9f3a"
             ],
             [
              0.8888888888888888,
              "#fdca26"
             ],
             [
              1,
              "#f0f921"
             ]
            ],
            "type": "histogram2d"
           }
          ],
          "histogram2dcontour": [
           {
            "colorbar": {
             "outlinewidth": 0,
             "ticks": ""
            },
            "colorscale": [
             [
              0,
              "#0d0887"
             ],
             [
              0.1111111111111111,
              "#46039f"
             ],
             [
              0.2222222222222222,
              "#7201a8"
             ],
             [
              0.3333333333333333,
              "#9c179e"
             ],
             [
              0.4444444444444444,
              "#bd3786"
             ],
             [
              0.5555555555555556,
              "#d8576b"
             ],
             [
              0.6666666666666666,
              "#ed7953"
             ],
             [
              0.7777777777777778,
              "#fb9f3a"
             ],
             [
              0.8888888888888888,
              "#fdca26"
             ],
             [
              1,
              "#f0f921"
             ]
            ],
            "type": "histogram2dcontour"
           }
          ],
          "mesh3d": [
           {
            "colorbar": {
             "outlinewidth": 0,
             "ticks": ""
            },
            "type": "mesh3d"
           }
          ],
          "parcoords": [
           {
            "line": {
             "colorbar": {
              "outlinewidth": 0,
              "ticks": ""
             }
            },
            "type": "parcoords"
           }
          ],
          "pie": [
           {
            "automargin": true,
            "type": "pie"
           }
          ],
          "scatter": [
           {
            "marker": {
             "colorbar": {
              "outlinewidth": 0,
              "ticks": ""
             }
            },
            "type": "scatter"
           }
          ],
          "scatter3d": [
           {
            "line": {
             "colorbar": {
              "outlinewidth": 0,
              "ticks": ""
             }
            },
            "marker": {
             "colorbar": {
              "outlinewidth": 0,
              "ticks": ""
             }
            },
            "type": "scatter3d"
           }
          ],
          "scattercarpet": [
           {
            "marker": {
             "colorbar": {
              "outlinewidth": 0,
              "ticks": ""
             }
            },
            "type": "scattercarpet"
           }
          ],
          "scattergeo": [
           {
            "marker": {
             "colorbar": {
              "outlinewidth": 0,
              "ticks": ""
             }
            },
            "type": "scattergeo"
           }
          ],
          "scattergl": [
           {
            "marker": {
             "colorbar": {
              "outlinewidth": 0,
              "ticks": ""
             }
            },
            "type": "scattergl"
           }
          ],
          "scattermapbox": [
           {
            "marker": {
             "colorbar": {
              "outlinewidth": 0,
              "ticks": ""
             }
            },
            "type": "scattermapbox"
           }
          ],
          "scatterpolar": [
           {
            "marker": {
             "colorbar": {
              "outlinewidth": 0,
              "ticks": ""
             }
            },
            "type": "scatterpolar"
           }
          ],
          "scatterpolargl": [
           {
            "marker": {
             "colorbar": {
              "outlinewidth": 0,
              "ticks": ""
             }
            },
            "type": "scatterpolargl"
           }
          ],
          "scatterternary": [
           {
            "marker": {
             "colorbar": {
              "outlinewidth": 0,
              "ticks": ""
             }
            },
            "type": "scatterternary"
           }
          ],
          "surface": [
           {
            "colorbar": {
             "outlinewidth": 0,
             "ticks": ""
            },
            "colorscale": [
             [
              0,
              "#0d0887"
             ],
             [
              0.1111111111111111,
              "#46039f"
             ],
             [
              0.2222222222222222,
              "#7201a8"
             ],
             [
              0.3333333333333333,
              "#9c179e"
             ],
             [
              0.4444444444444444,
              "#bd3786"
             ],
             [
              0.5555555555555556,
              "#d8576b"
             ],
             [
              0.6666666666666666,
              "#ed7953"
             ],
             [
              0.7777777777777778,
              "#fb9f3a"
             ],
             [
              0.8888888888888888,
              "#fdca26"
             ],
             [
              1,
              "#f0f921"
             ]
            ],
            "type": "surface"
           }
          ],
          "table": [
           {
            "cells": {
             "fill": {
              "color": "#EBF0F8"
             },
             "line": {
              "color": "white"
             }
            },
            "header": {
             "fill": {
              "color": "#C8D4E3"
             },
             "line": {
              "color": "white"
             }
            },
            "type": "table"
           }
          ]
         },
         "layout": {
          "annotationdefaults": {
           "arrowcolor": "#2a3f5f",
           "arrowhead": 0,
           "arrowwidth": 1
          },
          "autotypenumbers": "strict",
          "coloraxis": {
           "colorbar": {
            "outlinewidth": 0,
            "ticks": ""
           }
          },
          "colorscale": {
           "diverging": [
            [
             0,
             "#8e0152"
            ],
            [
             0.1,
             "#c51b7d"
            ],
            [
             0.2,
             "#de77ae"
            ],
            [
             0.3,
             "#f1b6da"
            ],
            [
             0.4,
             "#fde0ef"
            ],
            [
             0.5,
             "#f7f7f7"
            ],
            [
             0.6,
             "#e6f5d0"
            ],
            [
             0.7,
             "#b8e186"
            ],
            [
             0.8,
             "#7fbc41"
            ],
            [
             0.9,
             "#4d9221"
            ],
            [
             1,
             "#276419"
            ]
           ],
           "sequential": [
            [
             0,
             "#0d0887"
            ],
            [
             0.1111111111111111,
             "#46039f"
            ],
            [
             0.2222222222222222,
             "#7201a8"
            ],
            [
             0.3333333333333333,
             "#9c179e"
            ],
            [
             0.4444444444444444,
             "#bd3786"
            ],
            [
             0.5555555555555556,
             "#d8576b"
            ],
            [
             0.6666666666666666,
             "#ed7953"
            ],
            [
             0.7777777777777778,
             "#fb9f3a"
            ],
            [
             0.8888888888888888,
             "#fdca26"
            ],
            [
             1,
             "#f0f921"
            ]
           ],
           "sequentialminus": [
            [
             0,
             "#0d0887"
            ],
            [
             0.1111111111111111,
             "#46039f"
            ],
            [
             0.2222222222222222,
             "#7201a8"
            ],
            [
             0.3333333333333333,
             "#9c179e"
            ],
            [
             0.4444444444444444,
             "#bd3786"
            ],
            [
             0.5555555555555556,
             "#d8576b"
            ],
            [
             0.6666666666666666,
             "#ed7953"
            ],
            [
             0.7777777777777778,
             "#fb9f3a"
            ],
            [
             0.8888888888888888,
             "#fdca26"
            ],
            [
             1,
             "#f0f921"
            ]
           ]
          },
          "colorway": [
           "#636efa",
           "#EF553B",
           "#00cc96",
           "#ab63fa",
           "#FFA15A",
           "#19d3f3",
           "#FF6692",
           "#B6E880",
           "#FF97FF",
           "#FECB52"
          ],
          "font": {
           "color": "#2a3f5f"
          },
          "geo": {
           "bgcolor": "white",
           "lakecolor": "white",
           "landcolor": "#E5ECF6",
           "showlakes": true,
           "showland": true,
           "subunitcolor": "white"
          },
          "hoverlabel": {
           "align": "left"
          },
          "hovermode": "closest",
          "mapbox": {
           "style": "light"
          },
          "paper_bgcolor": "white",
          "plot_bgcolor": "#E5ECF6",
          "polar": {
           "angularaxis": {
            "gridcolor": "white",
            "linecolor": "white",
            "ticks": ""
           },
           "bgcolor": "#E5ECF6",
           "radialaxis": {
            "gridcolor": "white",
            "linecolor": "white",
            "ticks": ""
           }
          },
          "scene": {
           "xaxis": {
            "backgroundcolor": "#E5ECF6",
            "gridcolor": "white",
            "gridwidth": 2,
            "linecolor": "white",
            "showbackground": true,
            "ticks": "",
            "zerolinecolor": "white"
           },
           "yaxis": {
            "backgroundcolor": "#E5ECF6",
            "gridcolor": "white",
            "gridwidth": 2,
            "linecolor": "white",
            "showbackground": true,
            "ticks": "",
            "zerolinecolor": "white"
           },
           "zaxis": {
            "backgroundcolor": "#E5ECF6",
            "gridcolor": "white",
            "gridwidth": 2,
            "linecolor": "white",
            "showbackground": true,
            "ticks": "",
            "zerolinecolor": "white"
           }
          },
          "shapedefaults": {
           "line": {
            "color": "#2a3f5f"
           }
          },
          "ternary": {
           "aaxis": {
            "gridcolor": "white",
            "linecolor": "white",
            "ticks": ""
           },
           "baxis": {
            "gridcolor": "white",
            "linecolor": "white",
            "ticks": ""
           },
           "bgcolor": "#E5ECF6",
           "caxis": {
            "gridcolor": "white",
            "linecolor": "white",
            "ticks": ""
           }
          },
          "title": {
           "x": 0.05
          },
          "xaxis": {
           "automargin": true,
           "gridcolor": "white",
           "linecolor": "white",
           "ticks": "",
           "title": {
            "standoff": 15
           },
           "zerolinecolor": "white",
           "zerolinewidth": 2
          },
          "yaxis": {
           "automargin": true,
           "gridcolor": "white",
           "linecolor": "white",
           "ticks": "",
           "title": {
            "standoff": 15
           },
           "zerolinecolor": "white",
           "zerolinewidth": 2
          }
         }
        },
        "xaxis": {
         "anchor": "y",
         "domain": [
          0,
          1
         ],
         "title": {
          "text": "x"
         }
        },
        "yaxis": {
         "anchor": "x",
         "domain": [
          0,
          1
         ],
         "title": {
          "text": "y"
         }
        }
       }
      }
     },
     "metadata": {},
     "output_type": "display_data"
    }
   ],
   "source": [
    "# x and y given as DataFrame columns\n",
    "import plotly.express as px\n",
    "fig = px.scatter(df_tsne_features_w_pca_pnt_9, x=\"x\", y=\"y\")\n",
    "fig.show()"
   ]
  },
  {
   "cell_type": "code",
   "execution_count": 92,
   "metadata": {},
   "outputs": [
    {
     "data": {
      "image/png": "[encoded data removed]",
      "text/plain": [
       "<Figure size 432x288 with 1 Axes>"
      ]
     },
     "metadata": {
      "needs_background": "light"
     },
     "output_type": "display_data"
    }
   ],
   "source": [
    "import matplotlib.pyplot as plt\n",
    "# Plot t-SNE by using .pyplot\n",
    "X = tsne_features_w_pca_pnt_9[:,0]\n",
    "y = tsne_features_w_pca_pnt_9[:,1]\n",
    "\n",
    "plt.scatter(X, y)\n",
    "plt.show()"
   ]
  },
  {
   "cell_type": "code",
   "execution_count": 84,
   "metadata": {},
   "outputs": [
    {
     "data": {
      "text/html": [
       "<div>\n",
       "<style scoped>\n",
       "    .dataframe tbody tr th:only-of-type {\n",
       "        vertical-align: middle;\n",
       "    }\n",
       "\n",
       "    .dataframe tbody tr th {\n",
       "        vertical-align: top;\n",
       "    }\n",
       "\n",
       "    .dataframe thead th {\n",
       "        text-align: right;\n",
       "    }\n",
       "</style>\n",
       "<table border=\"1\" class=\"dataframe\">\n",
       "  <thead>\n",
       "    <tr style=\"text-align: right;\">\n",
       "      <th></th>\n",
       "      <th>x</th>\n",
       "      <th>y</th>\n",
       "    </tr>\n",
       "  </thead>\n",
       "  <tbody>\n",
       "    <tr>\n",
       "      <th>0</th>\n",
       "      <td>-16.782375</td>\n",
       "      <td>6.219276</td>\n",
       "    </tr>\n",
       "    <tr>\n",
       "      <th>1</th>\n",
       "      <td>-13.921524</td>\n",
       "      <td>11.979743</td>\n",
       "    </tr>\n",
       "    <tr>\n",
       "      <th>2</th>\n",
       "      <td>-26.535786</td>\n",
       "      <td>13.375927</td>\n",
       "    </tr>\n",
       "    <tr>\n",
       "      <th>3</th>\n",
       "      <td>25.808416</td>\n",
       "      <td>22.917669</td>\n",
       "    </tr>\n",
       "    <tr>\n",
       "      <th>4</th>\n",
       "      <td>6.714828</td>\n",
       "      <td>-20.247017</td>\n",
       "    </tr>\n",
       "  </tbody>\n",
       "</table>\n",
       "</div>"
      ],
      "text/plain": [
       "           x          y\n",
       "0 -16.782375   6.219276\n",
       "1 -13.921524  11.979743\n",
       "2 -26.535786  13.375927\n",
       "3  25.808416  22.917669\n",
       "4   6.714828 -20.247017"
      ]
     },
     "execution_count": 84,
     "metadata": {},
     "output_type": "execute_result"
    }
   ],
   "source": [
    "# Transform PCA data to a DataFrame\n",
    "df_tsne_features_w_pca_74 = pd.DataFrame(\n",
    "    data=tsne_features_w_pca_74, columns=['x','y']\n",
    ")\n",
    "df_tsne_features_w_pca_74.head()"
   ]
  },
  {
   "cell_type": "code",
   "execution_count": 91,
   "metadata": {},
   "outputs": [
    {
     "data": {
      "application/vnd.plotly.v1+json": {
       "config": {
        "plotlyServerURL": "https://plot.ly"
       },
       "data": [
        {
         "hovertemplate": "x=%{x}<br>y=%{y}<extra></extra>",
         "legendgroup": "",
         "marker": {
          "color": "#636efa",
          "symbol": "circle"
         },
         "mode": "markers",
         "name": "",
         "orientation": "v",
         "showlegend": false,
         "type": "scatter",
         "x": [
          -16.78237533569336,
          -13.921524047851562,
          -26.535785675048828,
          25.80841636657715,
          6.7148284912109375,
          -2.081451416015625,
          4.152634143829346,
          1.232649326324463,
          6.714821815490723,
          0.11714214086532593,
          7.100229263305664,
          10.025810241699219,
          25.726842880249023,
          28.459665298461914,
          1.6101975440979004,
          -14.43971061706543,
          2.415314197540283,
          0.2489047348499298,
          -17.15275001525879,
          -14.873249053955078,
          10.027199745178223,
          -3.542445182800293,
          26.026750564575195,
          -4.171877384185791,
          -0.5270476937294006,
          -18.155269622802734,
          -7.74730920791626,
          -14.07754135131836,
          -0.3882046937942505,
          -16.528770446777344,
          1.9349029064178467,
          -17.16671371459961,
          1.8894397020339966,
          2.4593660831451416,
          -5.338535785675049,
          -14.118256568908691,
          10.025837898254395,
          25.549882888793945,
          -1.30234956741333,
          1.201687216758728,
          -4.081025123596191,
          0.8395242691040039,
          18.07670783996582,
          3.8758015632629395,
          2.1417670249938965,
          -14.663076400756836,
          -2.5071165561676025,
          -1.9312758445739746,
          -1.2252074480056763,
          -17.56863021850586,
          8.296723365783691,
          -3.2234134674072266,
          4.340242862701416,
          26.755348205566406,
          -4.195160865783691,
          1.075307011604309,
          2.750530242919922,
          -20.630403518676758,
          -0.4456161558628082,
          -4.375755310058594,
          12.297306060791016,
          2.247945547103882,
          25.29155158996582,
          11.764850616455078,
          -27.100971221923828,
          -1.208251953125,
          26.4527530670166,
          -3.891469955444336,
          -26.807315826416016,
          -14.999207496643066,
          -15.497739791870117,
          -17.883058547973633,
          -13.007908821105957,
          2.297577381134033,
          -3.3819236755371094,
          -0.08707552403211594,
          8.29656982421875,
          5.0604248046875,
          26.36390495300293,
          10.282553672790527,
          26.13958740234375,
          -9.433257102966309,
          4.722376823425293,
          26.929494857788086,
          27.052770614624023,
          26.85698699951172,
          1.5525137186050415,
          -13.790379524230957,
          -18.080711364746094,
          0.7886200547218323,
          3.942699909210205,
          -2.068077802658081,
          -4.179781913757324,
          4.431739807128906,
          10.282841682434082,
          26.430274963378906,
          -26.807315826416016,
          -14.681310653686523,
          -9.25712776184082,
          -10.260828018188477,
          -5.3270487785339355,
          13.108601570129395,
          -2.495296001434326,
          25.813819885253906,
          -14.118057250976562,
          -2.5625383853912354,
          11.409919738769531,
          -3.976602792739868,
          -27.101076126098633,
          2.8647501468658447,
          11.608803749084473,
          -4.0652360916137695,
          -16.941734313964844,
          -26.80730438232422,
          -2.5772359371185303,
          0.6921635866165161,
          8.296563148498535,
          10.027154922485352,
          -5.523952007293701,
          2.4023807048797607,
          -17.025367736816406,
          -1.2167547941207886,
          -4.102004528045654,
          2.7449538707733154,
          27.05521011352539,
          -2.4250640869140625,
          4.923454284667969,
          -20.789215087890625,
          2.110386610031128,
          -8.875046730041504,
          26.74752426147461,
          -11.891229629516602,
          2.053515911102295,
          0.06882096081972122,
          -3.082756757736206,
          -3.8976917266845703,
          11.57373332977295,
          6.714828014373779,
          -26.807327270507812,
          -7.5707573890686035,
          25.518245697021484,
          -14.439724922180176,
          1.5780307054519653,
          26.385175704956055,
          -7.2358808517456055,
          -4.166989803314209,
          2.1055657863616943,
          25.38585662841797,
          2.634866237640381,
          -2.254823923110962,
          25.914690017700195,
          25.508764266967773,
          -22.362489700317383,
          -17.89276695251465,
          11.364476203918457,
          1.2567907571792603,
          1.9750738143920898,
          -1.7341837882995605,
          1.0269235372543335,
          3.1136372089385986,
          12.542909622192383,
          25.24652862548828,
          -5.336718559265137,
          18.234952926635742,
          1.6687067747116089,
          1.32610023021698,
          3.5705723762512207,
          25.905609130859375,
          25.622026443481445,
          -22.36298370361328,
          3.752563238143921,
          2.8978068828582764,
          14.150668144226074,
          -13.793330192565918,
          -17.994495391845703,
          -17.607500076293945,
          -27.615880966186523,
          1.8490638732910156,
          8.296592712402344,
          -0.32406720519065857,
          3.9050583839416504,
          -18.15386199951172,
          -10.750561714172363,
          25.174110412597656,
          26.72796058654785,
          4.976168632507324,
          -16.866634368896484,
          10.027201652526855,
          -16.445938110351562,
          -3.972346067428589,
          11.356572151184082,
          26.395954132080078,
          5.256020545959473,
          1.4331971406936646,
          -19.38055419921875,
          18.076091766357422,
          -17.16960334777832,
          2.1219441890716553,
          -7.123682498931885,
          18.78832244873047,
          -27.615930557250977,
          -15.566333770751953,
          18.1015682220459,
          -19.380619049072266,
          6.714832305908203,
          0.11714275181293488,
          9.783777236938477,
          4.4235429763793945,
          -1.3136200904846191,
          2.5693509578704834,
          -26.774383544921875,
          4.9877166748046875,
          18.602855682373047,
          -17.781469345092773,
          -18.016218185424805,
          1.9445219039916992,
          18.77570343017578,
          4.2013654708862305,
          25.50124740600586,
          -17.628591537475586,
          3.5425620079040527,
          -17.58026123046875,
          -15.80164909362793,
          5.037627696990967,
          -10.681415557861328,
          -18.132549285888672,
          12.430257797241211,
          -17.037046432495117,
          -17.541555404663086,
          -7.185950756072998,
          -5.569063663482666,
          2.527332067489624,
          -10.072287559509277,
          -8.87504768371582,
          -16.201017379760742,
          25.784584045410156,
          4.463928699493408,
          -17.62284278869629,
          1.6184617280960083,
          -17.678451538085938,
          1.2326487302780151,
          12.219704627990723,
          5.097200393676758,
          2.3077168464660645,
          -27.61589813232422,
          2.1726737022399902,
          0.11714434623718262,
          -13.85302734375,
          -3.008378028869629,
          -8.875046730041504,
          11.999663352966309,
          -0.7543327212333679,
          3.728978157043457,
          -15.000292778015137,
          3.5354514122009277,
          -2.279853343963623,
          18.811857223510742,
          3.6850647926330566,
          -22.518680572509766,
          18.785097122192383,
          2.591357707977295,
          -17.216218948364258,
          -17.768157958984375,
          -14.996371269226074,
          28.4749698638916,
          4.2436628341674805,
          0.5725785493850708,
          11.661771774291992,
          26.05727195739746,
          18.56273651123047,
          -18.197616577148438,
          -14.439682960510254,
          28.459665298461914,
          -0.0167560912668705,
          14.150714874267578,
          1.2326489686965942,
          -12.116338729858398,
          0.5356680154800415,
          -7.570661544799805,
          -3.9875905513763428,
          -10.479256629943848,
          -22.362913131713867,
          1.2913894653320312,
          -22.362985610961914,
          -10.185248374938965,
          1.1590553522109985,
          -26.807315826416016,
          0.3034006357192993,
          1.1925030946731567,
          2.4593424797058105,
          -12.942863464355469,
          -10.246208190917969,
          -26.807308197021484,
          -0.45324406027793884,
          -3.5773730278015137,
          -9.659747123718262,
          9.9306058883667,
          2.0220935344696045,
          -10.185568809509277,
          27.03614044189453,
          4.548187732696533,
          11.39859390258789,
          34.447265625,
          -1.3106855154037476,
          18.28270149230957,
          -3.212279796600342,
          1.8222243785858154,
          -0.5585081577301025,
          -1.437111258506775,
          -1.4797325134277344,
          -17.87990951538086,
          -17.56983184814453,
          -10.676604270935059,
          7.100057125091553,
          13.732349395751953,
          4.713891506195068,
          0.1068691536784172,
          -14.99920654296875,
          2.2725565433502197,
          -17.114370346069336,
          -14.663033485412598,
          -2.0587353706359863,
          0.11714315414428711,
          -12.789668083190918,
          25.171934127807617,
          -22.363018035888672,
          -9.452995300292969,
          1.9748233556747437,
          -17.642414093017578,
          -7.940005302429199,
          -3.0109736919403076,
          10.067967414855957,
          -16.987449645996094,
          28.46114730834961,
          2.5167815685272217,
          -14.66308879852295,
          6.714827060699463,
          -14.663154602050781,
          3.62610125541687,
          9.78372859954834,
          -22.359230041503906,
          -27.10053253173828,
          10.027175903320312,
          -16.893230438232422,
          -9.947941780090332,
          -10.48849105834961,
          6.714624404907227,
          -22.594770431518555,
          -7.18595027923584,
          1.5679811239242554,
          1.232645034790039,
          -12.95969009399414,
          -18.102001190185547,
          -1.2949851751327515,
          4.020383834838867,
          -7.196669101715088,
          1.848118543624878,
          -14.663089752197266,
          -7.185956954956055,
          -14.66307258605957,
          -1.199934482574463,
          -14.108518600463867,
          -16.454282760620117,
          8.296564102172852,
          1.8912980556488037,
          26.385265350341797,
          -10.948539733886719,
          14.150801658630371,
          6.9867730140686035,
          4.96161413192749,
          -8.64562702178955,
          -6.073933124542236,
          -15.961221694946289,
          -10.581220626831055,
          -1.2437942028045654,
          1.9758599996566772,
          -2.068209648132324,
          -27.61571502685547,
          -5.3828654289245605,
          -3.552738904953003,
          1.024733543395996,
          -1.3601775169372559,
          2.5131702423095703,
          -10.9940824508667,
          -2.5317156314849854,
          4.8194990158081055,
          -6.0092926025390625,
          12.220619201660156,
          10.775225639343262,
          6.714677333831787,
          -10.047867774963379,
          1.9744997024536133,
          -5.293315410614014,
          -22.363039016723633,
          -17.339780807495117,
          -16.447553634643555,
          0.11713100969791412,
          12.220290184020996,
          -7.1236796379089355,
          11.863930702209473,
          18.27996253967285,
          -17.867568969726562,
          22.8392276763916,
          1.5806804895401,
          -7.940005302429199,
          18.533973693847656,
          -10.478904724121094,
          -8.83362102508545,
          -13.663473129272461,
          -22.518611907958984,
          -8.875046730041504,
          0.055438216775655746,
          -6.000041484832764,
          11.72641658782959,
          -7.123681545257568,
          -10.736130714416504,
          2.310832977294922,
          -9.686859130859375,
          -13.435965538024902,
          11.60358715057373,
          -0.5474691390991211,
          -19.380624771118164,
          -10.038350105285645,
          -18.114912033081055,
          -14.434381484985352,
          1.684380054473877,
          -7.185975551605225,
          28.459667205810547,
          10.012701034545898,
          -8.8307466506958,
          0.1958743929862976,
          1.1845825910568237,
          -8.885205268859863,
          -7.185951232910156,
          -7.940000534057617,
          11.969901084899902,
          -2.1018426418304443,
          -7.185955047607422,
          1.7550464868545532,
          -14.982786178588867,
          1.232645034790039,
          -3.21405029296875,
          -5.95062255859375,
          2.3087358474731445,
          8.2965669631958,
          4.099689960479736,
          11.41174030303955,
          18.569658279418945,
          26.034191131591797,
          -9.697590827941895,
          8.296566009521484,
          1.2494627237319946,
          -13.49246597290039,
          7.038259029388428,
          -8.830638885498047,
          -1.4240174293518066,
          0.11397303640842438,
          -5.938332557678223,
          -7.123691082000732,
          25.80958366394043,
          -6.434543609619141,
          8.29787540435791,
          -10.01602840423584,
          -7.940001964569092,
          4.907308101654053,
          4.9073076248168945,
          0.6306589841842651,
          1.5248125791549683,
          -1.9079042673110962,
          -17.23661231994629,
          0.11707742512226105,
          -7.940001010894775,
          0.11713948845863342,
          -7.185950756072998,
          -12.774746894836426,
          -5.523948669433594,
          8.296562194824219,
          -18.107088088989258,
          -6.009294509887695,
          -19.38062286376953,
          3.026604413986206,
          26.94694709777832,
          -27.74932289123535,
          25.832616806030273,
          4.266491889953613,
          9.78359317779541,
          -12.956806182861328,
          -2.435184955596924,
          3.30572247505188,
          -14.662883758544922,
          -17.720836639404297,
          4.9072957038879395,
          -17.941905975341797,
          28.45966339111328,
          -16.55550765991211,
          2.0733633041381836,
          -2.5798237323760986,
          -13.597493171691895,
          25.20648765563965,
          2.0768003463745117,
          26.00092124938965,
          -18.0816593170166,
          -2.4309635162353516,
          -14.902441024780273,
          -14.077645301818848,
          2.936368227005005,
          -17.188369750976562,
          18.109088897705078,
          2.599954843521118,
          -3.3842809200286865,
          3.566314697265625,
          25.8290958404541,
          9.783772468566895,
          12.007577896118164,
          -15.683135032653809,
          -14.999205589294434,
          10.027155876159668,
          -27.101089477539062,
          2.658015251159668,
          9.783646583557129,
          6.7148284912109375,
          9.783655166625977,
          28.459699630737305,
          -2.184718132019043,
          18.435428619384766,
          -8.191924095153809,
          19.717817306518555,
          23.336233139038086,
          -17.352394104003906,
          -10.514784812927246,
          0.11714209616184235,
          12.159021377563477
         ],
         "xaxis": "x",
         "y": [
          6.219276428222656,
          11.979743003845215,
          13.375926971435547,
          22.91766929626465,
          -20.24701690673828,
          -10.788905143737793,
          10.029953002929688,
          -18.79825782775879,
          -20.24701690673828,
          -24.263439178466797,
          -4.931995868682861,
          -14.767535209655762,
          18.44118309020996,
          19.787874221801758,
          -12.40420150756836,
          16.696313858032227,
          1.181553602218628,
          -11.194535255432129,
          8.368846893310547,
          12.992955207824707,
          -14.766478538513184,
          -18.59507179260254,
          22.375192642211914,
          -11.731993675231934,
          -10.742939949035645,
          11.924583435058594,
          20.618858337402344,
          0.07738156616687775,
          -11.221803665161133,
          6.382338523864746,
          -11.594654083251953,
          6.2640509605407715,
          -12.6441068649292,
          1.2308220863342285,
          -6.618103981018066,
          0.15868350863456726,
          -14.767521858215332,
          22.335512161254883,
          -16.21354866027832,
          -11.442696571350098,
          -12.419527053833008,
          -11.459741592407227,
          -0.9128202795982361,
          -10.031682014465332,
          -12.79205322265625,
          -9.229493141174316,
          -13.60878849029541,
          -10.910826683044434,
          -10.8914794921875,
          12.226357460021973,
          2.7073233127593994,
          -18.249160766601562,
          10.716690063476562,
          22.094404220581055,
          -11.971603393554688,
          -12.003865242004395,
          -12.528599739074707,
          9.331954956054688,
          -11.249847412109375,
          -15.450956344604492,
          -2.8327083587646484,
          -12.15927505493164,
          19.050064086914062,
          -2.1602706909179688,
          13.923620223999023,
          -15.51910400390625,
          23.263933181762695,
          -12.699089050292969,
          14.19759464263916,
          -8.903931617736816,
          13.048334121704102,
          11.909477233886719,
          8.536842346191406,
          -11.663104057312012,
          -10.740939140319824,
          -11.318266868591309,
          2.7075130939483643,
          10.7783842086792,
          22.612167358398438,
          -14.576922416687012,
          23.245655059814453,
          12.854504585266113,
          10.23597240447998,
          22.241315841674805,
          22.506343841552734,
          23.071409225463867,
          0.9751443862915039,
          11.576957702636719,
          11.481904029846191,
          -11.837882041931152,
          -8.277048110961914,
          -3.581946611404419,
          -11.728011131286621,
          10.043045043945312,
          -14.576972007751465,
          23.258987426757812,
          14.197466850280762,
          12.849821090698242,
          -22.627967834472656,
          -23.320194244384766,
          -6.602277755737305,
          -1.138502597808838,
          -10.630858421325684,
          18.98508644104004,
          0.15868334472179413,
          -13.55756950378418,
          -2.4195659160614014,
          -11.35552978515625,
          13.923762321472168,
          -12.15034294128418,
          -3.0846240520477295,
          -11.457976341247559,
          6.309067249298096,
          14.197619438171387,
          -13.54570198059082,
          -7.604521751403809,
          2.7075161933898926,
          -14.766374588012695,
          -1.5621516704559326,
          -11.702775955200195,
          7.999392032623291,
          -15.432337760925293,
          -14.227864265441895,
          -12.640130996704102,
          22.51957130432129,
          -17.172618865966797,
          10.349506378173828,
          9.323739051818848,
          0.9007887840270996,
          -12.775765419006348,
          22.086015701293945,
          10.745278358459473,
          0.9211315512657166,
          7.180867671966553,
          -10.652992248535156,
          -11.210200309753418,
          -3.0646262168884277,
          -20.247020721435547,
          14.19730281829834,
          -9.266589164733887,
          19.114221572875977,
          16.696317672729492,
          0.945280909538269,
          21.981504440307617,
          3.1122753620147705,
          -12.136568069458008,
          -7.947959899902344,
          18.44207191467285,
          12.775293350219727,
          -10.655729293823242,
          18.72643280029297,
          22.331363677978516,
          2.8947155475616455,
          8.622368812561035,
          -2.772350549697876,
          1.8457366228103638,
          -5.2728400230407715,
          -10.350826263427734,
          -14.869770050048828,
          10.658570289611816,
          -3.489692449569702,
          18.557039260864258,
          -6.616084575653076,
          -0.6972995400428772,
          -12.283158302307129,
          1.206435203552246,
          11.451711654663086,
          18.669307708740234,
          19.105113983154297,
          2.893892765045166,
          10.806506156921387,
          -12.175057411193848,
          1.9005403518676758,
          11.587523460388184,
          8.36494255065918,
          12.240939140319824,
          14.815792083740234,
          1.5406726598739624,
          2.7073590755462646,
          -25.282169342041016,
          10.115735054016113,
          11.156539916992188,
          -23.634973526000977,
          18.734851837158203,
          23.166061401367188,
          10.505961418151855,
          7.480118751525879,
          -14.766469955444336,
          6.60258150100708,
          -11.338362693786621,
          -2.6025264263153076,
          22.61339569091797,
          -9.625982284545898,
          -11.512784004211426,
          15.432547569274902,
          -0.9178354144096375,
          8.764262199401855,
          12.150074005126953,
          -16.393692016601562,
          -0.8342529535293579,
          14.815967559814453,
          10.18500804901123,
          -1.2125431299209595,
          15.43252182006836,
          -20.24701690673828,
          -24.263439178466797,
          -8.898082733154297,
          11.613861083984375,
          -14.88000202178955,
          1.6782095432281494,
          13.689496994018555,
          11.178250312805176,
          -1.370323896408081,
          9.004530906677246,
          8.033281326293945,
          1.8831926584243774,
          -1.1684348583221436,
          11.636284828186035,
          18.406293869018555,
          9.029441833496094,
          4.589288711547852,
          8.216403007507324,
          13.032979965209961,
          10.998167991638184,
          -23.424644470214844,
          11.105557441711426,
          -3.126049757003784,
          7.109045505523682,
          6.53262186050415,
          20.36927032470703,
          -1.5006089210510254,
          -12.81471061706543,
          -23.879087448120117,
          -12.775754928588867,
          12.923163414001465,
          18.47983741760254,
          10.066688537597656,
          7.841489791870117,
          2.718686580657959,
          7.088294506072998,
          -18.798255920410156,
          -2.4473824501037598,
          -11.326186180114746,
          -12.846026420593262,
          14.815832138061523,
          2.2117717266082764,
          -24.263437271118164,
          11.808082580566406,
          -10.82437801361084,
          -12.776015281677246,
          -2.2027242183685303,
          -13.258193969726562,
          10.238658905029297,
          8.99612045288086,
          11.301393508911133,
          -13.801122665405273,
          -1.018470048904419,
          10.280487060546875,
          2.4783835411071777,
          -0.8283339142799377,
          11.010177612304688,
          7.541322231292725,
          7.423551559448242,
          12.993575096130371,
          19.79473304748535,
          10.788570404052734,
          -11.654358863830566,
          -3.087347984313965,
          22.054983139038086,
          -1.391882300376892,
          10.823859214782715,
          16.696121215820312,
          19.78789710998535,
          -10.95294189453125,
          1.9005727767944336,
          -18.798255920410156,
          12.68999195098877,
          -8.910868644714355,
          -9.265077590942383,
          -8.9346284866333,
          -23.284732818603516,
          2.8938872814178467,
          1.9653902053833008,
          2.893892526626587,
          9.363655090332031,
          -12.042888641357422,
          14.197421073913574,
          -11.067336082458496,
          1.6903325319290161,
          1.2307831048965454,
          8.331768989562988,
          -24.01455307006836,
          14.19747257232666,
          -8.704930305480957,
          -18.632078170776367,
          0.31138142943382263,
          -2.8029801845550537,
          2.2322428226470947,
          9.363555908203125,
          22.7752685546875,
          10.837153434753418,
          -2.44583797454834,
          87.17314147949219,
          -14.88913345336914,
          -0.6736144423484802,
          -18.235736846923828,
          -11.614034652709961,
          -10.82892894744873,
          -10.632267951965332,
          -10.663949012756348,
          9.4256010055542,
          6.625655651092529,
          -23.858694076538086,
          -4.93204402923584,
          -3.2233738899230957,
          11.472314834594727,
          -24.257287979125977,
          -8.9039306640625,
          2.1973319053649902,
          7.027038097381592,
          -9.229450225830078,
          -3.57425594329834,
          -24.2634334564209,
          7.720641136169434,
          18.77495765686035,
          2.8941869735717773,
          12.849385261535645,
          -5.272836208343506,
          7.190451622009277,
          20.125244140625,
          -10.825581550598145,
          -1.4254413843154907,
          8.143242835998535,
          19.78820037841797,
          1.8370335102081299,
          -9.229480743408203,
          -20.247018814086914,
          -9.22907829284668,
          10.679529190063477,
          -8.89814567565918,
          2.900735855102539,
          13.92281436920166,
          -14.766412734985352,
          12.591888427734375,
          -23.266876220703125,
          -24.006973266601562,
          -20.247196197509766,
          2.6016933917999268,
          20.36927032470703,
          2.1232802867889404,
          -18.798255920410156,
          8.39118766784668,
          11.191313743591309,
          -14.954397201538086,
          11.375814437866211,
          3.0650525093078613,
          0.8630461692810059,
          -9.22947883605957,
          20.36928367614746,
          -9.229499816894531,
          -10.953189849853516,
          12.258720397949219,
          6.930767059326172,
          2.7075159549713135,
          1.519780158996582,
          21.98080825805664,
          3.815556049346924,
          1.9005177021026611,
          -20.251066207885742,
          -12.917226791381836,
          -22.050031661987305,
          -10.9382905960083,
          13.002226829528809,
          -23.316614151000977,
          -15.976000785827637,
          -5.272851467132568,
          -3.5821611881256104,
          14.81579303741455,
          -9.360389709472656,
          -7.798348426818848,
          -11.342281341552734,
          -16.317712783813477,
          1.8450241088867188,
          3.8704543113708496,
          -8.499680519104004,
          11.388500213623047,
          7.643339157104492,
          -2.4515955448150635,
          -0.6047900915145874,
          -20.247133255004883,
          -23.839305877685547,
          -12.005961418151855,
          -14.024415969848633,
          2.8941128253936768,
          6.324775218963623,
          6.86833381652832,
          -24.263408660888672,
          -2.50164794921875,
          -16.39366340637207,
          -0.502082884311676,
          -1.388232707977295,
          8.111235618591309,
          21.32704734802246,
          2.1528074741363525,
          20.125244140625,
          -0.6407489776611328,
          -24.010608673095703,
          -4.999027252197266,
          10.757000923156738,
          2.4784116744995117,
          -12.775909423828125,
          7.179330825805664,
          -12.79700756072998,
          -2.172208070755005,
          -16.393707275390625,
          -23.73828887939453,
          -16.162565231323242,
          -23.017562866210938,
          9.629732131958008,
          -2.212869644165039,
          -7.022723197937012,
          15.432520866394043,
          -23.817668914794922,
          10.424445152282715,
          16.710445404052734,
          92.72661590576172,
          20.369327545166016,
          19.787883758544922,
          -8.593514442443848,
          -5.008358478546143,
          -14.070748329162598,
          1.4160877466201782,
          -4.945891380310059,
          20.369272232055664,
          20.125240325927734,
          -3.039579153060913,
          -3.5109739303588867,
          20.369281768798828,
          -12.590621948242188,
          12.989368438720703,
          -18.798255920410156,
          -15.1705322265625,
          7.596222877502441,
          -16.16450309753418,
          2.707510232925415,
          10.96670913696289,
          -2.915353298187256,
          -0.6500376462936401,
          22.070314407348633,
          0.3620883822441101,
          2.707505941390991,
          1.259792685508728,
          9.825966835021973,
          -4.978621959686279,
          -5.008458137512207,
          -8.329886436462402,
          -24.261625289916992,
          7.604278564453125,
          -16.39369010925293,
          22.91849708557129,
          7.759230613708496,
          2.705810546875,
          -23.682111740112305,
          20.125240325927734,
          -15.415414810180664,
          -15.415414810180664,
          -24.712621688842773,
          -9.204460144042969,
          -10.547438621520996,
          8.280457496643066,
          -24.26339340209961,
          20.125240325927734,
          -24.263431549072266,
          20.36927032470703,
          7.6455864906311035,
          -1.56224524974823,
          2.707516670227051,
          10.387909889221191,
          7.643377304077148,
          15.432520866394043,
          10.719367980957031,
          22.95009994506836,
          14.100086212158203,
          22.757841110229492,
          11.6229248046875,
          -8.898324012756348,
          8.380284309387207,
          -17.186214447021484,
          11.391169548034668,
          -9.229774475097656,
          11.613834381103516,
          -15.415420532226562,
          9.645670890808105,
          19.78787612915039,
          7.231757164001465,
          11.608516693115234,
          -13.543420791625977,
          10.315401077270508,
          19.102649688720703,
          12.081610679626465,
          23.156644821166992,
          10.230000495910645,
          -17.18433380126953,
          12.961115837097168,
          0.07737958431243896,
          11.132071495056152,
          12.433982849121094,
          -1.227911353111267,
          -11.880648612976074,
          -10.859550476074219,
          6.305226802825928,
          18.976486206054688,
          -8.898088455200195,
          -3.089583158493042,
          13.044713020324707,
          -8.903935432434082,
          -14.766372680664062,
          13.92379093170166,
          -9.32659912109375,
          -8.89825439453125,
          -20.247018814086914,
          -8.898276329040527,
          19.78795623779297,
          -6.986279010772705,
          -1.415662407875061,
          -21.61116600036621,
          -1.6571258306503296,
          21.34423065185547,
          12.129219055175781,
          -23.291847229003906,
          -24.263439178466797,
          -2.313702344894409
         ],
         "yaxis": "y"
        }
       ],
       "layout": {
        "legend": {
         "tracegroupgap": 0
        },
        "margin": {
         "t": 60
        },
        "template": {
         "data": {
          "bar": [
           {
            "error_x": {
             "color": "#2a3f5f"
            },
            "error_y": {
             "color": "#2a3f5f"
            },
            "marker": {
             "line": {
              "color": "#E5ECF6",
              "width": 0.5
             },
             "pattern": {
              "fillmode": "overlay",
              "size": 10,
              "solidity": 0.2
             }
            },
            "type": "bar"
           }
          ],
          "barpolar": [
           {
            "marker": {
             "line": {
              "color": "#E5ECF6",
              "width": 0.5
             },
             "pattern": {
              "fillmode": "overlay",
              "size": 10,
              "solidity": 0.2
             }
            },
            "type": "barpolar"
           }
          ],
          "carpet": [
           {
            "aaxis": {
             "endlinecolor": "#2a3f5f",
             "gridcolor": "white",
             "linecolor": "white",
             "minorgridcolor": "white",
             "startlinecolor": "#2a3f5f"
            },
            "baxis": {
             "endlinecolor": "#2a3f5f",
             "gridcolor": "white",
             "linecolor": "white",
             "minorgridcolor": "white",
             "startlinecolor": "#2a3f5f"
            },
            "type": "carpet"
           }
          ],
          "choropleth": [
           {
            "colorbar": {
             "outlinewidth": 0,
             "ticks": ""
            },
            "type": "choropleth"
           }
          ],
          "contour": [
           {
            "colorbar": {
             "outlinewidth": 0,
             "ticks": ""
            },
            "colorscale": [
             [
              0,
              "#0d0887"
             ],
             [
              0.1111111111111111,
              "#46039f"
             ],
             [
              0.2222222222222222,
              "#7201a8"
             ],
             [
              0.3333333333333333,
              "#9c179e"
             ],
             [
              0.4444444444444444,
              "#bd3786"
             ],
             [
              0.5555555555555556,
              "#d8576b"
             ],
             [
              0.6666666666666666,
              "#ed7953"
             ],
             [
              0.7777777777777778,
              "#fb9f3a"
             ],
             [
              0.8888888888888888,
              "#fdca26"
             ],
             [
              1,
              "#f0f921"
             ]
            ],
            "type": "contour"
           }
          ],
          "contourcarpet": [
           {
            "colorbar": {
             "outlinewidth": 0,
             "ticks": ""
            },
            "type": "contourcarpet"
           }
          ],
          "heatmap": [
           {
            "colorbar": {
             "outlinewidth": 0,
             "ticks": ""
            },
            "colorscale": [
             [
              0,
              "#0d0887"
             ],
             [
              0.1111111111111111,
              "#46039f"
             ],
             [
              0.2222222222222222,
              "#7201a8"
             ],
             [
              0.3333333333333333,
              "#9c179e"
             ],
             [
              0.4444444444444444,
              "#bd3786"
             ],
             [
              0.5555555555555556,
              "#d8576b"
             ],
             [
              0.6666666666666666,
              "#ed7953"
             ],
             [
              0.7777777777777778,
              "#fb9f3a"
             ],
             [
              0.8888888888888888,
              "#fdca26"
             ],
             [
              1,
              "#f0f921"
             ]
            ],
            "type": "heatmap"
           }
          ],
          "heatmapgl": [
           {
            "colorbar": {
             "outlinewidth": 0,
             "ticks": ""
            },
            "colorscale": [
             [
              0,
              "#0d0887"
             ],
             [
              0.1111111111111111,
              "#46039f"
             ],
             [
              0.2222222222222222,
              "#7201a8"
             ],
             [
              0.3333333333333333,
              "#9c179e"
             ],
             [
              0.4444444444444444,
              "#bd3786"
             ],
             [
              0.5555555555555556,
              "#d8576b"
             ],
             [
              0.6666666666666666,
              "#ed7953"
             ],
             [
              0.7777777777777778,
              "#fb9f3a"
             ],
             [
              0.8888888888888888,
              "#fdca26"
             ],
             [
              1,
              "#f0f921"
             ]
            ],
            "type": "heatmapgl"
           }
          ],
          "histogram": [
           {
            "marker": {
             "pattern": {
              "fillmode": "overlay",
              "size": 10,
              "solidity": 0.2
             }
            },
            "type": "histogram"
           }
          ],
          "histogram2d": [
           {
            "colorbar": {
             "outlinewidth": 0,
             "ticks": ""
            },
            "colorscale": [
             [
              0,
              "#0d0887"
             ],
             [
              0.1111111111111111,
              "#46039f"
             ],
             [
              0.2222222222222222,
              "#7201a8"
             ],
             [
              0.3333333333333333,
              "#9c179e"
             ],
             [
              0.4444444444444444,
              "#bd3786"
             ],
             [
              0.5555555555555556,
              "#d8576b"
             ],
             [
              0.6666666666666666,
              "#ed7953"
             ],
             [
              0.7777777777777778,
              "#fb9f3a"
             ],
             [
              0.8888888888888888,
              "#fdca26"
             ],
             [
              1,
              "#f0f921"
             ]
            ],
            "type": "histogram2d"
           }
          ],
          "histogram2dcontour": [
           {
            "colorbar": {
             "outlinewidth": 0,
             "ticks": ""
            },
            "colorscale": [
             [
              0,
              "#0d0887"
             ],
             [
              0.1111111111111111,
              "#46039f"
             ],
             [
              0.2222222222222222,
              "#7201a8"
             ],
             [
              0.3333333333333333,
              "#9c179e"
             ],
             [
              0.4444444444444444,
              "#bd3786"
             ],
             [
              0.5555555555555556,
              "#d8576b"
             ],
             [
              0.6666666666666666,
              "#ed7953"
             ],
             [
              0.7777777777777778,
              "#fb9f3a"
             ],
             [
              0.8888888888888888,
              "#fdca26"
             ],
             [
              1,
              "#f0f921"
             ]
            ],
            "type": "histogram2dcontour"
           }
          ],
          "mesh3d": [
           {
            "colorbar": {
             "outlinewidth": 0,
             "ticks": ""
            },
            "type": "mesh3d"
           }
          ],
          "parcoords": [
           {
            "line": {
             "colorbar": {
              "outlinewidth": 0,
              "ticks": ""
             }
            },
            "type": "parcoords"
           }
          ],
          "pie": [
           {
            "automargin": true,
            "type": "pie"
           }
          ],
          "scatter": [
           {
            "marker": {
             "colorbar": {
              "outlinewidth": 0,
              "ticks": ""
             }
            },
            "type": "scatter"
           }
          ],
          "scatter3d": [
           {
            "line": {
             "colorbar": {
              "outlinewidth": 0,
              "ticks": ""
             }
            },
            "marker": {
             "colorbar": {
              "outlinewidth": 0,
              "ticks": ""
             }
            },
            "type": "scatter3d"
           }
          ],
          "scattercarpet": [
           {
            "marker": {
             "colorbar": {
              "outlinewidth": 0,
              "ticks": ""
             }
            },
            "type": "scattercarpet"
           }
          ],
          "scattergeo": [
           {
            "marker": {
             "colorbar": {
              "outlinewidth": 0,
              "ticks": ""
             }
            },
            "type": "scattergeo"
           }
          ],
          "scattergl": [
           {
            "marker": {
             "colorbar": {
              "outlinewidth": 0,
              "ticks": ""
             }
            },
            "type": "scattergl"
           }
          ],
          "scattermapbox": [
           {
            "marker": {
             "colorbar": {
              "outlinewidth": 0,
              "ticks": ""
             }
            },
            "type": "scattermapbox"
           }
          ],
          "scatterpolar": [
           {
            "marker": {
             "colorbar": {
              "outlinewidth": 0,
              "ticks": ""
             }
            },
            "type": "scatterpolar"
           }
          ],
          "scatterpolargl": [
           {
            "marker": {
             "colorbar": {
              "outlinewidth": 0,
              "ticks": ""
             }
            },
            "type": "scatterpolargl"
           }
          ],
          "scatterternary": [
           {
            "marker": {
             "colorbar": {
              "outlinewidth": 0,
              "ticks": ""
             }
            },
            "type": "scatterternary"
           }
          ],
          "surface": [
           {
            "colorbar": {
             "outlinewidth": 0,
             "ticks": ""
            },
            "colorscale": [
             [
              0,
              "#0d0887"
             ],
             [
              0.1111111111111111,
              "#46039f"
             ],
             [
              0.2222222222222222,
              "#7201a8"
             ],
             [
              0.3333333333333333,
              "#9c179e"
             ],
             [
              0.4444444444444444,
              "#bd3786"
             ],
             [
              0.5555555555555556,
              "#d8576b"
             ],
             [
              0.6666666666666666,
              "#ed7953"
             ],
             [
              0.7777777777777778,
              "#fb9f3a"
             ],
             [
              0.8888888888888888,
              "#fdca26"
             ],
             [
              1,
              "#f0f921"
             ]
            ],
            "type": "surface"
           }
          ],
          "table": [
           {
            "cells": {
             "fill": {
              "color": "#EBF0F8"
             },
             "line": {
              "color": "white"
             }
            },
            "header": {
             "fill": {
              "color": "#C8D4E3"
             },
             "line": {
              "color": "white"
             }
            },
            "type": "table"
           }
          ]
         },
         "layout": {
          "annotationdefaults": {
           "arrowcolor": "#2a3f5f",
           "arrowhead": 0,
           "arrowwidth": 1
          },
          "autotypenumbers": "strict",
          "coloraxis": {
           "colorbar": {
            "outlinewidth": 0,
            "ticks": ""
           }
          },
          "colorscale": {
           "diverging": [
            [
             0,
             "#8e0152"
            ],
            [
             0.1,
             "#c51b7d"
            ],
            [
             0.2,
             "#de77ae"
            ],
            [
             0.3,
             "#f1b6da"
            ],
            [
             0.4,
             "#fde0ef"
            ],
            [
             0.5,
             "#f7f7f7"
            ],
            [
             0.6,
             "#e6f5d0"
            ],
            [
             0.7,
             "#b8e186"
            ],
            [
             0.8,
             "#7fbc41"
            ],
            [
             0.9,
             "#4d9221"
            ],
            [
             1,
             "#276419"
            ]
           ],
           "sequential": [
            [
             0,
             "#0d0887"
            ],
            [
             0.1111111111111111,
             "#46039f"
            ],
            [
             0.2222222222222222,
             "#7201a8"
            ],
            [
             0.3333333333333333,
             "#9c179e"
            ],
            [
             0.4444444444444444,
             "#bd3786"
            ],
            [
             0.5555555555555556,
             "#d8576b"
            ],
            [
             0.6666666666666666,
             "#ed7953"
            ],
            [
             0.7777777777777778,
             "#fb9f3a"
            ],
            [
             0.8888888888888888,
             "#fdca26"
            ],
            [
             1,
             "#f0f921"
            ]
           ],
           "sequentialminus": [
            [
             0,
             "#0d0887"
            ],
            [
             0.1111111111111111,
             "#46039f"
            ],
            [
             0.2222222222222222,
             "#7201a8"
            ],
            [
             0.3333333333333333,
             "#9c179e"
            ],
            [
             0.4444444444444444,
             "#bd3786"
            ],
            [
             0.5555555555555556,
             "#d8576b"
            ],
            [
             0.6666666666666666,
             "#ed7953"
            ],
            [
             0.7777777777777778,
             "#fb9f3a"
            ],
            [
             0.8888888888888888,
             "#fdca26"
            ],
            [
             1,
             "#f0f921"
            ]
           ]
          },
          "colorway": [
           "#636efa",
           "#EF553B",
           "#00cc96",
           "#ab63fa",
           "#FFA15A",
           "#19d3f3",
           "#FF6692",
           "#B6E880",
           "#FF97FF",
           "#FECB52"
          ],
          "font": {
           "color": "#2a3f5f"
          },
          "geo": {
           "bgcolor": "white",
           "lakecolor": "white",
           "landcolor": "#E5ECF6",
           "showlakes": true,
           "showland": true,
           "subunitcolor": "white"
          },
          "hoverlabel": {
           "align": "left"
          },
          "hovermode": "closest",
          "mapbox": {
           "style": "light"
          },
          "paper_bgcolor": "white",
          "plot_bgcolor": "#E5ECF6",
          "polar": {
           "angularaxis": {
            "gridcolor": "white",
            "linecolor": "white",
            "ticks": ""
           },
           "bgcolor": "#E5ECF6",
           "radialaxis": {
            "gridcolor": "white",
            "linecolor": "white",
            "ticks": ""
           }
          },
          "scene": {
           "xaxis": {
            "backgroundcolor": "#E5ECF6",
            "gridcolor": "white",
            "gridwidth": 2,
            "linecolor": "white",
            "showbackground": true,
            "ticks": "",
            "zerolinecolor": "white"
           },
           "yaxis": {
            "backgroundcolor": "#E5ECF6",
            "gridcolor": "white",
            "gridwidth": 2,
            "linecolor": "white",
            "showbackground": true,
            "ticks": "",
            "zerolinecolor": "white"
           },
           "zaxis": {
            "backgroundcolor": "#E5ECF6",
            "gridcolor": "white",
            "gridwidth": 2,
            "linecolor": "white",
            "showbackground": true,
            "ticks": "",
            "zerolinecolor": "white"
           }
          },
          "shapedefaults": {
           "line": {
            "color": "#2a3f5f"
           }
          },
          "ternary": {
           "aaxis": {
            "gridcolor": "white",
            "linecolor": "white",
            "ticks": ""
           },
           "baxis": {
            "gridcolor": "white",
            "linecolor": "white",
            "ticks": ""
           },
           "bgcolor": "#E5ECF6",
           "caxis": {
            "gridcolor": "white",
            "linecolor": "white",
            "ticks": ""
           }
          },
          "title": {
           "x": 0.05
          },
          "xaxis": {
           "automargin": true,
           "gridcolor": "white",
           "linecolor": "white",
           "ticks": "",
           "title": {
            "standoff": 15
           },
           "zerolinecolor": "white",
           "zerolinewidth": 2
          },
          "yaxis": {
           "automargin": true,
           "gridcolor": "white",
           "linecolor": "white",
           "ticks": "",
           "title": {
            "standoff": 15
           },
           "zerolinecolor": "white",
           "zerolinewidth": 2
          }
         }
        },
        "xaxis": {
         "anchor": "y",
         "domain": [
          0,
          1
         ],
         "title": {
          "text": "x"
         }
        },
        "yaxis": {
         "anchor": "x",
         "domain": [
          0,
          1
         ],
         "title": {
          "text": "y"
         }
        }
       }
      }
     },
     "metadata": {},
     "output_type": "display_data"
    }
   ],
   "source": [
    "# x and y given as DataFrame columns\n",
    "import plotly.express as px\n",
    "fig = px.scatter(df_tsne_features_w_pca_74, x=\"x\", y=\"y\")\n",
    "fig.show()"
   ]
  },
  {
   "cell_type": "code",
   "execution_count": 90,
   "metadata": {},
   "outputs": [
    {
     "data": {
      "image/png": "[encoded data removed]",
      "text/plain": [
       "<Figure size 432x288 with 1 Axes>"
      ]
     },
     "metadata": {
      "needs_background": "light"
     },
     "output_type": "display_data"
    }
   ],
   "source": [
    "import matplotlib.pyplot as plt\n",
    "# Plot t-SNE by using .pyplot\n",
    "X = tsne_features_w_pca_74[:,0]\n",
    "y = tsne_features_w_pca_74[:,1]\n",
    "\n",
    "plt.scatter(X, y)\n",
    "plt.show()"
   ]
  },
  {
   "cell_type": "markdown",
   "metadata": {},
   "source": [
    "### KMeans"
   ]
  },
  {
   "cell_type": "markdown",
   "metadata": {},
   "source": [
    "#### With PCA 3"
   ]
  },
  {
   "cell_type": "code",
   "execution_count": 98,
   "metadata": {},
   "outputs": [
    {
     "name": "stderr",
     "output_type": "stream",
     "text": [
      "C:\\Users\\sroiz\\anaconda3\\envs\\PythonData\\lib\\site-packages\\sklearn\\cluster\\_kmeans.py:882: UserWarning:\n",
      "\n",
      "KMeans is known to have a memory leak on Windows with MKL, when there are less chunks than available threads. You can avoid it by setting the environment variable OMP_NUM_THREADS=3.\n",
      "\n"
     ]
    }
   ],
   "source": [
    "from sklearn.cluster import KMeans\n",
    "# Identify clusters with k-means\n",
    "list_clusters = []\n",
    "k = list(range(1,11))\n",
    "\n",
    "for i in k:\n",
    "    kmeans = KMeans(n_clusters=i, random_state=0)\n",
    "    kmeans.fit(outcome_pca_3)\n",
    "    list_clusters.append(kmeans.inertia_)"
   ]
  },
  {
   "cell_type": "code",
   "execution_count": 99,
   "metadata": {},
   "outputs": [
    {
     "data": {
      "image/png": "[encoded data removed]",
      "text/plain": [
       "<Figure size 432x288 with 1 Axes>"
      ]
     },
     "metadata": {
      "needs_background": "light"
     },
     "output_type": "display_data"
    }
   ],
   "source": [
    "# Create an elbow plot\n",
    "elbow_df = pd.DataFrame({'k': k, 'inertia': list_clusters})\n",
    "elbow_df.plot.line(x='k', y='inertia')\n",
    "plt.ylabel('Inertia')\n",
    "plt.title('Elbow Plot of PCA 3')\n",
    "plt.show()"
   ]
  },
  {
   "cell_type": "markdown",
   "metadata": {},
   "source": [
    "#### With PCA 80"
   ]
  },
  {
   "cell_type": "code",
   "execution_count": 100,
   "metadata": {},
   "outputs": [
    {
     "name": "stderr",
     "output_type": "stream",
     "text": [
      "C:\\Users\\sroiz\\anaconda3\\envs\\PythonData\\lib\\site-packages\\sklearn\\cluster\\_kmeans.py:882: UserWarning:\n",
      "\n",
      "KMeans is known to have a memory leak on Windows with MKL, when there are less chunks than available threads. You can avoid it by setting the environment variable OMP_NUM_THREADS=3.\n",
      "\n"
     ]
    }
   ],
   "source": [
    "from sklearn.cluster import KMeans\n",
    "# Identify clusters with k-means\n",
    "list_clusters = []\n",
    "k = list(range(1,11))\n",
    "\n",
    "for i in k:\n",
    "    kmeans = KMeans(n_clusters=i, random_state=0)\n",
    "    kmeans.fit(outcome_pca_80)\n",
    "    list_clusters.append(kmeans.inertia_)"
   ]
  },
  {
   "cell_type": "code",
   "execution_count": 102,
   "metadata": {},
   "outputs": [
    {
     "data": {
      "image/png": "[encoded data removed]",
      "text/plain": [
       "<Figure size 432x288 with 1 Axes>"
      ]
     },
     "metadata": {
      "needs_background": "light"
     },
     "output_type": "display_data"
    }
   ],
   "source": [
    "# Create an elbow plot\n",
    "elbow_df = pd.DataFrame({'k': k, 'inertia': list_clusters})\n",
    "elbow_df.plot.line(x='k', y='inertia')\n",
    "plt.ylabel('Inertia')\n",
    "plt.title('Elbow Plot of PCA 80')\n",
    "plt.show()"
   ]
  },
  {
   "cell_type": "markdown",
   "metadata": {},
   "source": [
    "#### With PCA .99"
   ]
  },
  {
   "cell_type": "code",
   "execution_count": 107,
   "metadata": {},
   "outputs": [
    {
     "name": "stderr",
     "output_type": "stream",
     "text": [
      "C:\\Users\\sroiz\\anaconda3\\envs\\PythonData\\lib\\site-packages\\sklearn\\cluster\\_kmeans.py:882: UserWarning:\n",
      "\n",
      "KMeans is known to have a memory leak on Windows with MKL, when there are less chunks than available threads. You can avoid it by setting the environment variable OMP_NUM_THREADS=3.\n",
      "\n"
     ]
    }
   ],
   "source": [
    "from sklearn.cluster import KMeans\n",
    "# Identify clusters with k-means\n",
    "list_clusters = []\n",
    "k = list(range(1,11))\n",
    "\n",
    "for i in k:\n",
    "    kmeans = KMeans(n_clusters=i, random_state=0)\n",
    "    kmeans.fit(outcome_pca_pnt_99)\n",
    "    list_clusters.append(kmeans.inertia_)"
   ]
  },
  {
   "cell_type": "code",
   "execution_count": 108,
   "metadata": {},
   "outputs": [
    {
     "data": {
      "image/png": "[encoded data removed]",
      "text/plain": [
       "<Figure size 432x288 with 1 Axes>"
      ]
     },
     "metadata": {
      "needs_background": "light"
     },
     "output_type": "display_data"
    }
   ],
   "source": [
    "# Create an elbow plot\n",
    "elbow_df = pd.DataFrame({'k': k, 'inertia': list_clusters})\n",
    "elbow_df.plot.line(x='k', y='inertia')\n",
    "plt.ylabel('Inertia')\n",
    "plt.title('Elbow Plot of PCA .99')\n",
    "plt.show()"
   ]
  },
  {
   "cell_type": "markdown",
   "metadata": {},
   "source": [
    "#### With PCA .9"
   ]
  },
  {
   "cell_type": "code",
   "execution_count": 104,
   "metadata": {},
   "outputs": [
    {
     "name": "stderr",
     "output_type": "stream",
     "text": [
      "C:\\Users\\sroiz\\anaconda3\\envs\\PythonData\\lib\\site-packages\\sklearn\\cluster\\_kmeans.py:882: UserWarning:\n",
      "\n",
      "KMeans is known to have a memory leak on Windows with MKL, when there are less chunks than available threads. You can avoid it by setting the environment variable OMP_NUM_THREADS=3.\n",
      "\n"
     ]
    }
   ],
   "source": [
    "from sklearn.cluster import KMeans\n",
    "# Identify clusters with k-means\n",
    "list_clusters = []\n",
    "k = list(range(1,11))\n",
    "\n",
    "for i in k:\n",
    "    kmeans = KMeans(n_clusters=i, random_state=0)\n",
    "    kmeans.fit(outcome_pca_pnt_9)\n",
    "    list_clusters.append(kmeans.inertia_)"
   ]
  },
  {
   "cell_type": "code",
   "execution_count": 106,
   "metadata": {},
   "outputs": [
    {
     "data": {
      "image/png": "[encoded data removed]",
      "text/plain": [
       "<Figure size 432x288 with 1 Axes>"
      ]
     },
     "metadata": {
      "needs_background": "light"
     },
     "output_type": "display_data"
    }
   ],
   "source": [
    "# Create an elbow plot\n",
    "elbow_df = pd.DataFrame({'k': k, 'inertia': list_clusters})\n",
    "elbow_df.plot.line(x='k', y='inertia')\n",
    "plt.ylabel('Inertia')\n",
    "plt.title('Elbow Plot of PCA .9')\n",
    "plt.show()"
   ]
  },
  {
   "cell_type": "markdown",
   "metadata": {},
   "source": [
    "#### With PCA 74"
   ]
  },
  {
   "cell_type": "code",
   "execution_count": null,
   "metadata": {},
   "outputs": [
    {
     "name": "stderr",
     "output_type": "stream",
     "text": [
      "C:\\Users\\sroiz\\anaconda3\\envs\\PythonData\\lib\\site-packages\\sklearn\\cluster\\_kmeans.py:882: UserWarning:\n",
      "\n",
      "KMeans is known to have a memory leak on Windows with MKL, when there are less chunks than available threads. You can avoid it by setting the environment variable OMP_NUM_THREADS=3.\n",
      "\n"
     ]
    }
   ],
   "source": [
    "from sklearn.cluster import KMeans\n",
    "# Identify clusters with k-means\n",
    "list_clusters = []\n",
    "k = list(range(1,11))\n",
    "\n",
    "for i in k:\n",
    "    kmeans = KMeans(n_clusters=i, random_state=0)\n",
    "    kmeans.fit(outcome_pca_74)\n",
    "    list_clusters.append(kmeans.inertia_)"
   ]
  },
  {
   "cell_type": "code",
   "execution_count": 103,
   "metadata": {},
   "outputs": [
    {
     "data": {
      "image/png": "[encoded data removed]",
      "text/plain": [
       "<Figure size 432x288 with 1 Axes>"
      ]
     },
     "metadata": {
      "needs_background": "light"
     },
     "output_type": "display_data"
    }
   ],
   "source": [
    "# Create an elbow plot\n",
    "elbow_df = pd.DataFrame({'k': k, 'inertia': list_clusters})\n",
    "elbow_df.plot.line(x='k', y='inertia')\n",
    "plt.ylabel('Inertia')\n",
    "plt.title('Elbow Plot of PCA 74')\n",
    "plt.show()"
   ]
  }
 ],
 "metadata": {
  "interpreter": {
   "hash": "7b6524e1536178ed365774063fd2edbeb21e16077b4dad2678c92aabd952a75f"
  },
  "kernelspec": {
   "display_name": "Python 3.6.10 ('PythonData')",
   "language": "python",
   "name": "python3"
  },
  "language_info": {
   "codemirror_mode": {
    "name": "ipython",
    "version": 3
   },
   "file_extension": ".py",
   "mimetype": "text/x-python",
   "name": "python",
   "nbconvert_exporter": "python",
   "pygments_lexer": "ipython3",
   "version": "3.6.10"
  },
  "orig_nbformat": 4
 },
 "nbformat": 4,
 "nbformat_minor": 2
}
